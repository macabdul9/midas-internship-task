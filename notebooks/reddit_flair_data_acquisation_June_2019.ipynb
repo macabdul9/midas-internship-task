{
 "cells": [
  {
   "cell_type": "markdown",
   "metadata": {
    "colab_type": "text",
    "id": "AYPEhScFVeiA"
   },
   "source": [
    "# 1. Dependencies"
   ]
  },
  {
   "cell_type": "code",
   "execution_count": 1,
   "metadata": {
    "colab": {},
    "colab_type": "code",
    "id": "26_52eQ5VeiB"
   },
   "outputs": [],
   "source": [
    "import warnings\n",
    "warnings.filterwarnings('ignore')"
   ]
  },
  {
   "cell_type": "code",
   "execution_count": 2,
   "metadata": {
    "colab": {},
    "colab_type": "code",
    "id": "szTV1zSTVeiL"
   },
   "outputs": [],
   "source": [
    "import os\n",
    "import shutil\n",
    "import numpy as np\n",
    "import pandas as pd\n",
    "import pickle\n",
    "import cv2 as cv\n",
    "import matplotlib.pyplot as plt\n",
    "import praw\n",
    "import requests\n",
    "import json\n",
    "import csv\n",
    "import time\n",
    "import datetime"
   ]
  },
  {
   "cell_type": "markdown",
   "metadata": {
    "colab_type": "text",
    "id": "MGKCe8BmVeiU"
   },
   "source": [
    "# 2. Data Acquisation"
   ]
  },
  {
   "cell_type": "markdown",
   "metadata": {
    "colab_type": "text",
    "id": "7HkQjKv2VeiV"
   },
   "source": [
    "#### List of Properties of a submission(post is often reffered as submission), I am manually eliminating few of them, bacuase flair of the submission is least (or not) dependent on them ie: Flair is rarely dependent on author name, or subreddit etc\n",
    "\n",
    "##### All Properties: dict_keys(['all_awardings', 'allow_live_comments', 'author', 'author_flair_css_class', 'author_flair_richtext', 'author_flair_text', 'author_flair_type', 'author_fullname', 'author_patreon_flair', 'author_premium', 'awarders', 'can_mod_post', 'contest_mode', 'created_utc', 'domain', 'full_link', 'gildings', 'id', 'is_crosspostable', 'is_meta', 'is_original_content', 'is_reddit_media_domain', 'is_robot_indexable', 'is_self', 'is_video', 'link_flair_background_color', 'link_flair_css_class', 'link_flair_richtext', 'link_flair_template_id', 'link_flair_text', 'link_flair_text_color', 'link_flair_type', 'locked', 'media_only', 'no_follow', 'num_comments', 'num_crossposts', 'over_18', 'parent_whitelist_status', 'permalink', 'pinned', 'pwls', 'removed_by_category', 'retrieved_on', 'score', 'selftext', 'send_replies', 'spoiler', 'steward_reports', 'stickied', 'subreddit', 'subreddit_id', 'subreddit_subscribers', 'subreddit_type', 'thumbnail', 'title', 'total_awards_received', 'url', 'whitelist_status', 'wls'])\n"
   ]
  },
  {
   "cell_type": "markdown",
   "metadata": {
    "colab_type": "text",
    "id": "RnHCAjYcVeiW"
   },
   "source": [
    "##### Reference: \n",
    "- https://praw.readthedocs.io/en/latest/index.html\n",
    "- https://github.com/pushshift/apia"
   ]
  },
  {
   "cell_type": "code",
   "execution_count": 3,
   "metadata": {
    "colab": {},
    "colab_type": "code",
    "id": "sP53g2z4VeiY"
   },
   "outputs": [],
   "source": [
    "# creating a reddit app instance to collect post data from r/india submreddit\n",
    "reddit = praw.Reddit(client_id='pw8WCM92ySUjsQ', client_secret='y0MJFMWBtHXMLW2-3B2upsU2jYQ', user_agent='reddit-scrap', username='macabdul9', password='Sudo$0#1')"
   ]
  },
  {
   "cell_type": "code",
   "execution_count": 4,
   "metadata": {
    "colab": {},
    "colab_type": "code",
    "id": "xbG030qvVeid"
   },
   "outputs": [],
   "source": [
    "# We can get the submission either by id or url\n",
    "subm = reddit.submission(id=\"fxqifi\")"
   ]
  },
  {
   "cell_type": "code",
   "execution_count": 5,
   "metadata": {
    "colab": {
     "base_uri": "https://localhost:8080/",
     "height": 36
    },
    "colab_type": "code",
    "id": "zRQD41BzWCHQ",
    "outputId": "1d04224a-37d3-4cff-b1fe-2857ee424ea6"
   },
   "outputs": [
    {
     "data": {
      "text/plain": [
       "127"
      ]
     },
     "execution_count": 5,
     "metadata": {},
     "output_type": "execute_result"
    }
   ],
   "source": [
    "subm.num_comments"
   ]
  },
  {
   "cell_type": "markdown",
   "metadata": {
    "colab_type": "text",
    "id": "1yepeQTvVeio"
   },
   "source": [
    "##### Turn Around Time(TAT) for getting all comments of a post is way higher using praw with submission_id than pushshift.io api comment search below code snippets illustrate the same"
   ]
  },
  {
   "cell_type": "code",
   "execution_count": null,
   "metadata": {
    "colab": {},
    "colab_type": "code",
    "id": "ngTsF69xVeiq"
   },
   "outputs": [],
   "source": [
    "# start_time = time.time()\n",
    "# comment_ids = []\n",
    "# count = 0\n",
    "# for comment in subm.comments.list():\n",
    "#     comment_ids.append(comment.id)\n",
    "#     print(comment.body)\n",
    "#     count+=1\n",
    "# print(\"--- %s seconds ---\" % (time.time() - start_time))\n",
    "# print(count)"
   ]
  },
  {
   "cell_type": "code",
   "execution_count": null,
   "metadata": {
    "colab": {},
    "colab_type": "code",
    "id": "J_RN0JgkVeiu"
   },
   "outputs": [],
   "source": [
    "# start_time = time.time()\n",
    "# comments = getPushshiftSubData(','.join(comment_ids))\n",
    "# count = 0\n",
    "# for comment in comments:\n",
    "#     print(comment['body'])\n",
    "#     count +=1\n",
    "# print(\"--- %s seconds ---\" % (time.time() - start_time))\n",
    "# print(count)"
   ]
  },
  {
   "cell_type": "markdown",
   "metadata": {},
   "source": [
    "##### This function will receive url of a submission, num_commnents as arg and it will return the top 10 comment and mean comment score(upvote - downvote)"
   ]
  },
  {
   "cell_type": "code",
   "execution_count": null,
   "metadata": {
    "colab": {},
    "colab_type": "code",
    "id": "VHQMslUuVei1"
   },
   "outputs": [],
   "source": [
    "def get_comments(url, num_comments):\n",
    "    # call api using api wrapper\n",
    "    subm = reddit.submission(url=url)\n",
    "    comments_body = []\n",
    "    sum_score = 0\n",
    "    count = 0\n",
    "    if num_comments > 0:\n",
    "        for i, comment in enumerate(subm.comments.list()):\n",
    "\n",
    "            # There may be some comments which has no body\n",
    "            try : \n",
    "                comments_body.append(comment.body)\n",
    "            except:\n",
    "                comments_body.append('')\n",
    "\n",
    "            # There exist some comments which has not given a score\n",
    "            try:\n",
    "                sum_score += comment.score\n",
    "            except:\n",
    "                sum_score += 0            \n",
    "            count += 1\n",
    "            # We only need 10 comments\n",
    "            if (i+1)%10==0:\n",
    "                break\n",
    "    try:\n",
    "        mean = sum_score/count\n",
    "    except:\n",
    "        mean = 0.0\n",
    "\n",
    "    return \" \".join(comments_body), mean"
   ]
  },
  {
   "cell_type": "markdown",
   "metadata": {},
   "source": [
    "##### Function to call and retrive the data using pushshift api\n"
   ]
  },
  {
   "cell_type": "code",
   "execution_count": null,
   "metadata": {
    "colab": {},
    "colab_type": "code",
    "id": "RcGncCajVejF"
   },
   "outputs": [],
   "source": [
    "def getPushshiftSubData(query, after, before, sub):\n",
    "    url = 'https://api.pushshift.io/reddit/search/submission/?title='+str(query)+'&size=2000&after='+str(after)+'&before='+str(before)+'&subreddit='+str(sub)\n",
    "    print(url)\n",
    "    r = requests.get(url)\n",
    "    data = json.loads(r.text)\n",
    "    return data['data']"
   ]
  },
  {
   "cell_type": "markdown",
   "metadata": {},
   "source": [
    "##### Properties to extract of a submission\n",
    "- A custom property is a property derived from properties or can't be extracted using pushshift submission search endpoint"
   ]
  },
  {
   "cell_type": "code",
   "execution_count": 12,
   "metadata": {
    "colab": {},
    "colab_type": "code",
    "id": "uMUSljinVejL"
   },
   "outputs": [],
   "source": [
    "features = [\n",
    "    'allow_live_comments', 'author', 'author_premium', 'can_mod_post', 'contest_mode', 'created_utc',\n",
    "    'full_link', 'id', 'is_crosspostable', 'is_meta', 'is_original_content', 'is_self', 'is_video',\n",
    "    'link_flair_text', 'locked', 'media_only', 'no_follow', 'num_comments', 'num_crossposts', 'over_18',\n",
    "    'parent_whitelist_status', 'permalink', 'pinned', 'score', 'selftext', 'send_replies', 'spoiler',\n",
    "    'stickied', 'title', 'total_awards_received', 'url'\n",
    "]\n",
    "custom_features = [\n",
    "    'comments', 'mean_comment_score'\n",
    "]"
   ]
  },
  {
   "cell_type": "markdown",
   "metadata": {},
   "source": [
    "##### Function to extract the data "
   ]
  },
  {
   "cell_type": "code",
   "execution_count": null,
   "metadata": {
    "colab": {},
    "colab_type": "code",
    "id": "PDyzIoV0VejR"
   },
   "outputs": [],
   "source": [
    "def collectSubData(subm):\n",
    "    # extracting all information about a submission\n",
    "    feature_values = [subm.get(key) for key in features]    \n",
    "    comments, mean_comment_score = get_comments(subm.get('full_link'), subm.get('num_comments')) \n",
    "    feature_values.append(comments)\n",
    "    feature_values.append(mean_comment_score)\n",
    "    subStats[subm.get('id')] = feature_values"
   ]
  },
  {
   "cell_type": "markdown",
   "metadata": {},
   "source": [
    "##### Query Parameters and Store Variables"
   ]
  },
  {
   "cell_type": "code",
   "execution_count": null,
   "metadata": {
    "colab": {},
    "colab_type": "code",
    "id": "Evu80eeuVejW"
   },
   "outputs": [],
   "source": [
    "#Subreddit to query\n",
    "sub='india'\n",
    "\n",
    "#before and after dates\n",
    "after = \"1559347200\"  # Sat, 01 Jun 2019 00:00:00 \n",
    "before = \"1561939199\" # Sun, 30 Jun 2019 23:59:59  \n",
    "query = \"\" # title should have either null string more \n",
    "subCount = 0\n",
    "subStats = {}"
   ]
  },
  {
   "cell_type": "markdown",
   "metadata": {},
   "source": [
    "##### Extracting the data from certain time period"
   ]
  },
  {
   "cell_type": "code",
   "execution_count": null,
   "metadata": {
    "colab": {
     "base_uri": "https://localhost:8080/",
     "height": 820
    },
    "colab_type": "code",
    "id": "W5hhOLLyVeja",
    "outputId": "526cfe27-9086-42b5-84e7-fef76ed51a66"
   },
   "outputs": [
    {
     "name": "stdout",
     "output_type": "stream",
     "text": [
      "https://api.pushshift.io/reddit/search/submission/?title=&size=2000&after=1559347200&before=1561939199&subreddit=india\n",
      "1000 submission collected\n",
      "2019-06-03 06:05:08\n",
      "https://api.pushshift.io/reddit/search/submission/?title=&size=2000&after=1559541908&before=1561939199&subreddit=india\n",
      "2000 submission collected\n",
      "2019-06-05 03:18:47\n",
      "https://api.pushshift.io/reddit/search/submission/?title=&size=2000&after=1559704727&before=1561939199&subreddit=india\n",
      "3000 submission collected\n",
      "2019-06-06 20:44:12\n",
      "https://api.pushshift.io/reddit/search/submission/?title=&size=2000&after=1559853852&before=1561939199&subreddit=india\n",
      "4000 submission collected\n",
      "2019-06-08 17:57:32\n",
      "https://api.pushshift.io/reddit/search/submission/?title=&size=2000&after=1560016652&before=1561939199&subreddit=india\n",
      "5000 submission collected\n",
      "2019-06-10 17:41:12\n",
      "https://api.pushshift.io/reddit/search/submission/?title=&size=2000&after=1560188472&before=1561939199&subreddit=india\n",
      "6000 submission collected\n",
      "2019-06-12 09:57:51\n",
      "https://api.pushshift.io/reddit/search/submission/?title=&size=2000&after=1560333471&before=1561939199&subreddit=india\n",
      "7000 submission collected\n",
      "2019-06-14 16:18:09\n",
      "https://api.pushshift.io/reddit/search/submission/?title=&size=2000&after=1560529089&before=1561939199&subreddit=india\n",
      "8000 submission collected\n",
      "2019-06-17 10:40:02\n",
      "https://api.pushshift.io/reddit/search/submission/?title=&size=2000&after=1560768002&before=1561939199&subreddit=india\n",
      "9000 submission collected\n",
      "2019-06-19 18:04:10\n",
      "https://api.pushshift.io/reddit/search/submission/?title=&size=2000&after=1560967450&before=1561939199&subreddit=india\n",
      "10000 submission collected\n",
      "2019-06-22 07:26:34\n",
      "https://api.pushshift.io/reddit/search/submission/?title=&size=2000&after=1561188394&before=1561939199&subreddit=india\n",
      "11000 submission collected\n",
      "2019-06-24 18:37:01\n",
      "https://api.pushshift.io/reddit/search/submission/?title=&size=2000&after=1561401421&before=1561939199&subreddit=india\n",
      "12000 submission collected\n",
      "2019-06-27 07:03:56\n",
      "https://api.pushshift.io/reddit/search/submission/?title=&size=2000&after=1561619036&before=1561939199&subreddit=india\n",
      "13000 submission collected\n",
      "2019-06-29 14:37:38\n",
      "https://api.pushshift.io/reddit/search/submission/?title=&size=2000&after=1561819058&before=1561939199&subreddit=india\n",
      "2019-06-30 23:59:07\n",
      "https://api.pushshift.io/reddit/search/submission/?title=&size=2000&after=1561939147&before=1561939199&subreddit=india\n",
      "0\n"
     ]
    }
   ],
   "source": [
    "data = getPushshiftSubData(query, after, before, sub)# Will run until all posts have been gathered \n",
    "# from the 'after' date up until before date\n",
    "while len(data) > 0:\n",
    "    for submission in data:\n",
    "        collectSubData(submission)\n",
    "        subCount+=1\n",
    "    # Calls getPushshiftData() with the created date of the last submission\n",
    "    # print(len(data))\n",
    "    if subCount % 1000 == 0:\n",
    "        print(f'{subCount} submission collected')\n",
    "    print(str(datetime.datetime.fromtimestamp(data[-1]['created_utc'])))\n",
    "    after = data[-1]['created_utc']\n",
    "    data = getPushshiftSubData(query, after, before, sub)\n",
    "\n",
    "print(len(data))"
   ]
  },
  {
   "cell_type": "markdown",
   "metadata": {
    "colab": {
     "base_uri": "https://localhost:8080/",
     "height": 36
    },
    "colab_type": "code",
    "id": "VpB3L46eCD-r",
    "outputId": "5d27ddaa-8590-46d4-b993-d4bff7e39e26"
   },
   "source": [
    "#### Write the json object into a pickle and/or storage all the data into csv a file"
   ]
  },
  {
   "cell_type": "code",
   "execution_count": null,
   "metadata": {
    "colab": {},
    "colab_type": "code",
    "id": "DCzCrfFjVejh"
   },
   "outputs": [],
   "source": [
    "with open(\"Submissions-June-2019.pkl\", \"wb\") as f:\n",
    "    pickle.dump(subStats, f)"
   ]
  },
  {
   "cell_type": "code",
   "execution_count": null,
   "metadata": {
    "colab": {},
    "colab_type": "code",
    "id": "KmIOy1_WVejl"
   },
   "outputs": [],
   "source": [
    "df = pd.DataFrame(data=list(subStats.values()), columns = features + custom_features, index=None)"
   ]
  },
  {
   "cell_type": "code",
   "execution_count": null,
   "metadata": {
    "colab": {},
    "colab_type": "code",
    "id": "CMBq09FGVejq"
   },
   "outputs": [],
   "source": [
    "df.to_csv(\"Submissions-June-2019.csv\", index=False)"
   ]
  },
  {
   "cell_type": "markdown",
   "metadata": {
    "colab": {},
    "colab_type": "code",
    "id": "zJ9hrPFgVejt"
   },
   "source": [
    "#### Notes\n",
    "- To extract the large (or sufficient) amount of data above code [2. Data Acquisation] was executed in multiple python environment to decreasem the amount of time taken to gather the data ie: To collect the submission of a monnth a code was executed in seperate environment.\n",
    "- On the other hand multiple reddit api instances (one api app instance for each running environment) also helps to reduce the time(multiple running threads makes the request from same instance subtantially increases the waiting time)\n",
    "- All submissions fromm Jan 1, 2019 to April 10, 2019 were  collected for this task and stored into the csv files(pkl as well), one file for each month's data (1 file for March 1, 2020 to April 10, 2020)\n",
    "- A reliable internet connection is required for uninterrupted exectution\n"
   ]
  },
  {
   "cell_type": "markdown",
   "metadata": {},
   "source": [
    "# 3. Exploratory Data Analysis"
   ]
  },
  {
   "cell_type": "code",
   "execution_count": 3,
   "metadata": {},
   "outputs": [],
   "source": [
    "import plotly\n",
    "import plotly.graph_objects as go\n",
    "import plotly.express as px\n",
    "import calendar\n",
    "import missingno as msno"
   ]
  },
  {
   "cell_type": "code",
   "execution_count": 18,
   "metadata": {},
   "outputs": [],
   "source": [
    "import plotly.io as pio\n",
    "pio.renderers.default = \"jupyterlab\""
   ]
  },
  {
   "cell_type": "code",
   "execution_count": 4,
   "metadata": {},
   "outputs": [
    {
     "data": {
      "text/html": [
       "        <script type=\"text/javascript\">\n",
       "        window.PlotlyConfig = {MathJaxConfig: 'local'};\n",
       "        if (window.MathJax) {MathJax.Hub.Config({SVG: {font: \"STIX-Web\"}});}\n",
       "        if (typeof require !== 'undefined') {\n",
       "        require.undef(\"plotly\");\n",
       "        requirejs.config({\n",
       "            paths: {\n",
       "                'plotly': ['https://cdn.plot.ly/plotly-latest.min']\n",
       "            }\n",
       "        });\n",
       "        require(['plotly'], function(Plotly) {\n",
       "            window._Plotly = Plotly;\n",
       "        });\n",
       "        }\n",
       "        </script>\n",
       "        "
      ]
     },
     "metadata": {},
     "output_type": "display_data"
    }
   ],
   "source": [
    "plotly.offline.init_notebook_mode(connected=True)"
   ]
  },
  {
   "cell_type": "code",
   "execution_count": 6,
   "metadata": {},
   "outputs": [],
   "source": [
    "# Read the csv files calendar combine them into single dataframe(or file)  file\n",
    "# File names are pretty much self explanatory\n",
    "df_1 = pd.read_csv(\"../Data/Submissions-Jan-2019.csv\")\n",
    "df_2 = pd.read_csv(\"../Data/Submissions-Feb-2019.csv\")\n",
    "df_3 = pd.read_csv(\"../Data/Submissions-March-2019.csv\")\n",
    "df_4 = pd.read_csv(\"../Data/Submissions-April-2019.csv\")\n",
    "df_5 = pd.read_csv(\"../Data/Submissions-May-2019.csv\")\n",
    "df_6 = pd.read_csv(\"../Data/Submissions-June-2019.csv\")\n",
    "df_7 = pd.read_csv(\"../Data/Submissions-July-2019.csv\")\n",
    "df_8 = pd.read_csv(\"../Data/Submissions-Aug-2019.csv\")\n",
    "df_9 = pd.read_csv(\"../Data/Submissions-Sep-2019.csv\")\n",
    "df_10 = pd.read_csv(\"../Data/Submissions-Oct-2019.csv\")\n",
    "df_11 = pd.read_csv(\"../Data/Submissions-Nov-2019.csv\")\n",
    "df_12 = pd.read_csv(\"../Data/Submissions-Dec-2019.csv\")\n",
    "df_13 = pd.read_csv(\"../Data/Submissions-Jan-2020.csv\")\n",
    "df_14 = pd.read_csv(\"../Data/Submissions-Feb-2020.csv\")\n",
    "df_15 = pd.read_csv(\"../Data/SubmissionS-March-2020.csv\")"
   ]
  },
  {
   "cell_type": "markdown",
   "metadata": {},
   "source": [
    "##### Function to iterate over month"
   ]
  },
  {
   "cell_type": "code",
   "execution_count": 7,
   "metadata": {},
   "outputs": [],
   "source": [
    "# List of dataframes\n",
    "dfs = [df_1, df_2, df_3, df_4, df_5, df_6, df_7, df_8, df_9, df_10, df_11, df_12, df_13, df_14, df_15]"
   ]
  },
  {
   "cell_type": "code",
   "execution_count": 8,
   "metadata": {},
   "outputs": [
    {
     "data": {
      "text/plain": [
       "15"
      ]
     },
     "execution_count": 8,
     "metadata": {},
     "output_type": "execute_result"
    }
   ],
   "source": [
    "len(dfs)"
   ]
  },
  {
   "cell_type": "code",
   "execution_count": 9,
   "metadata": {},
   "outputs": [],
   "source": [
    "def month_year_iter( start_month, start_year, end_month, end_year):\n",
    "    ym_start= 12*start_year + start_month - 1\n",
    "    ym_end= 12*end_year + end_month - 1\n",
    "    for i, ym in enumerate(range(ym_start, ym_end)):\n",
    "        y, m = divmod( ym, 12)\n",
    "        yield y, m+1, dfs[i]"
   ]
  },
  {
   "cell_type": "code",
   "execution_count": 10,
   "metadata": {},
   "outputs": [],
   "source": [
    "# for yr, m, df in month_year_iter(1, 2019, 3, 2020):\n",
    "#     print(yr, m, df.shape[0])"
   ]
  },
  {
   "cell_type": "code",
   "execution_count": 11,
   "metadata": {},
   "outputs": [],
   "source": [
    "# Monthly submissions\n",
    "monthly_submissions = {}\n",
    "for year, month, df in month_year_iter(1, 2019, 4, 2020):\n",
    "    monthly_submissions[str(calendar.month_name[month])+\" \"+str(year)] = df.shape[0]\n",
    "#     print(, year)"
   ]
  },
  {
   "cell_type": "code",
   "execution_count": 12,
   "metadata": {},
   "outputs": [],
   "source": [
    "months = list(monthly_submissions.keys())\n",
    "submissions = list(monthly_submissions.values())"
   ]
  },
  {
   "cell_type": "markdown",
   "metadata": {},
   "source": [
    "#### Monthly submissions plot "
   ]
  },
  {
   "cell_type": "code",
   "execution_count": 20,
   "metadata": {},
   "outputs": [],
   "source": [
    "# monthly submissions\n",
    "pio.renderers.default = \"svg\"\n",
    "fig = go.Figure([go.Bar(x=months, y=submissions)])\n",
    "# fig.show()"
   ]
  },
  {
   "cell_type": "code",
   "execution_count": 78,
   "metadata": {},
   "outputs": [],
   "source": [
    "### Nothing much ! I thought due to Covid19 outbreak we can see a spike in monthly submissions"
   ]
  },
  {
   "cell_type": "code",
   "execution_count": 125,
   "metadata": {},
   "outputs": [],
   "source": [
    "df = pd.concat(dfs)"
   ]
  },
  {
   "cell_type": "markdown",
   "metadata": {},
   "source": [
    "#### Missing Data Plot"
   ]
  },
  {
   "cell_type": "code",
   "execution_count": 126,
   "metadata": {},
   "outputs": [
    {
     "data": {
      "image/png": "[encoded data removed]",
      "text/plain": [
       "<Figure size 1800x720 with 2 Axes>"
      ]
     },
     "metadata": {
      "needs_background": "light"
     },
     "output_type": "display_data"
    }
   ],
   "source": [
    "msno.matrix(df);"
   ]
  },
  {
   "cell_type": "markdown",
   "metadata": {},
   "source": [
    "##### Note:\n",
    "- link_flair_text = flair (target variable)\n",
    "- self_text = submission(post) body\n",
    "\n",
    "##### Total Entries = 218370\n",
    "##### If missing plot we can see that there are many missing dependent and independent variables\n",
    "##### Such as allo_live_comments author_premium, link_flair_text, self_text, total_awards_received, comments\n",
    "##### There are lots of submissions whose target variable(flair) is missing either we have to drop  those entries or we need to immpute them,  we will catch them later."
   ]
  },
  {
   "cell_type": "code",
   "execution_count": 128,
   "metadata": {},
   "outputs": [
    {
     "data": {
      "image/png": "[encoded data removed]",
      "text/plain": [
       "<Figure size 1728x720 with 3 Axes>"
      ]
     },
     "metadata": {
      "needs_background": "light"
     },
     "output_type": "display_data"
    }
   ],
   "source": [
    "# bar plot of missing values | exactly how many values are missinng in each coloumn\n",
    "msno.bar(df);"
   ]
  },
  {
   "cell_type": "code",
   "execution_count": 93,
   "metadata": {},
   "outputs": [],
   "source": [
    "# nearly 50% submissions are without a target variables"
   ]
  },
  {
   "cell_type": "code",
   "execution_count": 129,
   "metadata": {},
   "outputs": [
    {
     "data": {
      "image/png": "[encoded data removed]",
      "text/plain": [
       "<Figure size 1800x720 with 1 Axes>"
      ]
     },
     "metadata": {
      "needs_background": "light"
     },
     "output_type": "display_data"
    }
   ],
   "source": [
    "# Dependency diagram\n",
    "msno.dendrogram(df);"
   ]
  },
  {
   "cell_type": "code",
   "execution_count": 96,
   "metadata": {},
   "outputs": [],
   "source": [
    "#### Distribution of Samples  over flair"
   ]
  },
  {
   "cell_type": "code",
   "execution_count": null,
   "metadata": {},
   "outputs": [],
   "source": [
    "labels = ['Oxygen','Hydrogen','Carbon_Dioxide','Nitrogen']\n",
    "values = [4500, 2500, 1053, 500]\n",
    "\n",
    "fig = go.Figure(data=[go.Pie(labels=labels, values=values)])\n",
    "fig.show()"
   ]
  },
  {
   "cell_type": "code",
   "execution_count": 130,
   "metadata": {},
   "outputs": [],
   "source": [
    "a = df.link_flair_text"
   ]
  },
  {
   "cell_type": "code",
   "execution_count": 131,
   "metadata": {},
   "outputs": [],
   "source": [
    "a = a.fillna(\"Miscellaneous\")"
   ]
  },
  {
   "cell_type": "code",
   "execution_count": 133,
   "metadata": {},
   "outputs": [],
   "source": [
    "# a.head()"
   ]
  },
  {
   "cell_type": "code",
   "execution_count": 134,
   "metadata": {},
   "outputs": [],
   "source": [
    "flairs, freq = np.unique(a.values, return_counts=True)"
   ]
  },
  {
   "cell_type": "code",
   "execution_count": 135,
   "metadata": {},
   "outputs": [],
   "source": [
    "flairs_freq = dict(zip(flairs, freq))"
   ]
  },
  {
   "cell_type": "code",
   "execution_count": 136,
   "metadata": {},
   "outputs": [
    {
     "data": {
      "text/plain": [
       "{'AMA': 5,\n",
       " 'AMA Announcement': 2,\n",
       " 'All CAPS.': 752,\n",
       " 'Announcement': 2,\n",
       " 'AskIndia': 18343,\n",
       " 'Aug 2019 - Politics': 1,\n",
       " 'Business/Finance': 7277,\n",
       " 'CAA-NRC': 1024,\n",
       " 'CAA-NRC-NPR': 76,\n",
       " 'Casual AMA': 1,\n",
       " 'Coronavirus': 6757,\n",
       " 'Dead Link': 1,\n",
       " 'Demonetization': 780,\n",
       " 'Food': 1511,\n",
       " 'Foodpolitics': 1,\n",
       " 'Low Quality/Non OC Meme': 20,\n",
       " 'Low-effort self-post.': 541,\n",
       " 'Megathread': 1,\n",
       " 'Meta': 1,\n",
       " 'Meta.': 11,\n",
       " 'Meta. | Custom (Informed OP) |': 1,\n",
       " 'Miscellaneous': 100678,\n",
       " 'Non-Political': 27806,\n",
       " 'Not Appropriate Subreddit': 4,\n",
       " 'Not in English.': 657,\n",
       " 'PARTAYYY AGAIN :D': 1,\n",
       " 'Personal/Unverified Twitter.': 5,\n",
       " 'Photography': 3406,\n",
       " 'Policy/Economy': 4875,\n",
       " 'Politics': 32229,\n",
       " 'Post link Directly': 4,\n",
       " 'Scheduled': 693,\n",
       " 'Science &amp; Technology': 7,\n",
       " 'Science/Technology': 5346,\n",
       " 'Shitpost': 9,\n",
       " 'Sports': 1992,\n",
       " 'Unverified': 4,\n",
       " 'Verified': 1,\n",
       " '[R]eddiquette': 3335,\n",
       " '| Custom (Informed OP) |': 4,\n",
       " '| Image Rule Violation |': 8,\n",
       " '| Low-effort Self Post |': 25,\n",
       " '| Low-effort Self Post | Post link Directly': 1,\n",
       " '| Low-effort Self Post | | Repost |': 1,\n",
       " '| Not Original/Relevant Title |': 34,\n",
       " '| Not Original/Relevant Title | | Repost |': 1,\n",
       " '| Not Original/Relevant Title | | Social Media Rules |': 1,\n",
       " '| Not in English |': 9,\n",
       " '| Not in English | | Not Original/Relevant Title |': 3,\n",
       " '| Not specific to India |': 26,\n",
       " '| Not specific to India | Low Quality/Non OC Meme': 1,\n",
       " '| Not specific to India | | Self-promotion |': 1,\n",
       " '| Personal Info |': 1,\n",
       " '| Personal/Unverified Social Media |': 7,\n",
       " '| Repost |': 40,\n",
       " '| Repost | Post link Directly': 1,\n",
       " '| Self-promotion |': 6,\n",
       " '| Self-promotion | | Low-effort Self Post |': 1,\n",
       " '| Social Media Rules |': 7,\n",
       " '| Stickied Topic |': 2,\n",
       " '| Unverified Content / Disreputed Source |': 26,\n",
       " '| Witch-hunting/Targeting User |': 1,\n",
       " '| Witch-hunting/Targeting User | Meta.': 1,\n",
       " '| [OLD] Content |': 2}"
      ]
     },
     "execution_count": 136,
     "metadata": {},
     "output_type": "execute_result"
    }
   ],
   "source": [
    "flairs_freq"
   ]
  },
  {
   "cell_type": "code",
   "execution_count": 137,
   "metadata": {},
   "outputs": [
    {
     "data": {
      "application/vnd.plotly.v1+json": {
       "config": {
        "plotlyServerURL": "https://plot.ly"
       },
       "data": [
        {
         "labels": [
          "AMA",
          "AMA Announcement",
          "All CAPS.",
          "Announcement",
          "AskIndia",
          "Aug 2019 - Politics",
          "Business/Finance",
          "CAA-NRC",
          "CAA-NRC-NPR",
          "Casual AMA",
          "Coronavirus",
          "Dead Link",
          "Demonetization",
          "Food",
          "Foodpolitics",
          "Low Quality/Non OC Meme",
          "Low-effort self-post.",
          "Megathread",
          "Meta",
          "Meta.",
          "Meta. | Custom (Informed OP) |",
          "Miscellaneous",
          "Non-Political",
          "Not Appropriate Subreddit",
          "Not in English.",
          "PARTAYYY AGAIN :D",
          "Personal/Unverified Twitter.",
          "Photography",
          "Policy/Economy",
          "Politics",
          "Post link Directly",
          "Scheduled",
          "Science &amp; Technology",
          "Science/Technology",
          "Shitpost",
          "Sports",
          "Unverified",
          "Verified",
          "[R]eddiquette",
          "| Custom (Informed OP) |",
          "| Image Rule Violation |",
          "| Low-effort Self Post |",
          "| Low-effort Self Post | Post link Directly",
          "| Low-effort Self Post | | Repost |",
          "| Not Original/Relevant Title |",
          "| Not Original/Relevant Title | | Repost |",
          "| Not Original/Relevant Title | | Social Media Rules |",
          "| Not in English |",
          "| Not in English | | Not Original/Relevant Title |",
          "| Not specific to India |",
          "| Not specific to India | Low Quality/Non OC Meme",
          "| Not specific to India | | Self-promotion |",
          "| Personal Info |",
          "| Personal/Unverified Social Media |",
          "| Repost |",
          "| Repost | Post link Directly",
          "| Self-promotion |",
          "| Self-promotion | | Low-effort Self Post |",
          "| Social Media Rules |",
          "| Stickied Topic |",
          "| Unverified Content / Disreputed Source |",
          "| Witch-hunting/Targeting User |",
          "| Witch-hunting/Targeting User | Meta.",
          "| [OLD] Content |"
         ],
         "type": "pie",
         "values": [
          5,
          2,
          752,
          2,
          18343,
          1,
          7277,
          1024,
          76,
          1,
          6757,
          1,
          780,
          1511,
          1,
          20,
          541,
          1,
          1,
          11,
          1,
          100678,
          27806,
          4,
          657,
          1,
          5,
          3406,
          4875,
          32229,
          4,
          693,
          7,
          5346,
          9,
          1992,
          4,
          1,
          3335,
          4,
          8,
          25,
          1,
          1,
          34,
          1,
          1,
          9,
          3,
          26,
          1,
          1,
          1,
          7,
          40,
          1,
          6,
          1,
          7,
          2,
          26,
          1,
          1,
          2
         ]
        }
       ],
       "layout": {
        "autosize": true,
        "hovermode": false,
        "template": {
         "data": {
          "bar": [
           {
            "error_x": {
             "color": "#2a3f5f"
            },
            "error_y": {
             "color": "#2a3f5f"
            },
            "marker": {
             "line": {
              "color": "#E5ECF6",
              "width": 0.5
             }
            },
            "type": "bar"
           }
          ],
          "barpolar": [
           {
            "marker": {
             "line": {
              "color": "#E5ECF6",
              "width": 0.5
             }
            },
            "type": "barpolar"
           }
          ],
          "carpet": [
           {
            "aaxis": {
             "endlinecolor": "#2a3f5f",
             "gridcolor": "white",
             "linecolor": "white",
             "minorgridcolor": "white",
             "startlinecolor": "#2a3f5f"
            },
            "baxis": {
             "endlinecolor": "#2a3f5f",
             "gridcolor": "white",
             "linecolor": "white",
             "minorgridcolor": "white",
             "startlinecolor": "#2a3f5f"
            },
            "type": "carpet"
           }
          ],
          "choropleth": [
           {
            "colorbar": {
             "outlinewidth": 0,
             "ticks": ""
            },
            "type": "choropleth"
           }
          ],
          "contour": [
           {
            "colorbar": {
             "outlinewidth": 0,
             "ticks": ""
            },
            "colorscale": [
             [
              0,
              "#0d0887"
             ],
             [
              0.1111111111111111,
              "#46039f"
             ],
             [
              0.2222222222222222,
              "#7201a8"
             ],
             [
              0.3333333333333333,
              "#9c179e"
             ],
             [
              0.4444444444444444,
              "#bd3786"
             ],
             [
              0.5555555555555556,
              "#d8576b"
             ],
             [
              0.6666666666666666,
              "#ed7953"
             ],
             [
              0.7777777777777778,
              "#fb9f3a"
             ],
             [
              0.8888888888888888,
              "#fdca26"
             ],
             [
              1,
              "#f0f921"
             ]
            ],
            "type": "contour"
           }
          ],
          "contourcarpet": [
           {
            "colorbar": {
             "outlinewidth": 0,
             "ticks": ""
            },
            "type": "contourcarpet"
           }
          ],
          "heatmap": [
           {
            "colorbar": {
             "outlinewidth": 0,
             "ticks": ""
            },
            "colorscale": [
             [
              0,
              "#0d0887"
             ],
             [
              0.1111111111111111,
              "#46039f"
             ],
             [
              0.2222222222222222,
              "#7201a8"
             ],
             [
              0.3333333333333333,
              "#9c179e"
             ],
             [
              0.4444444444444444,
              "#bd3786"
             ],
             [
              0.5555555555555556,
              "#d8576b"
             ],
             [
              0.6666666666666666,
              "#ed7953"
             ],
             [
              0.7777777777777778,
              "#fb9f3a"
             ],
             [
              0.8888888888888888,
              "#fdca26"
             ],
             [
              1,
              "#f0f921"
             ]
            ],
            "type": "heatmap"
           }
          ],
          "heatmapgl": [
           {
            "colorbar": {
             "outlinewidth": 0,
             "ticks": ""
            },
            "colorscale": [
             [
              0,
              "#0d0887"
             ],
             [
              0.1111111111111111,
              "#46039f"
             ],
             [
              0.2222222222222222,
              "#7201a8"
             ],
             [
              0.3333333333333333,
              "#9c179e"
             ],
             [
              0.4444444444444444,
              "#bd3786"
             ],
             [
              0.5555555555555556,
              "#d8576b"
             ],
             [
              0.6666666666666666,
              "#ed7953"
             ],
             [
              0.7777777777777778,
              "#fb9f3a"
             ],
             [
              0.8888888888888888,
              "#fdca26"
             ],
             [
              1,
              "#f0f921"
             ]
            ],
            "type": "heatmapgl"
           }
          ],
          "histogram": [
           {
            "marker": {
             "colorbar": {
              "outlinewidth": 0,
              "ticks": ""
             }
            },
            "type": "histogram"
           }
          ],
          "histogram2d": [
           {
            "colorbar": {
             "outlinewidth": 0,
             "ticks": ""
            },
            "colorscale": [
             [
              0,
              "#0d0887"
             ],
             [
              0.1111111111111111,
              "#46039f"
             ],
             [
              0.2222222222222222,
              "#7201a8"
             ],
             [
              0.3333333333333333,
              "#9c179e"
             ],
             [
              0.4444444444444444,
              "#bd3786"
             ],
             [
              0.5555555555555556,
              "#d8576b"
             ],
             [
              0.6666666666666666,
              "#ed7953"
             ],
             [
              0.7777777777777778,
              "#fb9f3a"
             ],
             [
              0.8888888888888888,
              "#fdca26"
             ],
             [
              1,
              "#f0f921"
             ]
            ],
            "type": "histogram2d"
           }
          ],
          "histogram2dcontour": [
           {
            "colorbar": {
             "outlinewidth": 0,
             "ticks": ""
            },
            "colorscale": [
             [
              0,
              "#0d0887"
             ],
             [
              0.1111111111111111,
              "#46039f"
             ],
             [
              0.2222222222222222,
              "#7201a8"
             ],
             [
              0.3333333333333333,
              "#9c179e"
             ],
             [
              0.4444444444444444,
              "#bd3786"
             ],
             [
              0.5555555555555556,
              "#d8576b"
             ],
             [
              0.6666666666666666,
              "#ed7953"
             ],
             [
              0.7777777777777778,
              "#fb9f3a"
             ],
             [
              0.8888888888888888,
              "#fdca26"
             ],
             [
              1,
              "#f0f921"
             ]
            ],
            "type": "histogram2dcontour"
           }
          ],
          "mesh3d": [
           {
            "colorbar": {
             "outlinewidth": 0,
             "ticks": ""
            },
            "type": "mesh3d"
           }
          ],
          "parcoords": [
           {
            "line": {
             "colorbar": {
              "outlinewidth": 0,
              "ticks": ""
             }
            },
            "type": "parcoords"
           }
          ],
          "pie": [
           {
            "automargin": true,
            "type": "pie"
           }
          ],
          "scatter": [
           {
            "marker": {
             "colorbar": {
              "outlinewidth": 0,
              "ticks": ""
             }
            },
            "type": "scatter"
           }
          ],
          "scatter3d": [
           {
            "line": {
             "colorbar": {
              "outlinewidth": 0,
              "ticks": ""
             }
            },
            "marker": {
             "colorbar": {
              "outlinewidth": 0,
              "ticks": ""
             }
            },
            "type": "scatter3d"
           }
          ],
          "scattercarpet": [
           {
            "marker": {
             "colorbar": {
              "outlinewidth": 0,
              "ticks": ""
             }
            },
            "type": "scattercarpet"
           }
          ],
          "scattergeo": [
           {
            "marker": {
             "colorbar": {
              "outlinewidth": 0,
              "ticks": ""
             }
            },
            "type": "scattergeo"
           }
          ],
          "scattergl": [
           {
            "marker": {
             "colorbar": {
              "outlinewidth": 0,
              "ticks": ""
             }
            },
            "type": "scattergl"
           }
          ],
          "scattermapbox": [
           {
            "marker": {
             "colorbar": {
              "outlinewidth": 0,
              "ticks": ""
             }
            },
            "type": "scattermapbox"
           }
          ],
          "scatterpolar": [
           {
            "marker": {
             "colorbar": {
              "outlinewidth": 0,
              "ticks": ""
             }
            },
            "type": "scatterpolar"
           }
          ],
          "scatterpolargl": [
           {
            "marker": {
             "colorbar": {
              "outlinewidth": 0,
              "ticks": ""
             }
            },
            "type": "scatterpolargl"
           }
          ],
          "scatterternary": [
           {
            "marker": {
             "colorbar": {
              "outlinewidth": 0,
              "ticks": ""
             }
            },
            "type": "scatterternary"
           }
          ],
          "surface": [
           {
            "colorbar": {
             "outlinewidth": 0,
             "ticks": ""
            },
            "colorscale": [
             [
              0,
              "#0d0887"
             ],
             [
              0.1111111111111111,
              "#46039f"
             ],
             [
              0.2222222222222222,
              "#7201a8"
             ],
             [
              0.3333333333333333,
              "#9c179e"
             ],
             [
              0.4444444444444444,
              "#bd3786"
             ],
             [
              0.5555555555555556,
              "#d8576b"
             ],
             [
              0.6666666666666666,
              "#ed7953"
             ],
             [
              0.7777777777777778,
              "#fb9f3a"
             ],
             [
              0.8888888888888888,
              "#fdca26"
             ],
             [
              1,
              "#f0f921"
             ]
            ],
            "type": "surface"
           }
          ],
          "table": [
           {
            "cells": {
             "fill": {
              "color": "#EBF0F8"
             },
             "line": {
              "color": "white"
             }
            },
            "header": {
             "fill": {
              "color": "#C8D4E3"
             },
             "line": {
              "color": "white"
             }
            },
            "type": "table"
           }
          ]
         },
         "layout": {
          "annotationdefaults": {
           "arrowcolor": "#2a3f5f",
           "arrowhead": 0,
           "arrowwidth": 1
          },
          "coloraxis": {
           "colorbar": {
            "outlinewidth": 0,
            "ticks": ""
           }
          },
          "colorscale": {
           "diverging": [
            [
             0,
             "#8e0152"
            ],
            [
             0.1,
             "#c51b7d"
            ],
            [
             0.2,
             "#de77ae"
            ],
            [
             0.3,
             "#f1b6da"
            ],
            [
             0.4,
             "#fde0ef"
            ],
            [
             0.5,
             "#f7f7f7"
            ],
            [
             0.6,
             "#e6f5d0"
            ],
            [
             0.7,
             "#b8e186"
            ],
            [
             0.8,
             "#7fbc41"
            ],
            [
             0.9,
             "#4d9221"
            ],
            [
             1,
             "#276419"
            ]
           ],
           "sequential": [
            [
             0,
             "#0d0887"
            ],
            [
             0.1111111111111111,
             "#46039f"
            ],
            [
             0.2222222222222222,
             "#7201a8"
            ],
            [
             0.3333333333333333,
             "#9c179e"
            ],
            [
             0.4444444444444444,
             "#bd3786"
            ],
            [
             0.5555555555555556,
             "#d8576b"
            ],
            [
             0.6666666666666666,
             "#ed7953"
            ],
            [
             0.7777777777777778,
             "#fb9f3a"
            ],
            [
             0.8888888888888888,
             "#fdca26"
            ],
            [
             1,
             "#f0f921"
            ]
           ],
           "sequentialminus": [
            [
             0,
             "#0d0887"
            ],
            [
             0.1111111111111111,
             "#46039f"
            ],
            [
             0.2222222222222222,
             "#7201a8"
            ],
            [
             0.3333333333333333,
             "#9c179e"
            ],
            [
             0.4444444444444444,
             "#bd3786"
            ],
            [
             0.5555555555555556,
             "#d8576b"
            ],
            [
             0.6666666666666666,
             "#ed7953"
            ],
            [
             0.7777777777777778,
             "#fb9f3a"
            ],
            [
             0.8888888888888888,
             "#fdca26"
            ],
            [
             1,
             "#f0f921"
            ]
           ]
          },
          "colorway": [
           "#636efa",
           "#EF553B",
           "#00cc96",
           "#ab63fa",
           "#FFA15A",
           "#19d3f3",
           "#FF6692",
           "#B6E880",
           "#FF97FF",
           "#FECB52"
          ],
          "font": {
           "color": "#2a3f5f"
          },
          "geo": {
           "bgcolor": "white",
           "lakecolor": "white",
           "landcolor": "#E5ECF6",
           "showlakes": true,
           "showland": true,
           "subunitcolor": "white"
          },
          "hoverlabel": {
           "align": "left"
          },
          "hovermode": "closest",
          "mapbox": {
           "style": "light"
          },
          "paper_bgcolor": "white",
          "plot_bgcolor": "#E5ECF6",
          "polar": {
           "angularaxis": {
            "gridcolor": "white",
            "linecolor": "white",
            "ticks": ""
           },
           "bgcolor": "#E5ECF6",
           "radialaxis": {
            "gridcolor": "white",
            "linecolor": "white",
            "ticks": ""
           }
          },
          "scene": {
           "xaxis": {
            "backgroundcolor": "#E5ECF6",
            "gridcolor": "white",
            "gridwidth": 2,
            "linecolor": "white",
            "showbackground": true,
            "ticks": "",
            "zerolinecolor": "white"
           },
           "yaxis": {
            "backgroundcolor": "#E5ECF6",
            "gridcolor": "white",
            "gridwidth": 2,
            "linecolor": "white",
            "showbackground": true,
            "ticks": "",
            "zerolinecolor": "white"
           },
           "zaxis": {
            "backgroundcolor": "#E5ECF6",
            "gridcolor": "white",
            "gridwidth": 2,
            "linecolor": "white",
            "showbackground": true,
            "ticks": "",
            "zerolinecolor": "white"
           }
          },
          "shapedefaults": {
           "line": {
            "color": "#2a3f5f"
           }
          },
          "ternary": {
           "aaxis": {
            "gridcolor": "white",
            "linecolor": "white",
            "ticks": ""
           },
           "baxis": {
            "gridcolor": "white",
            "linecolor": "white",
            "ticks": ""
           },
           "bgcolor": "#E5ECF6",
           "caxis": {
            "gridcolor": "white",
            "linecolor": "white",
            "ticks": ""
           }
          },
          "title": {
           "x": 0.05
          },
          "xaxis": {
           "automargin": true,
           "gridcolor": "white",
           "linecolor": "white",
           "ticks": "",
           "title": {
            "standoff": 15
           },
           "zerolinecolor": "white",
           "zerolinewidth": 2
          },
          "yaxis": {
           "automargin": true,
           "gridcolor": "white",
           "linecolor": "white",
           "ticks": "",
           "title": {
            "standoff": 15
           },
           "zerolinecolor": "white",
           "zerolinewidth": 2
          }
         }
        }
       }
      },
      "image/png": "[encoded data removed]",
      "text/html": [
       "<div>\n",
       "        \n",
       "        \n",
       "            <div id=\"d682d3c0-1692-49e4-90cf-fbd10acc6b80\" class=\"plotly-graph-div\" style=\"height:525px; width:100%;\"></div>\n",
       "            <script type=\"text/javascript\">\n",
       "                require([\"plotly\"], function(Plotly) {\n",
       "                    window.PLOTLYENV=window.PLOTLYENV || {};\n",
       "                    \n",
       "                if (document.getElementById(\"d682d3c0-1692-49e4-90cf-fbd10acc6b80\")) {\n",
       "                    Plotly.newPlot(\n",
       "                        'd682d3c0-1692-49e4-90cf-fbd10acc6b80',\n",
       "                        [{\"labels\": [\"AMA\", \"AMA Announcement\", \"All CAPS.\", \"Announcement\", \"AskIndia\", \"Aug 2019 - Politics\", \"Business/Finance\", \"CAA-NRC\", \"CAA-NRC-NPR\", \"Casual AMA\", \"Coronavirus\", \"Dead Link\", \"Demonetization\", \"Food\", \"Foodpolitics\", \"Low Quality/Non OC Meme\", \"Low-effort self-post.\", \"Megathread\", \"Meta\", \"Meta.\", \"Meta. | Custom (Informed OP) |\", \"Miscellaneous\", \"Non-Political\", \"Not Appropriate Subreddit\", \"Not in English.\", \"PARTAYYY AGAIN :D\", \"Personal/Unverified Twitter.\", \"Photography\", \"Policy/Economy\", \"Politics\", \"Post link Directly\", \"Scheduled\", \"Science &amp; Technology\", \"Science/Technology\", \"Shitpost\", \"Sports\", \"Unverified\", \"Verified\", \"[R]eddiquette\", \"| Custom (Informed OP) |\", \"| Image Rule Violation |\", \"| Low-effort Self Post |\", \"| Low-effort Self Post | Post link Directly\", \"| Low-effort Self Post | | Repost |\", \"| Not Original/Relevant Title |\", \"| Not Original/Relevant Title | | Repost |\", \"| Not Original/Relevant Title | | Social Media Rules |\", \"| Not in English |\", \"| Not in English | | Not Original/Relevant Title |\", \"| Not specific to India |\", \"| Not specific to India | Low Quality/Non OC Meme\", \"| Not specific to India | | Self-promotion |\", \"| Personal Info |\", \"| Personal/Unverified Social Media |\", \"| Repost |\", \"| Repost | Post link Directly\", \"| Self-promotion |\", \"| Self-promotion | | Low-effort Self Post |\", \"| Social Media Rules |\", \"| Stickied Topic |\", \"| Unverified Content / Disreputed Source |\", \"| Witch-hunting/Targeting User |\", \"| Witch-hunting/Targeting User | Meta.\", \"| [OLD] Content |\"], \"type\": \"pie\", \"values\": [5, 2, 752, 2, 18343, 1, 7277, 1024, 76, 1, 6757, 1, 780, 1511, 1, 20, 541, 1, 1, 11, 1, 100678, 27806, 4, 657, 1, 5, 3406, 4875, 32229, 4, 693, 7, 5346, 9, 1992, 4, 1, 3335, 4, 8, 25, 1, 1, 34, 1, 1, 9, 3, 26, 1, 1, 1, 7, 40, 1, 6, 1, 7, 2, 26, 1, 1, 2]}],\n",
       "                        {\"template\": {\"data\": {\"bar\": [{\"error_x\": {\"color\": \"#2a3f5f\"}, \"error_y\": {\"color\": \"#2a3f5f\"}, \"marker\": {\"line\": {\"color\": \"#E5ECF6\", \"width\": 0.5}}, \"type\": \"bar\"}], \"barpolar\": [{\"marker\": {\"line\": {\"color\": \"#E5ECF6\", \"width\": 0.5}}, \"type\": \"barpolar\"}], \"carpet\": [{\"aaxis\": {\"endlinecolor\": \"#2a3f5f\", \"gridcolor\": \"white\", \"linecolor\": \"white\", \"minorgridcolor\": \"white\", \"startlinecolor\": \"#2a3f5f\"}, \"baxis\": {\"endlinecolor\": \"#2a3f5f\", \"gridcolor\": \"white\", \"linecolor\": \"white\", \"minorgridcolor\": \"white\", \"startlinecolor\": \"#2a3f5f\"}, \"type\": \"carpet\"}], \"choropleth\": [{\"colorbar\": {\"outlinewidth\": 0, \"ticks\": \"\"}, \"type\": \"choropleth\"}], \"contour\": [{\"colorbar\": {\"outlinewidth\": 0, \"ticks\": \"\"}, \"colorscale\": [[0.0, \"#0d0887\"], [0.1111111111111111, \"#46039f\"], [0.2222222222222222, \"#7201a8\"], [0.3333333333333333, \"#9c179e\"], [0.4444444444444444, \"#bd3786\"], [0.5555555555555556, \"#d8576b\"], [0.6666666666666666, \"#ed7953\"], [0.7777777777777778, \"#fb9f3a\"], [0.8888888888888888, \"#fdca26\"], [1.0, \"#f0f921\"]], \"type\": \"contour\"}], \"contourcarpet\": [{\"colorbar\": {\"outlinewidth\": 0, \"ticks\": \"\"}, \"type\": \"contourcarpet\"}], \"heatmap\": [{\"colorbar\": {\"outlinewidth\": 0, \"ticks\": \"\"}, \"colorscale\": [[0.0, \"#0d0887\"], [0.1111111111111111, \"#46039f\"], [0.2222222222222222, \"#7201a8\"], [0.3333333333333333, \"#9c179e\"], [0.4444444444444444, \"#bd3786\"], [0.5555555555555556, \"#d8576b\"], [0.6666666666666666, \"#ed7953\"], [0.7777777777777778, \"#fb9f3a\"], [0.8888888888888888, \"#fdca26\"], [1.0, \"#f0f921\"]], \"type\": \"heatmap\"}], \"heatmapgl\": [{\"colorbar\": {\"outlinewidth\": 0, \"ticks\": \"\"}, \"colorscale\": [[0.0, \"#0d0887\"], [0.1111111111111111, \"#46039f\"], [0.2222222222222222, \"#7201a8\"], [0.3333333333333333, \"#9c179e\"], [0.4444444444444444, \"#bd3786\"], [0.5555555555555556, \"#d8576b\"], [0.6666666666666666, \"#ed7953\"], [0.7777777777777778, \"#fb9f3a\"], [0.8888888888888888, \"#fdca26\"], [1.0, \"#f0f921\"]], \"type\": \"heatmapgl\"}], \"histogram\": [{\"marker\": {\"colorbar\": {\"outlinewidth\": 0, \"ticks\": \"\"}}, \"type\": \"histogram\"}], \"histogram2d\": [{\"colorbar\": {\"outlinewidth\": 0, \"ticks\": \"\"}, \"colorscale\": [[0.0, \"#0d0887\"], [0.1111111111111111, \"#46039f\"], [0.2222222222222222, \"#7201a8\"], [0.3333333333333333, \"#9c179e\"], [0.4444444444444444, \"#bd3786\"], [0.5555555555555556, \"#d8576b\"], [0.6666666666666666, \"#ed7953\"], [0.7777777777777778, \"#fb9f3a\"], [0.8888888888888888, \"#fdca26\"], [1.0, \"#f0f921\"]], \"type\": \"histogram2d\"}], \"histogram2dcontour\": [{\"colorbar\": {\"outlinewidth\": 0, \"ticks\": \"\"}, \"colorscale\": [[0.0, \"#0d0887\"], [0.1111111111111111, \"#46039f\"], [0.2222222222222222, \"#7201a8\"], [0.3333333333333333, \"#9c179e\"], [0.4444444444444444, \"#bd3786\"], [0.5555555555555556, \"#d8576b\"], [0.6666666666666666, \"#ed7953\"], [0.7777777777777778, \"#fb9f3a\"], [0.8888888888888888, \"#fdca26\"], [1.0, \"#f0f921\"]], \"type\": \"histogram2dcontour\"}], \"mesh3d\": [{\"colorbar\": {\"outlinewidth\": 0, \"ticks\": \"\"}, \"type\": \"mesh3d\"}], \"parcoords\": [{\"line\": {\"colorbar\": {\"outlinewidth\": 0, \"ticks\": \"\"}}, \"type\": \"parcoords\"}], \"pie\": [{\"automargin\": true, \"type\": \"pie\"}], \"scatter\": [{\"marker\": {\"colorbar\": {\"outlinewidth\": 0, \"ticks\": \"\"}}, \"type\": \"scatter\"}], \"scatter3d\": [{\"line\": {\"colorbar\": {\"outlinewidth\": 0, \"ticks\": \"\"}}, \"marker\": {\"colorbar\": {\"outlinewidth\": 0, \"ticks\": \"\"}}, \"type\": \"scatter3d\"}], \"scattercarpet\": [{\"marker\": {\"colorbar\": {\"outlinewidth\": 0, \"ticks\": \"\"}}, \"type\": \"scattercarpet\"}], \"scattergeo\": [{\"marker\": {\"colorbar\": {\"outlinewidth\": 0, \"ticks\": \"\"}}, \"type\": \"scattergeo\"}], \"scattergl\": [{\"marker\": {\"colorbar\": {\"outlinewidth\": 0, \"ticks\": \"\"}}, \"type\": \"scattergl\"}], \"scattermapbox\": [{\"marker\": {\"colorbar\": {\"outlinewidth\": 0, \"ticks\": \"\"}}, \"type\": \"scattermapbox\"}], \"scatterpolar\": [{\"marker\": {\"colorbar\": {\"outlinewidth\": 0, \"ticks\": \"\"}}, \"type\": \"scatterpolar\"}], \"scatterpolargl\": [{\"marker\": {\"colorbar\": {\"outlinewidth\": 0, \"ticks\": \"\"}}, \"type\": \"scatterpolargl\"}], \"scatterternary\": [{\"marker\": {\"colorbar\": {\"outlinewidth\": 0, \"ticks\": \"\"}}, \"type\": \"scatterternary\"}], \"surface\": [{\"colorbar\": {\"outlinewidth\": 0, \"ticks\": \"\"}, \"colorscale\": [[0.0, \"#0d0887\"], [0.1111111111111111, \"#46039f\"], [0.2222222222222222, \"#7201a8\"], [0.3333333333333333, \"#9c179e\"], [0.4444444444444444, \"#bd3786\"], [0.5555555555555556, \"#d8576b\"], [0.6666666666666666, \"#ed7953\"], [0.7777777777777778, \"#fb9f3a\"], [0.8888888888888888, \"#fdca26\"], [1.0, \"#f0f921\"]], \"type\": \"surface\"}], \"table\": [{\"cells\": {\"fill\": {\"color\": \"#EBF0F8\"}, \"line\": {\"color\": \"white\"}}, \"header\": {\"fill\": {\"color\": \"#C8D4E3\"}, \"line\": {\"color\": \"white\"}}, \"type\": \"table\"}]}, \"layout\": {\"annotationdefaults\": {\"arrowcolor\": \"#2a3f5f\", \"arrowhead\": 0, \"arrowwidth\": 1}, \"coloraxis\": {\"colorbar\": {\"outlinewidth\": 0, \"ticks\": \"\"}}, \"colorscale\": {\"diverging\": [[0, \"#8e0152\"], [0.1, \"#c51b7d\"], [0.2, \"#de77ae\"], [0.3, \"#f1b6da\"], [0.4, \"#fde0ef\"], [0.5, \"#f7f7f7\"], [0.6, \"#e6f5d0\"], [0.7, \"#b8e186\"], [0.8, \"#7fbc41\"], [0.9, \"#4d9221\"], [1, \"#276419\"]], \"sequential\": [[0.0, \"#0d0887\"], [0.1111111111111111, \"#46039f\"], [0.2222222222222222, \"#7201a8\"], [0.3333333333333333, \"#9c179e\"], [0.4444444444444444, \"#bd3786\"], [0.5555555555555556, \"#d8576b\"], [0.6666666666666666, \"#ed7953\"], [0.7777777777777778, \"#fb9f3a\"], [0.8888888888888888, \"#fdca26\"], [1.0, \"#f0f921\"]], \"sequentialminus\": [[0.0, \"#0d0887\"], [0.1111111111111111, \"#46039f\"], [0.2222222222222222, \"#7201a8\"], [0.3333333333333333, \"#9c179e\"], [0.4444444444444444, \"#bd3786\"], [0.5555555555555556, \"#d8576b\"], [0.6666666666666666, \"#ed7953\"], [0.7777777777777778, \"#fb9f3a\"], [0.8888888888888888, \"#fdca26\"], [1.0, \"#f0f921\"]]}, \"colorway\": [\"#636efa\", \"#EF553B\", \"#00cc96\", \"#ab63fa\", \"#FFA15A\", \"#19d3f3\", \"#FF6692\", \"#B6E880\", \"#FF97FF\", \"#FECB52\"], \"font\": {\"color\": \"#2a3f5f\"}, \"geo\": {\"bgcolor\": \"white\", \"lakecolor\": \"white\", \"landcolor\": \"#E5ECF6\", \"showlakes\": true, \"showland\": true, \"subunitcolor\": \"white\"}, \"hoverlabel\": {\"align\": \"left\"}, \"hovermode\": \"closest\", \"mapbox\": {\"style\": \"light\"}, \"paper_bgcolor\": \"white\", \"plot_bgcolor\": \"#E5ECF6\", \"polar\": {\"angularaxis\": {\"gridcolor\": \"white\", \"linecolor\": \"white\", \"ticks\": \"\"}, \"bgcolor\": \"#E5ECF6\", \"radialaxis\": {\"gridcolor\": \"white\", \"linecolor\": \"white\", \"ticks\": \"\"}}, \"scene\": {\"xaxis\": {\"backgroundcolor\": \"#E5ECF6\", \"gridcolor\": \"white\", \"gridwidth\": 2, \"linecolor\": \"white\", \"showbackground\": true, \"ticks\": \"\", \"zerolinecolor\": \"white\"}, \"yaxis\": {\"backgroundcolor\": \"#E5ECF6\", \"gridcolor\": \"white\", \"gridwidth\": 2, \"linecolor\": \"white\", \"showbackground\": true, \"ticks\": \"\", \"zerolinecolor\": \"white\"}, \"zaxis\": {\"backgroundcolor\": \"#E5ECF6\", \"gridcolor\": \"white\", \"gridwidth\": 2, \"linecolor\": \"white\", \"showbackground\": true, \"ticks\": \"\", \"zerolinecolor\": \"white\"}}, \"shapedefaults\": {\"line\": {\"color\": \"#2a3f5f\"}}, \"ternary\": {\"aaxis\": {\"gridcolor\": \"white\", \"linecolor\": \"white\", \"ticks\": \"\"}, \"baxis\": {\"gridcolor\": \"white\", \"linecolor\": \"white\", \"ticks\": \"\"}, \"bgcolor\": \"#E5ECF6\", \"caxis\": {\"gridcolor\": \"white\", \"linecolor\": \"white\", \"ticks\": \"\"}}, \"title\": {\"x\": 0.05}, \"xaxis\": {\"automargin\": true, \"gridcolor\": \"white\", \"linecolor\": \"white\", \"ticks\": \"\", \"title\": {\"standoff\": 15}, \"zerolinecolor\": \"white\", \"zerolinewidth\": 2}, \"yaxis\": {\"automargin\": true, \"gridcolor\": \"white\", \"linecolor\": \"white\", \"ticks\": \"\", \"title\": {\"standoff\": 15}, \"zerolinecolor\": \"white\", \"zerolinewidth\": 2}}}},\n",
       "                        {\"responsive\": true}\n",
       "                    ).then(function(){\n",
       "                            \n",
       "var gd = document.getElementById('d682d3c0-1692-49e4-90cf-fbd10acc6b80');\n",
       "var x = new MutationObserver(function (mutations, observer) {{\n",
       "        var display = window.getComputedStyle(gd).display;\n",
       "        if (!display || display === 'none') {{\n",
       "            console.log([gd, 'removed!']);\n",
       "            Plotly.purge(gd);\n",
       "            observer.disconnect();\n",
       "        }}\n",
       "}});\n",
       "\n",
       "// Listen for the removal of the full notebook cells\n",
       "var notebookContainer = gd.closest('#notebook-container');\n",
       "if (notebookContainer) {{\n",
       "    x.observe(notebookContainer, {childList: true});\n",
       "}}\n",
       "\n",
       "// Listen for the clearing of the current output cell\n",
       "var outputEl = gd.closest('.output');\n",
       "if (outputEl) {{\n",
       "    x.observe(outputEl, {childList: true});\n",
       "}}\n",
       "\n",
       "                        })\n",
       "                };\n",
       "                });\n",
       "            </script>\n",
       "        </div>"
      ]
     },
     "metadata": {},
     "output_type": "display_data"
    }
   ],
   "source": [
    "labels = flairs\n",
    "values = freq\n",
    "\n",
    "fig = go.Figure(data=[go.Pie(labels=labels, values=values)])\n",
    "fig.show()"
   ]
  },
  {
   "cell_type": "code",
   "execution_count": 116,
   "metadata": {},
   "outputs": [
    {
     "data": {
      "text/html": [
       "<div>\n",
       "<style scoped>\n",
       "    .dataframe tbody tr th:only-of-type {\n",
       "        vertical-align: middle;\n",
       "    }\n",
       "\n",
       "    .dataframe tbody tr th {\n",
       "        vertical-align: top;\n",
       "    }\n",
       "\n",
       "    .dataframe thead th {\n",
       "        text-align: right;\n",
       "    }\n",
       "</style>\n",
       "<table border=\"1\" class=\"dataframe\">\n",
       "  <thead>\n",
       "    <tr style=\"text-align: right;\">\n",
       "      <th></th>\n",
       "      <th>0</th>\n",
       "      <th>1</th>\n",
       "    </tr>\n",
       "  </thead>\n",
       "  <tbody>\n",
       "    <tr>\n",
       "      <th>allow_live_comments</th>\n",
       "      <td>NaN</td>\n",
       "      <td>NaN</td>\n",
       "    </tr>\n",
       "    <tr>\n",
       "      <th>author</th>\n",
       "      <td>ssingh5</td>\n",
       "      <td>ssingh5</td>\n",
       "    </tr>\n",
       "    <tr>\n",
       "      <th>author_premium</th>\n",
       "      <td>NaN</td>\n",
       "      <td>NaN</td>\n",
       "    </tr>\n",
       "    <tr>\n",
       "      <th>can_mod_post</th>\n",
       "      <td>False</td>\n",
       "      <td>False</td>\n",
       "    </tr>\n",
       "    <tr>\n",
       "      <th>contest_mode</th>\n",
       "      <td>False</td>\n",
       "      <td>False</td>\n",
       "    </tr>\n",
       "    <tr>\n",
       "      <th>created_utc</th>\n",
       "      <td>1546301288</td>\n",
       "      <td>1546301290</td>\n",
       "    </tr>\n",
       "    <tr>\n",
       "      <th>full_link</th>\n",
       "      <td>https://www.reddit.com/r/india/comments/abcx7i...</td>\n",
       "      <td>https://www.reddit.com/r/india/comments/abcx88...</td>\n",
       "    </tr>\n",
       "    <tr>\n",
       "      <th>id</th>\n",
       "      <td>abcx7i</td>\n",
       "      <td>abcx88</td>\n",
       "    </tr>\n",
       "    <tr>\n",
       "      <th>is_crosspostable</th>\n",
       "      <td>False</td>\n",
       "      <td>False</td>\n",
       "    </tr>\n",
       "    <tr>\n",
       "      <th>is_meta</th>\n",
       "      <td>False</td>\n",
       "      <td>False</td>\n",
       "    </tr>\n",
       "    <tr>\n",
       "      <th>is_original_content</th>\n",
       "      <td>False</td>\n",
       "      <td>False</td>\n",
       "    </tr>\n",
       "    <tr>\n",
       "      <th>is_self</th>\n",
       "      <td>False</td>\n",
       "      <td>False</td>\n",
       "    </tr>\n",
       "    <tr>\n",
       "      <th>is_video</th>\n",
       "      <td>False</td>\n",
       "      <td>False</td>\n",
       "    </tr>\n",
       "    <tr>\n",
       "      <th>link_flair_text</th>\n",
       "      <td>NaN</td>\n",
       "      <td>NaN</td>\n",
       "    </tr>\n",
       "    <tr>\n",
       "      <th>locked</th>\n",
       "      <td>False</td>\n",
       "      <td>False</td>\n",
       "    </tr>\n",
       "    <tr>\n",
       "      <th>media_only</th>\n",
       "      <td>False</td>\n",
       "      <td>False</td>\n",
       "    </tr>\n",
       "    <tr>\n",
       "      <th>no_follow</th>\n",
       "      <td>True</td>\n",
       "      <td>True</td>\n",
       "    </tr>\n",
       "    <tr>\n",
       "      <th>num_comments</th>\n",
       "      <td>0</td>\n",
       "      <td>0</td>\n",
       "    </tr>\n",
       "    <tr>\n",
       "      <th>num_crossposts</th>\n",
       "      <td>0</td>\n",
       "      <td>0</td>\n",
       "    </tr>\n",
       "    <tr>\n",
       "      <th>over_18</th>\n",
       "      <td>False</td>\n",
       "      <td>False</td>\n",
       "    </tr>\n",
       "    <tr>\n",
       "      <th>parent_whitelist_status</th>\n",
       "      <td>all_ads</td>\n",
       "      <td>all_ads</td>\n",
       "    </tr>\n",
       "    <tr>\n",
       "      <th>permalink</th>\n",
       "      <td>/r/india/comments/abcx7i/p_new_year_smiles_wha...</td>\n",
       "      <td>/r/india/comments/abcx88/p_new_year_smiles_con...</td>\n",
       "    </tr>\n",
       "    <tr>\n",
       "      <th>pinned</th>\n",
       "      <td>False</td>\n",
       "      <td>False</td>\n",
       "    </tr>\n",
       "    <tr>\n",
       "      <th>score</th>\n",
       "      <td>1</td>\n",
       "      <td>1</td>\n",
       "    </tr>\n",
       "    <tr>\n",
       "      <th>selftext</th>\n",
       "      <td>NaN</td>\n",
       "      <td>NaN</td>\n",
       "    </tr>\n",
       "    <tr>\n",
       "      <th>send_replies</th>\n",
       "      <td>False</td>\n",
       "      <td>False</td>\n",
       "    </tr>\n",
       "    <tr>\n",
       "      <th>spoiler</th>\n",
       "      <td>False</td>\n",
       "      <td>False</td>\n",
       "    </tr>\n",
       "    <tr>\n",
       "      <th>stickied</th>\n",
       "      <td>False</td>\n",
       "      <td>False</td>\n",
       "    </tr>\n",
       "    <tr>\n",
       "      <th>title</th>\n",
       "      <td>[P] New Year smiles: What do you say to get Mu...</td>\n",
       "      <td>[P] New Year smiles: Con-ducking, surgeoned, a...</td>\n",
       "    </tr>\n",
       "    <tr>\n",
       "      <th>total_awards_received</th>\n",
       "      <td>NaN</td>\n",
       "      <td>NaN</td>\n",
       "    </tr>\n",
       "    <tr>\n",
       "      <th>url</th>\n",
       "      <td>https://scroll.in/article/907250/new-year-smil...</td>\n",
       "      <td>https://scroll.in/article/907196/new-year-smil...</td>\n",
       "    </tr>\n",
       "    <tr>\n",
       "      <th>comments</th>\n",
       "      <td>NaN</td>\n",
       "      <td>NaN</td>\n",
       "    </tr>\n",
       "    <tr>\n",
       "      <th>mean_comment_score</th>\n",
       "      <td>0</td>\n",
       "      <td>0</td>\n",
       "    </tr>\n",
       "  </tbody>\n",
       "</table>\n",
       "</div>"
      ],
      "text/plain": [
       "                                                                         0  \\\n",
       "allow_live_comments                                                    NaN   \n",
       "author                                                             ssingh5   \n",
       "author_premium                                                         NaN   \n",
       "can_mod_post                                                         False   \n",
       "contest_mode                                                         False   \n",
       "created_utc                                                     1546301288   \n",
       "full_link                https://www.reddit.com/r/india/comments/abcx7i...   \n",
       "id                                                                  abcx7i   \n",
       "is_crosspostable                                                     False   \n",
       "is_meta                                                              False   \n",
       "is_original_content                                                  False   \n",
       "is_self                                                              False   \n",
       "is_video                                                             False   \n",
       "link_flair_text                                                        NaN   \n",
       "locked                                                               False   \n",
       "media_only                                                           False   \n",
       "no_follow                                                             True   \n",
       "num_comments                                                             0   \n",
       "num_crossposts                                                           0   \n",
       "over_18                                                              False   \n",
       "parent_whitelist_status                                            all_ads   \n",
       "permalink                /r/india/comments/abcx7i/p_new_year_smiles_wha...   \n",
       "pinned                                                               False   \n",
       "score                                                                    1   \n",
       "selftext                                                               NaN   \n",
       "send_replies                                                         False   \n",
       "spoiler                                                              False   \n",
       "stickied                                                             False   \n",
       "title                    [P] New Year smiles: What do you say to get Mu...   \n",
       "total_awards_received                                                  NaN   \n",
       "url                      https://scroll.in/article/907250/new-year-smil...   \n",
       "comments                                                               NaN   \n",
       "mean_comment_score                                                       0   \n",
       "\n",
       "                                                                         1  \n",
       "allow_live_comments                                                    NaN  \n",
       "author                                                             ssingh5  \n",
       "author_premium                                                         NaN  \n",
       "can_mod_post                                                         False  \n",
       "contest_mode                                                         False  \n",
       "created_utc                                                     1546301290  \n",
       "full_link                https://www.reddit.com/r/india/comments/abcx88...  \n",
       "id                                                                  abcx88  \n",
       "is_crosspostable                                                     False  \n",
       "is_meta                                                              False  \n",
       "is_original_content                                                  False  \n",
       "is_self                                                              False  \n",
       "is_video                                                             False  \n",
       "link_flair_text                                                        NaN  \n",
       "locked                                                               False  \n",
       "media_only                                                           False  \n",
       "no_follow                                                             True  \n",
       "num_comments                                                             0  \n",
       "num_crossposts                                                           0  \n",
       "over_18                                                              False  \n",
       "parent_whitelist_status                                            all_ads  \n",
       "permalink                /r/india/comments/abcx88/p_new_year_smiles_con...  \n",
       "pinned                                                               False  \n",
       "score                                                                    1  \n",
       "selftext                                                               NaN  \n",
       "send_replies                                                         False  \n",
       "spoiler                                                              False  \n",
       "stickied                                                             False  \n",
       "title                    [P] New Year smiles: Con-ducking, surgeoned, a...  \n",
       "total_awards_received                                                  NaN  \n",
       "url                      https://scroll.in/article/907196/new-year-smil...  \n",
       "comments                                                               NaN  \n",
       "mean_comment_score                                                       0  "
      ]
     },
     "execution_count": 116,
     "metadata": {},
     "output_type": "execute_result"
    }
   ],
   "source": [
    "df.head(2).T"
   ]
  },
  {
   "cell_type": "code",
   "execution_count": 138,
   "metadata": {},
   "outputs": [
    {
     "name": "stdout",
     "output_type": "stream",
     "text": [
      "<class 'pandas.core.frame.DataFrame'>\n",
      "Int64Index: 218370 entries, 0 to 22709\n",
      "Data columns (total 33 columns):\n",
      "allow_live_comments        134036 non-null object\n",
      "author                     218370 non-null object\n",
      "author_premium             63303 non-null object\n",
      "can_mod_post               218370 non-null bool\n",
      "contest_mode               218370 non-null bool\n",
      "created_utc                218370 non-null int64\n",
      "full_link                  218370 non-null object\n",
      "id                         218370 non-null object\n",
      "is_crosspostable           218370 non-null bool\n",
      "is_meta                    218370 non-null bool\n",
      "is_original_content        218370 non-null bool\n",
      "is_self                    218370 non-null bool\n",
      "is_video                   218370 non-null bool\n",
      "link_flair_text            117692 non-null object\n",
      "locked                     218370 non-null bool\n",
      "media_only                 218370 non-null bool\n",
      "no_follow                  218370 non-null bool\n",
      "num_comments               218370 non-null int64\n",
      "num_crossposts             218370 non-null int64\n",
      "over_18                    218370 non-null bool\n",
      "parent_whitelist_status    218370 non-null object\n",
      "permalink                  218370 non-null object\n",
      "pinned                     218370 non-null bool\n",
      "score                      218370 non-null int64\n",
      "selftext                   51881 non-null object\n",
      "send_replies               218370 non-null bool\n",
      "spoiler                    218370 non-null bool\n",
      "stickied                   218370 non-null bool\n",
      "title                      218369 non-null object\n",
      "total_awards_received      164512 non-null float64\n",
      "url                        218370 non-null object\n",
      "comments                   90249 non-null object\n",
      "mean_comment_score         218370 non-null float64\n",
      "dtypes: bool(15), float64(2), int64(4), object(12)\n",
      "memory usage: 34.8+ MB\n"
     ]
    }
   ],
   "source": [
    "df.info()"
   ]
  },
  {
   "cell_type": "code",
   "execution_count": null,
   "metadata": {},
   "outputs": [],
   "source": []
  }
 ],
 "metadata": {
  "colab": {
   "name": "reddit-flair-data-acquisation-June-2019.ipynb",
   "provenance": [],
   "toc_visible": true
  },
  "file_extension": ".py",
  "kernelspec": {
   "display_name": "Python 3.7.0 64-bit ('venv': virtualenv)",
   "language": "python",
   "name": "python37064bitvenvvirtualenv15d36654ff944964aee51e1ffc378212"
  },
  "language_info": {
   "codemirror_mode": {
    "name": "ipython",
    "version": 3
   },
   "file_extension": ".py",
   "mimetype": "text/x-python",
   "name": "python",
   "nbconvert_exporter": "python",
   "pygments_lexer": "ipython3",
   "version": "3.7.0"
  },
  "mimetype": "text/x-python",
  "name": "python",
  "npconvert_exporter": "python",
  "pygments_lexer": "ipython3",
  "version": 3
 },
 "nbformat": 4,
 "nbformat_minor": 4
}
