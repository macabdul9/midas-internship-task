{
  "nbformat": 4,
  "nbformat_minor": 0,
  "metadata": {
    "colab": {
      "name": "reddit_flair_detector_2019_data.ipynb",
      "version": "0.3.2",
      "provenance": [],
      "collapsed_sections": [
        "slW7gIbLuxcS",
        "eXu6DyX0u2B-",
        "cDoNDaCGvsKT",
        "dxgUZr7G5s6x",
        "BnrfPHWxc_xV",
        "JE5sQ6I9i9ay"
      ],
      "toc_visible": true,
      "machine_shape": "hm"
    },
    "kernelspec": {
      "name": "python3",
      "display_name": "Python 3"
    },
    "accelerator": "GPU"
  },
  "cells": [
    {
      "cell_type": "markdown",
      "metadata": {
        "id": "ymIc0aie42Iu",
        "colab_type": "text"
      },
      "source": [
        "# Reddit Flair Detector"
      ]
    },
    {
      "cell_type": "code",
      "metadata": {
        "id": "5rfev1qs40-I",
        "colab_type": "code",
        "colab": {}
      },
      "source": [
        "# to avoid the warnings\n",
        "import warnings\n",
        "warnings.filterwarnings('ignore')"
      ],
      "execution_count": 0,
      "outputs": []
    },
    {
      "cell_type": "code",
      "metadata": {
        "id": "oNOmSM39QqOa",
        "colab_type": "code",
        "colab": {}
      },
      "source": [
        "import os\n",
        "import shutil\n",
        "import numpy as np\n",
        "import pandas as pd\n",
        "import pickle\n",
        "import cv2 as cv\n",
        "import matplotlib.pyplot as plt"
      ],
      "execution_count": 0,
      "outputs": []
    },
    {
      "cell_type": "markdown",
      "metadata": {
        "id": "I9hc8kwBQyHn",
        "colab_type": "text"
      },
      "source": [
        "# 1. Data Acquisation and Preprocessing"
      ]
    },
    {
      "cell_type": "markdown",
      "metadata": {
        "id": "ldFvgiRPQ3HR",
        "colab_type": "text"
      },
      "source": [
        "## 1.1 Scrapping subreddit r/india using praw and pushshift.io"
      ]
    },
    {
      "cell_type": "code",
      "metadata": {
        "id": "3fZRQezjomUO",
        "colab_type": "code",
        "colab": {}
      },
      "source": [
        "# !pip install praw"
      ],
      "execution_count": 0,
      "outputs": []
    },
    {
      "cell_type": "code",
      "metadata": {
        "id": "gCPODcy4oXEp",
        "colab_type": "code",
        "colab": {}
      },
      "source": [
        "import praw"
      ],
      "execution_count": 0,
      "outputs": []
    },
    {
      "cell_type": "code",
      "metadata": {
        "id": "QMQE0pT75zuD",
        "colab_type": "code",
        "colab": {}
      },
      "source": [
        "import requests\n",
        "import json\n",
        "import csv\n",
        "import time\n",
        "import datetime"
      ],
      "execution_count": 0,
      "outputs": []
    },
    {
      "cell_type": "code",
      "metadata": {
        "id": "nzyLzMPnQrDc",
        "colab_type": "code",
        "colab": {}
      },
      "source": [
        "# create an app on and then an instance of Reddit App: https://ssl.reddit.com/prefs/apps/ \n",
        "reddit = praw.Reddit(client_id='xVeb5-ej49aBDg', client_secret='HLuuBB0e1upw1pbZ-oUFtrBplFY', user_agent='reddit-scrap', username='macabdul9', password='Sudo$0#1')"
      ],
      "execution_count": 0,
      "outputs": []
    },
    {
      "cell_type": "code",
      "metadata": {
        "id": "BgphwQ1qMoZt",
        "colab_type": "code",
        "outputId": "fcc65be1-1c97-451a-c8af-c2fba944b205",
        "colab": {
          "base_uri": "https://localhost:8080/",
          "height": 34
        }
      },
      "source": [
        "# get the user\n",
        "print(reddit.user.me())"
      ],
      "execution_count": 0,
      "outputs": [
        {
          "output_type": "stream",
          "text": [
            "macabdul9\n"
          ],
          "name": "stdout"
        }
      ]
    },
    {
      "cell_type": "code",
      "metadata": {
        "id": "d3H1p5oHzoB_",
        "colab_type": "code",
        "colab": {}
      },
      "source": [
        ""
      ],
      "execution_count": 0,
      "outputs": []
    },
    {
      "cell_type": "code",
      "metadata": {
        "id": "B4C6K52w74qd",
        "colab_type": "code",
        "colab": {}
      },
      "source": [
        "subm = reddit.submission(url='https://www.reddit.com/r/india/comments/d0ytzc/nasa_on_twitter_space_is_hard_we_commend_isro_s/')"
      ],
      "execution_count": 0,
      "outputs": []
    },
    {
      "cell_type": "code",
      "metadata": {
        "id": "MWrhoDjuzqTZ",
        "colab_type": "code",
        "colab": {}
      },
      "source": [
        "subm1 = reddit.submission(id='d0ytzc')"
      ],
      "execution_count": 0,
      "outputs": []
    },
    {
      "cell_type": "code",
      "metadata": {
        "id": "6BDRS-yU79sm",
        "colab_type": "code",
        "outputId": "caa05c8f-a0b5-4b6b-b76c-c70538e92336",
        "colab": {
          "base_uri": "https://localhost:8080/",
          "height": 34
        }
      },
      "source": [
        "subm.permalink"
      ],
      "execution_count": 0,
      "outputs": [
        {
          "output_type": "execute_result",
          "data": {
            "text/plain": [
              "'/r/india/comments/d0ytzc/nasa_on_twitter_space_is_hard_we_commend_isro_s/'"
            ]
          },
          "metadata": {
            "tags": []
          },
          "execution_count": 14
        }
      ]
    },
    {
      "cell_type": "code",
      "metadata": {
        "id": "mAYsYntfzyOL",
        "colab_type": "code",
        "outputId": "3c58eb4e-8767-4f0a-9388-a37d2811855c",
        "colab": {
          "base_uri": "https://localhost:8080/",
          "height": 54
        }
      },
      "source": [
        "subm1.title"
      ],
      "execution_count": 0,
      "outputs": [
        {
          "output_type": "execute_result",
          "data": {
            "text/plain": [
              "'NASA on Twitter: Space is hard. We commend @ISRO ’s attempt to land their #Chandrayaan2 mission on the Moon’s South Pole. You have inspired us with your journey and look forward to future opportunities to explore our solar system together.'"
            ]
          },
          "metadata": {
            "tags": []
          },
          "execution_count": 15
        }
      ]
    },
    {
      "cell_type": "markdown",
      "metadata": {
        "id": "MvTt5W4_7bzC",
        "colab_type": "text"
      },
      "source": [
        "### 1.1.1 Scrapping the *submissions*"
      ]
    },
    {
      "cell_type": "code",
      "metadata": {
        "id": "iurmD9vQzBCy",
        "colab_type": "code",
        "colab": {}
      },
      "source": [
        "def getPushshiftSubData(query, after, before, sub):\n",
        "    url = 'https://api.pushshift.io/reddit/search/submission/?title='+str(query)+'&size=1000&after='+str(after)+'&before='+str(before)+'&subreddit='+str(sub)\n",
        "    print(url)\n",
        "    r = requests.get(url)\n",
        "    data = json.loads(r.text)\n",
        "    return data['data']"
      ],
      "execution_count": 0,
      "outputs": []
    },
    {
      "cell_type": "code",
      "metadata": {
        "id": "bfgnBCzL2irz",
        "colab_type": "code",
        "colab": {}
      },
      "source": [
        "def collectSubData(subm):\n",
        "    subData = list() #list to store data points\n",
        "    \n",
        "    sub_id = subm['id']\n",
        "    \n",
        "    sub_text = subm['title']\n",
        "    \n",
        "    author = subm['author']\n",
        "    \n",
        "    full_link = subm['full_link']\n",
        "    \n",
        "    permalink = subm['permalink']\n",
        "    \n",
        "    url = subm['url']\n",
        "    \n",
        "    try:\n",
        "        flair = subm['link_flair_text']\n",
        "    except KeyError:\n",
        "        flair = \"NaN\"    \n",
        "    \n",
        "    \n",
        "    score = subm['score']\n",
        "    \n",
        "    created = datetime.datetime.fromtimestamp(subm['created_utc']) #1520561700.0\n",
        "    \n",
        "    numComms = subm['num_comments']\n",
        "    \n",
        "    \n",
        "    over_18 = subm['over_18']\n",
        "    \n",
        "    \n",
        "    subData.append((sub_id, sub_text, author, full_link, permalink, url, flair, score, created, numComms, over_18))\n",
        "    \n",
        "    subStats[sub_id] = subData\n",
        "    "
      ],
      "execution_count": 0,
      "outputs": []
    },
    {
      "cell_type": "code",
      "metadata": {
        "id": "TwjXTXKa4pgt",
        "colab_type": "code",
        "colab": {}
      },
      "source": [
        "#Subreddit to query\n",
        "sub='india'\n",
        "\n",
        "#before and after dates\n",
        "before = \"1567209600\" # Sat, 31 Aug 2019 00:00:00 \n",
        "after = \"1546300800\"  # Tue, 01 Jan 2019 00:00:00 \n",
        "\n",
        "query = \"\" # title should have either null string more \n",
        "\n",
        "subCount = 0\n",
        "subStats = {}"
      ],
      "execution_count": 0,
      "outputs": []
    },
    {
      "cell_type": "code",
      "metadata": {
        "id": "s7s3DAqaXBfj",
        "colab_type": "code",
        "colab": {}
      },
      "source": [
        "# properties_of_a_submission = submission"
      ],
      "execution_count": 0,
      "outputs": []
    },
    {
      "cell_type": "code",
      "metadata": {
        "id": "SRIG6jQ250Jn",
        "colab_type": "code",
        "outputId": "9fd4baf2-34d7-4e1f-8658-8cde39d20fa0",
        "colab": {
          "base_uri": "https://localhost:8080/",
          "height": 1000
        }
      },
      "source": [
        "data = getPushshiftSubData(query, after, before, sub)# Will run until all posts have been gathered \n",
        "# from the 'after' date up until before date\n",
        "while len(data) > 0:\n",
        "    for submission in data:\n",
        "        collectSubData(submission)\n",
        "        subCount+=1\n",
        "    # Calls getPushshiftData() with the created date of the last submission\n",
        "    print(len(data))\n",
        "    print(str(datetime.datetime.fromtimestamp(data[-1]['created_utc'])))\n",
        "    after = data[-1]['created_utc']\n",
        "    data = getPushshiftSubData(query, after, before, sub)\n",
        "\n",
        "print(len(data))"
      ],
      "execution_count": 0,
      "outputs": [
        {
          "output_type": "stream",
          "text": [
            "https://api.pushshift.io/reddit/search/submission/?title=&size=1000&after=1546300800&before=1567209600&subreddit=india\n",
            "1000\n",
            "2019-01-03 02:43:10\n",
            "https://api.pushshift.io/reddit/search/submission/?title=&size=1000&after=1546483390&before=1567209600&subreddit=india\n",
            "1000\n",
            "2019-01-04 17:19:53\n",
            "https://api.pushshift.io/reddit/search/submission/?title=&size=1000&after=1546622393&before=1567209600&subreddit=india\n",
            "1000\n",
            "2019-01-07 05:26:38\n",
            "https://api.pushshift.io/reddit/search/submission/?title=&size=1000&after=1546838798&before=1567209600&subreddit=india\n",
            "1000\n",
            "2019-01-09 03:07:34\n",
            "https://api.pushshift.io/reddit/search/submission/?title=&size=1000&after=1547003254&before=1567209600&subreddit=india\n",
            "1000\n",
            "2019-01-10 17:16:56\n",
            "https://api.pushshift.io/reddit/search/submission/?title=&size=1000&after=1547140616&before=1567209600&subreddit=india\n",
            "1000\n",
            "2019-01-12 19:27:51\n",
            "https://api.pushshift.io/reddit/search/submission/?title=&size=1000&after=1547321271&before=1567209600&subreddit=india\n",
            "1000\n",
            "2019-01-15 05:40:21\n",
            "https://api.pushshift.io/reddit/search/submission/?title=&size=1000&after=1547530821&before=1567209600&subreddit=india\n",
            "1000\n",
            "2019-01-17 05:44:31\n",
            "https://api.pushshift.io/reddit/search/submission/?title=&size=1000&after=1547703871&before=1567209600&subreddit=india\n",
            "1000\n",
            "2019-01-19 06:43:55\n",
            "https://api.pushshift.io/reddit/search/submission/?title=&size=1000&after=1547880235&before=1567209600&subreddit=india\n",
            "1000\n",
            "2019-01-21 13:27:09\n",
            "https://api.pushshift.io/reddit/search/submission/?title=&size=1000&after=1548077229&before=1567209600&subreddit=india\n",
            "1000\n",
            "2019-01-23 14:08:37\n",
            "https://api.pushshift.io/reddit/search/submission/?title=&size=1000&after=1548252517&before=1567209600&subreddit=india\n",
            "1000\n",
            "2019-01-25 15:04:39\n",
            "https://api.pushshift.io/reddit/search/submission/?title=&size=1000&after=1548428679&before=1567209600&subreddit=india\n",
            "1000\n",
            "2019-01-28 05:08:35\n",
            "https://api.pushshift.io/reddit/search/submission/?title=&size=1000&after=1548652115&before=1567209600&subreddit=india\n",
            "1000\n",
            "2019-01-30 05:34:13\n",
            "https://api.pushshift.io/reddit/search/submission/?title=&size=1000&after=1548826453&before=1567209600&subreddit=india\n",
            "1000\n",
            "2019-01-31 21:47:28\n",
            "https://api.pushshift.io/reddit/search/submission/?title=&size=1000&after=1548971248&before=1567209600&subreddit=india\n",
            "1000\n",
            "2019-02-02 17:17:06\n",
            "https://api.pushshift.io/reddit/search/submission/?title=&size=1000&after=1549127826&before=1567209600&subreddit=india\n",
            "1000\n",
            "2019-02-05 03:08:51\n",
            "https://api.pushshift.io/reddit/search/submission/?title=&size=1000&after=1549336131&before=1567209600&subreddit=india\n",
            "1000\n",
            "2019-02-07 01:29:24\n",
            "https://api.pushshift.io/reddit/search/submission/?title=&size=1000&after=1549502964&before=1567209600&subreddit=india\n",
            "1000\n",
            "2019-02-08 16:49:22\n",
            "https://api.pushshift.io/reddit/search/submission/?title=&size=1000&after=1549644562&before=1567209600&subreddit=india\n",
            "1000\n",
            "2019-02-11 04:55:15\n",
            "https://api.pushshift.io/reddit/search/submission/?title=&size=1000&after=1549860915&before=1567209600&subreddit=india\n",
            "1000\n",
            "2019-02-13 04:11:22\n",
            "https://api.pushshift.io/reddit/search/submission/?title=&size=1000&after=1550031082&before=1567209600&subreddit=india\n",
            "1000\n",
            "2019-02-14 17:05:43\n",
            "https://api.pushshift.io/reddit/search/submission/?title=&size=1000&after=1550163943&before=1567209600&subreddit=india\n",
            "1000\n",
            "2019-02-16 12:23:04\n",
            "https://api.pushshift.io/reddit/search/submission/?title=&size=1000&after=1550319784&before=1567209600&subreddit=india\n",
            "1000\n",
            "2019-02-18 11:37:56\n",
            "https://api.pushshift.io/reddit/search/submission/?title=&size=1000&after=1550489876&before=1567209600&subreddit=india\n",
            "1000\n",
            "2019-02-20 06:30:48\n",
            "https://api.pushshift.io/reddit/search/submission/?title=&size=1000&after=1550644248&before=1567209600&subreddit=india\n",
            "1000\n",
            "2019-02-21 21:33:53\n",
            "https://api.pushshift.io/reddit/search/submission/?title=&size=1000&after=1550784833&before=1567209600&subreddit=india\n",
            "1000\n",
            "2019-02-23 17:10:39\n",
            "https://api.pushshift.io/reddit/search/submission/?title=&size=1000&after=1550941839&before=1567209600&subreddit=india\n",
            "1000\n",
            "2019-02-25 16:55:00\n",
            "https://api.pushshift.io/reddit/search/submission/?title=&size=1000&after=1551113700&before=1567209600&subreddit=india\n",
            "1000\n",
            "2019-02-27 06:32:35\n",
            "https://api.pushshift.io/reddit/search/submission/?title=&size=1000&after=1551249155&before=1567209600&subreddit=india\n",
            "1000\n",
            "2019-02-28 07:58:15\n",
            "https://api.pushshift.io/reddit/search/submission/?title=&size=1000&after=1551340695&before=1567209600&subreddit=india\n",
            "1000\n",
            "2019-03-01 12:31:24\n",
            "https://api.pushshift.io/reddit/search/submission/?title=&size=1000&after=1551443484&before=1567209600&subreddit=india\n",
            "1000\n",
            "2019-03-03 07:03:48\n",
            "https://api.pushshift.io/reddit/search/submission/?title=&size=1000&after=1551596628&before=1567209600&subreddit=india\n",
            "1000\n",
            "2019-03-05 03:24:52\n",
            "https://api.pushshift.io/reddit/search/submission/?title=&size=1000&after=1551756292&before=1567209600&subreddit=india\n",
            "1000\n",
            "2019-03-06 12:03:10\n",
            "https://api.pushshift.io/reddit/search/submission/?title=&size=1000&after=1551873790&before=1567209600&subreddit=india\n",
            "1000\n",
            "2019-03-08 05:43:58\n",
            "https://api.pushshift.io/reddit/search/submission/?title=&size=1000&after=1552023838&before=1567209600&subreddit=india\n",
            "1000\n",
            "2019-03-10 04:18:05\n",
            "https://api.pushshift.io/reddit/search/submission/?title=&size=1000&after=1552191485&before=1567209600&subreddit=india\n",
            "1000\n",
            "2019-03-11 21:56:26\n",
            "https://api.pushshift.io/reddit/search/submission/?title=&size=1000&after=1552341386&before=1567209600&subreddit=india\n",
            "1000\n",
            "2019-03-13 07:03:42\n",
            "https://api.pushshift.io/reddit/search/submission/?title=&size=1000&after=1552460622&before=1567209600&subreddit=india\n",
            "1000\n",
            "2019-03-14 14:59:34\n",
            "https://api.pushshift.io/reddit/search/submission/?title=&size=1000&after=1552575574&before=1567209600&subreddit=india\n",
            "1000\n",
            "2019-03-16 10:18:39\n",
            "https://api.pushshift.io/reddit/search/submission/?title=&size=1000&after=1552731519&before=1567209600&subreddit=india\n",
            "1000\n",
            "2019-03-18 07:08:12\n",
            "https://api.pushshift.io/reddit/search/submission/?title=&size=1000&after=1552892892&before=1567209600&subreddit=india\n",
            "1000\n",
            "2019-03-20 01:44:17\n",
            "https://api.pushshift.io/reddit/search/submission/?title=&size=1000&after=1553046257&before=1567209600&subreddit=india\n",
            "1000\n",
            "2019-03-21 13:04:57\n",
            "https://api.pushshift.io/reddit/search/submission/?title=&size=1000&after=1553173497&before=1567209600&subreddit=india\n",
            "1000\n",
            "2019-03-23 09:16:33\n",
            "https://api.pushshift.io/reddit/search/submission/?title=&size=1000&after=1553332593&before=1567209600&subreddit=india\n",
            "1000\n",
            "2019-03-25 11:43:39\n",
            "https://api.pushshift.io/reddit/search/submission/?title=&size=1000&after=1553514219&before=1567209600&subreddit=india\n",
            "1000\n",
            "2019-03-27 08:03:38\n",
            "https://api.pushshift.io/reddit/search/submission/?title=&size=1000&after=1553673818&before=1567209600&subreddit=india\n",
            "1000\n",
            "2019-03-29 03:29:52\n",
            "https://api.pushshift.io/reddit/search/submission/?title=&size=1000&after=1553830192&before=1567209600&subreddit=india\n",
            "1000\n",
            "2019-03-31 01:16:07\n",
            "https://api.pushshift.io/reddit/search/submission/?title=&size=1000&after=1553994967&before=1567209600&subreddit=india\n",
            "1000\n",
            "2019-04-01 15:10:25\n",
            "https://api.pushshift.io/reddit/search/submission/?title=&size=1000&after=1554131425&before=1567209600&subreddit=india\n",
            "1000\n",
            "2019-04-03 08:54:07\n",
            "https://api.pushshift.io/reddit/search/submission/?title=&size=1000&after=1554281647&before=1567209600&subreddit=india\n",
            "1000\n",
            "2019-04-05 05:26:19\n",
            "https://api.pushshift.io/reddit/search/submission/?title=&size=1000&after=1554441979&before=1567209600&subreddit=india\n",
            "1000\n",
            "2019-04-07 04:46:41\n",
            "https://api.pushshift.io/reddit/search/submission/?title=&size=1000&after=1554612401&before=1567209600&subreddit=india\n",
            "1000\n",
            "2019-04-09 01:51:22\n",
            "https://api.pushshift.io/reddit/search/submission/?title=&size=1000&after=1554774682&before=1567209600&subreddit=india\n",
            "1000\n",
            "2019-04-10 12:53:54\n",
            "https://api.pushshift.io/reddit/search/submission/?title=&size=1000&after=1554900834&before=1567209600&subreddit=india\n",
            "1000\n",
            "2019-04-12 05:32:01\n",
            "https://api.pushshift.io/reddit/search/submission/?title=&size=1000&after=1555047121&before=1567209600&subreddit=india\n",
            "1000\n",
            "2019-04-13 21:48:03\n",
            "https://api.pushshift.io/reddit/search/submission/?title=&size=1000&after=1555192083&before=1567209600&subreddit=india\n",
            "1000\n",
            "2019-04-16 02:22:11\n",
            "https://api.pushshift.io/reddit/search/submission/?title=&size=1000&after=1555381331&before=1567209600&subreddit=india\n",
            "1000\n",
            "2019-04-17 14:09:39\n",
            "https://api.pushshift.io/reddit/search/submission/?title=&size=1000&after=1555510179&before=1567209600&subreddit=india\n",
            "1000\n",
            "2019-04-19 08:46:01\n",
            "https://api.pushshift.io/reddit/search/submission/?title=&size=1000&after=1555663561&before=1567209600&subreddit=india\n",
            "1000\n",
            "2019-04-21 07:14:27\n",
            "https://api.pushshift.io/reddit/search/submission/?title=&size=1000&after=1555830867&before=1567209600&subreddit=india\n",
            "1000\n",
            "2019-04-23 05:45:43\n",
            "https://api.pushshift.io/reddit/search/submission/?title=&size=1000&after=1555998343&before=1567209600&subreddit=india\n",
            "1000\n",
            "2019-04-25 02:30:06\n",
            "https://api.pushshift.io/reddit/search/submission/?title=&size=1000&after=1556159406&before=1567209600&subreddit=india\n",
            "1000\n",
            "2019-04-26 16:59:46\n",
            "https://api.pushshift.io/reddit/search/submission/?title=&size=1000&after=1556297986&before=1567209600&subreddit=india\n",
            "1000\n",
            "2019-04-28 18:53:29\n",
            "https://api.pushshift.io/reddit/search/submission/?title=&size=1000&after=1556477609&before=1567209600&subreddit=india\n",
            "1000\n",
            "2019-04-30 14:25:19\n",
            "https://api.pushshift.io/reddit/search/submission/?title=&size=1000&after=1556634319&before=1567209600&subreddit=india\n",
            "1000\n",
            "2019-05-02 10:33:39\n",
            "https://api.pushshift.io/reddit/search/submission/?title=&size=1000&after=1556793219&before=1567209600&subreddit=india\n",
            "1000\n",
            "2019-05-04 07:58:48\n",
            "https://api.pushshift.io/reddit/search/submission/?title=&size=1000&after=1556956728&before=1567209600&subreddit=india\n",
            "1000\n",
            "2019-05-06 08:59:00\n",
            "https://api.pushshift.io/reddit/search/submission/?title=&size=1000&after=1557133140&before=1567209600&subreddit=india\n",
            "1000\n",
            "2019-05-08 06:41:50\n",
            "https://api.pushshift.io/reddit/search/submission/?title=&size=1000&after=1557297710&before=1567209600&subreddit=india\n",
            "1000\n",
            "2019-05-10 03:11:48\n",
            "https://api.pushshift.io/reddit/search/submission/?title=&size=1000&after=1557457908&before=1567209600&subreddit=india\n",
            "1000\n",
            "2019-05-11 17:29:25\n",
            "https://api.pushshift.io/reddit/search/submission/?title=&size=1000&after=1557595765&before=1567209600&subreddit=india\n",
            "1000\n",
            "2019-05-13 16:33:40\n",
            "https://api.pushshift.io/reddit/search/submission/?title=&size=1000&after=1557765220&before=1567209600&subreddit=india\n",
            "1000\n",
            "2019-05-15 13:10:34\n",
            "https://api.pushshift.io/reddit/search/submission/?title=&size=1000&after=1557925834&before=1567209600&subreddit=india\n",
            "1000\n",
            "2019-05-17 08:09:26\n",
            "https://api.pushshift.io/reddit/search/submission/?title=&size=1000&after=1558080566&before=1567209600&subreddit=india\n",
            "1000\n",
            "2019-05-19 08:52:13\n",
            "https://api.pushshift.io/reddit/search/submission/?title=&size=1000&after=1558255933&before=1567209600&subreddit=india\n",
            "1000\n",
            "2019-05-21 07:38:45\n",
            "https://api.pushshift.io/reddit/search/submission/?title=&size=1000&after=1558424325&before=1567209600&subreddit=india\n",
            "1000\n",
            "2019-05-23 01:53:32\n",
            "https://api.pushshift.io/reddit/search/submission/?title=&size=1000&after=1558576412&before=1567209600&subreddit=india\n",
            "1000\n",
            "2019-05-24 08:23:03\n",
            "https://api.pushshift.io/reddit/search/submission/?title=&size=1000&after=1558686183&before=1567209600&subreddit=india\n",
            "1000\n",
            "2019-05-26 07:41:52\n",
            "https://api.pushshift.io/reddit/search/submission/?title=&size=1000&after=1558856512&before=1567209600&subreddit=india\n",
            "1000\n",
            "2019-05-28 04:49:10\n",
            "https://api.pushshift.io/reddit/search/submission/?title=&size=1000&after=1559018950&before=1567209600&subreddit=india\n",
            "1000\n",
            "2019-05-29 15:31:30\n",
            "https://api.pushshift.io/reddit/search/submission/?title=&size=1000&after=1559143890&before=1567209600&subreddit=india\n",
            "1000\n",
            "2019-05-31 10:55:01\n",
            "https://api.pushshift.io/reddit/search/submission/?title=&size=1000&after=1559300101&before=1567209600&subreddit=india\n",
            "1000\n",
            "2019-06-02 13:23:58\n",
            "https://api.pushshift.io/reddit/search/submission/?title=&size=1000&after=1559481838&before=1567209600&subreddit=india\n",
            "1000\n",
            "2019-06-04 11:54:41\n",
            "https://api.pushshift.io/reddit/search/submission/?title=&size=1000&after=1559649281&before=1567209600&subreddit=india\n",
            "1000\n",
            "2019-06-06 08:53:11\n",
            "https://api.pushshift.io/reddit/search/submission/?title=&size=1000&after=1559811191&before=1567209600&subreddit=india\n",
            "1000\n",
            "2019-06-08 06:16:11\n",
            "https://api.pushshift.io/reddit/search/submission/?title=&size=1000&after=1559974571&before=1567209600&subreddit=india\n",
            "1000\n",
            "2019-06-10 08:27:23\n",
            "https://api.pushshift.io/reddit/search/submission/?title=&size=1000&after=1560155243&before=1567209600&subreddit=india\n",
            "1000\n",
            "2019-06-12 01:40:49\n",
            "https://api.pushshift.io/reddit/search/submission/?title=&size=1000&after=1560303649&before=1567209600&subreddit=india\n",
            "1000\n",
            "2019-06-13 13:28:11\n",
            "https://api.pushshift.io/reddit/search/submission/?title=&size=1000&after=1560432491&before=1567209600&subreddit=india\n",
            "1000\n",
            "2019-06-15 10:57:08\n",
            "https://api.pushshift.io/reddit/search/submission/?title=&size=1000&after=1560596228&before=1567209600&subreddit=india\n",
            "1000\n",
            "2019-06-17 12:15:37\n",
            "https://api.pushshift.io/reddit/search/submission/?title=&size=1000&after=1560773737&before=1567209600&subreddit=india\n",
            "1000\n",
            "2019-06-19 08:55:50\n",
            "https://api.pushshift.io/reddit/search/submission/?title=&size=1000&after=1560934550&before=1567209600&subreddit=india\n",
            "1000\n",
            "2019-06-21 05:04:39\n",
            "https://api.pushshift.io/reddit/search/submission/?title=&size=1000&after=1561093479&before=1567209600&subreddit=india\n",
            "1000\n",
            "2019-06-23 03:53:34\n",
            "https://api.pushshift.io/reddit/search/submission/?title=&size=1000&after=1561262014&before=1567209600&subreddit=india\n",
            "1000\n",
            "2019-06-24 20:08:07\n",
            "https://api.pushshift.io/reddit/search/submission/?title=&size=1000&after=1561406887&before=1567209600&subreddit=india\n",
            "1000\n",
            "2019-06-26 14:56:58\n",
            "https://api.pushshift.io/reddit/search/submission/?title=&size=1000&after=1561561018&before=1567209600&subreddit=india\n",
            "1000\n",
            "2019-06-28 10:18:14\n",
            "https://api.pushshift.io/reddit/search/submission/?title=&size=1000&after=1561717094&before=1567209600&subreddit=india\n",
            "1000\n",
            "2019-06-30 10:47:09\n",
            "https://api.pushshift.io/reddit/search/submission/?title=&size=1000&after=1561891629&before=1567209600&subreddit=india\n",
            "1000\n",
            "2019-07-02 10:51:41\n",
            "https://api.pushshift.io/reddit/search/submission/?title=&size=1000&after=1562064701&before=1567209600&subreddit=india\n",
            "1000\n",
            "2019-07-04 07:50:44\n",
            "https://api.pushshift.io/reddit/search/submission/?title=&size=1000&after=1562226644&before=1567209600&subreddit=india\n",
            "1000\n",
            "2019-07-06 07:11:58\n",
            "https://api.pushshift.io/reddit/search/submission/?title=&size=1000&after=1562397118&before=1567209600&subreddit=india\n",
            "1000\n",
            "2019-07-08 12:14:52\n",
            "https://api.pushshift.io/reddit/search/submission/?title=&size=1000&after=1562588092&before=1567209600&subreddit=india\n",
            "1000\n",
            "2019-07-10 09:20:35\n",
            "https://api.pushshift.io/reddit/search/submission/?title=&size=1000&after=1562750435&before=1567209600&subreddit=india\n",
            "1000\n",
            "2019-07-12 08:41:20\n",
            "https://api.pushshift.io/reddit/search/submission/?title=&size=1000&after=1562920880&before=1567209600&subreddit=india\n",
            "1000\n",
            "2019-07-14 13:40:13\n",
            "https://api.pushshift.io/reddit/search/submission/?title=&size=1000&after=1563111613&before=1567209600&subreddit=india\n",
            "1000\n",
            "2019-07-16 12:43:50\n",
            "https://api.pushshift.io/reddit/search/submission/?title=&size=1000&after=1563281030&before=1567209600&subreddit=india\n",
            "1000\n",
            "2019-07-18 20:08:41\n",
            "https://api.pushshift.io/reddit/search/submission/?title=&size=1000&after=1563480521&before=1567209600&subreddit=india\n",
            "1000\n",
            "2019-07-21 07:36:00\n",
            "https://api.pushshift.io/reddit/search/submission/?title=&size=1000&after=1563694560&before=1567209600&subreddit=india\n",
            "1000\n",
            "2019-07-23 11:40:44\n",
            "https://api.pushshift.io/reddit/search/submission/?title=&size=1000&after=1563882044&before=1567209600&subreddit=india\n",
            "1000\n",
            "2019-07-25 09:06:22\n",
            "https://api.pushshift.io/reddit/search/submission/?title=&size=1000&after=1564045582&before=1567209600&subreddit=india\n",
            "1000\n",
            "2019-07-27 09:51:09\n",
            "https://api.pushshift.io/reddit/search/submission/?title=&size=1000&after=1564221069&before=1567209600&subreddit=india\n",
            "1000\n",
            "2019-07-29 11:05:38\n",
            "https://api.pushshift.io/reddit/search/submission/?title=&size=1000&after=1564398338&before=1567209600&subreddit=india\n",
            "1000\n",
            "2019-07-31 08:21:50\n",
            "https://api.pushshift.io/reddit/search/submission/?title=&size=1000&after=1564561310&before=1567209600&subreddit=india\n",
            "1000\n",
            "2019-08-02 07:12:00\n",
            "https://api.pushshift.io/reddit/search/submission/?title=&size=1000&after=1564729920&before=1567209600&subreddit=india\n",
            "1000\n",
            "2019-08-04 11:29:25\n",
            "https://api.pushshift.io/reddit/search/submission/?title=&size=1000&after=1564918165&before=1567209600&subreddit=india\n",
            "1000\n",
            "2019-08-06 07:55:18\n",
            "https://api.pushshift.io/reddit/search/submission/?title=&size=1000&after=1565078118&before=1567209600&subreddit=india\n",
            "1000\n",
            "2019-08-08 06:16:09\n",
            "https://api.pushshift.io/reddit/search/submission/?title=&size=1000&after=1565244969&before=1567209600&subreddit=india\n",
            "1000\n",
            "2019-08-10 05:17:19\n",
            "https://api.pushshift.io/reddit/search/submission/?title=&size=1000&after=1565414239&before=1567209600&subreddit=india\n",
            "1000\n",
            "2019-08-12 06:01:47\n",
            "https://api.pushshift.io/reddit/search/submission/?title=&size=1000&after=1565589707&before=1567209600&subreddit=india\n",
            "1000\n",
            "2019-08-14 06:35:19\n",
            "https://api.pushshift.io/reddit/search/submission/?title=&size=1000&after=1565764519&before=1567209600&subreddit=india\n",
            "1000\n",
            "2019-08-16 01:53:22\n",
            "https://api.pushshift.io/reddit/search/submission/?title=&size=1000&after=1565920402&before=1567209600&subreddit=india\n",
            "1000\n",
            "2019-08-18 04:45:06\n",
            "https://api.pushshift.io/reddit/search/submission/?title=&size=1000&after=1566103506&before=1567209600&subreddit=india\n",
            "1000\n",
            "2019-08-20 06:43:56\n",
            "https://api.pushshift.io/reddit/search/submission/?title=&size=1000&after=1566283436&before=1567209600&subreddit=india\n",
            "1000\n",
            "2019-08-22 06:01:43\n",
            "https://api.pushshift.io/reddit/search/submission/?title=&size=1000&after=1566453703&before=1567209600&subreddit=india\n",
            "1000\n",
            "2019-08-24 05:22:04\n",
            "https://api.pushshift.io/reddit/search/submission/?title=&size=1000&after=1566624124&before=1567209600&subreddit=india\n",
            "1000\n",
            "2019-08-26 11:52:48\n",
            "https://api.pushshift.io/reddit/search/submission/?title=&size=1000&after=1566820368&before=1567209600&subreddit=india\n",
            "1000\n",
            "2019-08-28 10:42:41\n",
            "https://api.pushshift.io/reddit/search/submission/?title=&size=1000&after=1566988961&before=1567209600&subreddit=india\n",
            "1000\n",
            "2019-08-30 15:30:09\n",
            "https://api.pushshift.io/reddit/search/submission/?title=&size=1000&after=1567179009&before=1567209600&subreddit=india\n",
            "123\n",
            "2019-08-30 23:49:32\n",
            "https://api.pushshift.io/reddit/search/submission/?title=&size=1000&after=1567208972&before=1567209600&subreddit=india\n",
            "0\n"
          ],
          "name": "stdout"
        }
      ]
    },
    {
      "cell_type": "code",
      "metadata": {
        "id": "B3yEeLFF53Yu",
        "colab_type": "code",
        "outputId": "1a05b923-55ce-408f-f0e4-7766f8dde12e",
        "colab": {
          "base_uri": "https://localhost:8080/",
          "height": 124
        }
      },
      "source": [
        "print(str(len(subStats)) + \" submissions have added to list\")\n",
        "print(\"1st entry is:\")\n",
        "print(list(subStats.values())[0][0][1] + \" created: \" + str(list(subStats.values())[0][0][5]))\n",
        "print(\"Last entry is:\")\n",
        "print(list(subStats.values())[-1][0][1] + \" created: \" + str(list(subStats.values())[-1][0][5]))"
      ],
      "execution_count": 0,
      "outputs": [
        {
          "output_type": "stream",
          "text": [
            "128123 submissions have added to list\n",
            "1st entry is:\n",
            "[P] New Year smiles: What do you say to get Mukesh Ambani’s attention? ‘Sir, Jio chal nahi raha hai’ created: https://scroll.in/article/907250/new-year-smiles-what-do-you-say-to-get-mukesh-ambanis-attention-sir-jio-chal-nahi-raha-hai?utm_source=rss&amp;utm_medium=public\n",
            "Last entry is:\n",
            "A cousin who is worried about \"loved jihad\" just sent me some joke meme about how we can all go marry Kashmiri women now. How do you deal with people like this? created: https://www.reddit.com/r/india/comments/cxovsz/a_cousin_who_is_worried_about_loved_jihad_just/\n"
          ],
          "name": "stdout"
        }
      ]
    },
    {
      "cell_type": "code",
      "metadata": {
        "id": "SOA0MQal6DyU",
        "colab_type": "code",
        "colab": {}
      },
      "source": [
        "def updateSubs_file():\n",
        "    upload_count = 0\n",
        "    \n",
        "    print(\"input filename of submission file, please add .csv\")\n",
        "    filename = input()\n",
        "    file = filename\n",
        "    with open(file, 'w', newline='', encoding='utf-8') as file: \n",
        "        a = csv.writer(file, delimiter=',')\n",
        "        headers = [\"sub_id\", \"sub_text\", \"author\", \"full_link\", \"permalink\", \"url\", \"flair\", \"score\", \"created\", \"numComms\", \"over_18\"]\n",
        "        a.writerow(headers)\n",
        "        for sub in subStats:\n",
        "            a.writerow(subStats[sub][0])\n",
        "            upload_count+=1\n",
        "            \n",
        "        print(str(upload_count) + \" submissions have been uploaded\")"
      ],
      "execution_count": 0,
      "outputs": []
    },
    {
      "cell_type": "code",
      "metadata": {
        "id": "1Fs_EGfW7rtN",
        "colab_type": "code",
        "outputId": "7cf091d6-c73a-4045-cf65-9a54fc1450d0",
        "colab": {
          "base_uri": "https://localhost:8080/",
          "height": 69
        }
      },
      "source": [
        "updateSubs_file()"
      ],
      "execution_count": 0,
      "outputs": [
        {
          "output_type": "stream",
          "text": [
            "input filename of submission file, please add .csv\n",
            "india_subreddit_2019_submissions.csv\n",
            "128123 submissions have been uploaded\n"
          ],
          "name": "stdout"
        }
      ]
    },
    {
      "cell_type": "markdown",
      "metadata": {
        "id": "RE92Ryqu7pn2",
        "colab_type": "text"
      },
      "source": [
        "### 1.1.1 Scrapping the comments"
      ]
    },
    {
      "cell_type": "code",
      "metadata": {
        "id": "cIQMg38W7pM2",
        "colab_type": "code",
        "colab": {}
      },
      "source": [
        "def getPushshiftCommentData(query, after, before):\n",
        "    url = 'https://api.pushshift.io/reddit/search/comment/?q='+str(query)+'&subreddit=india'+'&size=1000&after='+str(after)+'&before='+str(before)\n",
        "    print(url)\n",
        "    r = requests.get(url)\n",
        "    data = json.loads(r.text)\n",
        "    return data['data']"
      ],
      "execution_count": 0,
      "outputs": []
    },
    {
      "cell_type": "code",
      "metadata": {
        "id": "ZuFBSuNv7pHG",
        "colab_type": "code",
        "colab": {}
      },
      "source": [
        "def collectCommentData(comment):\n",
        "  \n",
        "    comData = list() #list to store data points\n",
        "    \n",
        "    com_id = comment['id']\n",
        "    \n",
        "    com_text = comment['body']\n",
        "    \n",
        "    subm = comment['link_id'].split('_')[-1] #reddit.comment(id=com_id).submission\n",
        "    \n",
        "#     subm = comment['submission']\n",
        "    \n",
        "    comData.append((com_id, com_text, subm))\n",
        "    \n",
        "    comStats[com_id] = comData\n",
        "    "
      ],
      "execution_count": 0,
      "outputs": []
    },
    {
      "cell_type": "code",
      "metadata": {
        "id": "CtDoq8qS7pBn",
        "colab_type": "code",
        "colab": {}
      },
      "source": [
        "#Subreddit to query\n",
        "subreddit='india'\n",
        "\n",
        "#before and after dates\n",
        "before = \"1567209600\" # Sat, 31 Aug 2019 00:00:00 \n",
        "after = \"1546300800\"  # Tue, 01 Jan 2019 00:00:00 \n",
        "\n",
        "query = \"\" # title should have either null string more \n",
        "\n",
        "comCount = 0\n",
        "comStats = {}"
      ],
      "execution_count": 0,
      "outputs": []
    },
    {
      "cell_type": "code",
      "metadata": {
        "id": "36t6huPe92rC",
        "colab_type": "code",
        "colab": {}
      },
      "source": [
        "# comData = getPushshiftCommentData(query, after, before)# Will run until all comments have been gathered \n",
        "\n",
        "# # from the 'after' date up until before date\n",
        "# while len(comData) > 0:\n",
        "#     for comment in comData:\n",
        "#         collectCommentData(comment)\n",
        "#         comCount+=1\n",
        "        \n",
        "#     # Calls getPushshiftCommentData() with the created date of the last comment\n",
        "#     print(len(comData))\n",
        "#     print(str(datetime.datetime.fromtimestamp(comData[-1]['created_utc'])))\n",
        "#     after = comData[-1]['created_utc']\n",
        "#     data =getPushshiftCommentData(query, after, before)\n",
        "\n",
        "# print(len(comData))\n"
      ],
      "execution_count": 0,
      "outputs": []
    },
    {
      "cell_type": "markdown",
      "metadata": {
        "id": "sZvJ0KZSROnh",
        "colab_type": "text"
      },
      "source": [
        "## 1.2 Processing the scrapped data"
      ]
    },
    {
      "cell_type": "code",
      "metadata": {
        "id": "lIngs4ga7oVU",
        "colab_type": "code",
        "outputId": "d36facef-19d2-41f1-8d46-bad2dca0beaa",
        "colab": {
          "resources": {
            "http://localhost:8080/nbextensions/google.colab/files.js": {
              "data": "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",
              "ok": true,
              "headers": [
                [
                  "content-type",
                  "application/javascript"
                ]
              ],
              "status": 200,
              "status_text": "OK"
            }
          },
          "base_uri": "https://localhost:8080/",
          "height": 77
        }
      },
      "source": [
        "from google.colab import files\n",
        "uploaded = files.upload()"
      ],
      "execution_count": 0,
      "outputs": [
        {
          "output_type": "display_data",
          "data": {
            "text/html": [
              "\n",
              "     <input type=\"file\" id=\"files-91b3be38-2cb4-483d-90b7-b7e2000c8e9c\" name=\"files[]\" multiple disabled />\n",
              "     <output id=\"result-91b3be38-2cb4-483d-90b7-b7e2000c8e9c\">\n",
              "      Upload widget is only available when the cell has been executed in the\n",
              "      current browser session. Please rerun this cell to enable.\n",
              "      </output>\n",
              "      <script src=\"/nbextensions/google.colab/files.js\"></script> "
            ],
            "text/plain": [
              "<IPython.core.display.HTML object>"
            ]
          },
          "metadata": {
            "tags": []
          }
        },
        {
          "output_type": "stream",
          "text": [
            "Saving india_subreddit_2019_submissions_rectified.csv to india_subreddit_2019_submissions_rectified.csv\n"
          ],
          "name": "stdout"
        }
      ]
    },
    {
      "cell_type": "code",
      "metadata": {
        "id": "9FAaNCFR7t5W",
        "colab_type": "code",
        "colab": {}
      },
      "source": [
        "rectified_df = pd.read_csv('india_subreddit_2019_submissions_rectified.csv')"
      ],
      "execution_count": 0,
      "outputs": []
    },
    {
      "cell_type": "code",
      "metadata": {
        "id": "CgIvVSbY_9my",
        "colab_type": "code",
        "outputId": "fc26c820-654b-484a-e36a-969f22197a4e",
        "colab": {
          "base_uri": "https://localhost:8080/",
          "height": 730
        }
      },
      "source": [
        "rectified_df.tail()"
      ],
      "execution_count": 0,
      "outputs": [
        {
          "output_type": "execute_result",
          "data": {
            "text/html": [
              "<div>\n",
              "<style scoped>\n",
              "    .dataframe tbody tr th:only-of-type {\n",
              "        vertical-align: middle;\n",
              "    }\n",
              "\n",
              "    .dataframe tbody tr th {\n",
              "        vertical-align: top;\n",
              "    }\n",
              "\n",
              "    .dataframe thead th {\n",
              "        text-align: right;\n",
              "    }\n",
              "</style>\n",
              "<table border=\"1\" class=\"dataframe\">\n",
              "  <thead>\n",
              "    <tr style=\"text-align: right;\">\n",
              "      <th></th>\n",
              "      <th>Unnamed: 0</th>\n",
              "      <th>sub_id</th>\n",
              "      <th>sub_text</th>\n",
              "      <th>author</th>\n",
              "      <th>full_link</th>\n",
              "      <th>permalink</th>\n",
              "      <th>url</th>\n",
              "      <th>flair</th>\n",
              "      <th>score</th>\n",
              "      <th>created</th>\n",
              "      <th>numComms</th>\n",
              "      <th>over_18</th>\n",
              "    </tr>\n",
              "  </thead>\n",
              "  <tbody>\n",
              "    <tr>\n",
              "      <th>57554</th>\n",
              "      <td>128115</td>\n",
              "      <td>cxohgh</td>\n",
              "      <td>Garam Hawa - Film (Movie) Plot and Review</td>\n",
              "      <td>choicelesspawn</td>\n",
              "      <td>https://www.reddit.com/r/india/comments/cxohgh...</td>\n",
              "      <td>/r/india/comments/cxohgh/garam_hawa_film_movie...</td>\n",
              "      <td>http://www.filmreference.com/Films-Fr-Go/Garam...</td>\n",
              "      <td>[R]eddiquette</td>\n",
              "      <td>17</td>\n",
              "      <td>2019-08-30 23:14:01</td>\n",
              "      <td>5</td>\n",
              "      <td>False</td>\n",
              "    </tr>\n",
              "    <tr>\n",
              "      <th>57555</th>\n",
              "      <td>128116</td>\n",
              "      <td>cxoom2</td>\n",
              "      <td>Samba Natthu Cheran Pandiyan 1080p HD Video Song</td>\n",
              "      <td>GadgetsHomeUSA</td>\n",
              "      <td>https://www.reddit.com/r/india/comments/cxoom2...</td>\n",
              "      <td>/r/india/comments/cxoom2/samba_natthu_cheran_p...</td>\n",
              "      <td>https://sangeetdunia.com/samba-natthu-cheran-p...</td>\n",
              "      <td>[R]eddiquette</td>\n",
              "      <td>1</td>\n",
              "      <td>2019-08-30 23:31:33</td>\n",
              "      <td>0</td>\n",
              "      <td>False</td>\n",
              "    </tr>\n",
              "    <tr>\n",
              "      <th>57556</th>\n",
              "      <td>128117</td>\n",
              "      <td>cxopqf</td>\n",
              "      <td>\"Growth in free fall, ugly economic data, Modi...</td>\n",
              "      <td>wrtjhragsh</td>\n",
              "      <td>https://www.reddit.com/r/india/comments/cxopqf...</td>\n",
              "      <td>/r/india/comments/cxopqf/growth_in_free_fall_u...</td>\n",
              "      <td>https://youtu.be/RIX5OYR1Yj4</td>\n",
              "      <td>[R]eddiquette</td>\n",
              "      <td>5</td>\n",
              "      <td>2019-08-30 23:34:14</td>\n",
              "      <td>0</td>\n",
              "      <td>False</td>\n",
              "    </tr>\n",
              "    <tr>\n",
              "      <th>57557</th>\n",
              "      <td>128118</td>\n",
              "      <td>cxopqt</td>\n",
              "      <td>Do you perceive your country a good choice for...</td>\n",
              "      <td>DigitalNomadDE</td>\n",
              "      <td>https://www.reddit.com/r/india/comments/cxopqt...</td>\n",
              "      <td>/r/india/comments/cxopqt/do_you_perceive_your_...</td>\n",
              "      <td>https://www.reddit.com/r/india/comments/cxopqt...</td>\n",
              "      <td>AskIndia</td>\n",
              "      <td>15</td>\n",
              "      <td>2019-08-30 23:34:16</td>\n",
              "      <td>9</td>\n",
              "      <td>False</td>\n",
              "    </tr>\n",
              "    <tr>\n",
              "      <th>57558</th>\n",
              "      <td>128119</td>\n",
              "      <td>cxos69</td>\n",
              "      <td>Indian-Origin Man, Trump's Former Partner, Arr...</td>\n",
              "      <td>artichokepantherss</td>\n",
              "      <td>https://www.reddit.com/r/india/comments/cxos69...</td>\n",
              "      <td>/r/india/comments/cxos69/indianorigin_man_trum...</td>\n",
              "      <td>https://www.ndtv.com/indians-abroad/indian-ori...</td>\n",
              "      <td>Non-Political</td>\n",
              "      <td>1</td>\n",
              "      <td>2019-08-30 23:40:23</td>\n",
              "      <td>0</td>\n",
              "      <td>False</td>\n",
              "    </tr>\n",
              "  </tbody>\n",
              "</table>\n",
              "</div>"
            ],
            "text/plain": [
              "       Unnamed: 0  sub_id  ... numComms over_18\n",
              "57554      128115  cxohgh  ...        5   False\n",
              "57555      128116  cxoom2  ...        0   False\n",
              "57556      128117  cxopqf  ...        0   False\n",
              "57557      128118  cxopqt  ...        9   False\n",
              "57558      128119  cxos69  ...        0   False\n",
              "\n",
              "[5 rows x 12 columns]"
            ]
          },
          "metadata": {
            "tags": []
          },
          "execution_count": 7
        }
      ]
    },
    {
      "cell_type": "code",
      "metadata": {
        "id": "hNhX5FHt6OvQ",
        "colab_type": "code",
        "outputId": "dd278518-1e42-487f-9fc0-3c7c0b88b6c0",
        "colab": {
          "base_uri": "https://localhost:8080/",
          "height": 34
        }
      },
      "source": [
        "rectified_df.shape"
      ],
      "execution_count": 0,
      "outputs": [
        {
          "output_type": "execute_result",
          "data": {
            "text/plain": [
              "(57559, 12)"
            ]
          },
          "metadata": {
            "tags": []
          },
          "execution_count": 8
        }
      ]
    },
    {
      "cell_type": "code",
      "metadata": {
        "id": "H0IVzuICA_no",
        "colab_type": "code",
        "colab": {}
      },
      "source": [
        "titles = rectified_df['sub_text']\n",
        "flairs = rectified_df['flair']\n",
        "ids = rectified_df['sub_id']"
      ],
      "execution_count": 0,
      "outputs": []
    },
    {
      "cell_type": "code",
      "metadata": {
        "id": "mL3NGsCaJnOc",
        "colab_type": "code",
        "colab": {}
      },
      "source": [
        "unique_flairs = set(flairs)"
      ],
      "execution_count": 0,
      "outputs": []
    },
    {
      "cell_type": "code",
      "metadata": {
        "id": "F_xxDH59r5b3",
        "colab_type": "code",
        "outputId": "148c2fc4-e228-4ab2-e5cb-0fd2e110f46f",
        "colab": {
          "base_uri": "https://localhost:8080/",
          "height": 34
        }
      },
      "source": [
        "len(unique_flairs)"
      ],
      "execution_count": 0,
      "outputs": [
        {
          "output_type": "execute_result",
          "data": {
            "text/plain": [
              "11"
            ]
          },
          "metadata": {
            "tags": []
          },
          "execution_count": 11
        }
      ]
    },
    {
      "cell_type": "code",
      "metadata": {
        "id": "2Xvi1czdJ71B",
        "colab_type": "code",
        "colab": {}
      },
      "source": [
        "flairs_freq = np.unique(np.array(flairs, dtype=np.dtype('U100')), return_counts=True)"
      ],
      "execution_count": 0,
      "outputs": []
    },
    {
      "cell_type": "code",
      "metadata": {
        "id": "cTvJWRjhKcVm",
        "colab_type": "code",
        "colab": {}
      },
      "source": [
        "flairs_freq_dict = dict()\n",
        "\n",
        "for i in range(len(flairs_freq[0])):\n",
        "  if flairs_freq[1][i] > 700 and flairs_freq[0][i] != 'nan':\n",
        "    flairs_freq_dict[flairs_freq[0][i]] = flairs_freq[1][i]"
      ],
      "execution_count": 0,
      "outputs": []
    },
    {
      "cell_type": "code",
      "metadata": {
        "id": "DoZTwerlLzcE",
        "colab_type": "code",
        "outputId": "08c9c819-d3bb-468c-c4a4-b82a1115300f",
        "colab": {
          "base_uri": "https://localhost:8080/",
          "height": 208
        }
      },
      "source": [
        "flairs_freq_dict"
      ],
      "execution_count": 0,
      "outputs": [
        {
          "output_type": "execute_result",
          "data": {
            "text/plain": [
              "{'AskIndia': 9907,\n",
              " 'Business/Finance': 4776,\n",
              " 'Food': 855,\n",
              " 'Non-Political': 15019,\n",
              " 'Not in English.': 781,\n",
              " 'Photography': 1865,\n",
              " 'Policy/Economy': 2141,\n",
              " 'Politics': 15449,\n",
              " 'Science/Technology': 2830,\n",
              " 'Sports': 1362,\n",
              " '[R]eddiquette': 2574}"
            ]
          },
          "metadata": {
            "tags": []
          },
          "execution_count": 14
        }
      ]
    },
    {
      "cell_type": "code",
      "metadata": {
        "id": "aV2Lug2yL1fw",
        "colab_type": "code",
        "outputId": "0142f87b-4f65-4a28-c1e5-7bc37c40b007",
        "colab": {
          "base_uri": "https://localhost:8080/",
          "height": 34
        }
      },
      "source": [
        "len(flairs_freq_dict)"
      ],
      "execution_count": 0,
      "outputs": [
        {
          "output_type": "execute_result",
          "data": {
            "text/plain": [
              "11"
            ]
          },
          "metadata": {
            "tags": []
          },
          "execution_count": 15
        }
      ]
    },
    {
      "cell_type": "code",
      "metadata": {
        "id": "BMIQZ9XnMRQM",
        "colab_type": "code",
        "outputId": "3e087afb-780e-4431-c96f-7ee6f74c2f45",
        "colab": {
          "base_uri": "https://localhost:8080/",
          "height": 34
        }
      },
      "source": [
        "sum(flairs_freq_dict.values())"
      ],
      "execution_count": 0,
      "outputs": [
        {
          "output_type": "execute_result",
          "data": {
            "text/plain": [
              "57559"
            ]
          },
          "metadata": {
            "tags": []
          },
          "execution_count": 16
        }
      ]
    },
    {
      "cell_type": "code",
      "metadata": {
        "id": "-dyS8R3laoyk",
        "colab_type": "code",
        "colab": {}
      },
      "source": [
        "cols = rectified_df.columns"
      ],
      "execution_count": 0,
      "outputs": []
    },
    {
      "cell_type": "code",
      "metadata": {
        "id": "xu-c3lZFdKNL",
        "colab_type": "code",
        "colab": {}
      },
      "source": [
        "keys_flairs = dict(zip(list(rectified_df.sub_id), list(rectified_df.flair)))"
      ],
      "execution_count": 0,
      "outputs": []
    },
    {
      "cell_type": "code",
      "metadata": {
        "id": "B_HEh66zUiKB",
        "colab_type": "code",
        "colab": {}
      },
      "source": [
        "with open('keys_flairs.pkl', 'wb') as fp:\n",
        "  pickle.dump(keys_flairs, fp)"
      ],
      "execution_count": 0,
      "outputs": []
    },
    {
      "cell_type": "code",
      "metadata": {
        "id": "uMXF1c-SnkuS",
        "colab_type": "code",
        "outputId": "5045ae3d-9d3a-4cb5-994e-adf169c9940c",
        "colab": {
          "base_uri": "https://localhost:8080/",
          "height": 34
        }
      },
      "source": [
        "rectified_df.shape[0]"
      ],
      "execution_count": 0,
      "outputs": [
        {
          "output_type": "execute_result",
          "data": {
            "text/plain": [
              "57559"
            ]
          },
          "metadata": {
            "tags": []
          },
          "execution_count": 20
        }
      ]
    },
    {
      "cell_type": "code",
      "metadata": {
        "id": "PxF0UgZD8cHl",
        "colab_type": "code",
        "outputId": "d68611c3-9d12-4d08-8aa2-64cdb291504d",
        "colab": {
          "base_uri": "https://localhost:8080/",
          "height": 69
        }
      },
      "source": [
        "print(len(titles))\n",
        "print(len(flairs))\n",
        "print(len(ids))"
      ],
      "execution_count": 0,
      "outputs": [
        {
          "output_type": "stream",
          "text": [
            "57559\n",
            "57559\n",
            "57559\n"
          ],
          "name": "stdout"
        }
      ]
    },
    {
      "cell_type": "code",
      "metadata": {
        "id": "Du5EYScM8UI3",
        "colab_type": "code",
        "colab": {}
      },
      "source": [
        "idx_to_flair = dict(zip(list(np.linspace(start=0, stop=10, num=11, dtype=int)), list(flairs_freq_dict.keys())))\n",
        "flair_to_idx = dict([(value, key) for (key, value) in idx_to_flair.items()])"
      ],
      "execution_count": 0,
      "outputs": []
    },
    {
      "cell_type": "code",
      "metadata": {
        "id": "swa9zyfc8UD4",
        "colab_type": "code",
        "outputId": "d2e14cf5-06f9-4519-b087-b3b3bae277a5",
        "colab": {
          "base_uri": "https://localhost:8080/",
          "height": 208
        }
      },
      "source": [
        "idx_to_flair"
      ],
      "execution_count": 0,
      "outputs": [
        {
          "output_type": "execute_result",
          "data": {
            "text/plain": [
              "{0: 'AskIndia',\n",
              " 1: 'Business/Finance',\n",
              " 2: 'Food',\n",
              " 3: 'Non-Political',\n",
              " 4: 'Not in English.',\n",
              " 5: 'Photography',\n",
              " 6: 'Policy/Economy',\n",
              " 7: 'Politics',\n",
              " 8: 'Science/Technology',\n",
              " 9: 'Sports',\n",
              " 10: '[R]eddiquette'}"
            ]
          },
          "metadata": {
            "tags": []
          },
          "execution_count": 23
        }
      ]
    },
    {
      "cell_type": "code",
      "metadata": {
        "id": "MVhCNpdqpE6Q",
        "colab_type": "code",
        "colab": {}
      },
      "source": [
        "with open('idx_to_flair.pkl', 'wb') as fp:\n",
        "  pickle.dump(idx_to_flair, fp)\n",
        "  \n",
        "with open('flair_to_idx.pkl', 'wb') as fp:\n",
        "  pickle.dump(flair_to_idx, fp)"
      ],
      "execution_count": 0,
      "outputs": []
    },
    {
      "cell_type": "code",
      "metadata": {
        "id": "AoKLaLFL8T9w",
        "colab_type": "code",
        "outputId": "411dc914-c320-48cd-80a2-92a0c6d15701",
        "colab": {
          "base_uri": "https://localhost:8080/",
          "height": 34
        }
      },
      "source": [
        "type(titles)"
      ],
      "execution_count": 0,
      "outputs": [
        {
          "output_type": "execute_result",
          "data": {
            "text/plain": [
              "pandas.core.series.Series"
            ]
          },
          "metadata": {
            "tags": []
          },
          "execution_count": 31
        }
      ]
    },
    {
      "cell_type": "code",
      "metadata": {
        "id": "kx6C1T3bg8jB",
        "colab_type": "code",
        "outputId": "79c20939-9c00-41e6-97ac-7968b1cc81b3",
        "colab": {
          "base_uri": "https://localhost:8080/",
          "height": 34
        }
      },
      "source": [
        "titles[12]"
      ],
      "execution_count": 0,
      "outputs": [
        {
          "output_type": "execute_result",
          "data": {
            "text/plain": [
              "'Happy new year FIREWORKS AT TOP10 SKYSCRAPERS OF WORLD'"
            ]
          },
          "metadata": {
            "tags": []
          },
          "execution_count": 32
        }
      ]
    },
    {
      "cell_type": "code",
      "metadata": {
        "id": "CP64qgT5gwTg",
        "colab_type": "code",
        "outputId": "55a6b179-6808-4bfd-cdea-f4b136f155f3",
        "colab": {
          "base_uri": "https://localhost:8080/",
          "height": 208
        }
      },
      "source": [
        "flairs[10:20]"
      ],
      "execution_count": 0,
      "outputs": [
        {
          "output_type": "execute_result",
          "data": {
            "text/plain": [
              "10     Non-Political\n",
              "11    Policy/Economy\n",
              "12       Photography\n",
              "13          AskIndia\n",
              "14          Politics\n",
              "15          Politics\n",
              "16          AskIndia\n",
              "17          AskIndia\n",
              "18            Sports\n",
              "19       Photography\n",
              "Name: flair, dtype: object"
            ]
          },
          "metadata": {
            "tags": []
          },
          "execution_count": 33
        }
      ]
    },
    {
      "cell_type": "markdown",
      "metadata": {
        "id": "uEuoa1KZZ-ZV",
        "colab_type": "text"
      },
      "source": [
        "## 1.3 Text Preprocessing"
      ]
    },
    {
      "cell_type": "code",
      "metadata": {
        "id": "0mlyGwuU8TdU",
        "colab_type": "code",
        "colab": {}
      },
      "source": [
        "import nltk\n",
        "from nltk.tokenize  import word_tokenize\n",
        "from nltk.tokenize import RegexpTokenizer\n",
        "from nltk.corpus import stopwords\n",
        "import re"
      ],
      "execution_count": 0,
      "outputs": []
    },
    {
      "cell_type": "code",
      "metadata": {
        "id": "d-khlkQ48TGt",
        "colab_type": "code",
        "outputId": "c1f57293-2701-4d2c-e60e-e951269e3c28",
        "colab": {
          "base_uri": "https://localhost:8080/",
          "height": 69
        }
      },
      "source": [
        "nltk.download('stopwords')"
      ],
      "execution_count": 0,
      "outputs": [
        {
          "output_type": "stream",
          "text": [
            "[nltk_data] Downloading package stopwords to /root/nltk_data...\n",
            "[nltk_data]   Package stopwords is already up-to-date!\n"
          ],
          "name": "stdout"
        },
        {
          "output_type": "execute_result",
          "data": {
            "text/plain": [
              "True"
            ]
          },
          "metadata": {
            "tags": []
          },
          "execution_count": 26
        }
      ]
    },
    {
      "cell_type": "code",
      "metadata": {
        "id": "nJzXnraT8TBX",
        "colab_type": "code",
        "colab": {}
      },
      "source": [
        "def clean_view(text):\n",
        "    \n",
        "    \n",
        "    stopword = set(stopwords.words('english'))\n",
        "    \n",
        "    text = text.lower()\n",
        "    \n",
        "    tokenizer = RegexpTokenizer('[0-9a-z]+')\n",
        "    \n",
        "\n",
        "    \n",
        "    tokens = tokenizer.tokenize(text)\n",
        "    \n",
        "    new_token = [token for token in tokens if token not in stopword] # stemming and stopword removing\n",
        "    \n",
        "    return ' '.join(tokens)\n",
        "  "
      ],
      "execution_count": 0,
      "outputs": []
    },
    {
      "cell_type": "code",
      "metadata": {
        "id": "K4J1FTnBYDwZ",
        "colab_type": "code",
        "colab": {}
      },
      "source": [
        "clean_sub_text = rectified_df['sub_text'].apply(clean_view)"
      ],
      "execution_count": 0,
      "outputs": []
    },
    {
      "cell_type": "code",
      "metadata": {
        "id": "KrSTMz_gjJ1o",
        "colab_type": "code",
        "outputId": "2b024ad2-4ca9-4053-abd8-0138e3e1ab15",
        "colab": {
          "base_uri": "https://localhost:8080/",
          "height": 34
        }
      },
      "source": [
        "titles[1001]"
      ],
      "execution_count": 0,
      "outputs": [
        {
          "output_type": "execute_result",
          "data": {
            "text/plain": [
              "'AAP, Cong to all for 2019 polls in Delhi: Ex-AAP leader Ashutosh'"
            ]
          },
          "metadata": {
            "tags": []
          },
          "execution_count": 42
        }
      ]
    },
    {
      "cell_type": "code",
      "metadata": {
        "id": "Mg19D9dA8Sq8",
        "colab_type": "code",
        "outputId": "27a9c7b2-d8a8-4751-d381-a9db01fb6551",
        "colab": {
          "base_uri": "https://localhost:8080/",
          "height": 34
        }
      },
      "source": [
        "clean_sub_text[1001]"
      ],
      "execution_count": 0,
      "outputs": [
        {
          "output_type": "execute_result",
          "data": {
            "text/plain": [
              "'aap cong to all for 2019 polls in delhi ex aap leader ashutosh'"
            ]
          },
          "metadata": {
            "tags": []
          },
          "execution_count": 43
        }
      ]
    },
    {
      "cell_type": "markdown",
      "metadata": {
        "id": "_GAM3BxWljTo",
        "colab_type": "text"
      },
      "source": [
        "### 1.4 LSTM Modeling"
      ]
    },
    {
      "cell_type": "code",
      "metadata": {
        "id": "Ew5Ur0cxYpw3",
        "colab_type": "code",
        "outputId": "5b4e27d3-ad1c-4d9f-b588-2404bbc26e32",
        "colab": {
          "base_uri": "https://localhost:8080/",
          "height": 34
        }
      },
      "source": [
        "from keras.preprocessing.text import Tokenizer\n",
        "from keras.preprocessing.sequence import pad_sequences"
      ],
      "execution_count": 1,
      "outputs": [
        {
          "output_type": "stream",
          "text": [
            "Using TensorFlow backend.\n"
          ],
          "name": "stderr"
        }
      ]
    },
    {
      "cell_type": "code",
      "metadata": {
        "id": "efJ_cslXln1t",
        "colab_type": "code",
        "colab": {}
      },
      "source": [
        "# The maximum number of words to be used. (most frequent)\n",
        "MAX_NB_WORDS = 50000\n",
        "# Max number of words in each complaint.\n",
        "MAX_SEQUENCE_LENGTH = 100\n",
        "# This is fixed.\n",
        "EMBEDDING_DIM = 100\n",
        "\n",
        "tokenizer = Tokenizer(num_words=MAX_NB_WORDS, filters='!\"#$%&()*+,-./:;<=>?@[\\]^_`{|}~', lower=True)\n",
        "tokenizer.fit_on_texts(clean_sub_text.values)\n",
        "word_index = tokenizer.word_index\n",
        "print('Found %s unique tokens.' % len(word_index))"
      ],
      "execution_count": 0,
      "outputs": []
    },
    {
      "cell_type": "code",
      "metadata": {
        "id": "GrMzmyIfoJVr",
        "colab_type": "code",
        "colab": {}
      },
      "source": [
        "# unique_words = set()"
      ],
      "execution_count": 0,
      "outputs": []
    },
    {
      "cell_type": "code",
      "metadata": {
        "id": "ol1MV2zMlncm",
        "colab_type": "code",
        "colab": {}
      },
      "source": [
        "for title in clean_sub_text:\n",
        "  unique_words.update(title.split(\" \"))"
      ],
      "execution_count": 0,
      "outputs": []
    },
    {
      "cell_type": "code",
      "metadata": {
        "id": "xeTZXxDFlnUF",
        "colab_type": "code",
        "outputId": "9885b5dc-da74-4b99-b9c2-ba141f220c1f",
        "colab": {
          "base_uri": "https://localhost:8080/",
          "height": 34
        }
      },
      "source": [
        "len(unique_words)"
      ],
      "execution_count": 0,
      "outputs": [
        {
          "output_type": "execute_result",
          "data": {
            "text/plain": [
              "37625"
            ]
          },
          "metadata": {
            "tags": []
          },
          "execution_count": 45
        }
      ]
    },
    {
      "cell_type": "code",
      "metadata": {
        "id": "qPVdmpTClnLo",
        "colab_type": "code",
        "colab": {}
      },
      "source": [
        "# almost same"
      ],
      "execution_count": 0,
      "outputs": []
    },
    {
      "cell_type": "code",
      "metadata": {
        "id": "whuMfeHglnAU",
        "colab_type": "code",
        "colab": {}
      },
      "source": [
        "# Truncate and pad the input sequences so that they are all in the same length for modeling."
      ],
      "execution_count": 0,
      "outputs": []
    },
    {
      "cell_type": "code",
      "metadata": {
        "id": "vM1x440ZtWGf",
        "colab_type": "code",
        "colab": {}
      },
      "source": [
        "tokenizer2 = Tokenizer()"
      ],
      "execution_count": 0,
      "outputs": []
    },
    {
      "cell_type": "code",
      "metadata": {
        "id": "FXNbw9dgt4xX",
        "colab_type": "code",
        "colab": {}
      },
      "source": [
        "tokenizer2.word_counts = tokenizer.word_counts\n",
        "tokenizer2.word_docs = tokenizer.word_docs\n",
        "tokenizer2.word_index = tokenizer.word_index"
      ],
      "execution_count": 0,
      "outputs": []
    },
    {
      "cell_type": "code",
      "metadata": {
        "id": "UWpBLtYsuxxp",
        "colab_type": "code",
        "colab": {}
      },
      "source": [
        "with open('word_counts.pkl', 'wb') as fp:\n",
        "  pickle.dump(tokenizer.word_counts, fp)\n"
      ],
      "execution_count": 0,
      "outputs": []
    },
    {
      "cell_type": "code",
      "metadata": {
        "id": "Vi7YooeSIBNX",
        "colab_type": "code",
        "colab": {}
      },
      "source": [
        "with open('word_docs.pkl', 'wb') as fp:\n",
        "  pickle.dump(tokenizer.word_docs, fp)\n"
      ],
      "execution_count": 0,
      "outputs": []
    },
    {
      "cell_type": "code",
      "metadata": {
        "id": "clCB7StkIAga",
        "colab_type": "code",
        "colab": {}
      },
      "source": [
        "with open('word_index.pkl', 'wb') as fp:\n",
        "  pickle.dump(tokenizer.word_index, fp)"
      ],
      "execution_count": 0,
      "outputs": []
    },
    {
      "cell_type": "code",
      "metadata": {
        "id": "4L7r51dQvJPO",
        "colab_type": "code",
        "colab": {}
      },
      "source": [
        "with open('word_counts.pkl', 'rb') as fp:\n",
        "  word_counts = pickle.load(fp)\n",
        "with open('word_docs.pkl', 'rb') as fp:\n",
        "  word_docs = pickle.load(fp)\n",
        "with open('word_index.pkl', 'rb') as fp:\n",
        "  word_index = pickle.load(fp)"
      ],
      "execution_count": 0,
      "outputs": []
    },
    {
      "cell_type": "code",
      "metadata": {
        "id": "lUpclbH6wHEz",
        "colab_type": "code",
        "colab": {}
      },
      "source": [
        "tokenizer3 = Tokenizer()"
      ],
      "execution_count": 0,
      "outputs": []
    },
    {
      "cell_type": "code",
      "metadata": {
        "id": "KThbxRniwEWY",
        "colab_type": "code",
        "colab": {}
      },
      "source": [
        "tokenizer3.word_counts = word_counts\n",
        "tokenizer3.word_docs = word_docs\n",
        "tokenizer3.word_index = word_index"
      ],
      "execution_count": 0,
      "outputs": []
    },
    {
      "cell_type": "code",
      "metadata": {
        "id": "SdRsIeNVuGdw",
        "colab_type": "code",
        "colab": {}
      },
      "source": [
        "a = tokenizer2.texts_to_sequences(clean_sub_text.values[0])\n",
        "b = tokenizer.texts_to_sequences(clean_sub_text.values[0])\n",
        "c = tokenizer3.texts_to_sequences(clean_sub_text.values[0])"
      ],
      "execution_count": 0,
      "outputs": []
    },
    {
      "cell_type": "code",
      "metadata": {
        "id": "7RNN6m6f1hHH",
        "colab_type": "code",
        "colab": {}
      },
      "source": [
        "import re"
      ],
      "execution_count": 0,
      "outputs": []
    },
    {
      "cell_type": "code",
      "metadata": {
        "id": "-dYcc35H1iOM",
        "colab_type": "code",
        "colab": {}
      },
      "source": [
        "REPLACE_BY_SPACE_RE = re.compile('[/(){}\\[\\]\\|@,;]')\n",
        "BAD_SYMBOLS_RE = re.compile('[^0-9a-z #+_]')"
      ],
      "execution_count": 0,
      "outputs": []
    },
    {
      "cell_type": "code",
      "metadata": {
        "id": "q59NcrKzc-I8",
        "colab_type": "code",
        "colab": {}
      },
      "source": [
        "stopwords = [ 'ourselves', 'hers', 'between', 'yourself', 'but', 'again', \n",
        "'there', 'about', 'once', 'during', 'out', 'very', 'having', \n",
        "'with', 'they', 'own', 'an', 'be', 'some', 'for', 'do', 'its',\n",
        "'yours', 'such', 'into', 'of', 'most', 'itself', 'other', 'off',\n",
        "'is', 's', 'am', 'or', 'who', 'as', 'from', 'him', 'each', 'the',\n",
        "'themselves', 'until', 'below', 'are', 'we', 'these', 'your', 'his',\n",
        "'through', 'don', 'nor', 'me', 'were', 'her', 'more', 'himself', 'this',\n",
        "'down', 'should', 'our', 'their', 'while', 'above', 'both', 'up', 'to',\n",
        "'ours', 'had', 'she', 'all', 'no', 'when', 'at', 'any', 'before', 'them',\n",
        "'same', 'and', 'been', 'have', 'in', 'will', 'on', 'does', 'yourselves',\n",
        "'then', 'that', 'because', 'what', 'over', 'why', 'so', 'can', 'did', 'not', \n",
        "'now', 'under', 'he', 'you', 'herself', 'has', 'just', 'where', 'too', 'only', \n",
        "'myself', 'which', 'those', 'i', 'after', 'few', 'whom', 't', 'being', 'if', \n",
        "'theirs', 'my', 'against', 'a', 'by', 'doing', 'it', 'how', 'further', 'was', \n",
        "'here', 'than']"
      ],
      "execution_count": 0,
      "outputs": []
    },
    {
      "cell_type": "code",
      "metadata": {
        "id": "N9Mb79yv1JI-",
        "colab_type": "code",
        "colab": {}
      },
      "source": [
        "def text_preprocessing(text):\n",
        "    \n",
        "    \n",
        "#     stopword = set(stopwords.words('english'))\n",
        "\n",
        "    text = text.lower()\n",
        "\n",
        "    text = REPLACE_BY_SPACE_RE.sub(' ', text) # replace REPLACE_BY_SPACE_RE symbols by space in text. substitute the matched string in REPLACE_BY_SPACE_RE with space.\n",
        "    text = BAD_SYMBOLS_RE.sub('', text) # remove symbols which are in BAD_SYMBOLS_RE from text. substitute the matched string in BAD_SYMBOLS_RE with nothing.\n",
        "\n",
        "\n",
        "    \n",
        "\n",
        "    tokens = [token for token in text.split() if token not in stopwords] # stemming and stopword removing\n",
        "\n",
        "    return \" \".join(tokens)"
      ],
      "execution_count": 0,
      "outputs": []
    },
    {
      "cell_type": "code",
      "metadata": {
        "id": "cNVFEnXc1I7U",
        "colab_type": "code",
        "colab": {}
      },
      "source": [
        "text = 'I am a victim of identity theft and someone stole my identity and personal information to open up a Visa credit card account with Bank of America. The following Bank of America Visa credit card account do not belong to me : XXXX.'"
      ],
      "execution_count": 0,
      "outputs": []
    },
    {
      "cell_type": "code",
      "metadata": {
        "id": "rX-cn8Yx79gB",
        "colab_type": "code",
        "outputId": "19377cbf-e631-4488-a93c-3d5b4f4a23a2",
        "colab": {
          "base_uri": "https://localhost:8080/",
          "height": 34
        }
      },
      "source": [
        "len(text)"
      ],
      "execution_count": 0,
      "outputs": [
        {
          "output_type": "execute_result",
          "data": {
            "text/plain": [
              "229"
            ]
          },
          "metadata": {
            "tags": []
          },
          "execution_count": 60
        }
      ]
    },
    {
      "cell_type": "code",
      "metadata": {
        "id": "PVH5Xtj71kSh",
        "colab_type": "code",
        "colab": {}
      },
      "source": [
        "processed_text = text_preprocessing(text)"
      ],
      "execution_count": 0,
      "outputs": []
    },
    {
      "cell_type": "code",
      "metadata": {
        "id": "GvgTGOow1suC",
        "colab_type": "code",
        "outputId": "17bd3322-0c0a-4f29-80c8-6c6879d82ba1",
        "colab": {
          "base_uri": "https://localhost:8080/",
          "height": 54
        }
      },
      "source": [
        "processed_text"
      ],
      "execution_count": 0,
      "outputs": [
        {
          "output_type": "execute_result",
          "data": {
            "text/plain": [
              "'victim identity theft someone stole identity personal information open visa credit card account bank america following bank america visa credit card account belong xxxx'"
            ]
          },
          "metadata": {
            "tags": []
          },
          "execution_count": 62
        }
      ]
    },
    {
      "cell_type": "code",
      "metadata": {
        "id": "AK7DXeuBdR5y",
        "colab_type": "code",
        "colab": {}
      },
      "source": [
        "clean_sub_text = rectified_df['sub_text'].apply(text_preprocessing)"
      ],
      "execution_count": 0,
      "outputs": []
    },
    {
      "cell_type": "code",
      "metadata": {
        "id": "VeoTUfH3tV6K",
        "colab_type": "code",
        "outputId": "b0a4693d-d8f1-4b45-8264-1cb205bc0400",
        "colab": {
          "base_uri": "https://localhost:8080/",
          "height": 34
        }
      },
      "source": [
        "type(clean_sub_text)"
      ],
      "execution_count": 0,
      "outputs": [
        {
          "output_type": "execute_result",
          "data": {
            "text/plain": [
              "pandas.core.series.Series"
            ]
          },
          "metadata": {
            "tags": []
          },
          "execution_count": 64
        }
      ]
    },
    {
      "cell_type": "code",
      "metadata": {
        "id": "megDNdT5tP6G",
        "colab_type": "code",
        "colab": {}
      },
      "source": [
        "x = tokenizer.texts_to_sequences(processed_text)"
      ],
      "execution_count": 0,
      "outputs": []
    },
    {
      "cell_type": "code",
      "metadata": {
        "id": "g7TN6IpD7tV6",
        "colab_type": "code",
        "colab": {}
      },
      "source": [
        "x = pad_sequences(x, maxlen=MAX_SEQUENCE_LENGTH)"
      ],
      "execution_count": 0,
      "outputs": []
    },
    {
      "cell_type": "code",
      "metadata": {
        "id": "hKu-Ipee7y05",
        "colab_type": "code",
        "outputId": "81b1788a-8518-41fe-c36e-04cef4ec4f2f",
        "colab": {
          "base_uri": "https://localhost:8080/",
          "height": 34
        }
      },
      "source": [
        "x.shape"
      ],
      "execution_count": 0,
      "outputs": [
        {
          "output_type": "execute_result",
          "data": {
            "text/plain": [
              "(226, 100)"
            ]
          },
          "metadata": {
            "tags": []
          },
          "execution_count": 141
        }
      ]
    },
    {
      "cell_type": "code",
      "metadata": {
        "id": "NfY7wk4glmxO",
        "colab_type": "code",
        "outputId": "c6d1a229-86ff-4af5-c122-69841cfacf16",
        "colab": {
          "base_uri": "https://localhost:8080/",
          "height": 34
        }
      },
      "source": [
        "X = tokenizer.texts_to_sequences(clean_sub_text.values)\n",
        "X = pad_sequences(X, maxlen=MAX_SEQUENCE_LENGTH)\n",
        "print('Shape of data tensor:', X.shape)"
      ],
      "execution_count": 0,
      "outputs": [
        {
          "output_type": "stream",
          "text": [
            "Shape of data tensor: (57559, 100)\n"
          ],
          "name": "stdout"
        }
      ]
    },
    {
      "cell_type": "code",
      "metadata": {
        "id": "-JoDE8eR8EsV",
        "colab_type": "code",
        "outputId": "901696b6-6d13-41e6-c3f5-8fd812f97b0c",
        "colab": {
          "base_uri": "https://localhost:8080/",
          "height": 34
        }
      },
      "source": [
        "X[0].shape"
      ],
      "execution_count": 0,
      "outputs": [
        {
          "output_type": "execute_result",
          "data": {
            "text/plain": [
              "(100,)"
            ]
          },
          "metadata": {
            "tags": []
          },
          "execution_count": 215
        }
      ]
    },
    {
      "cell_type": "code",
      "metadata": {
        "id": "pIPVsxveZsve",
        "colab_type": "code",
        "outputId": "17ec617e-ec0c-4d85-a628-666924410054",
        "colab": {
          "base_uri": "https://localhost:8080/",
          "height": 34
        }
      },
      "source": [
        "type(flairs)"
      ],
      "execution_count": 0,
      "outputs": [
        {
          "output_type": "execute_result",
          "data": {
            "text/plain": [
              "pandas.core.series.Series"
            ]
          },
          "metadata": {
            "tags": []
          },
          "execution_count": 216
        }
      ]
    },
    {
      "cell_type": "code",
      "metadata": {
        "id": "V_QIVIgIZWI9",
        "colab_type": "code",
        "outputId": "25494e86-cbdd-4679-89f2-a6a48a59324c",
        "colab": {
          "base_uri": "https://localhost:8080/",
          "height": 34
        }
      },
      "source": [
        "# Converting categorical labels to numbers.\n",
        "Y = pd.get_dummies(flairs).values\n",
        "print('Shape of label tensor:', Y.shape)"
      ],
      "execution_count": 0,
      "outputs": [
        {
          "output_type": "stream",
          "text": [
            "Shape of label tensor: (57559, 11)\n"
          ],
          "name": "stdout"
        }
      ]
    },
    {
      "cell_type": "code",
      "metadata": {
        "id": "uAHnsa8zZ4mY",
        "colab_type": "code",
        "colab": {}
      },
      "source": [
        "# train-text split\n",
        "from sklearn.model_selection import train_test_split"
      ],
      "execution_count": 0,
      "outputs": []
    },
    {
      "cell_type": "code",
      "metadata": {
        "id": "yJeMSn_-ZV_h",
        "colab_type": "code",
        "outputId": "632931e0-8c64-46b9-ae38-94b12004b9d4",
        "colab": {
          "base_uri": "https://localhost:8080/",
          "height": 51
        }
      },
      "source": [
        "x_train, x_test, y_train, y_test = train_test_split(X,Y, test_size = 0.10, random_state = 42)\n",
        "print(x_train.shape, y_train.shape)\n",
        "print(x_test.shape, y_test.shape)"
      ],
      "execution_count": 0,
      "outputs": [
        {
          "output_type": "stream",
          "text": [
            "(51803, 100) (51803, 11)\n",
            "(5756, 100) (5756, 11)\n"
          ],
          "name": "stdout"
        }
      ]
    },
    {
      "cell_type": "markdown",
      "metadata": {
        "id": "OvB0FEY7aMDA",
        "colab_type": "text"
      },
      "source": [
        "### 1.4.1   LSTM Architecture\n",
        "- The first layer is the embedded layer that uses 100 length vectors to represent each word.\n",
        "- SpatialDropout1D performs variational dropout in NLP models.\n",
        "- The next layer is the LSTM layer with 100 memory units.\n",
        "- The output layer must create 12 output values, one for each class.\n",
        "- Activation function is softmax for multi-class classification.\n",
        "- Because it is a multi-class classification problem, categorical_crossentropy is used as the loss function."
      ]
    },
    {
      "cell_type": "code",
      "metadata": {
        "id": "4oqV1IDYZV7R",
        "colab_type": "code",
        "colab": {}
      },
      "source": [
        "from keras.models import Sequential\n",
        "from keras.layers import Dense, Embedding, LSTM, SpatialDropout1D\n",
        "from keras.utils.np_utils import to_categorical\n",
        "from keras.callbacks import EarlyStopping\n",
        "from keras.callbacks import ModelCheckpoint\n",
        "from keras.layers import *\n",
        "from keras.optimizers import *"
      ],
      "execution_count": 0,
      "outputs": []
    },
    {
      "cell_type": "code",
      "metadata": {
        "id": "QACVfTZ9a-CJ",
        "colab_type": "code",
        "colab": {}
      },
      "source": [
        "epochs = 20\n",
        "batch_size = 64"
      ],
      "execution_count": 0,
      "outputs": []
    },
    {
      "cell_type": "code",
      "metadata": {
        "id": "2Ptn3D2_bEAy",
        "colab_type": "code",
        "colab": {}
      },
      "source": [
        "es =  EarlyStopping(monitor='val_acc', min_delta = 0.5, patience = 5)\n",
        "mcp = ModelCheckpoint('reddit_flair_detector.h5', monitor='val_loss', verbose=0, save_best_only=True, save_weights_only=False, mode='auto', period = 1)"
      ],
      "execution_count": 0,
      "outputs": []
    },
    {
      "cell_type": "code",
      "metadata": {
        "id": "U8Kqx76kZV16",
        "colab_type": "code",
        "colab": {}
      },
      "source": [
        "model = Sequential()\n",
        "model.add(Embedding(MAX_NB_WORDS, EMBEDDING_DIM, input_length=X.shape[1]))\n",
        "#model.add(SpatialDropout1D(0.2))\n",
        "model.add(LSTM(64))\n",
        "model.add(Dense(11, activation='softmax'))\n"
      ],
      "execution_count": 0,
      "outputs": []
    },
    {
      "cell_type": "code",
      "metadata": {
        "id": "F3W3A0ZiZVxd",
        "colab_type": "code",
        "outputId": "d0afe637-e70a-47aa-9274-056da7b40838",
        "colab": {
          "base_uri": "https://localhost:8080/",
          "height": 255
        }
      },
      "source": [
        "model.summary()"
      ],
      "execution_count": 0,
      "outputs": [
        {
          "output_type": "stream",
          "text": [
            "Model: \"sequential_3\"\n",
            "_________________________________________________________________\n",
            "Layer (type)                 Output Shape              Param #   \n",
            "=================================================================\n",
            "embedding_2 (Embedding)      (None, 100, 100)          5000000   \n",
            "_________________________________________________________________\n",
            "lstm_2 (LSTM)                (None, 64)                42240     \n",
            "_________________________________________________________________\n",
            "dense_2 (Dense)              (None, 11)                715       \n",
            "=================================================================\n",
            "Total params: 5,042,955\n",
            "Trainable params: 5,042,955\n",
            "Non-trainable params: 0\n",
            "_________________________________________________________________\n"
          ],
          "name": "stdout"
        }
      ]
    },
    {
      "cell_type": "code",
      "metadata": {
        "id": "nYouLBzugiT5",
        "colab_type": "code",
        "colab": {}
      },
      "source": [
        "# !pip install keras_radam\n",
        "import keras_radam"
      ],
      "execution_count": 0,
      "outputs": []
    },
    {
      "cell_type": "code",
      "metadata": {
        "id": "nv_XWUUbgr5o",
        "colab_type": "code",
        "colab": {}
      },
      "source": [
        "radam = keras_radam.RAdam()"
      ],
      "execution_count": 0,
      "outputs": []
    },
    {
      "cell_type": "code",
      "metadata": {
        "id": "WhHQo66LgeAn",
        "colab_type": "code",
        "colab": {}
      },
      "source": [
        "model.compile(loss='categorical_crossentropy', optimizer='adam', metrics=['accuracy'])\n"
      ],
      "execution_count": 0,
      "outputs": []
    },
    {
      "cell_type": "code",
      "metadata": {
        "id": "tDO6DMcLZVq4",
        "colab_type": "code",
        "outputId": "9d4af7f3-6a81-44e8-bdda-9785a54f62e4",
        "colab": {
          "base_uri": "https://localhost:8080/",
          "height": 263
        }
      },
      "source": [
        "history = model.fit(x_train, y_train, epochs=epochs, batch_size=batch_size,validation_split=0.1,callbacks=[es, mcp])"
      ],
      "execution_count": 0,
      "outputs": [
        {
          "output_type": "stream",
          "text": [
            "Train on 46622 samples, validate on 5181 samples\n",
            "Epoch 1/20\n",
            "46622/46622 [==============================] - 144s 3ms/step - loss: 1.4226 - acc: 0.5283 - val_loss: 1.2020 - val_acc: 0.6051\n",
            "Epoch 2/20\n",
            "46622/46622 [==============================] - 143s 3ms/step - loss: 0.9284 - acc: 0.6955 - val_loss: 1.2011 - val_acc: 0.6122\n",
            "Epoch 3/20\n",
            "46622/46622 [==============================] - 142s 3ms/step - loss: 0.6504 - acc: 0.7887 - val_loss: 1.3316 - val_acc: 0.5918\n",
            "Epoch 4/20\n",
            "46622/46622 [==============================] - 143s 3ms/step - loss: 0.4680 - acc: 0.8473 - val_loss: 1.5053 - val_acc: 0.5736\n",
            "Epoch 5/20\n",
            "46622/46622 [==============================] - 141s 3ms/step - loss: 0.3515 - acc: 0.8849 - val_loss: 1.7147 - val_acc: 0.5713\n",
            "Epoch 6/20\n",
            "46622/46622 [==============================] - 144s 3ms/step - loss: 0.2729 - acc: 0.9113 - val_loss: 1.9034 - val_acc: 0.5648\n"
          ],
          "name": "stdout"
        }
      ]
    },
    {
      "cell_type": "code",
      "metadata": {
        "id": "iFUJPUc8ZVlt",
        "colab_type": "code",
        "outputId": "82f63703-767e-4d67-9bca-a35462a45c43",
        "colab": {
          "resources": {
            "http://localhost:8080/nbextensions/google.colab/files.js": {
              "data": "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",
              "ok": true,
              "headers": [
                [
                  "content-type",
                  "application/javascript"
                ]
              ],
              "status": 200,
              "status_text": "OK"
            }
          },
          "base_uri": "https://localhost:8080/",
          "height": 77
        }
      },
      "source": [
        "from google.colab import files\n",
        "uploaded = files.upload()"
      ],
      "execution_count": 0,
      "outputs": [
        {
          "output_type": "display_data",
          "data": {
            "text/html": [
              "\n",
              "     <input type=\"file\" id=\"files-4d217373-c4d8-4cdf-8fe8-a48b9879a80a\" name=\"files[]\" multiple disabled />\n",
              "     <output id=\"result-4d217373-c4d8-4cdf-8fe8-a48b9879a80a\">\n",
              "      Upload widget is only available when the cell has been executed in the\n",
              "      current browser session. Please rerun this cell to enable.\n",
              "      </output>\n",
              "      <script src=\"/nbextensions/google.colab/files.js\"></script> "
            ],
            "text/plain": [
              "<IPython.core.display.HTML object>"
            ]
          },
          "metadata": {
            "tags": []
          }
        },
        {
          "output_type": "stream",
          "text": [
            "Saving reddit_flair_detector(1).h5 to reddit_flair_detector(1).h5\n"
          ],
          "name": "stdout"
        }
      ]
    },
    {
      "cell_type": "code",
      "metadata": {
        "id": "FOp5m8YLZVeD",
        "colab_type": "code",
        "colab": {}
      },
      "source": [
        "model.load_weights('reddit_flair_detector(1).h5')"
      ],
      "execution_count": 0,
      "outputs": []
    },
    {
      "cell_type": "code",
      "metadata": {
        "id": "oU-I7mqxZVSA",
        "colab_type": "code",
        "outputId": "1e011c59-9a94-493a-f867-3db8e9855f3f",
        "colab": {
          "base_uri": "https://localhost:8080/",
          "height": 51
        }
      },
      "source": [
        "model.evaluate(x_train, y_train)"
      ],
      "execution_count": 0,
      "outputs": [
        {
          "output_type": "stream",
          "text": [
            "51803/51803 [==============================] - 112s 2ms/step\n"
          ],
          "name": "stdout"
        },
        {
          "output_type": "execute_result",
          "data": {
            "text/plain": [
              "[0.6978255155714608, 0.7851282744346165]"
            ]
          },
          "metadata": {
            "tags": []
          },
          "execution_count": 225
        }
      ]
    },
    {
      "cell_type": "code",
      "metadata": {
        "id": "dB4JPS1neNy2",
        "colab_type": "code",
        "outputId": "22e6999f-5ddc-4668-a7b4-c08906dbc9ad",
        "colab": {
          "base_uri": "https://localhost:8080/",
          "height": 51
        }
      },
      "source": [
        "model.evaluate(x_test, y_test)"
      ],
      "execution_count": 0,
      "outputs": [
        {
          "output_type": "stream",
          "text": [
            "5756/5756 [==============================] - 12s 2ms/step\n"
          ],
          "name": "stdout"
        },
        {
          "output_type": "execute_result",
          "data": {
            "text/plain": [
              "[1.2173395002774683, 0.608756080528694]"
            ]
          },
          "metadata": {
            "tags": []
          },
          "execution_count": 226
        }
      ]
    },
    {
      "cell_type": "code",
      "metadata": {
        "id": "1m6PMZYd9T7e",
        "colab_type": "code",
        "outputId": "98c62a83-a909-42df-8411-aa05ca36e96b",
        "colab": {
          "base_uri": "https://localhost:8080/",
          "height": 187
        }
      },
      "source": [
        "x_test[0]"
      ],
      "execution_count": 0,
      "outputs": [
        {
          "output_type": "execute_result",
          "data": {
            "text/plain": [
              "array([   0,    0,    0,    0,    0,    0,    0,    0,    0,    0,    0,\n",
              "          0,    0,    0,    0,    0,    0,    0,    0,    0,    0,    0,\n",
              "          0,    0,    0,    0,    0,    0,    0,    0,    0,    0,    0,\n",
              "          0,    0,    0,    0,    0,    0,    0,    0,    0,    0,    0,\n",
              "          0,    0,    0,    0,    0,    0,    0,    0,    0,    0,    0,\n",
              "          0,    0,    0,    0,    0,    0,    0,    0,    0,    0,    0,\n",
              "          0,    0,    0,    0,    0,    0,    0,    0,    0,    0,    0,\n",
              "          0,    0,    0,    0,    0,    0,    0,    0,    0,    0,    0,\n",
              "          0,    0,    0,    0,    0,    0,    0,    0,  234,  783,   41,\n",
              "       2689], dtype=int32)"
            ]
          },
          "metadata": {
            "tags": []
          },
          "execution_count": 152
        }
      ]
    },
    {
      "cell_type": "code",
      "metadata": {
        "id": "B08lHBXtZVCD",
        "colab_type": "code",
        "outputId": "15ccd2e7-64cb-4025-9639-b4248a6ad8f1",
        "colab": {
          "base_uri": "https://localhost:8080/",
          "height": 326
        }
      },
      "source": [
        "model.predict(x_train[0])"
      ],
      "execution_count": 0,
      "outputs": [
        {
          "output_type": "error",
          "ename": "ValueError",
          "evalue": "ignored",
          "traceback": [
            "\u001b[0;31m---------------------------------------------------------------------------\u001b[0m",
            "\u001b[0;31mValueError\u001b[0m                                Traceback (most recent call last)",
            "\u001b[0;32m<ipython-input-151-6551796d9b48>\u001b[0m in \u001b[0;36m<module>\u001b[0;34m()\u001b[0m\n\u001b[0;32m----> 1\u001b[0;31m \u001b[0mmodel\u001b[0m\u001b[0;34m.\u001b[0m\u001b[0mpredict\u001b[0m\u001b[0;34m(\u001b[0m\u001b[0mx_train\u001b[0m\u001b[0;34m[\u001b[0m\u001b[0;36m0\u001b[0m\u001b[0;34m]\u001b[0m\u001b[0;34m)\u001b[0m\u001b[0;34m\u001b[0m\u001b[0;34m\u001b[0m\u001b[0m\n\u001b[0m",
            "\u001b[0;32m/usr/local/lib/python3.6/dist-packages/keras/engine/training.py\u001b[0m in \u001b[0;36mpredict\u001b[0;34m(self, x, batch_size, verbose, steps, callbacks, max_queue_size, workers, use_multiprocessing)\u001b[0m\n\u001b[1;32m   1378\u001b[0m \u001b[0;34m\u001b[0m\u001b[0m\n\u001b[1;32m   1379\u001b[0m         \u001b[0;31m# Case 2: Symbolic tensors or Numpy array-like.\u001b[0m\u001b[0;34m\u001b[0m\u001b[0;34m\u001b[0m\u001b[0;34m\u001b[0m\u001b[0m\n\u001b[0;32m-> 1380\u001b[0;31m         \u001b[0mx\u001b[0m\u001b[0;34m,\u001b[0m \u001b[0m_\u001b[0m\u001b[0;34m,\u001b[0m \u001b[0m_\u001b[0m \u001b[0;34m=\u001b[0m \u001b[0mself\u001b[0m\u001b[0;34m.\u001b[0m\u001b[0m_standardize_user_data\u001b[0m\u001b[0;34m(\u001b[0m\u001b[0mx\u001b[0m\u001b[0;34m)\u001b[0m\u001b[0;34m\u001b[0m\u001b[0;34m\u001b[0m\u001b[0m\n\u001b[0m\u001b[1;32m   1381\u001b[0m         \u001b[0;32mif\u001b[0m \u001b[0mself\u001b[0m\u001b[0;34m.\u001b[0m\u001b[0mstateful\u001b[0m\u001b[0;34m:\u001b[0m\u001b[0;34m\u001b[0m\u001b[0;34m\u001b[0m\u001b[0m\n\u001b[1;32m   1382\u001b[0m             \u001b[0;32mif\u001b[0m \u001b[0mx\u001b[0m\u001b[0;34m[\u001b[0m\u001b[0;36m0\u001b[0m\u001b[0;34m]\u001b[0m\u001b[0;34m.\u001b[0m\u001b[0mshape\u001b[0m\u001b[0;34m[\u001b[0m\u001b[0;36m0\u001b[0m\u001b[0;34m]\u001b[0m \u001b[0;34m>\u001b[0m \u001b[0mbatch_size\u001b[0m \u001b[0;32mand\u001b[0m \u001b[0mx\u001b[0m\u001b[0;34m[\u001b[0m\u001b[0;36m0\u001b[0m\u001b[0;34m]\u001b[0m\u001b[0;34m.\u001b[0m\u001b[0mshape\u001b[0m\u001b[0;34m[\u001b[0m\u001b[0;36m0\u001b[0m\u001b[0;34m]\u001b[0m \u001b[0;34m%\u001b[0m \u001b[0mbatch_size\u001b[0m \u001b[0;34m!=\u001b[0m \u001b[0;36m0\u001b[0m\u001b[0;34m:\u001b[0m\u001b[0;34m\u001b[0m\u001b[0;34m\u001b[0m\u001b[0m\n",
            "\u001b[0;32m/usr/local/lib/python3.6/dist-packages/keras/engine/training.py\u001b[0m in \u001b[0;36m_standardize_user_data\u001b[0;34m(self, x, y, sample_weight, class_weight, check_array_lengths, batch_size)\u001b[0m\n\u001b[1;32m    755\u001b[0m             \u001b[0mfeed_input_shapes\u001b[0m\u001b[0;34m,\u001b[0m\u001b[0;34m\u001b[0m\u001b[0;34m\u001b[0m\u001b[0m\n\u001b[1;32m    756\u001b[0m             \u001b[0mcheck_batch_axis\u001b[0m\u001b[0;34m=\u001b[0m\u001b[0;32mFalse\u001b[0m\u001b[0;34m,\u001b[0m  \u001b[0;31m# Don't enforce the batch size.\u001b[0m\u001b[0;34m\u001b[0m\u001b[0;34m\u001b[0m\u001b[0m\n\u001b[0;32m--> 757\u001b[0;31m             exception_prefix='input')\n\u001b[0m\u001b[1;32m    758\u001b[0m \u001b[0;34m\u001b[0m\u001b[0m\n\u001b[1;32m    759\u001b[0m         \u001b[0;32mif\u001b[0m \u001b[0my\u001b[0m \u001b[0;32mis\u001b[0m \u001b[0;32mnot\u001b[0m \u001b[0;32mNone\u001b[0m\u001b[0;34m:\u001b[0m\u001b[0;34m\u001b[0m\u001b[0;34m\u001b[0m\u001b[0m\n",
            "\u001b[0;32m/usr/local/lib/python3.6/dist-packages/keras/engine/training_utils.py\u001b[0m in \u001b[0;36mstandardize_input_data\u001b[0;34m(data, names, shapes, check_batch_axis, exception_prefix)\u001b[0m\n\u001b[1;32m    139\u001b[0m                             \u001b[0;34m': expected '\u001b[0m \u001b[0;34m+\u001b[0m \u001b[0mnames\u001b[0m\u001b[0;34m[\u001b[0m\u001b[0mi\u001b[0m\u001b[0;34m]\u001b[0m \u001b[0;34m+\u001b[0m \u001b[0;34m' to have shape '\u001b[0m \u001b[0;34m+\u001b[0m\u001b[0;34m\u001b[0m\u001b[0;34m\u001b[0m\u001b[0m\n\u001b[1;32m    140\u001b[0m                             \u001b[0mstr\u001b[0m\u001b[0;34m(\u001b[0m\u001b[0mshape\u001b[0m\u001b[0;34m)\u001b[0m \u001b[0;34m+\u001b[0m \u001b[0;34m' but got array with shape '\u001b[0m \u001b[0;34m+\u001b[0m\u001b[0;34m\u001b[0m\u001b[0;34m\u001b[0m\u001b[0m\n\u001b[0;32m--> 141\u001b[0;31m                             str(data_shape))\n\u001b[0m\u001b[1;32m    142\u001b[0m     \u001b[0;32mreturn\u001b[0m \u001b[0mdata\u001b[0m\u001b[0;34m\u001b[0m\u001b[0;34m\u001b[0m\u001b[0m\n\u001b[1;32m    143\u001b[0m \u001b[0;34m\u001b[0m\u001b[0m\n",
            "\u001b[0;31mValueError\u001b[0m: Error when checking input: expected embedding_1_input to have shape (100,) but got array with shape (1,)"
          ]
        }
      ]
    },
    {
      "cell_type": "code",
      "metadata": {
        "id": "YbchCeGY8VY_",
        "colab_type": "code",
        "outputId": "31f0bbc8-6670-4d6d-cc1e-fd85381ebecb",
        "colab": {
          "base_uri": "https://localhost:8080/",
          "height": 34
        }
      },
      "source": [
        "x_test[0].shape"
      ],
      "execution_count": 0,
      "outputs": [
        {
          "output_type": "execute_result",
          "data": {
            "text/plain": [
              "(100,)"
            ]
          },
          "metadata": {
            "tags": []
          },
          "execution_count": 146
        }
      ]
    },
    {
      "cell_type": "code",
      "metadata": {
        "id": "FLw8EFZK8VUs",
        "colab_type": "code",
        "colab": {}
      },
      "source": [
        ""
      ],
      "execution_count": 0,
      "outputs": []
    },
    {
      "cell_type": "code",
      "metadata": {
        "id": "GKZFbQeg8VP0",
        "colab_type": "code",
        "colab": {}
      },
      "source": [
        ""
      ],
      "execution_count": 0,
      "outputs": []
    },
    {
      "cell_type": "code",
      "metadata": {
        "id": "xQn2993O8VK0",
        "colab_type": "code",
        "colab": {}
      },
      "source": [
        ""
      ],
      "execution_count": 0,
      "outputs": []
    },
    {
      "cell_type": "code",
      "metadata": {
        "id": "OpJEF7Ak8VGq",
        "colab_type": "code",
        "colab": {}
      },
      "source": [
        ""
      ],
      "execution_count": 0,
      "outputs": []
    },
    {
      "cell_type": "code",
      "metadata": {
        "id": "bHxmkRza8VBE",
        "colab_type": "code",
        "colab": {}
      },
      "source": [
        ""
      ],
      "execution_count": 0,
      "outputs": []
    },
    {
      "cell_type": "code",
      "metadata": {
        "id": "2AqW8PYf8U3g",
        "colab_type": "code",
        "colab": {}
      },
      "source": [
        ""
      ],
      "execution_count": 0,
      "outputs": []
    },
    {
      "cell_type": "code",
      "metadata": {
        "id": "u-7Szdyo8Upz",
        "colab_type": "code",
        "colab": {}
      },
      "source": [
        "X_ = clean_sub_text.values\n",
        "Y_ = np.array([flair_to_idx.get(flair) for flair in flairs])"
      ],
      "execution_count": 0,
      "outputs": []
    },
    {
      "cell_type": "code",
      "metadata": {
        "id": "2d2yGCakMXRY",
        "colab_type": "code",
        "colab": {}
      },
      "source": [
        "title_flair_df = pd.DataFrame(data=zip(X_, Y_), columns=['title', 'flair'])"
      ],
      "execution_count": 0,
      "outputs": []
    },
    {
      "cell_type": "code",
      "metadata": {
        "id": "p6t15ioCNFDo",
        "colab_type": "code",
        "outputId": "240833b9-cbde-46f9-f810-7b3152f59bae",
        "colab": {
          "base_uri": "https://localhost:8080/",
          "height": 206
        }
      },
      "source": [
        "title_flair_df.head()"
      ],
      "execution_count": 0,
      "outputs": [
        {
          "output_type": "execute_result",
          "data": {
            "text/html": [
              "<div>\n",
              "<style scoped>\n",
              "    .dataframe tbody tr th:only-of-type {\n",
              "        vertical-align: middle;\n",
              "    }\n",
              "\n",
              "    .dataframe tbody tr th {\n",
              "        vertical-align: top;\n",
              "    }\n",
              "\n",
              "    .dataframe thead th {\n",
              "        text-align: right;\n",
              "    }\n",
              "</style>\n",
              "<table border=\"1\" class=\"dataframe\">\n",
              "  <thead>\n",
              "    <tr style=\"text-align: right;\">\n",
              "      <th></th>\n",
              "      <th>title</th>\n",
              "      <th>flair</th>\n",
              "    </tr>\n",
              "  </thead>\n",
              "  <tbody>\n",
              "    <tr>\n",
              "      <th>0</th>\n",
              "      <td>palette pollution</td>\n",
              "      <td>3</td>\n",
              "    </tr>\n",
              "    <tr>\n",
              "      <th>1</th>\n",
              "      <td>allow banks hold passports loantakers madras h...</td>\n",
              "      <td>1</td>\n",
              "    </tr>\n",
              "    <tr>\n",
              "      <th>2</th>\n",
              "      <td>allow banks hold passports loantakers madras h...</td>\n",
              "      <td>1</td>\n",
              "    </tr>\n",
              "    <tr>\n",
              "      <th>3</th>\n",
              "      <td>tamil nadu usher new year green note ban singl...</td>\n",
              "      <td>6</td>\n",
              "    </tr>\n",
              "    <tr>\n",
              "      <th>4</th>\n",
              "      <td>heera gold timeline #1 background pre 2007</td>\n",
              "      <td>1</td>\n",
              "    </tr>\n",
              "  </tbody>\n",
              "</table>\n",
              "</div>"
            ],
            "text/plain": [
              "                                               title  flair\n",
              "0                                  palette pollution      3\n",
              "1  allow banks hold passports loantakers madras h...      1\n",
              "2  allow banks hold passports loantakers madras h...      1\n",
              "3  tamil nadu usher new year green note ban singl...      6\n",
              "4         heera gold timeline #1 background pre 2007      1"
            ]
          },
          "metadata": {
            "tags": []
          },
          "execution_count": 34
        }
      ]
    },
    {
      "cell_type": "code",
      "metadata": {
        "id": "j4ctMJGFNExM",
        "colab_type": "code",
        "colab": {}
      },
      "source": [
        "title_flair_df.to_csv('title_flair.csv', index=False)"
      ],
      "execution_count": 0,
      "outputs": []
    },
    {
      "cell_type": "code",
      "metadata": {
        "id": "uf8BcinSNDSs",
        "colab_type": "code",
        "colab": {}
      },
      "source": [
        "with open('title_flair.pkl', 'wb') as fp:\n",
        "  pickle.dump(title_flair_df, fp)"
      ],
      "execution_count": 0,
      "outputs": []
    },
    {
      "cell_type": "code",
      "metadata": {
        "id": "oihwzF4XPn_I",
        "colab_type": "code",
        "colab": {}
      },
      "source": [
        "from sklearn.model_selection import train_test_split"
      ],
      "execution_count": 0,
      "outputs": []
    },
    {
      "cell_type": "code",
      "metadata": {
        "id": "4FJieawyeMVH",
        "colab_type": "code",
        "colab": {}
      },
      "source": [
        "x_train, x_test, y_train, y_test = train_test_split(X_, Y_, test_size = 0.2)"
      ],
      "execution_count": 0,
      "outputs": []
    },
    {
      "cell_type": "code",
      "metadata": {
        "id": "xjJBcxAaA2Uf",
        "colab_type": "code",
        "outputId": "fad942db-8d81-423d-a0db-deff9a94259b",
        "colab": {
          "base_uri": "https://localhost:8080/",
          "height": 52
        }
      },
      "source": [
        "print(x_train.shape, y_train.shape)\n",
        "print(x_test.shape, y_test.shape)"
      ],
      "execution_count": 0,
      "outputs": [
        {
          "output_type": "stream",
          "text": [
            "(46047,) (46047,)\n",
            "(11512,) (11512,)\n"
          ],
          "name": "stdout"
        }
      ]
    },
    {
      "cell_type": "code",
      "metadata": {
        "id": "pALwIm_1z_Mt",
        "colab_type": "code",
        "colab": {}
      },
      "source": [
        "from sklearn.feature_extraction.text import TfidfVectorizer"
      ],
      "execution_count": 0,
      "outputs": []
    },
    {
      "cell_type": "code",
      "metadata": {
        "id": "XQNNuCErz_Hm",
        "colab_type": "code",
        "colab": {}
      },
      "source": [
        "tf = TfidfVectorizer(\n",
        "    analyzer='word', \n",
        "    sublinear_tf=True,\n",
        "    strip_accents='unicode',\n",
        "    ngram_range=(1, 1),\n",
        "    max_features=10000)"
      ],
      "execution_count": 0,
      "outputs": []
    },
    {
      "cell_type": "code",
      "metadata": {
        "id": "GAdgTpmV0dTF",
        "colab_type": "code",
        "outputId": "ebb2ff45-dba5-4318-98f3-458b0f0d3e55",
        "colab": {
          "base_uri": "https://localhost:8080/",
          "height": 139
        }
      },
      "source": [
        "tf.fit(X_)"
      ],
      "execution_count": 0,
      "outputs": [
        {
          "output_type": "execute_result",
          "data": {
            "text/plain": [
              "TfidfVectorizer(analyzer='word', binary=False, decode_error='strict',\n",
              "                dtype=<class 'numpy.float64'>, encoding='utf-8',\n",
              "                input='content', lowercase=True, max_df=1.0, max_features=10000,\n",
              "                min_df=1, ngram_range=(1, 1), norm='l2', preprocessor=None,\n",
              "                smooth_idf=True, stop_words=None, strip_accents='unicode',\n",
              "                sublinear_tf=True, token_pattern='\\\\w{1,}', tokenizer=None,\n",
              "                use_idf=True, vocabulary=None)"
            ]
          },
          "metadata": {
            "tags": []
          },
          "execution_count": 54
        }
      ]
    },
    {
      "cell_type": "code",
      "metadata": {
        "id": "1RlyNRWaz_B-",
        "colab_type": "code",
        "colab": {}
      },
      "source": [
        "x_train = tf.transform(x_train)\n",
        "x_test = tf.transform(x_test)"
      ],
      "execution_count": 0,
      "outputs": []
    },
    {
      "cell_type": "code",
      "metadata": {
        "id": "Sb10L7sOuFBZ",
        "colab_type": "code",
        "colab": {}
      },
      "source": [
        "a = []\n",
        "a.append('I am good boy')"
      ],
      "execution_count": 0,
      "outputs": []
    },
    {
      "cell_type": "code",
      "metadata": {
        "id": "uVXMjIqStPNd",
        "colab_type": "code",
        "colab": {}
      },
      "source": [
        "a = tf.transform(a).toarray()"
      ],
      "execution_count": 0,
      "outputs": []
    },
    {
      "cell_type": "code",
      "metadata": {
        "id": "4dvQH-fYz-zk",
        "colab_type": "code",
        "outputId": "a163088e-b97c-4dd8-94e4-12e9b15a87c7",
        "colab": {
          "base_uri": "https://localhost:8080/",
          "height": 52
        }
      },
      "source": [
        "print(x_train.shape, y_train.shape)\n",
        "print(x_test.shape, y_test.shape)"
      ],
      "execution_count": 0,
      "outputs": [
        {
          "output_type": "stream",
          "text": [
            "(46047, 10000) (46047,)\n",
            "(11512, 10000) (11512,)\n"
          ],
          "name": "stdout"
        }
      ]
    },
    {
      "cell_type": "code",
      "metadata": {
        "id": "LPLrCLnhDLL7",
        "colab_type": "code",
        "outputId": "6dd3a454-024e-4d99-c71c-f086d1ab8993",
        "colab": {
          "base_uri": "https://localhost:8080/",
          "height": 34
        }
      },
      "source": [
        "type(x_test)"
      ],
      "execution_count": 64,
      "outputs": [
        {
          "output_type": "execute_result",
          "data": {
            "text/plain": [
              "scipy.sparse.csr.csr_matrix"
            ]
          },
          "metadata": {
            "tags": []
          },
          "execution_count": 64
        }
      ]
    },
    {
      "cell_type": "markdown",
      "metadata": {
        "id": "Hq2iun7keiet",
        "colab_type": "text"
      },
      "source": [
        "## 1.4 Classification Models"
      ]
    },
    {
      "cell_type": "markdown",
      "metadata": {
        "id": "n6aT5LDnuisK",
        "colab_type": "text"
      },
      "source": [
        "### 1.4.1 Naive Bayes Classifier"
      ]
    },
    {
      "cell_type": "code",
      "metadata": {
        "id": "Oxsn8k_7z-tn",
        "colab_type": "code",
        "colab": {}
      },
      "source": [
        "from sklearn.naive_bayes import MultinomialNB"
      ],
      "execution_count": 0,
      "outputs": []
    },
    {
      "cell_type": "code",
      "metadata": {
        "id": "V4aPWq2Vz-ng",
        "colab_type": "code",
        "colab": {}
      },
      "source": [
        "model = MultinomialNB()"
      ],
      "execution_count": 0,
      "outputs": []
    },
    {
      "cell_type": "code",
      "metadata": {
        "id": "OvQBtA5mz-fz",
        "colab_type": "code",
        "outputId": "1138a1ed-aaf0-4537-d406-2bd3242c02e1",
        "colab": {
          "base_uri": "https://localhost:8080/",
          "height": 34
        }
      },
      "source": [
        "model.fit(x_train, y_train)"
      ],
      "execution_count": 0,
      "outputs": [
        {
          "output_type": "execute_result",
          "data": {
            "text/plain": [
              "MultinomialNB(alpha=1.0, class_prior=None, fit_prior=True)"
            ]
          },
          "metadata": {
            "tags": []
          },
          "execution_count": 60
        }
      ]
    },
    {
      "cell_type": "code",
      "metadata": {
        "id": "mYDH2p8Jz-Qv",
        "colab_type": "code",
        "outputId": "93b4df50-3944-4a04-a2a7-f0c595af795f",
        "colab": {
          "base_uri": "https://localhost:8080/",
          "height": 34
        }
      },
      "source": [
        "model.score(x_train, y_train)"
      ],
      "execution_count": 0,
      "outputs": [
        {
          "output_type": "execute_result",
          "data": {
            "text/plain": [
              "0.6178252654896085"
            ]
          },
          "metadata": {
            "tags": []
          },
          "execution_count": 61
        }
      ]
    },
    {
      "cell_type": "code",
      "metadata": {
        "id": "F7D1U_V8e0Gg",
        "colab_type": "code",
        "outputId": "c7d7f18e-dfee-4785-c6bf-fa63dd0a3469",
        "colab": {
          "base_uri": "https://localhost:8080/",
          "height": 52
        }
      },
      "source": [
        "print(x_train.shape)\n",
        "print(x_test.shape)"
      ],
      "execution_count": 0,
      "outputs": [
        {
          "output_type": "stream",
          "text": [
            "(46047, 10000)\n",
            "(11512, 10000)\n"
          ],
          "name": "stdout"
        }
      ]
    },
    {
      "cell_type": "code",
      "metadata": {
        "id": "INWJSSf_1vqM",
        "colab_type": "code",
        "outputId": "61300a93-4381-42f9-9a7a-a2e9aa659b4b",
        "colab": {
          "base_uri": "https://localhost:8080/",
          "height": 34
        }
      },
      "source": [
        "model.score(x_test, y_test)"
      ],
      "execution_count": 0,
      "outputs": [
        {
          "output_type": "execute_result",
          "data": {
            "text/plain": [
              "0.5515983321751217"
            ]
          },
          "metadata": {
            "tags": []
          },
          "execution_count": 63
        }
      ]
    },
    {
      "cell_type": "markdown",
      "metadata": {
        "id": "slW7gIbLuxcS",
        "colab_type": "text"
      },
      "source": [
        "### 2.1.2 Logistic Regression"
      ]
    },
    {
      "cell_type": "code",
      "metadata": {
        "id": "hDM_yZTtt9tP",
        "colab_type": "code",
        "colab": {}
      },
      "source": [
        "from sklearn.linear_model import LogisticRegression"
      ],
      "execution_count": 0,
      "outputs": []
    },
    {
      "cell_type": "code",
      "metadata": {
        "id": "zetEFbKRuBx0",
        "colab_type": "code",
        "colab": {}
      },
      "source": [
        "lr = LogisticRegression()"
      ],
      "execution_count": 0,
      "outputs": []
    },
    {
      "cell_type": "code",
      "metadata": {
        "id": "UTpsT7jIt9pY",
        "colab_type": "code",
        "outputId": "e230c6e5-a336-493e-bbf4-ae8cac00be65",
        "colab": {
          "base_uri": "https://localhost:8080/",
          "height": 104
        }
      },
      "source": [
        "lr.fit(x_train, y_train)"
      ],
      "execution_count": 0,
      "outputs": [
        {
          "output_type": "execute_result",
          "data": {
            "text/plain": [
              "LogisticRegression(C=1.0, class_weight=None, dual=False, fit_intercept=True,\n",
              "                   intercept_scaling=1, l1_ratio=None, max_iter=100,\n",
              "                   multi_class='warn', n_jobs=None, penalty='l2',\n",
              "                   random_state=None, solver='warn', tol=0.0001, verbose=0,\n",
              "                   warm_start=False)"
            ]
          },
          "metadata": {
            "tags": []
          },
          "execution_count": 137
        }
      ]
    },
    {
      "cell_type": "code",
      "metadata": {
        "id": "0CuJww27t9l7",
        "colab_type": "code",
        "outputId": "99aa01a3-7ae2-40af-cc2e-896769226106",
        "colab": {
          "base_uri": "https://localhost:8080/",
          "height": 34
        }
      },
      "source": [
        "lr.score(x_train, y_train)"
      ],
      "execution_count": 0,
      "outputs": [
        {
          "output_type": "execute_result",
          "data": {
            "text/plain": [
              "0.6609985449649272"
            ]
          },
          "metadata": {
            "tags": []
          },
          "execution_count": 138
        }
      ]
    },
    {
      "cell_type": "code",
      "metadata": {
        "id": "-Ulod6GYt9iZ",
        "colab_type": "code",
        "outputId": "deebb079-fc6e-4894-d7bb-b5a48dbd02de",
        "colab": {
          "base_uri": "https://localhost:8080/",
          "height": 34
        }
      },
      "source": [
        "lr.score(x_test, y_test)"
      ],
      "execution_count": 0,
      "outputs": [
        {
          "output_type": "execute_result",
          "data": {
            "text/plain": [
              "0.578092425295344"
            ]
          },
          "metadata": {
            "tags": []
          },
          "execution_count": 139
        }
      ]
    },
    {
      "cell_type": "markdown",
      "metadata": {
        "id": "TzNRsGnoRFpV",
        "colab_type": "text"
      },
      "source": [
        "### Ensemble Method"
      ]
    },
    {
      "cell_type": "code",
      "metadata": {
        "id": "XE9yDUbISpVo",
        "colab_type": "code",
        "colab": {}
      },
      "source": [
        "from sklearn.metrics import accuracy_score, log_loss\n",
        "from sklearn.neighbors import KNeighborsClassifier\n",
        "from sklearn.svm import SVC, LinearSVC, NuSVC\n",
        "from sklearn.tree import DecisionTreeClassifier\n",
        "from sklearn.ensemble import RandomForestClassifier, AdaBoostClassifier, GradientBoostingClassifier\n",
        "from sklearn.naive_bayes import GaussianNB\n",
        "from sklearn.discriminant_analysis import LinearDiscriminantAnalysis\n",
        "from sklearn.discriminant_analysis import QuadraticDiscriminantAnalysis\n",
        "\n"
      ],
      "execution_count": 0,
      "outputs": []
    },
    {
      "cell_type": "code",
      "metadata": {
        "id": "SsVmlUrqTwfo",
        "colab_type": "code",
        "colab": {}
      },
      "source": [
        "classifiers = [\n",
        "    ('knn', KNeighborsClassifier(11)),\n",
        "    ('svc', SVC(kernel=\"rbf\", C=0.025, probability=True)),\n",
        "    ('Nuvc', NuSVC(probability=True)),\n",
        "    ('dtree', DecisionTreeClassifier()),\n",
        "    ('rf', RandomForestClassifier()),\n",
        "    ('ada', AdaBoostClassifier()),\n",
        "    ('gdbc', GradientBoostingClassifier()),\n",
        "    ('gnb', GaussianNB()),\n",
        "    ('lda', LinearDiscriminantAnalysis()),\n",
        "    ('qda', QuadraticDiscriminantAnalysis())]"
      ],
      "execution_count": 0,
      "outputs": []
    },
    {
      "cell_type": "code",
      "metadata": {
        "id": "s1FMGvIiRHg7",
        "colab_type": "code",
        "colab": {}
      },
      "source": [
        "from sklearn.ensemble import RandomForestClassifier, VotingClassifier"
      ],
      "execution_count": 0,
      "outputs": []
    },
    {
      "cell_type": "code",
      "metadata": {
        "id": "tLijLrI3RIR2",
        "colab_type": "code",
        "colab": {}
      },
      "source": [
        "clf1 = LogisticRegression(solver='lbfgs', multi_class='multinomial',  random_state=1)\n",
        "clf2 = RandomForestClassifier(n_estimators=50, random_state=1)\n",
        "clf3 = MultinomialNB()\n"
      ],
      "execution_count": 0,
      "outputs": []
    },
    {
      "cell_type": "code",
      "metadata": {
        "id": "tieFVkSoRaKL",
        "colab_type": "code",
        "colab": {}
      },
      "source": [
        "eclf1 = VotingClassifier(estimators=classifiers, voting='hard')"
      ],
      "execution_count": 0,
      "outputs": []
    },
    {
      "cell_type": "code",
      "metadata": {
        "id": "nahh3pZaRjiO",
        "colab_type": "code",
        "colab": {}
      },
      "source": [
        "eclf1 = eclf1.fit(x_train, y_train)"
      ],
      "execution_count": 0,
      "outputs": []
    },
    {
      "cell_type": "code",
      "metadata": {
        "id": "hRSY9fKjRsil",
        "colab_type": "code",
        "outputId": "70af258a-0ae3-44cd-fc99-3d7a47f0b997",
        "colab": {
          "base_uri": "https://localhost:8080/",
          "height": 34
        }
      },
      "source": [
        "eclf1.score(x_train, y_train)"
      ],
      "execution_count": 0,
      "outputs": [
        {
          "output_type": "execute_result",
          "data": {
            "text/plain": [
              "0.7234347514496058"
            ]
          },
          "metadata": {
            "tags": []
          },
          "execution_count": 80
        }
      ]
    },
    {
      "cell_type": "code",
      "metadata": {
        "id": "eEqqt3_dRjsN",
        "colab_type": "code",
        "outputId": "d5a0dfbd-6830-4be4-ed6e-ab21e3d5fb11",
        "colab": {
          "base_uri": "https://localhost:8080/",
          "height": 34
        }
      },
      "source": [
        "eclf1.score(x_test, y_test)"
      ],
      "execution_count": 0,
      "outputs": [
        {
          "output_type": "execute_result",
          "data": {
            "text/plain": [
              "0.5823488533703961"
            ]
          },
          "metadata": {
            "tags": []
          },
          "execution_count": 81
        }
      ]
    },
    {
      "cell_type": "code",
      "metadata": {
        "id": "NnM_9SLDRFOO",
        "colab_type": "code",
        "colab": {}
      },
      "source": [
        ""
      ],
      "execution_count": 0,
      "outputs": []
    },
    {
      "cell_type": "markdown",
      "metadata": {
        "id": "eXu6DyX0u2B-",
        "colab_type": "text"
      },
      "source": [
        "### 2.1.3 Support Vector Machines"
      ]
    },
    {
      "cell_type": "code",
      "metadata": {
        "id": "lQAe2MmMt9d_",
        "colab_type": "code",
        "colab": {}
      },
      "source": [
        "from sklearn.svm import SVC"
      ],
      "execution_count": 0,
      "outputs": []
    },
    {
      "cell_type": "code",
      "metadata": {
        "id": "rq5qwJlft9Z0",
        "colab_type": "code",
        "colab": {}
      },
      "source": [
        "svm = SVC()"
      ],
      "execution_count": 0,
      "outputs": []
    },
    {
      "cell_type": "code",
      "metadata": {
        "id": "CW_ZdJust9V7",
        "colab_type": "code",
        "outputId": "50c88254-0ee2-4628-d145-41c130fb13c8",
        "colab": {
          "base_uri": "https://localhost:8080/",
          "height": 141
        }
      },
      "source": [
        "svm.fit(x_train, y_train)"
      ],
      "execution_count": 0,
      "outputs": [
        {
          "output_type": "stream",
          "text": [
            "/usr/local/lib/python3.6/dist-packages/sklearn/svm/base.py:193: FutureWarning: The default value of gamma will change from 'auto' to 'scale' in version 0.22 to account better for unscaled features. Set gamma explicitly to 'auto' or 'scale' to avoid this warning.\n",
            "  \"avoid this warning.\", FutureWarning)\n"
          ],
          "name": "stderr"
        },
        {
          "output_type": "execute_result",
          "data": {
            "text/plain": [
              "SVC(C=1.0, cache_size=200, class_weight=None, coef0=0.0,\n",
              "    decision_function_shape='ovr', degree=3, gamma='auto_deprecated',\n",
              "    kernel='rbf', max_iter=-1, probability=False, random_state=None,\n",
              "    shrinking=True, tol=0.001, verbose=False)"
            ]
          },
          "metadata": {
            "tags": []
          },
          "execution_count": 125
        }
      ]
    },
    {
      "cell_type": "code",
      "metadata": {
        "id": "8KavtKVht9SE",
        "colab_type": "code",
        "outputId": "029808a2-a503-4892-f176-89caa7c643e7",
        "colab": {
          "base_uri": "https://localhost:8080/",
          "height": 34
        }
      },
      "source": [
        "svm.score(x_train, y_train)"
      ],
      "execution_count": 0,
      "outputs": [
        {
          "output_type": "execute_result",
          "data": {
            "text/plain": [
              "0.27822328302600746"
            ]
          },
          "metadata": {
            "tags": []
          },
          "execution_count": 126
        }
      ]
    },
    {
      "cell_type": "code",
      "metadata": {
        "id": "gLpMCSqCt9Mh",
        "colab_type": "code",
        "outputId": "94d1b660-b223-423c-938b-fd34586ec524",
        "colab": {
          "base_uri": "https://localhost:8080/",
          "height": 34
        }
      },
      "source": [
        "svm.score(x_test, y_test)"
      ],
      "execution_count": 0,
      "outputs": [
        {
          "output_type": "execute_result",
          "data": {
            "text/plain": [
              "0.2740714867854232"
            ]
          },
          "metadata": {
            "tags": []
          },
          "execution_count": 127
        }
      ]
    },
    {
      "cell_type": "markdown",
      "metadata": {
        "id": "cDoNDaCGvsKT",
        "colab_type": "text"
      },
      "source": [
        "### 2.1.3 Random Forest Model\n"
      ]
    },
    {
      "cell_type": "code",
      "metadata": {
        "id": "e99pr1qAvrVG",
        "colab_type": "code",
        "colab": {}
      },
      "source": [
        "from sklearn.ensemble import RandomForestClassifier"
      ],
      "execution_count": 0,
      "outputs": []
    },
    {
      "cell_type": "code",
      "metadata": {
        "id": "O7MmPOaXvrQQ",
        "colab_type": "code",
        "colab": {}
      },
      "source": [
        "forest = RandomForestClassifier(max_depth=100, n_estimators=500)"
      ],
      "execution_count": 0,
      "outputs": []
    },
    {
      "cell_type": "code",
      "metadata": {
        "id": "y5WuCyIXvrLY",
        "colab_type": "code",
        "outputId": "93bb9783-0c2c-4c24-8782-a3214029d953",
        "colab": {
          "base_uri": "https://localhost:8080/",
          "height": 139
        }
      },
      "source": [
        "forest.fit(x_train, y_train)"
      ],
      "execution_count": 0,
      "outputs": [
        {
          "output_type": "execute_result",
          "data": {
            "text/plain": [
              "RandomForestClassifier(bootstrap=True, class_weight=None, criterion='gini',\n",
              "                       max_depth=100, max_features='auto', max_leaf_nodes=None,\n",
              "                       min_impurity_decrease=0.0, min_impurity_split=None,\n",
              "                       min_samples_leaf=1, min_samples_split=2,\n",
              "                       min_weight_fraction_leaf=0.0, n_estimators=500,\n",
              "                       n_jobs=None, oob_score=False, random_state=None,\n",
              "                       verbose=0, warm_start=False)"
            ]
          },
          "metadata": {
            "tags": []
          },
          "execution_count": 144
        }
      ]
    },
    {
      "cell_type": "code",
      "metadata": {
        "id": "dRLQOGhW3YCI",
        "colab_type": "code",
        "outputId": "a6346db9-52f8-4c4a-d72a-53fa9cc02e29",
        "colab": {
          "base_uri": "https://localhost:8080/",
          "height": 34
        }
      },
      "source": [
        "forest.score(x_train, y_train)"
      ],
      "execution_count": 0,
      "outputs": [
        {
          "output_type": "execute_result",
          "data": {
            "text/plain": [
              "0.6504780893888897"
            ]
          },
          "metadata": {
            "tags": []
          },
          "execution_count": 145
        }
      ]
    },
    {
      "cell_type": "code",
      "metadata": {
        "id": "q2N_-y163bb_",
        "colab_type": "code",
        "outputId": "b3caf7ed-bfc5-4d4b-aab5-3c157d9304cb",
        "colab": {
          "base_uri": "https://localhost:8080/",
          "height": 34
        }
      },
      "source": [
        "forest.score(x_test, y_test)"
      ],
      "execution_count": 0,
      "outputs": [
        {
          "output_type": "execute_result",
          "data": {
            "text/plain": [
              "0.5190941902433345"
            ]
          },
          "metadata": {
            "tags": []
          },
          "execution_count": 146
        }
      ]
    },
    {
      "cell_type": "code",
      "metadata": {
        "id": "IzvUGFjazz8l",
        "colab_type": "code",
        "outputId": "18cc5940-1d28-491c-8d6c-840e17f5338c",
        "colab": {
          "base_uri": "https://localhost:8080/",
          "height": 34
        }
      },
      "source": [
        "forest.score(x_train, y_train)"
      ],
      "execution_count": 0,
      "outputs": [
        {
          "output_type": "execute_result",
          "data": {
            "text/plain": [
              "0.5186069188339567"
            ]
          },
          "metadata": {
            "tags": []
          },
          "execution_count": 141
        }
      ]
    },
    {
      "cell_type": "code",
      "metadata": {
        "id": "NkaZbD7nvq9k",
        "colab_type": "code",
        "outputId": "f547b4ac-0cd9-48ac-cc0b-33c369cda39d",
        "colab": {
          "base_uri": "https://localhost:8080/",
          "height": 34
        }
      },
      "source": [
        "forest.score(x_test, y_test)"
      ],
      "execution_count": 0,
      "outputs": [
        {
          "output_type": "execute_result",
          "data": {
            "text/plain": [
              "0.47194085458144136"
            ]
          },
          "metadata": {
            "tags": []
          },
          "execution_count": 142
        }
      ]
    },
    {
      "cell_type": "markdown",
      "metadata": {
        "id": "dxgUZr7G5s6x",
        "colab_type": "text"
      },
      "source": [
        "### Gathering more data"
      ]
    },
    {
      "cell_type": "code",
      "metadata": {
        "id": "0tPn41a35pKP",
        "colab_type": "code",
        "outputId": "74a3ab8c-a68f-400d-c8f1-13b9440ddb76",
        "colab": {
          "base_uri": "https://localhost:8080/",
          "height": 34
        }
      },
      "source": [
        "len(corresponding_ids)"
      ],
      "execution_count": 0,
      "outputs": [
        {
          "output_type": "execute_result",
          "data": {
            "text/plain": [
              "85889"
            ]
          },
          "metadata": {
            "tags": []
          },
          "execution_count": 147
        }
      ]
    },
    {
      "cell_type": "code",
      "metadata": {
        "id": "2mVnLE5O5pEp",
        "colab_type": "code",
        "outputId": "3c4d5568-261a-4ba7-bebd-966a34458473",
        "colab": {
          "base_uri": "https://localhost:8080/",
          "height": 54
        }
      },
      "source": [
        "titles[18]"
      ],
      "execution_count": 0,
      "outputs": [
        {
          "output_type": "execute_result",
          "data": {
            "text/plain": [
              "\"[NP] [Ask] Will a xerox of my aadhar card with my college ID card work if I'm traveling via flight? Or is having the original aadhar card absolutely necessary?\""
            ]
          },
          "metadata": {
            "tags": []
          },
          "execution_count": 158
        }
      ]
    },
    {
      "cell_type": "code",
      "metadata": {
        "id": "uorktr3w5o-z",
        "colab_type": "code",
        "outputId": "05e4ebb8-c9c2-43c8-d10a-2b8d46372275",
        "colab": {
          "base_uri": "https://localhost:8080/",
          "height": 34
        }
      },
      "source": [
        "flairs[18]"
      ],
      "execution_count": 0,
      "outputs": [
        {
          "output_type": "execute_result",
          "data": {
            "text/plain": [
              "'AskIndia'"
            ]
          },
          "metadata": {
            "tags": []
          },
          "execution_count": 159
        }
      ]
    },
    {
      "cell_type": "code",
      "metadata": {
        "id": "py6A71t65o3c",
        "colab_type": "code",
        "outputId": "eb698703-1f8b-4d3c-a0cc-31a04fed72e3",
        "colab": {
          "base_uri": "https://localhost:8080/",
          "height": 34
        }
      },
      "source": [
        "type(titles[18])"
      ],
      "execution_count": 0,
      "outputs": [
        {
          "output_type": "execute_result",
          "data": {
            "text/plain": [
              "str"
            ]
          },
          "metadata": {
            "tags": []
          },
          "execution_count": 161
        }
      ]
    },
    {
      "cell_type": "code",
      "metadata": {
        "id": "y71JlHcb8gyq",
        "colab_type": "code",
        "colab": {}
      },
      "source": [
        "titles_archive = titles"
      ],
      "execution_count": 0,
      "outputs": []
    },
    {
      "cell_type": "code",
      "metadata": {
        "id": "80iR73Wj_Lrn",
        "colab_type": "code",
        "colab": {}
      },
      "source": [
        "titles = titles_archive"
      ],
      "execution_count": 0,
      "outputs": []
    },
    {
      "cell_type": "code",
      "metadata": {
        "id": "rzXWMWPT_Nop",
        "colab_type": "code",
        "outputId": "e966c875-a607-41bf-ad2e-e1ed3fd387f7",
        "colab": {
          "base_uri": "https://localhost:8080/",
          "height": 54
        }
      },
      "source": [
        "titles[18]"
      ],
      "execution_count": 0,
      "outputs": [
        {
          "output_type": "execute_result",
          "data": {
            "text/plain": [
              "\"[NP] [Ask] Will a xerox of my aadhar card with my college ID card work if I'm traveling via flight? Or is having the original aadhar card absolutely necessary?\""
            ]
          },
          "metadata": {
            "tags": []
          },
          "execution_count": 188
        }
      ]
    },
    {
      "cell_type": "code",
      "metadata": {
        "id": "gzvE-pvZ_PIR",
        "colab_type": "code",
        "colab": {}
      },
      "source": [
        ""
      ],
      "execution_count": 0,
      "outputs": []
    },
    {
      "cell_type": "code",
      "metadata": {
        "id": "rFR2CHKx5oyn",
        "colab_type": "code",
        "outputId": "2302bd16-cb1f-452d-ef2f-295cfc121941",
        "colab": {
          "base_uri": "https://localhost:8080/",
          "height": 486
        }
      },
      "source": [
        "\n",
        "# we will concate top 5 comments in title\n",
        "\n",
        "for i in range(len(corresponding_ids)):\n",
        "  \n",
        "  subm = reddit.submission(id=corresponding_ids[i])\n",
        "  comments = subm.comments\n",
        "  \n",
        "  count = 0\n",
        "  \n",
        "  for comment in comments:\n",
        "    if count == 3:\n",
        "      break\n",
        "    titles[i] = titles[i] + \"\\n\" + comment.body\n",
        "    \n",
        "    count += 1\n",
        "  \n",
        "  if i%1000 == 0:\n",
        "    print(\"%d titles processed\"%i)"
      ],
      "execution_count": 0,
      "outputs": [
        {
          "output_type": "stream",
          "text": [
            "0 titles processed\n",
            "1000 titles processed\n",
            "2000 titles processed\n",
            "3000 titles processed\n",
            "4000 titles processed\n",
            "5000 titles processed\n"
          ],
          "name": "stdout"
        },
        {
          "output_type": "error",
          "ename": "KeyboardInterrupt",
          "evalue": "ignored",
          "traceback": [
            "\u001b[0;31m---------------------------------------------------------------------------\u001b[0m",
            "\u001b[0;31mKeyboardInterrupt\u001b[0m                         Traceback (most recent call last)",
            "\u001b[0;32m<ipython-input-189-c94d502c3aa7>\u001b[0m in \u001b[0;36m<module>\u001b[0;34m()\u001b[0m\n\u001b[1;32m      3\u001b[0m \u001b[0;34m\u001b[0m\u001b[0m\n\u001b[1;32m      4\u001b[0m   \u001b[0msubm\u001b[0m \u001b[0;34m=\u001b[0m \u001b[0mreddit\u001b[0m\u001b[0;34m.\u001b[0m\u001b[0msubmission\u001b[0m\u001b[0;34m(\u001b[0m\u001b[0mid\u001b[0m\u001b[0;34m=\u001b[0m\u001b[0mcorresponding_ids\u001b[0m\u001b[0;34m[\u001b[0m\u001b[0mi\u001b[0m\u001b[0;34m]\u001b[0m\u001b[0;34m)\u001b[0m\u001b[0;34m\u001b[0m\u001b[0;34m\u001b[0m\u001b[0m\n\u001b[0;32m----> 5\u001b[0;31m   \u001b[0mcomments\u001b[0m \u001b[0;34m=\u001b[0m \u001b[0msubm\u001b[0m\u001b[0;34m.\u001b[0m\u001b[0mcomments\u001b[0m\u001b[0;34m\u001b[0m\u001b[0;34m\u001b[0m\u001b[0m\n\u001b[0m\u001b[1;32m      6\u001b[0m \u001b[0;34m\u001b[0m\u001b[0m\n\u001b[1;32m      7\u001b[0m   \u001b[0mcount\u001b[0m \u001b[0;34m=\u001b[0m \u001b[0;36m0\u001b[0m\u001b[0;34m\u001b[0m\u001b[0;34m\u001b[0m\u001b[0m\n",
            "\u001b[0;32m/usr/local/lib/python3.6/dist-packages/praw/models/reddit/base.py\u001b[0m in \u001b[0;36m__getattr__\u001b[0;34m(self, attribute)\u001b[0m\n\u001b[1;32m     28\u001b[0m         \u001b[0;34m\"\"\"Return the value of `attribute`.\"\"\"\u001b[0m\u001b[0;34m\u001b[0m\u001b[0;34m\u001b[0m\u001b[0m\n\u001b[1;32m     29\u001b[0m         \u001b[0;32mif\u001b[0m \u001b[0;32mnot\u001b[0m \u001b[0mattribute\u001b[0m\u001b[0;34m.\u001b[0m\u001b[0mstartswith\u001b[0m\u001b[0;34m(\u001b[0m\u001b[0;34m\"_\"\u001b[0m\u001b[0;34m)\u001b[0m \u001b[0;32mand\u001b[0m \u001b[0;32mnot\u001b[0m \u001b[0mself\u001b[0m\u001b[0;34m.\u001b[0m\u001b[0m_fetched\u001b[0m\u001b[0;34m:\u001b[0m\u001b[0;34m\u001b[0m\u001b[0;34m\u001b[0m\u001b[0m\n\u001b[0;32m---> 30\u001b[0;31m             \u001b[0mself\u001b[0m\u001b[0;34m.\u001b[0m\u001b[0m_fetch\u001b[0m\u001b[0;34m(\u001b[0m\u001b[0;34m)\u001b[0m\u001b[0;34m\u001b[0m\u001b[0;34m\u001b[0m\u001b[0m\n\u001b[0m\u001b[1;32m     31\u001b[0m             \u001b[0;32mreturn\u001b[0m \u001b[0mgetattr\u001b[0m\u001b[0;34m(\u001b[0m\u001b[0mself\u001b[0m\u001b[0;34m,\u001b[0m \u001b[0mattribute\u001b[0m\u001b[0;34m)\u001b[0m\u001b[0;34m\u001b[0m\u001b[0;34m\u001b[0m\u001b[0m\n\u001b[1;32m     32\u001b[0m         raise AttributeError(\n",
            "\u001b[0;32m/usr/local/lib/python3.6/dist-packages/praw/models/reddit/submission.py\u001b[0m in \u001b[0;36m_fetch\u001b[0;34m(self)\u001b[0m\n\u001b[1;32m    231\u001b[0m \u001b[0;34m\u001b[0m\u001b[0m\n\u001b[1;32m    232\u001b[0m     \u001b[0;32mdef\u001b[0m \u001b[0m_fetch\u001b[0m\u001b[0;34m(\u001b[0m\u001b[0mself\u001b[0m\u001b[0;34m)\u001b[0m\u001b[0;34m:\u001b[0m\u001b[0;34m\u001b[0m\u001b[0;34m\u001b[0m\u001b[0m\n\u001b[0;32m--> 233\u001b[0;31m         \u001b[0mdata\u001b[0m \u001b[0;34m=\u001b[0m \u001b[0mself\u001b[0m\u001b[0;34m.\u001b[0m\u001b[0m_fetch_data\u001b[0m\u001b[0;34m(\u001b[0m\u001b[0;34m)\u001b[0m\u001b[0;34m\u001b[0m\u001b[0;34m\u001b[0m\u001b[0m\n\u001b[0m\u001b[1;32m    234\u001b[0m         \u001b[0msubmission_listing\u001b[0m\u001b[0;34m,\u001b[0m \u001b[0mcomment_listing\u001b[0m \u001b[0;34m=\u001b[0m \u001b[0mdata\u001b[0m\u001b[0;34m\u001b[0m\u001b[0;34m\u001b[0m\u001b[0m\n\u001b[1;32m    235\u001b[0m         \u001b[0mcomment_listing\u001b[0m \u001b[0;34m=\u001b[0m \u001b[0mListing\u001b[0m\u001b[0;34m(\u001b[0m\u001b[0mself\u001b[0m\u001b[0;34m.\u001b[0m\u001b[0m_reddit\u001b[0m\u001b[0;34m,\u001b[0m \u001b[0m_data\u001b[0m\u001b[0;34m=\u001b[0m\u001b[0mcomment_listing\u001b[0m\u001b[0;34m[\u001b[0m\u001b[0;34m\"data\"\u001b[0m\u001b[0;34m]\u001b[0m\u001b[0;34m)\u001b[0m\u001b[0;34m\u001b[0m\u001b[0;34m\u001b[0m\u001b[0m\n",
            "\u001b[0;32m/usr/local/lib/python3.6/dist-packages/praw/models/reddit/submission.py\u001b[0m in \u001b[0;36m_fetch_data\u001b[0;34m(self)\u001b[0m\n\u001b[1;32m    228\u001b[0m         \u001b[0mname\u001b[0m\u001b[0;34m,\u001b[0m \u001b[0mfields\u001b[0m\u001b[0;34m,\u001b[0m \u001b[0mparams\u001b[0m \u001b[0;34m=\u001b[0m \u001b[0mself\u001b[0m\u001b[0;34m.\u001b[0m\u001b[0m_fetch_info\u001b[0m\u001b[0;34m(\u001b[0m\u001b[0;34m)\u001b[0m\u001b[0;34m\u001b[0m\u001b[0;34m\u001b[0m\u001b[0m\n\u001b[1;32m    229\u001b[0m         \u001b[0mpath\u001b[0m \u001b[0;34m=\u001b[0m \u001b[0mAPI_PATH\u001b[0m\u001b[0;34m[\u001b[0m\u001b[0mname\u001b[0m\u001b[0;34m]\u001b[0m\u001b[0;34m.\u001b[0m\u001b[0mformat\u001b[0m\u001b[0;34m(\u001b[0m\u001b[0;34m**\u001b[0m\u001b[0mfields\u001b[0m\u001b[0;34m)\u001b[0m\u001b[0;34m\u001b[0m\u001b[0;34m\u001b[0m\u001b[0m\n\u001b[0;32m--> 230\u001b[0;31m         \u001b[0;32mreturn\u001b[0m \u001b[0mself\u001b[0m\u001b[0;34m.\u001b[0m\u001b[0m_reddit\u001b[0m\u001b[0;34m.\u001b[0m\u001b[0mrequest\u001b[0m\u001b[0;34m(\u001b[0m\u001b[0;34m\"GET\"\u001b[0m\u001b[0;34m,\u001b[0m \u001b[0mpath\u001b[0m\u001b[0;34m,\u001b[0m \u001b[0mparams\u001b[0m\u001b[0;34m)\u001b[0m\u001b[0;34m\u001b[0m\u001b[0;34m\u001b[0m\u001b[0m\n\u001b[0m\u001b[1;32m    231\u001b[0m \u001b[0;34m\u001b[0m\u001b[0m\n\u001b[1;32m    232\u001b[0m     \u001b[0;32mdef\u001b[0m \u001b[0m_fetch\u001b[0m\u001b[0;34m(\u001b[0m\u001b[0mself\u001b[0m\u001b[0;34m)\u001b[0m\u001b[0;34m:\u001b[0m\u001b[0;34m\u001b[0m\u001b[0;34m\u001b[0m\u001b[0m\n",
            "\u001b[0;32m/usr/local/lib/python3.6/dist-packages/praw/reddit.py\u001b[0m in \u001b[0;36mrequest\u001b[0;34m(self, method, path, params, data, files)\u001b[0m\n\u001b[1;32m    575\u001b[0m         \"\"\"\n\u001b[1;32m    576\u001b[0m         return self._core.request(\n\u001b[0;32m--> 577\u001b[0;31m             \u001b[0mmethod\u001b[0m\u001b[0;34m,\u001b[0m \u001b[0mpath\u001b[0m\u001b[0;34m,\u001b[0m \u001b[0mdata\u001b[0m\u001b[0;34m=\u001b[0m\u001b[0mdata\u001b[0m\u001b[0;34m,\u001b[0m \u001b[0mfiles\u001b[0m\u001b[0;34m=\u001b[0m\u001b[0mfiles\u001b[0m\u001b[0;34m,\u001b[0m \u001b[0mparams\u001b[0m\u001b[0;34m=\u001b[0m\u001b[0mparams\u001b[0m\u001b[0;34m\u001b[0m\u001b[0;34m\u001b[0m\u001b[0m\n\u001b[0m\u001b[1;32m    578\u001b[0m         )\n\u001b[1;32m    579\u001b[0m \u001b[0;34m\u001b[0m\u001b[0m\n",
            "\u001b[0;32m/usr/local/lib/python3.6/dist-packages/prawcore/sessions.py\u001b[0m in \u001b[0;36mrequest\u001b[0;34m(self, method, path, data, files, json, params)\u001b[0m\n\u001b[1;32m    183\u001b[0m         return self._request_with_retries(\n\u001b[1;32m    184\u001b[0m             \u001b[0mdata\u001b[0m\u001b[0;34m=\u001b[0m\u001b[0mdata\u001b[0m\u001b[0;34m,\u001b[0m \u001b[0mfiles\u001b[0m\u001b[0;34m=\u001b[0m\u001b[0mfiles\u001b[0m\u001b[0;34m,\u001b[0m \u001b[0mjson\u001b[0m\u001b[0;34m=\u001b[0m\u001b[0mjson\u001b[0m\u001b[0;34m,\u001b[0m \u001b[0mmethod\u001b[0m\u001b[0;34m=\u001b[0m\u001b[0mmethod\u001b[0m\u001b[0;34m,\u001b[0m\u001b[0;34m\u001b[0m\u001b[0;34m\u001b[0m\u001b[0m\n\u001b[0;32m--> 185\u001b[0;31m             params=params, url=url)\n\u001b[0m\u001b[1;32m    186\u001b[0m \u001b[0;34m\u001b[0m\u001b[0m\n\u001b[1;32m    187\u001b[0m \u001b[0;34m\u001b[0m\u001b[0m\n",
            "\u001b[0;32m/usr/local/lib/python3.6/dist-packages/prawcore/sessions.py\u001b[0m in \u001b[0;36m_request_with_retries\u001b[0;34m(self, data, files, json, method, params, url, retries)\u001b[0m\n\u001b[1;32m    114\u001b[0m         \u001b[0mself\u001b[0m\u001b[0;34m.\u001b[0m\u001b[0m_log_request\u001b[0m\u001b[0;34m(\u001b[0m\u001b[0mdata\u001b[0m\u001b[0;34m,\u001b[0m \u001b[0mmethod\u001b[0m\u001b[0;34m,\u001b[0m \u001b[0mparams\u001b[0m\u001b[0;34m,\u001b[0m \u001b[0murl\u001b[0m\u001b[0;34m)\u001b[0m\u001b[0;34m\u001b[0m\u001b[0;34m\u001b[0m\u001b[0m\n\u001b[1;32m    115\u001b[0m         response, saved_exception = self._make_request(\n\u001b[0;32m--> 116\u001b[0;31m             data, files, json, method, params, retries, url)\n\u001b[0m\u001b[1;32m    117\u001b[0m \u001b[0;34m\u001b[0m\u001b[0m\n\u001b[1;32m    118\u001b[0m         \u001b[0mdo_retry\u001b[0m \u001b[0;34m=\u001b[0m \u001b[0;32mFalse\u001b[0m\u001b[0;34m\u001b[0m\u001b[0;34m\u001b[0m\u001b[0m\n",
            "\u001b[0;32m/usr/local/lib/python3.6/dist-packages/prawcore/sessions.py\u001b[0m in \u001b[0;36m_make_request\u001b[0;34m(self, data, files, json, method, params, retries, url)\u001b[0m\n\u001b[1;32m     99\u001b[0m                 \u001b[0mself\u001b[0m\u001b[0;34m.\u001b[0m\u001b[0m_requestor\u001b[0m\u001b[0;34m.\u001b[0m\u001b[0mrequest\u001b[0m\u001b[0;34m,\u001b[0m \u001b[0mself\u001b[0m\u001b[0;34m.\u001b[0m\u001b[0m_set_header_callback\u001b[0m\u001b[0;34m,\u001b[0m \u001b[0mmethod\u001b[0m\u001b[0;34m,\u001b[0m\u001b[0;34m\u001b[0m\u001b[0;34m\u001b[0m\u001b[0m\n\u001b[1;32m    100\u001b[0m                 \u001b[0murl\u001b[0m\u001b[0;34m,\u001b[0m \u001b[0mallow_redirects\u001b[0m\u001b[0;34m=\u001b[0m\u001b[0;32mFalse\u001b[0m\u001b[0;34m,\u001b[0m \u001b[0mdata\u001b[0m\u001b[0;34m=\u001b[0m\u001b[0mdata\u001b[0m\u001b[0;34m,\u001b[0m \u001b[0mfiles\u001b[0m\u001b[0;34m=\u001b[0m\u001b[0mfiles\u001b[0m\u001b[0;34m,\u001b[0m \u001b[0mjson\u001b[0m\u001b[0;34m=\u001b[0m\u001b[0mjson\u001b[0m\u001b[0;34m,\u001b[0m\u001b[0;34m\u001b[0m\u001b[0;34m\u001b[0m\u001b[0m\n\u001b[0;32m--> 101\u001b[0;31m                 params=params)\n\u001b[0m\u001b[1;32m    102\u001b[0m             log.debug('Response: {} ({} bytes)'.format(\n\u001b[1;32m    103\u001b[0m                 response.status_code, response.headers.get('content-length')))\n",
            "\u001b[0;32m/usr/local/lib/python3.6/dist-packages/prawcore/rate_limit.py\u001b[0m in \u001b[0;36mcall\u001b[0;34m(self, request_function, set_header_callback, *args, **kwargs)\u001b[0m\n\u001b[1;32m     32\u001b[0m \u001b[0;34m\u001b[0m\u001b[0m\n\u001b[1;32m     33\u001b[0m         \"\"\"\n\u001b[0;32m---> 34\u001b[0;31m         \u001b[0mself\u001b[0m\u001b[0;34m.\u001b[0m\u001b[0mdelay\u001b[0m\u001b[0;34m(\u001b[0m\u001b[0;34m)\u001b[0m\u001b[0;34m\u001b[0m\u001b[0;34m\u001b[0m\u001b[0m\n\u001b[0m\u001b[1;32m     35\u001b[0m         \u001b[0mkwargs\u001b[0m\u001b[0;34m[\u001b[0m\u001b[0;34m'headers'\u001b[0m\u001b[0;34m]\u001b[0m \u001b[0;34m=\u001b[0m \u001b[0mset_header_callback\u001b[0m\u001b[0;34m(\u001b[0m\u001b[0;34m)\u001b[0m\u001b[0;34m\u001b[0m\u001b[0;34m\u001b[0m\u001b[0m\n\u001b[1;32m     36\u001b[0m         \u001b[0mresponse\u001b[0m \u001b[0;34m=\u001b[0m \u001b[0mrequest_function\u001b[0m\u001b[0;34m(\u001b[0m\u001b[0;34m*\u001b[0m\u001b[0margs\u001b[0m\u001b[0;34m,\u001b[0m \u001b[0;34m**\u001b[0m\u001b[0mkwargs\u001b[0m\u001b[0;34m)\u001b[0m\u001b[0;34m\u001b[0m\u001b[0;34m\u001b[0m\u001b[0m\n",
            "\u001b[0;32m/usr/local/lib/python3.6/dist-packages/prawcore/rate_limit.py\u001b[0m in \u001b[0;36mdelay\u001b[0;34m(self)\u001b[0m\n\u001b[1;32m     48\u001b[0m                   \u001b[0;34m' call'\u001b[0m\u001b[0;34m.\u001b[0m\u001b[0mformat\u001b[0m\u001b[0;34m(\u001b[0m\u001b[0msleep_seconds\u001b[0m\u001b[0;34m)\u001b[0m\u001b[0;34m\u001b[0m\u001b[0;34m\u001b[0m\u001b[0m\n\u001b[1;32m     49\u001b[0m         \u001b[0mlog\u001b[0m\u001b[0;34m.\u001b[0m\u001b[0mdebug\u001b[0m\u001b[0;34m(\u001b[0m\u001b[0mmessage\u001b[0m\u001b[0;34m)\u001b[0m\u001b[0;34m\u001b[0m\u001b[0;34m\u001b[0m\u001b[0m\n\u001b[0;32m---> 50\u001b[0;31m         \u001b[0mtime\u001b[0m\u001b[0;34m.\u001b[0m\u001b[0msleep\u001b[0m\u001b[0;34m(\u001b[0m\u001b[0msleep_seconds\u001b[0m\u001b[0;34m)\u001b[0m\u001b[0;34m\u001b[0m\u001b[0;34m\u001b[0m\u001b[0m\n\u001b[0m\u001b[1;32m     51\u001b[0m \u001b[0;34m\u001b[0m\u001b[0m\n\u001b[1;32m     52\u001b[0m     \u001b[0;32mdef\u001b[0m \u001b[0mupdate\u001b[0m\u001b[0;34m(\u001b[0m\u001b[0mself\u001b[0m\u001b[0;34m,\u001b[0m \u001b[0mresponse_headers\u001b[0m\u001b[0;34m)\u001b[0m\u001b[0;34m:\u001b[0m\u001b[0;34m\u001b[0m\u001b[0;34m\u001b[0m\u001b[0m\n",
            "\u001b[0;31mKeyboardInterrupt\u001b[0m: "
          ]
        }
      ]
    },
    {
      "cell_type": "code",
      "metadata": {
        "id": "T9DygcKQ5oub",
        "colab_type": "code",
        "colab": {}
      },
      "source": [
        "titles = titles[:5000]\n",
        "corresponding_ids = corresponding_ids[:5000]\n",
        "flairs = flairs[:5000]"
      ],
      "execution_count": 0,
      "outputs": []
    },
    {
      "cell_type": "code",
      "metadata": {
        "id": "XTNjK3xV5omC",
        "colab_type": "code",
        "colab": {}
      },
      "source": [
        ""
      ],
      "execution_count": 0,
      "outputs": []
    },
    {
      "cell_type": "code",
      "metadata": {
        "id": "2IZ6oPwK5ohY",
        "colab_type": "code",
        "colab": {}
      },
      "source": [
        ""
      ],
      "execution_count": 0,
      "outputs": []
    },
    {
      "cell_type": "code",
      "metadata": {
        "id": "-aWbVi1E5odL",
        "colab_type": "code",
        "colab": {}
      },
      "source": [
        ""
      ],
      "execution_count": 0,
      "outputs": []
    },
    {
      "cell_type": "code",
      "metadata": {
        "id": "c23uH1Qa5oZC",
        "colab_type": "code",
        "colab": {}
      },
      "source": [
        ""
      ],
      "execution_count": 0,
      "outputs": []
    },
    {
      "cell_type": "code",
      "metadata": {
        "id": "jnGHBq7c5oU3",
        "colab_type": "code",
        "colab": {}
      },
      "source": [
        ""
      ],
      "execution_count": 0,
      "outputs": []
    },
    {
      "cell_type": "code",
      "metadata": {
        "id": "iNgWqupw5oQs",
        "colab_type": "code",
        "colab": {}
      },
      "source": [
        ""
      ],
      "execution_count": 0,
      "outputs": []
    },
    {
      "cell_type": "code",
      "metadata": {
        "id": "c4o9DA115oL6",
        "colab_type": "code",
        "colab": {}
      },
      "source": [
        ""
      ],
      "execution_count": 0,
      "outputs": []
    },
    {
      "cell_type": "code",
      "metadata": {
        "id": "kvN-Mr-H5oHh",
        "colab_type": "code",
        "colab": {}
      },
      "source": [
        ""
      ],
      "execution_count": 0,
      "outputs": []
    },
    {
      "cell_type": "code",
      "metadata": {
        "id": "Xh3jCMat5oCZ",
        "colab_type": "code",
        "colab": {}
      },
      "source": [
        ""
      ],
      "execution_count": 0,
      "outputs": []
    },
    {
      "cell_type": "code",
      "metadata": {
        "id": "AS2Duojs5n9W",
        "colab_type": "code",
        "colab": {}
      },
      "source": [
        ""
      ],
      "execution_count": 0,
      "outputs": []
    },
    {
      "cell_type": "code",
      "metadata": {
        "id": "_fbvyljN5n2Q",
        "colab_type": "code",
        "colab": {}
      },
      "source": [
        ""
      ],
      "execution_count": 0,
      "outputs": []
    },
    {
      "cell_type": "code",
      "metadata": {
        "id": "q9IzjzUG5nnu",
        "colab_type": "code",
        "colab": {}
      },
      "source": [
        ""
      ],
      "execution_count": 0,
      "outputs": []
    },
    {
      "cell_type": "markdown",
      "metadata": {
        "id": "BnrfPHWxc_xV",
        "colab_type": "text"
      },
      "source": [
        "### I would like to address the issue faced by both techniques(praw reddit API wraper and pushshift.io) used for scrapping the data from India subreddit.\n",
        "- praw is unable the search the data for more than 1000 submissions at a time \n",
        "- pushshift.io is unable to provide all the information we need to proceed further\n",
        "\n",
        "### the solution to this is, I will used pushshift.io to scrap the submission id and praw for information gathering, It will be first of its kind."
      ]
    },
    {
      "cell_type": "code",
      "metadata": {
        "id": "pUX3hWj2Mzvr",
        "colab_type": "code",
        "colab": {}
      },
      "source": [
        "ids = india_subreddit_df['Post ID']"
      ],
      "execution_count": 0,
      "outputs": []
    },
    {
      "cell_type": "code",
      "metadata": {
        "id": "Y8RlvleDhzRK",
        "colab_type": "code",
        "outputId": "f5d61de1-5456-48af-b8a7-eead50542489",
        "colab": {
          "base_uri": "https://localhost:8080/",
          "height": 34
        }
      },
      "source": [
        "len(ids)"
      ],
      "execution_count": 0,
      "outputs": [
        {
          "output_type": "execute_result",
          "data": {
            "text/plain": [
              "192693"
            ]
          },
          "metadata": {
            "tags": []
          },
          "execution_count": 142
        }
      ]
    },
    {
      "cell_type": "markdown",
      "metadata": {
        "id": "JE5sQ6I9i9ay",
        "colab_type": "text"
      },
      "source": [
        "#### here we have 192693 submission ids now we will scrap data using praw"
      ]
    },
    {
      "cell_type": "code",
      "metadata": {
        "id": "X8KweH7nh0G4",
        "colab_type": "code",
        "colab": {}
      },
      "source": [
        "sub_dict = {}\n",
        "\n"
      ],
      "execution_count": 0,
      "outputs": []
    },
    {
      "cell_type": "code",
      "metadata": {
        "id": "tGMXrhp0jhLE",
        "colab_type": "code",
        "colab": {}
      },
      "source": [
        "submission = reddit.submission(id=ids[89])\n"
      ],
      "execution_count": 0,
      "outputs": []
    },
    {
      "cell_type": "code",
      "metadata": {
        "id": "cNk9Ji4ujhlR",
        "colab_type": "code",
        "colab": {}
      },
      "source": [
        "comments = submission.comments\n",
        "\n",
        "i = 0\n",
        "\n",
        "c = []\n",
        "\n",
        "for comment in comments:\n",
        "  if i < 5:\n",
        "#     print(comment.body)\n",
        "      c.append(comment.body)"
      ],
      "execution_count": 0,
      "outputs": []
    },
    {
      "cell_type": "code",
      "metadata": {
        "id": "EKjgMobmjjPm",
        "colab_type": "code",
        "outputId": "e3f19347-6df2-49b8-e5c9-4db413d330f2",
        "colab": {
          "base_uri": "https://localhost:8080/",
          "height": 34
        }
      },
      "source": [
        "submission.num_comments"
      ],
      "execution_count": 0,
      "outputs": [
        {
          "output_type": "execute_result",
          "data": {
            "text/plain": [
              "0"
            ]
          },
          "metadata": {
            "tags": []
          },
          "execution_count": 162
        }
      ]
    },
    {
      "cell_type": "code",
      "metadata": {
        "id": "yhJyatWjj2z5",
        "colab_type": "code",
        "outputId": "4b46ec34-3c51-451f-c3cd-17aee94a95b2",
        "colab": {
          "base_uri": "https://localhost:8080/",
          "height": 54
        }
      },
      "source": [
        "c[1]"
      ],
      "execution_count": 0,
      "outputs": [
        {
          "output_type": "execute_result",
          "data": {
            "text/plain": [
              "'And they will be wondering why it’s not selling and that poor sales manager will be under fire. If this is done by the employee on purpose - it’s either sweet revenge or malicious compliance. '"
            ]
          },
          "metadata": {
            "tags": []
          },
          "execution_count": 158
        }
      ]
    },
    {
      "cell_type": "code",
      "metadata": {
        "id": "IDH3FjFXkEEV",
        "colab_type": "code",
        "outputId": "40e9e8a0-538d-45fd-e832-0441bfb068c4",
        "colab": {
          "base_uri": "https://localhost:8080/",
          "height": 34
        }
      },
      "source": [
        "submission.link_flair_text"
      ],
      "execution_count": 0,
      "outputs": [
        {
          "output_type": "execute_result",
          "data": {
            "text/plain": [
              "'Low-effort Post.'"
            ]
          },
          "metadata": {
            "tags": []
          },
          "execution_count": 159
        }
      ]
    },
    {
      "cell_type": "code",
      "metadata": {
        "id": "JqANRw2wkZPK",
        "colab_type": "code",
        "colab": {}
      },
      "source": [
        ""
      ],
      "execution_count": 0,
      "outputs": []
    }
  ]
}