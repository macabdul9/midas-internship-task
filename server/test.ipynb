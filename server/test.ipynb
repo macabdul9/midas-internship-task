{
 "cells": [
  {
   "cell_type": "code",
   "execution_count": 1,
   "metadata": {},
   "outputs": [
    {
     "output_type": "stream",
     "name": "stderr",
     "text": "Using TensorFlow backend.\n[nltk_data] Downloading package stopwords to\n[nltk_data]     C:\\Users\\abdul\\AppData\\Roaming\\nltk_data...\n[nltk_data]   Package stopwords is already up-to-date!\n"
    }
   ],
   "source": [
    "from keras.models import load_model\n",
    "from keras.preprocessing.sequence import pad_sequences\n",
    "from utils.TextPreprocess import clean_text\n",
    "import pickle\n",
    "from numpy import argmax\n",
    "import praw"
   ]
  },
  {
   "cell_type": "code",
   "execution_count": 3,
   "metadata": {},
   "outputs": [],
   "source": [
    "model = load_model(\".\\models\\LSTM\\lstm.h5\")"
   ]
  },
  {
   "cell_type": "code",
   "execution_count": 4,
   "metadata": {},
   "outputs": [
    {
     "output_type": "stream",
     "name": "stdout",
     "text": "Model: \"sequential_4\"\n_________________________________________________________________\nLayer (type)                 Output Shape              Param #   \n=================================================================\nembedding_1 (Embedding)      (None, 500, 100)          6000000   \n_________________________________________________________________\ndropout_1 (Dropout)          (None, 500, 100)          0         \n_________________________________________________________________\nconv1d_1 (Conv1D)            (None, 496, 64)           32064     \n_________________________________________________________________\nmaxpool_1 (MaxPooling1D)     (None, 124, 64)           0         \n_________________________________________________________________\nBiLSTM_module (Bidirectional (None, 200)               132000    \n_________________________________________________________________\noutput (Dense)               (None, 11)                2211      \n=================================================================\nTotal params: 6,166,275\nTrainable params: 6,166,275\nNon-trainable params: 0\n_________________________________________________________________\n"
    }
   ],
   "source": [
    "model.summary()"
   ]
  },
  {
   "cell_type": "code",
   "execution_count": 2,
   "metadata": {},
   "outputs": [],
   "source": [
    "with open(\"./models/LabelEncoder/LabelEncoder.pkl\", 'rb') as fp:\n",
    "    le = pickle.load(fp)\n",
    "with open(\"./models/Tokenizer/tokenizer.pkl\", 'rb') as fp:\n",
    "    tokenizer = pickle.load(fp)"
   ]
  },
  {
   "cell_type": "code",
   "execution_count": 3,
   "metadata": {},
   "outputs": [
    {
     "output_type": "execute_result",
     "data": {
      "text/plain": "array(['AskIndia', 'Business/Finance', 'Coronavirus', 'Food',\n       'Non-Political', 'Photography', 'Policy/Economy', 'Politics',\n       'Science/Technology', 'Sports', '[R]eddiquette'], dtype=object)"
     },
     "metadata": {},
     "execution_count": 3
    }
   ],
   "source": [
    "le.classes_"
   ]
  },
  {
   "cell_type": "code",
   "execution_count": 8,
   "metadata": {},
   "outputs": [],
   "source": [
    "reddit = praw.Reddit(\n",
    "        client_id='pw8WCM92ySUjsQ', \n",
    "        client_secret='y0MJFMWBtHXMLW2-3B2upsU2jYQ', \n",
    "        user_agent='reddit-scrap', \n",
    "        username='macabdul9', \n",
    "        password='Sudo$0#1'\n",
    ")"
   ]
  },
  {
   "cell_type": "code",
   "execution_count": 9,
   "metadata": {},
   "outputs": [],
   "source": [
    "url =  \"https://www.reddit.com/r/india/comments/g79auq/greetings_from_saudi_arabia_during_this_lock_down/\""
   ]
  },
  {
   "cell_type": "code",
   "execution_count": 29,
   "metadata": {},
   "outputs": [],
   "source": []
  },
  {
   "cell_type": "code",
   "execution_count": 30,
   "metadata": {},
   "outputs": [],
   "source": []
  },
  {
   "cell_type": "code",
   "execution_count": 5,
   "metadata": {},
   "outputs": [],
   "source": [
    "# data"
   ]
  },
  {
   "cell_type": "code",
   "execution_count": 33,
   "metadata": {},
   "outputs": [],
   "source": []
  },
  {
   "cell_type": "code",
   "execution_count": 34,
   "metadata": {},
   "outputs": [
    {
     "output_type": "execute_result",
     "data": {
      "text/plain": "1"
     },
     "metadata": {},
     "execution_count": 34
    }
   ],
   "source": [
    "len(data)"
   ]
  },
  {
   "cell_type": "code",
   "execution_count": 35,
   "metadata": {},
   "outputs": [
    {
     "output_type": "execute_result",
     "data": {
      "text/plain": "array([[0.02533309, 0.00603649, 0.51029295, 0.00445003, 0.13989675,\n        0.00242763, 0.03338875, 0.25958517, 0.00629901, 0.00871575,\n        0.00357436]], dtype=float32)"
     },
     "metadata": {},
     "execution_count": 35
    }
   ],
   "source": []
  },
  {
   "cell_type": "code",
   "execution_count": 36,
   "metadata": {},
   "outputs": [
    {
     "output_type": "execute_result",
     "data": {
      "text/plain": "2"
     },
     "metadata": {},
     "execution_count": 36
    }
   ],
   "source": []
  },
  {
   "cell_type": "code",
   "execution_count": 39,
   "metadata": {},
   "outputs": [
    {
     "output_type": "execute_result",
     "data": {
      "text/plain": "array(['AskIndia', 'Business/Finance', 'Coronavirus', 'Food',\n       'Non-Political', 'Photography', 'Policy/Economy', 'Politics',\n       'Science/Technology', 'Sports', '[R]eddiquette'], dtype=object)"
     },
     "metadata": {},
     "execution_count": 39
    }
   ],
   "source": [
    "le.classes_"
   ]
  },
  {
   "cell_type": "code",
   "execution_count": 10,
   "metadata": {},
   "outputs": [],
   "source": [
    "def get_pred(url):\n",
    "    sub = reddit.submission(url=url)\n",
    "    data = \" \".join([sub.title, sub.url, sub.selftext, sub.link_flair_text])\n",
    "    data = clean_text(data)\n",
    "    return data\n",
    "    ### Create sequence\n",
    "    # sequences = tokenizer.texts_to_sequences([data])\n",
    "    # data = pad_sequences(sequences, maxlen=500)\n",
    "    # return le.classes_[argmax(model.predict(data))]"
   ]
  },
  {
   "cell_type": "code",
   "execution_count": 11,
   "metadata": {},
   "outputs": [],
   "source": [
    "data = get_pred(url=\"https://www.reddit.com/r/india/comments/g7gjg2/dear_indians_today_armenians_all_around_the_world/\")"
   ]
  },
  {
   "cell_type": "code",
   "execution_count": 12,
   "metadata": {},
   "outputs": [],
   "source": [
    "from multiprocessing import cpu_count"
   ]
  },
  {
   "cell_type": "code",
   "execution_count": 13,
   "metadata": {},
   "outputs": [],
   "source": [
    "args = {\n",
    "    \"output_dir\": \"outputs-xlnet/\",\n",
    "    \"cache_dir\": \"cache-xlnet/\",\n",
    "    \"best_model_dir\": \"outputs-xlnet/best_model/\",\n",
    "\n",
    "    \"fp16\": False,\n",
    "    \"fp16_opt_level\": \"O1\",\n",
    "    \"max_seq_length\": 128,\n",
    "    \"train_batch_size\": 32,\n",
    "    \"eval_batch_size\": 32,\n",
    "    \"gradient_accumulation_steps\": 1,\n",
    "    \"num_train_epochs\": 3,\n",
    "    \"weight_decay\": 0,\n",
    "    \"learning_rate\": 1e-4,\n",
    "    \"adam_epsilon\": 1e-8,\n",
    "    \"warmup_ratio\": 0.06,\n",
    "    \"warmup_steps\": 0,\n",
    "    \"max_grad_norm\": 1.0,\n",
    "    \"do_lower_case\": False,\n",
    "\n",
    "    \"logging_steps\": 50,\n",
    "    \"evaluate_during_training\": False,\n",
    "    \"evaluate_during_training_steps\": 2000,\n",
    "    \"evaluate_during_training_verbose\": False,\n",
    "    \"use_cached_eval_features\": False,\n",
    "    \"save_eval_checkpoints\": True,\n",
    "    \"no_cache\": False,\n",
    "    \"save_model_every_epoch\": True,\n",
    "    \"tensorboard_dir\": None,\n",
    "\n",
    "    \"overwrite_output_dir\": True,\n",
    "    \"reprocess_input_data\": True,\n",
    "\n",
    "    \"process_count\": cpu_count() - 4 ,\n",
    "    \"n_gpu\": 1,\n",
    "    \"silent\": False,\n",
    "    \"use_multiprocessing\": True,\n",
    "\n",
    "    \"wandb_project\": None,\n",
    "    \"wandb_kwargs\": {},\n",
    "\n",
    "    \"use_early_stopping\": True,\n",
    "    \"early_stopping_patience\": 2,\n",
    "    \"early_stopping_delta\": 0,\n",
    "    \"early_stopping_metric\": \"eval_loss\",\n",
    "    \"early_stopping_metric_minimize\": True,\n",
    "\n",
    "    \"manual_seed\": 0,\n",
    "    \"encoding\": None,\n",
    "    \"config\": {},\n",
    "}"
   ]
  },
  {
   "cell_type": "code",
   "execution_count": 14,
   "metadata": {},
   "outputs": [],
   "source": [
    "from simpletransformers.classification import ClassificationModel"
   ]
  },
  {
   "cell_type": "code",
   "execution_count": 16,
   "metadata": {},
   "outputs": [],
   "source": [
    "model = ClassificationModel(\"distilbert\", './models/DistilBERT/checkpoint-3530-epoch-5', use_cuda=False, num_labels=11)"
   ]
  },
  {
   "cell_type": "code",
   "execution_count": 17,
   "metadata": {},
   "outputs": [
    {
     "output_type": "stream",
     "name": "stderr",
     "text": "100%|██████████| 1/1 [00:03<00:00,  3.18s/it]\n100%|██████████| 1/1 [00:00<00:00,  7.87it/s]\n"
    }
   ],
   "source": [
    "predictions, raw_outputs = model.predict([data])"
   ]
  },
  {
   "cell_type": "code",
   "execution_count": 21,
   "metadata": {},
   "outputs": [
    {
     "output_type": "execute_result",
     "data": {
      "text/plain": "7"
     },
     "metadata": {},
     "execution_count": 21
    }
   ],
   "source": [
    "predictions[0]"
   ]
  },
  {
   "cell_type": "code",
   "execution_count": 33,
   "metadata": {},
   "outputs": [],
   "source": [
    "import numpy as np"
   ]
  },
  {
   "cell_type": "code",
   "execution_count": 45,
   "metadata": {},
   "outputs": [
    {
     "output_type": "execute_result",
     "data": {
      "text/plain": "array([10,  4,  7], dtype=int64)"
     },
     "metadata": {},
     "execution_count": 45
    }
   ],
   "source": [
    "top_3 = raw_outputs.argsort()[0][-3:]\n"
   ]
  },
  {
   "cell_type": "code",
   "execution_count": 46,
   "metadata": {},
   "outputs": [
    {
     "output_type": "execute_result",
     "data": {
      "text/plain": "array([[-2.0442946, -6.101591 , -5.9006543, -7.1868215,  5.3623037,\n        -6.0955386, -1.851397 ,  7.4698653, -5.8149967, -3.8449247,\n         0.5095671]], dtype=float32)"
     },
     "metadata": {},
     "execution_count": 46
    }
   ],
   "source": [
    "raw_outputs"
   ]
  },
  {
   "cell_type": "code",
   "execution_count": 49,
   "metadata": {},
   "outputs": [],
   "source": [
    "def softmax_numpy(scores):\n",
    "  return np.exp(scores)/sum(np.exp(scores), axis=0)"
   ]
  },
  {
   "cell_type": "code",
   "execution_count": 59,
   "metadata": {},
   "outputs": [],
   "source": [
    "confidence = softmax_numpy(raw_outputs[0])"
   ]
  },
  {
   "cell_type": "code",
   "execution_count": 61,
   "metadata": {},
   "outputs": [
    {
     "output_type": "execute_result",
     "data": {
      "text/plain": "6.573594e-05"
     },
     "metadata": {},
     "execution_count": 61
    }
   ],
   "source": [
    "confidence[0]"
   ]
  },
  {
   "cell_type": "code",
   "execution_count": 1,
   "metadata": {},
   "outputs": [],
   "source": [
    "import requests"
   ]
  },
  {
   "cell_type": "code",
   "execution_count": 10,
   "metadata": {},
   "outputs": [],
   "source": [
    "URL = \"https://young-oasis-17864.herokuapp.com/\"\n",
    "PARAMS = {'url':\"https://www.reddit.com/r/india/comments/g7qeec/doland_dont_do_press_conference/\"}"
   ]
  },
  {
   "cell_type": "code",
   "execution_count": 12,
   "metadata": {},
   "outputs": [],
   "source": [
    "# sending get request and saving the response as response object \n",
    "r = requests.post(url = URL, params = PARAMS) \n",
    "  \n",
    "# extracting data in json format \n",
    "# data = r.json() "
   ]
  },
  {
   "cell_type": "code",
   "execution_count": 13,
   "metadata": {},
   "outputs": [
    {
     "output_type": "stream",
     "name": "stdout",
     "text": "<Response [503]>\n"
    }
   ],
   "source": [
    "print(r)"
   ]
  },
  {
   "cell_type": "code",
   "execution_count": null,
   "metadata": {},
   "outputs": [],
   "source": []
  }
 ],
 "metadata": {
  "language_info": {
   "codemirror_mode": {
    "name": "ipython",
    "version": 3
   },
   "file_extension": ".py",
   "mimetype": "text/x-python",
   "name": "python",
   "nbconvert_exporter": "python",
   "pygments_lexer": "ipython3",
   "version": "3.7.0-final"
  },
  "orig_nbformat": 2,
  "kernelspec": {
   "name": "python37064bitcdd344d0df034a7395ad747f8a4214da",
   "display_name": "Python 3.7.0 64-bit"
  }
 },
 "nbformat": 4,
 "nbformat_minor": 2
}