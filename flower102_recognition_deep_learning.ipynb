{
  "nbformat": 4,
  "nbformat_minor": 0,
  "metadata": {
    "colab": {
      "name": "flower102-recognition-efficient-nets.ipynb",
      "version": "0.3.2",
      "provenance": [],
      "collapsed_sections": [],
      "toc_visible": true,
      "machine_shape": "hm"
    },
    "kernelspec": {
      "name": "python3",
      "display_name": "Python 3"
    },
    "accelerator": "GPU"
  },
  "cells": [
    {
      "cell_type": "markdown",
      "metadata": {
        "id": "HQhFYpINDGFD",
        "colab_type": "text"
      },
      "source": [
        "\n",
        "### url for challenge : https://www.hackerearth.com/challenges/competitive/garden-nerd-data-science-competition/"
      ]
    },
    {
      "cell_type": "code",
      "metadata": {
        "id": "kMFUhzj5BFRG",
        "colab_type": "code",
        "colab": {}
      },
      "source": [
        "# !wget https://he-public-data.s3-ap-southeast-1.amazonaws.com/HE_Challenge_data.zip"
      ],
      "execution_count": 0,
      "outputs": []
    },
    {
      "cell_type": "code",
      "metadata": {
        "id": "z2KQNwqkbwyQ",
        "colab_type": "code",
        "colab": {}
      },
      "source": [
        "# !unzip HE_Challenge_data"
      ],
      "execution_count": 0,
      "outputs": []
    },
    {
      "cell_type": "code",
      "metadata": {
        "id": "wR18oMhwDbVm",
        "colab_type": "code",
        "colab": {}
      },
      "source": [
        "import warnings\n",
        "warnings.filterwarnings('ignore')"
      ],
      "execution_count": 1,
      "outputs": []
    },
    {
      "cell_type": "code",
      "metadata": {
        "id": "W1cDhpgoDQQa",
        "colab_type": "code",
        "outputId": "34dc6116-7864-4db2-bc0c-fca21870d510",
        "colab": {
          "base_uri": "https://localhost:8080/",
          "height": 34
        }
      },
      "source": [
        "import os\n",
        "import shutil\n",
        "import numpy as np\n",
        "import pandas as pd\n",
        "import matplotlib.pyplot as plt\n",
        "import keras"
      ],
      "execution_count": 2,
      "outputs": [
        {
          "output_type": "stream",
          "name": "stderr",
          "text": "Using TensorFlow backend.\n"
        }
      ]
    },
    {
      "cell_type": "markdown",
      "metadata": {
        "id": "DvoANZ_FDPbO",
        "colab_type": "text"
      },
      "source": [
        "## Data Pipeline"
      ]
    },
    {
      "cell_type": "code",
      "metadata": {
        "id": "r0iL_gi_SAPx",
        "colab_type": "code",
        "colab": {}
      },
      "source": [
        "train = pd.read_csv('data/train.csv')\n",
        "test = pd.read_csv('data/test.csv')\n",
        "sample = pd.read_csv('data/sample_submission.csv')"
      ],
      "execution_count": 2,
      "outputs": []
    },
    {
      "cell_type": "code",
      "metadata": {
        "id": "CsS--OGVDYQ9",
        "colab_type": "code",
        "outputId": "ae34c9d1-7012-4091-9428-563446ee399c",
        "colab": {
          "base_uri": "https://localhost:8080/",
          "height": 143
        }
      },
      "source": [
        "train.tail(3)"
      ],
      "execution_count": 3,
      "outputs": [
        {
          "output_type": "execute_result",
          "data": {
            "text/plain": "       image_id  category\n18537     18537        78\n18538     18538        74\n18539     18539        29",
            "text/html": "<div>\n<style scoped>\n    .dataframe tbody tr th:only-of-type {\n        vertical-align: middle;\n    }\n\n    .dataframe tbody tr th {\n        vertical-align: top;\n    }\n\n    .dataframe thead th {\n        text-align: right;\n    }\n</style>\n<table border=\"1\" class=\"dataframe\">\n  <thead>\n    <tr style=\"text-align: right;\">\n      <th></th>\n      <th>image_id</th>\n      <th>category</th>\n    </tr>\n  </thead>\n  <tbody>\n    <tr>\n      <th>18537</th>\n      <td>18537</td>\n      <td>78</td>\n    </tr>\n    <tr>\n      <th>18538</th>\n      <td>18538</td>\n      <td>74</td>\n    </tr>\n    <tr>\n      <th>18539</th>\n      <td>18539</td>\n      <td>29</td>\n    </tr>\n  </tbody>\n</table>\n</div>"
          },
          "metadata": {},
          "execution_count": 3
        }
      ]
    },
    {
      "cell_type": "code",
      "metadata": {
        "id": "aZUxuUGOrKdJ",
        "colab_type": "code",
        "outputId": "bafc4213-ae51-4a9e-d256-d6cd15b0096a",
        "colab": {
          "base_uri": "https://localhost:8080/",
          "height": 143
        }
      },
      "source": [
        "test.head(3)"
      ],
      "execution_count": 4,
      "outputs": [
        {
          "output_type": "execute_result",
          "data": {
            "text/plain": "   image_id  category\n0     18540       NaN\n1     18541       NaN\n2     18542       NaN",
            "text/html": "<div>\n<style scoped>\n    .dataframe tbody tr th:only-of-type {\n        vertical-align: middle;\n    }\n\n    .dataframe tbody tr th {\n        vertical-align: top;\n    }\n\n    .dataframe thead th {\n        text-align: right;\n    }\n</style>\n<table border=\"1\" class=\"dataframe\">\n  <thead>\n    <tr style=\"text-align: right;\">\n      <th></th>\n      <th>image_id</th>\n      <th>category</th>\n    </tr>\n  </thead>\n  <tbody>\n    <tr>\n      <th>0</th>\n      <td>18540</td>\n      <td>NaN</td>\n    </tr>\n    <tr>\n      <th>1</th>\n      <td>18541</td>\n      <td>NaN</td>\n    </tr>\n    <tr>\n      <th>2</th>\n      <td>18542</td>\n      <td>NaN</td>\n    </tr>\n  </tbody>\n</table>\n</div>"
          },
          "metadata": {},
          "execution_count": 4
        }
      ]
    },
    {
      "cell_type": "code",
      "metadata": {
        "id": "S0N9CAyutTV-",
        "colab_type": "code",
        "outputId": "aa022405-e292-4c58-ad0a-b6faf5f03ac3",
        "colab": {
          "base_uri": "https://localhost:8080/",
          "height": 143
        }
      },
      "source": [
        "sample.head(3)"
      ],
      "execution_count": 5,
      "outputs": [
        {
          "output_type": "execute_result",
          "data": {
            "text/plain": "   image_id  category\n0     18540         0\n1     18541         0\n2     18542         0",
            "text/html": "<div>\n<style scoped>\n    .dataframe tbody tr th:only-of-type {\n        vertical-align: middle;\n    }\n\n    .dataframe tbody tr th {\n        vertical-align: top;\n    }\n\n    .dataframe thead th {\n        text-align: right;\n    }\n</style>\n<table border=\"1\" class=\"dataframe\">\n  <thead>\n    <tr style=\"text-align: right;\">\n      <th></th>\n      <th>image_id</th>\n      <th>category</th>\n    </tr>\n  </thead>\n  <tbody>\n    <tr>\n      <th>0</th>\n      <td>18540</td>\n      <td>0</td>\n    </tr>\n    <tr>\n      <th>1</th>\n      <td>18541</td>\n      <td>0</td>\n    </tr>\n    <tr>\n      <th>2</th>\n      <td>18542</td>\n      <td>0</td>\n    </tr>\n  </tbody>\n</table>\n</div>"
          },
          "metadata": {},
          "execution_count": 5
        }
      ]
    },
    {
      "cell_type": "code",
      "metadata": {
        "id": "jZmK96L2Dhal",
        "colab_type": "code",
        "colab": {}
      },
      "source": [
        "train = train.values"
      ],
      "execution_count": 6,
      "outputs": []
    },
    {
      "cell_type": "code",
      "metadata": {
        "id": "tSaa_0LeDhYB",
        "colab_type": "code",
        "colab": {}
      },
      "source": [
        "folders, num_samples = np.unique(train[:, 1], return_counts=True)"
      ],
      "execution_count": 7,
      "outputs": []
    },
    {
      "cell_type": "code",
      "metadata": {
        "id": "sL6sZu_cDhVL",
        "colab_type": "code",
        "colab": {}
      },
      "source": [
        "# make subdirectory of each class\n",
        "for folder in folders:\n",
        "  p = os.path.join('data/train', str(folder))\n",
        "  if not os.path.isdir(p):\n",
        "    os.mkdir(p)"
      ],
      "execution_count": 8,
      "outputs": []
    },
    {
      "cell_type": "code",
      "metadata": {
        "id": "TXMlWyFODhSk",
        "colab_type": "code",
        "colab": {}
      },
      "source": [
        "for i in range(train.shape[0]):\n",
        "  dest = os.path.join('data/train/', str(train[i][1]))\n",
        "  src = os.path.join('data/train', str(train[i][0]) + '.jpg')\n",
        "  shutil.move(src, dest)"
      ],
      "execution_count": 9,
      "outputs": []
    },
    {
      "cell_type": "markdown",
      "metadata": {
        "id": "0uVItCbdD3fz",
        "colab_type": "text"
      },
      "source": [
        "#### validation - training split"
      ]
    },
    {
      "cell_type": "code",
      "metadata": {
        "id": "4MS2-7G_DhPv",
        "colab_type": "code",
        "colab": {}
      },
      "source": [
        "SPLIT = 0.90 # 95% for training 5% for validation"
      ],
      "execution_count": 10,
      "outputs": []
    },
    {
      "cell_type": "code",
      "metadata": {
        "id": "H_0fU5ccDhL3",
        "colab_type": "code",
        "colab": {}
      },
      "source": [
        "# create the validation directory\n",
        "if not os.path.isdir('data/val'):\n",
        "  os.mkdir('data/val')\n",
        ""
      ],
      "execution_count": 11,
      "outputs": []
    },
    {
      "cell_type": "code",
      "metadata": {
        "id": "2W3t38QaDhFy",
        "colab_type": "code",
        "colab": {}
      },
      "source": [
        "# creating subdirectories (of each category) in validation directory\n",
        "for folder in folders:\n",
        "  p = os.path.join('data/val', str(folder))\n",
        "  if not os.path.isdir(p):\n",
        "    os.mkdir(p)\n",
        ""
      ],
      "execution_count": 12,
      "outputs": []
    },
    {
      "cell_type": "code",
      "metadata": {
        "id": "d0qZMEuIDhA9",
        "colab_type": "code",
        "colab": {}
      },
      "source": [
        "# move the 3% data from training directory to validation directory\n",
        "for f in folders:\n",
        "  path = 'data/train/'+str(f)\n",
        "  imgs = os.listdir(path)\n",
        "  split_size = int(SPLIT*len(imgs))\n",
        "  file_to_move = imgs[split_size:]\n",
        "  \n",
        "  for img_f in file_to_move:\n",
        "    src = os.path.join(path, img_f)\n",
        "    dest = os.path.join('data/val/'+str(f), img_f)\n",
        "    shutil.move(src, dest)"
      ],
      "execution_count": 13,
      "outputs": []
    },
    {
      "cell_type": "markdown",
      "metadata": {
        "id": "x8aWBrLVEMiL",
        "colab_type": "text"
      },
      "source": [
        "\n",
        "###Data Augmentation\n"
      ]
    },
    {
      "cell_type": "code",
      "metadata": {
        "id": "f3kbB_7cEVe2",
        "colab_type": "code",
        "colab": {}
      },
      "source": [
        "from keras.preprocessing.image import ImageDataGenerator"
      ],
      "execution_count": 3,
      "outputs": []
    },
    {
      "cell_type": "code",
      "execution_count": 4,
      "metadata": {},
      "outputs": [],
      "source": [
        "manipulated_path = \"./data/manipulated/\""
      ]
    },
    {
      "cell_type": "code",
      "execution_count": 5,
      "metadata": {},
      "outputs": [],
      "source": [
        "# for i in range(103, 151, 1):\n",
        "#     for s in os.listdir(manipulated_path):\n",
        "#         new_cat = os.path.join(manipulated_path, s, str(i))\n",
        "#         if not os.path.isdir(new_cat):\n",
        "#             os.mkdir(new_cat)"
      ]
    },
    {
      "cell_type": "code",
      "execution_count": 6,
      "metadata": {},
      "outputs": [
        {
          "output_type": "stream",
          "text": "\u001b[1;31mSignature:\u001b[0m \u001b[0mos\u001b[0m\u001b[1;33m.\u001b[0m\u001b[0mpath\u001b[0m\u001b[1;33m.\u001b[0m\u001b[0misdir\u001b[0m\u001b[1;33m(\u001b[0m\u001b[0mpath\u001b[0m\u001b[1;33m,\u001b[0m \u001b[1;33m/\u001b[0m\u001b[1;33m)\u001b[0m\u001b[1;33m\u001b[0m\u001b[0m\n\u001b[1;31mDocstring:\u001b[0m Return true if the pathname refers to an existing directory.\n\u001b[1;31mType:\u001b[0m      builtin_function_or_method\n",
          "metadata": {},
          "execution_count": 6
        }
      ],
      "source": [
        "os.path.isdir?"
      ]
    },
    {
      "cell_type": "code",
      "metadata": {
        "id": "V4PLjyt_DmUz",
        "colab_type": "code",
        "colab": {}
      },
      "source": [
        "train_img_gen = ImageDataGenerator(\n",
        "    rescale = 1/255.0,\n",
        "    rotation_range = 60,\n",
        "    width_shift_range = 0.2,\n",
        "    height_shift_range = 0.2,\n",
        "    shear_range = 0.3,\n",
        "    zoom_range = 0.3,\n",
        "    horizontal_flip = True,\n",
        ")\n",
        "val_img_gen = ImageDataGenerator(\n",
        "    rescale = 1/255.0,\n",
        ")"
      ],
      "execution_count": 7,
      "outputs": []
    },
    {
      "cell_type": "code",
      "metadata": {
        "id": "pInP4pPtDmS1",
        "colab_type": "code",
        "outputId": "d377c069-57d9-4ecb-be73-d969160167e4",
        "colab": {
          "base_uri": "https://localhost:8080/",
          "height": 52
        }
      },
      "source": [
        "train_gen = train_img_gen.flow_from_directory(\n",
        "    'data/main/train',\n",
        "    batch_size = 8,\n",
        ")\n",
        "val_gen = val_img_gen.flow_from_directory(\n",
        "    'data/main/val/',\n",
        ")"
      ],
      "execution_count": 8,
      "outputs": [
        {
          "output_type": "stream",
          "name": "stdout",
          "text": "Found 16638 images belonging to 102 classes.\nFound 1902 images belonging to 102 classes.\n"
        }
      ]
    },
    {
      "cell_type": "code",
      "execution_count": 9,
      "metadata": {},
      "outputs": [
        {
          "output_type": "stream",
          "name": "stdout",
          "text": "Found 16638 images belonging to 150 classes.\nFound 1902 images belonging to 150 classes.\n"
        }
      ],
      "source": [
        "train_gen_m = train_img_gen.flow_from_directory(\n",
        "    'data/manipulated/train',\n",
        "    batch_size = 8,\n",
        ")\n",
        "val_gen_m = val_img_gen.flow_from_directory(\n",
        "    'data/manipulated/val',\n",
        ")"
      ]
    },
    {
      "cell_type": "code",
      "metadata": {
        "id": "t1-SVE5FDmQf",
        "colab_type": "code",
        "outputId": "777de774-2a6a-4580-ee1f-8e17ee80863d",
        "colab": {
          "base_uri": "https://localhost:8080/",
          "height": 34
        }
      },
      "source": [
        "for (x, y) in train_gen:\n",
        "  print(x.shape, y.shape)\n",
        "  break"
      ],
      "execution_count": 10,
      "outputs": [
        {
          "output_type": "stream",
          "name": "stdout",
          "text": "(8, 256, 256, 3) (8, 102)\n"
        }
      ]
    },
    {
      "cell_type": "code",
      "execution_count": 11,
      "metadata": {},
      "outputs": [
        {
          "output_type": "stream",
          "name": "stdout",
          "text": "(8, 256, 256, 3) (8, 150)\n"
        }
      ],
      "source": [
        "for (x, y) in train_gen_m:\n",
        "  print(x.shape, y.shape)\n",
        "  break"
      ]
    },
    {
      "cell_type": "code",
      "metadata": {
        "id": "iiN5gS9zzU8Y",
        "colab_type": "code",
        "colab": {}
      },
      "source": [
        "# train_gen.class_indices"
      ],
      "execution_count": 0,
      "outputs": []
    },
    {
      "cell_type": "code",
      "metadata": {
        "id": "HYs8Av5Bzu2X",
        "colab_type": "code",
        "colab": {}
      },
      "source": [
        "# val_gen.class_indices"
      ],
      "execution_count": 0,
      "outputs": []
    },
    {
      "cell_type": "markdown",
      "metadata": {
        "id": "Pu26rJ6GEii0",
        "colab_type": "text"
      },
      "source": [
        "# Claasifiers Models\n"
      ]
    },
    {
      "cell_type": "code",
      "metadata": {
        "id": "xgfO39m8DmME",
        "colab_type": "code",
        "colab": {}
      },
      "source": [
        "from keras.models import *\n",
        "from keras.layers import *\n",
        "from keras.optimizers import *"
      ],
      "execution_count": 12,
      "outputs": []
    },
    {
      "cell_type": "code",
      "metadata": {
        "id": "-gFool2Idh4R",
        "colab_type": "code",
        "colab": {}
      },
      "source": [
        "# adam = Adam(lr=0.0003)"
      ],
      "execution_count": 13,
      "outputs": []
    },
    {
      "cell_type": "markdown",
      "metadata": {
        "id": "muchhZWHEpCm",
        "colab_type": "text"
      },
      "source": [
        "####  Callback and Checkpoints\n"
      ]
    },
    {
      "cell_type": "code",
      "metadata": {
        "id": "28eApyggDmBr",
        "colab_type": "code",
        "colab": {}
      },
      "source": [
        "from keras.callbacks import Callback,  EarlyStopping"
      ],
      "execution_count": 14,
      "outputs": []
    },
    {
      "cell_type": "code",
      "metadata": {
        "id": "zbvp6qGnDm8Y",
        "colab_type": "code",
        "colab": {}
      },
      "source": [
        "# early stopping\n",
        "es = keras.callbacks.EarlyStopping(monitor='val_loss', min_delta=0.05, patience=3)\n",
        "\n",
        "# models checkpoints-- saves best only \n",
        "cp_efficient = keras.callbacks.ModelCheckpoint('efficient_net_weights.h5', monitor='val_loss', verbose=0, save_best_only=True, save_weights_only=False, mode='auto', period = 1)\n",
        "cp_xception = keras.callbacks.ModelCheckpoint('xception_net_weights.h5', monitor='val_loss', verbose=0, save_best_only=True, save_weights_only=False, mode='auto', period = 1)\n",
        "cp_vgg = keras.callbacks.ModelCheckpoint('vgg.h5', monitor='val_loss', verbose=0, save_best_only=True, save_weights_only=False, mode='auto', period = 1)\n",
        "cp_resnet = keras.callbacks.ModelCheckpoint('resnet.h5', monitor='val_loss', verbose=0, save_best_only=True, save_weights_only=False, mode='auto', period = 1)\n",
        "cp_nas = keras.callbacks.ModelCheckpoint('nas_net.h5', monitor='val_loss', verbose=0, save_best_only=True, save_weights_only=False, mode='auto', period = 1)"
      ],
      "execution_count": 15,
      "outputs": []
    },
    {
      "cell_type": "markdown",
      "metadata": {
        "id": "YARbhFd4FBoK",
        "colab_type": "text"
      },
      "source": [
        "## Models Architecture"
      ]
    },
    {
      "cell_type": "markdown",
      "metadata": {
        "id": "JupIMoBJRPHM",
        "colab_type": "text"
      },
      "source": [
        "### 1. EfficientNet"
      ]
    },
    {
      "cell_type": "code",
      "metadata": {
        "id": "PX8NRjLSDm5t",
        "colab_type": "code",
        "colab": {}
      },
      "source": [
        "# ! pip install keras_efficientnets\n",
        "from keras_efficientnets import EfficientNetB0"
      ],
      "execution_count": 17,
      "outputs": []
    },
    {
      "cell_type": "code",
      "metadata": {
        "id": "Sf1EcTb7Dm26",
        "colab_type": "code",
        "outputId": "5a5138db-4452-43d4-f9ce-b270476f7772",
        "colab": {
          "base_uri": "https://localhost:8080/",
          "height": 298
        }
      },
      "source": [
        "# model for 102\n",
        "efficient = EfficientNetB0((256, 256, 3), classes=102, weights=None)"
      ],
      "execution_count": 18,
      "outputs": []
    },
    {
      "cell_type": "code",
      "execution_count": 20,
      "metadata": {},
      "outputs": [],
      "source": [
        "# model for 150 class\n",
        "efficient_m = EfficientNetB0((256, 256, 3), classes=150, weights=None)"
      ]
    },
    {
      "cell_type": "code",
      "metadata": {
        "id": "JlYlkj8TFbcV",
        "colab_type": "code",
        "outputId": "49c9cd6a-44f0-4817-f76e-905b14aaeac7",
        "colab": {
          "base_uri": "https://localhost:8080/",
          "height": 1000
        },
        "tags": [
          "outputPrepend"
        ]
      },
      "source": [
        "# efficient.summary()"
      ],
      "execution_count": 20,
      "outputs": []
    },
    {
      "cell_type": "code",
      "execution_count": 21,
      "metadata": {},
      "outputs": [],
      "source": [
        "# # only last ten layers of both net are trainable\n",
        "# for layer in efficient.layers[:-10]:\n",
        "#     layer.trainable =False\n",
        "# for layer in efficient_m.layers[:-10]:\n",
        "#     layer.trainable =False"
      ]
    },
    {
      "cell_type": "code",
      "execution_count": 26,
      "metadata": {
        "tags": [
          "outputPrepend"
        ]
      },
      "outputs": [
        {
          "output_type": "stream",
          "name": "stdout",
          "text": "___________________\nconv2d_41 (Conv2D)              (None, 16, 16, 672)  75264       add_5[0][0]                      \n__________________________________________________________________________________________________\nbatch_normalization_31 (BatchNo (None, 16, 16, 672)  2688        conv2d_41[0][0]                  \n__________________________________________________________________________________________________\nswish_31 (Swish)                (None, 16, 16, 672)  0           batch_normalization_31[0][0]     \n__________________________________________________________________________________________________\ndepthwise_conv2d_11 (DepthwiseC (None, 16, 16, 672)  16800       swish_31[0][0]                   \n__________________________________________________________________________________________________\nbatch_normalization_32 (BatchNo (None, 16, 16, 672)  2688        depthwise_conv2d_11[0][0]        \n__________________________________________________________________________________________________\nswish_32 (Swish)                (None, 16, 16, 672)  0           batch_normalization_32[0][0]     \n__________________________________________________________________________________________________\nlambda_11 (Lambda)              (None, 1, 1, 672)    0           swish_32[0][0]                   \n__________________________________________________________________________________________________\nconv2d_42 (Conv2D)              (None, 1, 1, 28)     18844       lambda_11[0][0]                  \n__________________________________________________________________________________________________\nswish_33 (Swish)                (None, 1, 1, 28)     0           conv2d_42[0][0]                  \n__________________________________________________________________________________________________\nconv2d_43 (Conv2D)              (None, 1, 1, 672)    19488       swish_33[0][0]                   \n__________________________________________________________________________________________________\nactivation_11 (Activation)      (None, 1, 1, 672)    0           conv2d_43[0][0]                  \n__________________________________________________________________________________________________\nmultiply_11 (Multiply)          (None, 16, 16, 672)  0           activation_11[0][0]              \n                                                                 swish_32[0][0]                   \n__________________________________________________________________________________________________\nconv2d_44 (Conv2D)              (None, 16, 16, 112)  75264       multiply_11[0][0]                \n__________________________________________________________________________________________________\nbatch_normalization_33 (BatchNo (None, 16, 16, 112)  448         conv2d_44[0][0]                  \n__________________________________________________________________________________________________\nadd_6 (Add)                     (None, 16, 16, 112)  0           batch_normalization_33[0][0]     \n                                                                 add_5[0][0]                      \n__________________________________________________________________________________________________\nconv2d_45 (Conv2D)              (None, 16, 16, 672)  75264       add_6[0][0]                      \n__________________________________________________________________________________________________\nbatch_normalization_34 (BatchNo (None, 16, 16, 672)  2688        conv2d_45[0][0]                  \n__________________________________________________________________________________________________\nswish_34 (Swish)                (None, 16, 16, 672)  0           batch_normalization_34[0][0]     \n__________________________________________________________________________________________________\ndepthwise_conv2d_12 (DepthwiseC (None, 8, 8, 672)    16800       swish_34[0][0]                   \n__________________________________________________________________________________________________\nbatch_normalization_35 (BatchNo (None, 8, 8, 672)    2688        depthwise_conv2d_12[0][0]        \n__________________________________________________________________________________________________\nswish_35 (Swish)                (None, 8, 8, 672)    0           batch_normalization_35[0][0]     \n__________________________________________________________________________________________________\nlambda_12 (Lambda)              (None, 1, 1, 672)    0           swish_35[0][0]                   \n__________________________________________________________________________________________________\nconv2d_46 (Conv2D)              (None, 1, 1, 28)     18844       lambda_12[0][0]                  \n__________________________________________________________________________________________________\nswish_36 (Swish)                (None, 1, 1, 28)     0           conv2d_46[0][0]                  \n__________________________________________________________________________________________________\nconv2d_47 (Conv2D)              (None, 1, 1, 672)    19488       swish_36[0][0]                   \n__________________________________________________________________________________________________\nactivation_12 (Activation)      (None, 1, 1, 672)    0           conv2d_47[0][0]                  \n__________________________________________________________________________________________________\nmultiply_12 (Multiply)          (None, 8, 8, 672)    0           activation_12[0][0]              \n                                                                 swish_35[0][0]                   \n__________________________________________________________________________________________________\nconv2d_48 (Conv2D)              (None, 8, 8, 192)    129024      multiply_12[0][0]                \n__________________________________________________________________________________________________\nbatch_normalization_36 (BatchNo (None, 8, 8, 192)    768         conv2d_48[0][0]                  \n__________________________________________________________________________________________________\nconv2d_49 (Conv2D)              (None, 8, 8, 1152)   221184      batch_normalization_36[0][0]     \n__________________________________________________________________________________________________\nbatch_normalization_37 (BatchNo (None, 8, 8, 1152)   4608        conv2d_49[0][0]                  \n__________________________________________________________________________________________________\nswish_37 (Swish)                (None, 8, 8, 1152)   0           batch_normalization_37[0][0]     \n__________________________________________________________________________________________________\ndepthwise_conv2d_13 (DepthwiseC (None, 8, 8, 1152)   28800       swish_37[0][0]                   \n__________________________________________________________________________________________________\nbatch_normalization_38 (BatchNo (None, 8, 8, 1152)   4608        depthwise_conv2d_13[0][0]        \n__________________________________________________________________________________________________\nswish_38 (Swish)                (None, 8, 8, 1152)   0           batch_normalization_38[0][0]     \n__________________________________________________________________________________________________\nlambda_13 (Lambda)              (None, 1, 1, 1152)   0           swish_38[0][0]                   \n__________________________________________________________________________________________________\nconv2d_50 (Conv2D)              (None, 1, 1, 48)     55344       lambda_13[0][0]                  \n__________________________________________________________________________________________________\nswish_39 (Swish)                (None, 1, 1, 48)     0           conv2d_50[0][0]                  \n__________________________________________________________________________________________________\nconv2d_51 (Conv2D)              (None, 1, 1, 1152)   56448       swish_39[0][0]                   \n__________________________________________________________________________________________________\nactivation_13 (Activation)      (None, 1, 1, 1152)   0           conv2d_51[0][0]                  \n__________________________________________________________________________________________________\nmultiply_13 (Multiply)          (None, 8, 8, 1152)   0           activation_13[0][0]              \n                                                                 swish_38[0][0]                   \n__________________________________________________________________________________________________\nconv2d_52 (Conv2D)              (None, 8, 8, 192)    221184      multiply_13[0][0]                \n__________________________________________________________________________________________________\nbatch_normalization_39 (BatchNo (None, 8, 8, 192)    768         conv2d_52[0][0]                  \n__________________________________________________________________________________________________\nadd_7 (Add)                     (None, 8, 8, 192)    0           batch_normalization_39[0][0]     \n                                                                 batch_normalization_36[0][0]     \n__________________________________________________________________________________________________\nconv2d_53 (Conv2D)              (None, 8, 8, 1152)   221184      add_7[0][0]                      \n__________________________________________________________________________________________________\nbatch_normalization_40 (BatchNo (None, 8, 8, 1152)   4608        conv2d_53[0][0]                  \n__________________________________________________________________________________________________\nswish_40 (Swish)                (None, 8, 8, 1152)   0           batch_normalization_40[0][0]     \n__________________________________________________________________________________________________\ndepthwise_conv2d_14 (DepthwiseC (None, 8, 8, 1152)   28800       swish_40[0][0]                   \n__________________________________________________________________________________________________\nbatch_normalization_41 (BatchNo (None, 8, 8, 1152)   4608        depthwise_conv2d_14[0][0]        \n__________________________________________________________________________________________________\nswish_41 (Swish)                (None, 8, 8, 1152)   0           batch_normalization_41[0][0]     \n__________________________________________________________________________________________________\nlambda_14 (Lambda)              (None, 1, 1, 1152)   0           swish_41[0][0]                   \n__________________________________________________________________________________________________\nconv2d_54 (Conv2D)              (None, 1, 1, 48)     55344       lambda_14[0][0]                  \n__________________________________________________________________________________________________\nswish_42 (Swish)                (None, 1, 1, 48)     0           conv2d_54[0][0]                  \n__________________________________________________________________________________________________\nconv2d_55 (Conv2D)              (None, 1, 1, 1152)   56448       swish_42[0][0]                   \n__________________________________________________________________________________________________\nactivation_14 (Activation)      (None, 1, 1, 1152)   0           conv2d_55[0][0]                  \n__________________________________________________________________________________________________\nmultiply_14 (Multiply)          (None, 8, 8, 1152)   0           activation_14[0][0]              \n                                                                 swish_41[0][0]                   \n__________________________________________________________________________________________________\nconv2d_56 (Conv2D)              (None, 8, 8, 192)    221184      multiply_14[0][0]                \n__________________________________________________________________________________________________\nbatch_normalization_42 (BatchNo (None, 8, 8, 192)    768         conv2d_56[0][0]                  \n__________________________________________________________________________________________________\nadd_8 (Add)                     (None, 8, 8, 192)    0           batch_normalization_42[0][0]     \n                                                                 add_7[0][0]                      \n__________________________________________________________________________________________________\nconv2d_57 (Conv2D)              (None, 8, 8, 1152)   221184      add_8[0][0]                      \n__________________________________________________________________________________________________\nbatch_normalization_43 (BatchNo (None, 8, 8, 1152)   4608        conv2d_57[0][0]                  \n__________________________________________________________________________________________________\nswish_43 (Swish)                (None, 8, 8, 1152)   0           batch_normalization_43[0][0]     \n__________________________________________________________________________________________________\ndepthwise_conv2d_15 (DepthwiseC (None, 8, 8, 1152)   28800       swish_43[0][0]                   \n__________________________________________________________________________________________________\nbatch_normalization_44 (BatchNo (None, 8, 8, 1152)   4608        depthwise_conv2d_15[0][0]        \n__________________________________________________________________________________________________\nswish_44 (Swish)                (None, 8, 8, 1152)   0           batch_normalization_44[0][0]     \n__________________________________________________________________________________________________\nlambda_15 (Lambda)              (None, 1, 1, 1152)   0           swish_44[0][0]                   \n__________________________________________________________________________________________________\nconv2d_58 (Conv2D)              (None, 1, 1, 48)     55344       lambda_15[0][0]                  \n__________________________________________________________________________________________________\nswish_45 (Swish)                (None, 1, 1, 48)     0           conv2d_58[0][0]                  \n__________________________________________________________________________________________________\nconv2d_59 (Conv2D)              (None, 1, 1, 1152)   56448       swish_45[0][0]                   \n__________________________________________________________________________________________________\nactivation_15 (Activation)      (None, 1, 1, 1152)   0           conv2d_59[0][0]                  \n__________________________________________________________________________________________________\nmultiply_15 (Multiply)          (None, 8, 8, 1152)   0           activation_15[0][0]              \n                                                                 swish_44[0][0]                   \n__________________________________________________________________________________________________\nconv2d_60 (Conv2D)              (None, 8, 8, 192)    221184      multiply_15[0][0]                \n__________________________________________________________________________________________________\nbatch_normalization_45 (BatchNo (None, 8, 8, 192)    768         conv2d_60[0][0]                  \n__________________________________________________________________________________________________\nadd_9 (Add)                     (None, 8, 8, 192)    0           batch_normalization_45[0][0]     \n                                                                 add_8[0][0]                      \n__________________________________________________________________________________________________\nconv2d_61 (Conv2D)              (None, 8, 8, 1152)   221184      add_9[0][0]                      \n__________________________________________________________________________________________________\nbatch_normalization_46 (BatchNo (None, 8, 8, 1152)   4608        conv2d_61[0][0]                  \n__________________________________________________________________________________________________\nswish_46 (Swish)                (None, 8, 8, 1152)   0           batch_normalization_46[0][0]     \n__________________________________________________________________________________________________\ndepthwise_conv2d_16 (DepthwiseC (None, 8, 8, 1152)   10368       swish_46[0][0]                   \n__________________________________________________________________________________________________\nbatch_normalization_47 (BatchNo (None, 8, 8, 1152)   4608        depthwise_conv2d_16[0][0]        \n__________________________________________________________________________________________________\nswish_47 (Swish)                (None, 8, 8, 1152)   0           batch_normalization_47[0][0]     \n__________________________________________________________________________________________________\nlambda_16 (Lambda)              (None, 1, 1, 1152)   0           swish_47[0][0]                   \n__________________________________________________________________________________________________\nconv2d_62 (Conv2D)              (None, 1, 1, 48)     55344       lambda_16[0][0]                  \n__________________________________________________________________________________________________\nswish_48 (Swish)                (None, 1, 1, 48)     0           conv2d_62[0][0]                  \n__________________________________________________________________________________________________\nconv2d_63 (Conv2D)              (None, 1, 1, 1152)   56448       swish_48[0][0]                   \n__________________________________________________________________________________________________\nactivation_16 (Activation)      (None, 1, 1, 1152)   0           conv2d_63[0][0]                  \n__________________________________________________________________________________________________\nmultiply_16 (Multiply)          (None, 8, 8, 1152)   0           activation_16[0][0]              \n                                                                 swish_47[0][0]                   \n__________________________________________________________________________________________________\nconv2d_64 (Conv2D)              (None, 8, 8, 320)    368640      multiply_16[0][0]                \n__________________________________________________________________________________________________\nbatch_normalization_48 (BatchNo (None, 8, 8, 320)    1280        conv2d_64[0][0]                  \n__________________________________________________________________________________________________\nconv2d_65 (Conv2D)              (None, 8, 8, 1280)   409600      batch_normalization_48[0][0]     \n__________________________________________________________________________________________________\nbatch_normalization_49 (BatchNo (None, 8, 8, 1280)   5120        conv2d_65[0][0]                  \n__________________________________________________________________________________________________\nswish_49 (Swish)                (None, 8, 8, 1280)   0           batch_normalization_49[0][0]     \n__________________________________________________________________________________________________\nglobal_average_pooling2d_1 (Glo (None, 1280)         0           swish_49[0][0]                   \n__________________________________________________________________________________________________\ndropout_1 (Dropout)             (None, 1280)         0           global_average_pooling2d_1[0][0] \n__________________________________________________________________________________________________\ndense_1 (Dense)                 (None, 102)          130662      dropout_1[0][0]                  \n__________________________________________________________________________________________________\nactivation_17 (Activation)      (None, 102)          0           dense_1[0][0]                    \n==================================================================================================\nTotal params: 4,180,226\nTrainable params: 4,138,210\nNon-trainable params: 42,016\n__________________________________________________________________________________________________\n"
        }
      ],
      "source": [
        "efficient.summary()"
      ]
    },
    {
      "cell_type": "code",
      "execution_count": 27,
      "metadata": {
        "tags": [
          "outputPrepend"
        ]
      },
      "outputs": [
        {
          "output_type": "stream",
          "name": "stdout",
          "text": "___________________\nconv2d_171 (Conv2D)             (None, 16, 16, 672)  75264       add_23[0][0]                     \n__________________________________________________________________________________________________\nbatch_normalization_129 (BatchN (None, 16, 16, 672)  2688        conv2d_171[0][0]                 \n__________________________________________________________________________________________________\nswish_129 (Swish)               (None, 16, 16, 672)  0           batch_normalization_129[0][0]    \n__________________________________________________________________________________________________\ndepthwise_conv2d_43 (DepthwiseC (None, 16, 16, 672)  16800       swish_129[0][0]                  \n__________________________________________________________________________________________________\nbatch_normalization_130 (BatchN (None, 16, 16, 672)  2688        depthwise_conv2d_43[0][0]        \n__________________________________________________________________________________________________\nswish_130 (Swish)               (None, 16, 16, 672)  0           batch_normalization_130[0][0]    \n__________________________________________________________________________________________________\nlambda_43 (Lambda)              (None, 1, 1, 672)    0           swish_130[0][0]                  \n__________________________________________________________________________________________________\nconv2d_172 (Conv2D)             (None, 1, 1, 28)     18844       lambda_43[0][0]                  \n__________________________________________________________________________________________________\nswish_131 (Swish)               (None, 1, 1, 28)     0           conv2d_172[0][0]                 \n__________________________________________________________________________________________________\nconv2d_173 (Conv2D)             (None, 1, 1, 672)    19488       swish_131[0][0]                  \n__________________________________________________________________________________________________\nactivation_45 (Activation)      (None, 1, 1, 672)    0           conv2d_173[0][0]                 \n__________________________________________________________________________________________________\nmultiply_43 (Multiply)          (None, 16, 16, 672)  0           activation_45[0][0]              \n                                                                 swish_130[0][0]                  \n__________________________________________________________________________________________________\nconv2d_174 (Conv2D)             (None, 16, 16, 112)  75264       multiply_43[0][0]                \n__________________________________________________________________________________________________\nbatch_normalization_131 (BatchN (None, 16, 16, 112)  448         conv2d_174[0][0]                 \n__________________________________________________________________________________________________\nadd_24 (Add)                    (None, 16, 16, 112)  0           batch_normalization_131[0][0]    \n                                                                 add_23[0][0]                     \n__________________________________________________________________________________________________\nconv2d_175 (Conv2D)             (None, 16, 16, 672)  75264       add_24[0][0]                     \n__________________________________________________________________________________________________\nbatch_normalization_132 (BatchN (None, 16, 16, 672)  2688        conv2d_175[0][0]                 \n__________________________________________________________________________________________________\nswish_132 (Swish)               (None, 16, 16, 672)  0           batch_normalization_132[0][0]    \n__________________________________________________________________________________________________\ndepthwise_conv2d_44 (DepthwiseC (None, 8, 8, 672)    16800       swish_132[0][0]                  \n__________________________________________________________________________________________________\nbatch_normalization_133 (BatchN (None, 8, 8, 672)    2688        depthwise_conv2d_44[0][0]        \n__________________________________________________________________________________________________\nswish_133 (Swish)               (None, 8, 8, 672)    0           batch_normalization_133[0][0]    \n__________________________________________________________________________________________________\nlambda_44 (Lambda)              (None, 1, 1, 672)    0           swish_133[0][0]                  \n__________________________________________________________________________________________________\nconv2d_176 (Conv2D)             (None, 1, 1, 28)     18844       lambda_44[0][0]                  \n__________________________________________________________________________________________________\nswish_134 (Swish)               (None, 1, 1, 28)     0           conv2d_176[0][0]                 \n__________________________________________________________________________________________________\nconv2d_177 (Conv2D)             (None, 1, 1, 672)    19488       swish_134[0][0]                  \n__________________________________________________________________________________________________\nactivation_46 (Activation)      (None, 1, 1, 672)    0           conv2d_177[0][0]                 \n__________________________________________________________________________________________________\nmultiply_44 (Multiply)          (None, 8, 8, 672)    0           activation_46[0][0]              \n                                                                 swish_133[0][0]                  \n__________________________________________________________________________________________________\nconv2d_178 (Conv2D)             (None, 8, 8, 192)    129024      multiply_44[0][0]                \n__________________________________________________________________________________________________\nbatch_normalization_134 (BatchN (None, 8, 8, 192)    768         conv2d_178[0][0]                 \n__________________________________________________________________________________________________\nconv2d_179 (Conv2D)             (None, 8, 8, 1152)   221184      batch_normalization_134[0][0]    \n__________________________________________________________________________________________________\nbatch_normalization_135 (BatchN (None, 8, 8, 1152)   4608        conv2d_179[0][0]                 \n__________________________________________________________________________________________________\nswish_135 (Swish)               (None, 8, 8, 1152)   0           batch_normalization_135[0][0]    \n__________________________________________________________________________________________________\ndepthwise_conv2d_45 (DepthwiseC (None, 8, 8, 1152)   28800       swish_135[0][0]                  \n__________________________________________________________________________________________________\nbatch_normalization_136 (BatchN (None, 8, 8, 1152)   4608        depthwise_conv2d_45[0][0]        \n__________________________________________________________________________________________________\nswish_136 (Swish)               (None, 8, 8, 1152)   0           batch_normalization_136[0][0]    \n__________________________________________________________________________________________________\nlambda_45 (Lambda)              (None, 1, 1, 1152)   0           swish_136[0][0]                  \n__________________________________________________________________________________________________\nconv2d_180 (Conv2D)             (None, 1, 1, 48)     55344       lambda_45[0][0]                  \n__________________________________________________________________________________________________\nswish_137 (Swish)               (None, 1, 1, 48)     0           conv2d_180[0][0]                 \n__________________________________________________________________________________________________\nconv2d_181 (Conv2D)             (None, 1, 1, 1152)   56448       swish_137[0][0]                  \n__________________________________________________________________________________________________\nactivation_47 (Activation)      (None, 1, 1, 1152)   0           conv2d_181[0][0]                 \n__________________________________________________________________________________________________\nmultiply_45 (Multiply)          (None, 8, 8, 1152)   0           activation_47[0][0]              \n                                                                 swish_136[0][0]                  \n__________________________________________________________________________________________________\nconv2d_182 (Conv2D)             (None, 8, 8, 192)    221184      multiply_45[0][0]                \n__________________________________________________________________________________________________\nbatch_normalization_137 (BatchN (None, 8, 8, 192)    768         conv2d_182[0][0]                 \n__________________________________________________________________________________________________\nadd_25 (Add)                    (None, 8, 8, 192)    0           batch_normalization_137[0][0]    \n                                                                 batch_normalization_134[0][0]    \n__________________________________________________________________________________________________\nconv2d_183 (Conv2D)             (None, 8, 8, 1152)   221184      add_25[0][0]                     \n__________________________________________________________________________________________________\nbatch_normalization_138 (BatchN (None, 8, 8, 1152)   4608        conv2d_183[0][0]                 \n__________________________________________________________________________________________________\nswish_138 (Swish)               (None, 8, 8, 1152)   0           batch_normalization_138[0][0]    \n__________________________________________________________________________________________________\ndepthwise_conv2d_46 (DepthwiseC (None, 8, 8, 1152)   28800       swish_138[0][0]                  \n__________________________________________________________________________________________________\nbatch_normalization_139 (BatchN (None, 8, 8, 1152)   4608        depthwise_conv2d_46[0][0]        \n__________________________________________________________________________________________________\nswish_139 (Swish)               (None, 8, 8, 1152)   0           batch_normalization_139[0][0]    \n__________________________________________________________________________________________________\nlambda_46 (Lambda)              (None, 1, 1, 1152)   0           swish_139[0][0]                  \n__________________________________________________________________________________________________\nconv2d_184 (Conv2D)             (None, 1, 1, 48)     55344       lambda_46[0][0]                  \n__________________________________________________________________________________________________\nswish_140 (Swish)               (None, 1, 1, 48)     0           conv2d_184[0][0]                 \n__________________________________________________________________________________________________\nconv2d_185 (Conv2D)             (None, 1, 1, 1152)   56448       swish_140[0][0]                  \n__________________________________________________________________________________________________\nactivation_48 (Activation)      (None, 1, 1, 1152)   0           conv2d_185[0][0]                 \n__________________________________________________________________________________________________\nmultiply_46 (Multiply)          (None, 8, 8, 1152)   0           activation_48[0][0]              \n                                                                 swish_139[0][0]                  \n__________________________________________________________________________________________________\nconv2d_186 (Conv2D)             (None, 8, 8, 192)    221184      multiply_46[0][0]                \n__________________________________________________________________________________________________\nbatch_normalization_140 (BatchN (None, 8, 8, 192)    768         conv2d_186[0][0]                 \n__________________________________________________________________________________________________\nadd_26 (Add)                    (None, 8, 8, 192)    0           batch_normalization_140[0][0]    \n                                                                 add_25[0][0]                     \n__________________________________________________________________________________________________\nconv2d_187 (Conv2D)             (None, 8, 8, 1152)   221184      add_26[0][0]                     \n__________________________________________________________________________________________________\nbatch_normalization_141 (BatchN (None, 8, 8, 1152)   4608        conv2d_187[0][0]                 \n__________________________________________________________________________________________________\nswish_141 (Swish)               (None, 8, 8, 1152)   0           batch_normalization_141[0][0]    \n__________________________________________________________________________________________________\ndepthwise_conv2d_47 (DepthwiseC (None, 8, 8, 1152)   28800       swish_141[0][0]                  \n__________________________________________________________________________________________________\nbatch_normalization_142 (BatchN (None, 8, 8, 1152)   4608        depthwise_conv2d_47[0][0]        \n__________________________________________________________________________________________________\nswish_142 (Swish)               (None, 8, 8, 1152)   0           batch_normalization_142[0][0]    \n__________________________________________________________________________________________________\nlambda_47 (Lambda)              (None, 1, 1, 1152)   0           swish_142[0][0]                  \n__________________________________________________________________________________________________\nconv2d_188 (Conv2D)             (None, 1, 1, 48)     55344       lambda_47[0][0]                  \n__________________________________________________________________________________________________\nswish_143 (Swish)               (None, 1, 1, 48)     0           conv2d_188[0][0]                 \n__________________________________________________________________________________________________\nconv2d_189 (Conv2D)             (None, 1, 1, 1152)   56448       swish_143[0][0]                  \n__________________________________________________________________________________________________\nactivation_49 (Activation)      (None, 1, 1, 1152)   0           conv2d_189[0][0]                 \n__________________________________________________________________________________________________\nmultiply_47 (Multiply)          (None, 8, 8, 1152)   0           activation_49[0][0]              \n                                                                 swish_142[0][0]                  \n__________________________________________________________________________________________________\nconv2d_190 (Conv2D)             (None, 8, 8, 192)    221184      multiply_47[0][0]                \n__________________________________________________________________________________________________\nbatch_normalization_143 (BatchN (None, 8, 8, 192)    768         conv2d_190[0][0]                 \n__________________________________________________________________________________________________\nadd_27 (Add)                    (None, 8, 8, 192)    0           batch_normalization_143[0][0]    \n                                                                 add_26[0][0]                     \n__________________________________________________________________________________________________\nconv2d_191 (Conv2D)             (None, 8, 8, 1152)   221184      add_27[0][0]                     \n__________________________________________________________________________________________________\nbatch_normalization_144 (BatchN (None, 8, 8, 1152)   4608        conv2d_191[0][0]                 \n__________________________________________________________________________________________________\nswish_144 (Swish)               (None, 8, 8, 1152)   0           batch_normalization_144[0][0]    \n__________________________________________________________________________________________________\ndepthwise_conv2d_48 (DepthwiseC (None, 8, 8, 1152)   10368       swish_144[0][0]                  \n__________________________________________________________________________________________________\nbatch_normalization_145 (BatchN (None, 8, 8, 1152)   4608        depthwise_conv2d_48[0][0]        \n__________________________________________________________________________________________________\nswish_145 (Swish)               (None, 8, 8, 1152)   0           batch_normalization_145[0][0]    \n__________________________________________________________________________________________________\nlambda_48 (Lambda)              (None, 1, 1, 1152)   0           swish_145[0][0]                  \n__________________________________________________________________________________________________\nconv2d_192 (Conv2D)             (None, 1, 1, 48)     55344       lambda_48[0][0]                  \n__________________________________________________________________________________________________\nswish_146 (Swish)               (None, 1, 1, 48)     0           conv2d_192[0][0]                 \n__________________________________________________________________________________________________\nconv2d_193 (Conv2D)             (None, 1, 1, 1152)   56448       swish_146[0][0]                  \n__________________________________________________________________________________________________\nactivation_50 (Activation)      (None, 1, 1, 1152)   0           conv2d_193[0][0]                 \n__________________________________________________________________________________________________\nmultiply_48 (Multiply)          (None, 8, 8, 1152)   0           activation_50[0][0]              \n                                                                 swish_145[0][0]                  \n__________________________________________________________________________________________________\nconv2d_194 (Conv2D)             (None, 8, 8, 320)    368640      multiply_48[0][0]                \n__________________________________________________________________________________________________\nbatch_normalization_146 (BatchN (None, 8, 8, 320)    1280        conv2d_194[0][0]                 \n__________________________________________________________________________________________________\nconv2d_195 (Conv2D)             (None, 8, 8, 1280)   409600      batch_normalization_146[0][0]    \n__________________________________________________________________________________________________\nbatch_normalization_147 (BatchN (None, 8, 8, 1280)   5120        conv2d_195[0][0]                 \n__________________________________________________________________________________________________\nswish_147 (Swish)               (None, 8, 8, 1280)   0           batch_normalization_147[0][0]    \n__________________________________________________________________________________________________\nglobal_average_pooling2d_3 (Glo (None, 1280)         0           swish_147[0][0]                  \n__________________________________________________________________________________________________\ndropout_3 (Dropout)             (None, 1280)         0           global_average_pooling2d_3[0][0] \n__________________________________________________________________________________________________\ndense_3 (Dense)                 (None, 150)          192150      dropout_3[0][0]                  \n__________________________________________________________________________________________________\nactivation_51 (Activation)      (None, 150)          0           dense_3[0][0]                    \n==================================================================================================\nTotal params: 4,241,714\nTrainable params: 4,199,698\nNon-trainable params: 42,016\n__________________________________________________________________________________________________\n"
        }
      ],
      "source": [
        "efficient_m.summary()"
      ]
    },
    {
      "cell_type": "code",
      "execution_count": null,
      "metadata": {},
      "outputs": [],
      "source": []
    },
    {
      "cell_type": "code",
      "metadata": {
        "id": "fdQ0ee9QDm0l",
        "colab_type": "code",
        "colab": {}
      },
      "source": [
        "# ### adding layers for flower classification\n",
        "# eff_avg = GlobalAveragePooling2D()(efficient.output)\n",
        "# eff_fc_1 = Dense(256, activation='relu')(eff_avg)\n",
        "# eff_fc_2 = Dense(128, activation='relu')(eff_fc_1)\n",
        "# eff_d = Dropout(0.25)(eff_fc_2)\n",
        "# eff_fc_3 = Dense(102, activation='softmax')(eff_d)\n",
        "\n",
        "# ### adding layers for flower classification\n",
        "# # eff_avg_m = GlobalAveragePooling2D()(efficient_m.output)\n",
        "# # eff_fc_1_m = Dense(256, activation='relu')(eff_avg_m)\n",
        "# # eff_fc_2_m = Dense(128, activation='relu')(eff_fc_1_m)\n",
        "# # eff_d_m = Dropout(0.25)(eff_fc_2_m)\n",
        "# # eff_fc_3_m = Dense(150, activation='softmax')(eff_d_m)"
      ],
      "execution_count": 28,
      "outputs": []
    },
    {
      "cell_type": "code",
      "metadata": {
        "id": "fgXMOnTKDmx3",
        "colab_type": "code",
        "colab": {}
      },
      "source": [
        "model_1 = efficient #Model(efficient.input, outputs  = eff_fc_3)\n",
        "model_2 = efficient_m #Model(efficient_m.input, outputs  = eff_fc_3_m)"
      ],
      "execution_count": 30,
      "outputs": []
    },
    {
      "cell_type": "code",
      "metadata": {
        "id": "Md-AGr8sDmvU",
        "colab_type": "code",
        "outputId": "5073a705-470b-4ebf-adf4-46686246d343",
        "colab": {
          "base_uri": "https://localhost:8080/",
          "height": 1000
        },
        "tags": [
          "outputPrepend"
        ]
      },
      "source": [
        "model_1.summary()"
      ],
      "execution_count": 31,
      "outputs": [
        {
          "output_type": "stream",
          "name": "stdout",
          "text": "___________________\nconv2d_41 (Conv2D)              (None, 16, 16, 672)  75264       add_5[0][0]                      \n__________________________________________________________________________________________________\nbatch_normalization_31 (BatchNo (None, 16, 16, 672)  2688        conv2d_41[0][0]                  \n__________________________________________________________________________________________________\nswish_31 (Swish)                (None, 16, 16, 672)  0           batch_normalization_31[0][0]     \n__________________________________________________________________________________________________\ndepthwise_conv2d_11 (DepthwiseC (None, 16, 16, 672)  16800       swish_31[0][0]                   \n__________________________________________________________________________________________________\nbatch_normalization_32 (BatchNo (None, 16, 16, 672)  2688        depthwise_conv2d_11[0][0]        \n__________________________________________________________________________________________________\nswish_32 (Swish)                (None, 16, 16, 672)  0           batch_normalization_32[0][0]     \n__________________________________________________________________________________________________\nlambda_11 (Lambda)              (None, 1, 1, 672)    0           swish_32[0][0]                   \n__________________________________________________________________________________________________\nconv2d_42 (Conv2D)              (None, 1, 1, 28)     18844       lambda_11[0][0]                  \n__________________________________________________________________________________________________\nswish_33 (Swish)                (None, 1, 1, 28)     0           conv2d_42[0][0]                  \n__________________________________________________________________________________________________\nconv2d_43 (Conv2D)              (None, 1, 1, 672)    19488       swish_33[0][0]                   \n__________________________________________________________________________________________________\nactivation_11 (Activation)      (None, 1, 1, 672)    0           conv2d_43[0][0]                  \n__________________________________________________________________________________________________\nmultiply_11 (Multiply)          (None, 16, 16, 672)  0           activation_11[0][0]              \n                                                                 swish_32[0][0]                   \n__________________________________________________________________________________________________\nconv2d_44 (Conv2D)              (None, 16, 16, 112)  75264       multiply_11[0][0]                \n__________________________________________________________________________________________________\nbatch_normalization_33 (BatchNo (None, 16, 16, 112)  448         conv2d_44[0][0]                  \n__________________________________________________________________________________________________\nadd_6 (Add)                     (None, 16, 16, 112)  0           batch_normalization_33[0][0]     \n                                                                 add_5[0][0]                      \n__________________________________________________________________________________________________\nconv2d_45 (Conv2D)              (None, 16, 16, 672)  75264       add_6[0][0]                      \n__________________________________________________________________________________________________\nbatch_normalization_34 (BatchNo (None, 16, 16, 672)  2688        conv2d_45[0][0]                  \n__________________________________________________________________________________________________\nswish_34 (Swish)                (None, 16, 16, 672)  0           batch_normalization_34[0][0]     \n__________________________________________________________________________________________________\ndepthwise_conv2d_12 (DepthwiseC (None, 8, 8, 672)    16800       swish_34[0][0]                   \n__________________________________________________________________________________________________\nbatch_normalization_35 (BatchNo (None, 8, 8, 672)    2688        depthwise_conv2d_12[0][0]        \n__________________________________________________________________________________________________\nswish_35 (Swish)                (None, 8, 8, 672)    0           batch_normalization_35[0][0]     \n__________________________________________________________________________________________________\nlambda_12 (Lambda)              (None, 1, 1, 672)    0           swish_35[0][0]                   \n__________________________________________________________________________________________________\nconv2d_46 (Conv2D)              (None, 1, 1, 28)     18844       lambda_12[0][0]                  \n__________________________________________________________________________________________________\nswish_36 (Swish)                (None, 1, 1, 28)     0           conv2d_46[0][0]                  \n__________________________________________________________________________________________________\nconv2d_47 (Conv2D)              (None, 1, 1, 672)    19488       swish_36[0][0]                   \n__________________________________________________________________________________________________\nactivation_12 (Activation)      (None, 1, 1, 672)    0           conv2d_47[0][0]                  \n__________________________________________________________________________________________________\nmultiply_12 (Multiply)          (None, 8, 8, 672)    0           activation_12[0][0]              \n                                                                 swish_35[0][0]                   \n__________________________________________________________________________________________________\nconv2d_48 (Conv2D)              (None, 8, 8, 192)    129024      multiply_12[0][0]                \n__________________________________________________________________________________________________\nbatch_normalization_36 (BatchNo (None, 8, 8, 192)    768         conv2d_48[0][0]                  \n__________________________________________________________________________________________________\nconv2d_49 (Conv2D)              (None, 8, 8, 1152)   221184      batch_normalization_36[0][0]     \n__________________________________________________________________________________________________\nbatch_normalization_37 (BatchNo (None, 8, 8, 1152)   4608        conv2d_49[0][0]                  \n__________________________________________________________________________________________________\nswish_37 (Swish)                (None, 8, 8, 1152)   0           batch_normalization_37[0][0]     \n__________________________________________________________________________________________________\ndepthwise_conv2d_13 (DepthwiseC (None, 8, 8, 1152)   28800       swish_37[0][0]                   \n__________________________________________________________________________________________________\nbatch_normalization_38 (BatchNo (None, 8, 8, 1152)   4608        depthwise_conv2d_13[0][0]        \n__________________________________________________________________________________________________\nswish_38 (Swish)                (None, 8, 8, 1152)   0           batch_normalization_38[0][0]     \n__________________________________________________________________________________________________\nlambda_13 (Lambda)              (None, 1, 1, 1152)   0           swish_38[0][0]                   \n__________________________________________________________________________________________________\nconv2d_50 (Conv2D)              (None, 1, 1, 48)     55344       lambda_13[0][0]                  \n__________________________________________________________________________________________________\nswish_39 (Swish)                (None, 1, 1, 48)     0           conv2d_50[0][0]                  \n__________________________________________________________________________________________________\nconv2d_51 (Conv2D)              (None, 1, 1, 1152)   56448       swish_39[0][0]                   \n__________________________________________________________________________________________________\nactivation_13 (Activation)      (None, 1, 1, 1152)   0           conv2d_51[0][0]                  \n__________________________________________________________________________________________________\nmultiply_13 (Multiply)          (None, 8, 8, 1152)   0           activation_13[0][0]              \n                                                                 swish_38[0][0]                   \n__________________________________________________________________________________________________\nconv2d_52 (Conv2D)              (None, 8, 8, 192)    221184      multiply_13[0][0]                \n__________________________________________________________________________________________________\nbatch_normalization_39 (BatchNo (None, 8, 8, 192)    768         conv2d_52[0][0]                  \n__________________________________________________________________________________________________\nadd_7 (Add)                     (None, 8, 8, 192)    0           batch_normalization_39[0][0]     \n                                                                 batch_normalization_36[0][0]     \n__________________________________________________________________________________________________\nconv2d_53 (Conv2D)              (None, 8, 8, 1152)   221184      add_7[0][0]                      \n__________________________________________________________________________________________________\nbatch_normalization_40 (BatchNo (None, 8, 8, 1152)   4608        conv2d_53[0][0]                  \n__________________________________________________________________________________________________\nswish_40 (Swish)                (None, 8, 8, 1152)   0           batch_normalization_40[0][0]     \n__________________________________________________________________________________________________\ndepthwise_conv2d_14 (DepthwiseC (None, 8, 8, 1152)   28800       swish_40[0][0]                   \n__________________________________________________________________________________________________\nbatch_normalization_41 (BatchNo (None, 8, 8, 1152)   4608        depthwise_conv2d_14[0][0]        \n__________________________________________________________________________________________________\nswish_41 (Swish)                (None, 8, 8, 1152)   0           batch_normalization_41[0][0]     \n__________________________________________________________________________________________________\nlambda_14 (Lambda)              (None, 1, 1, 1152)   0           swish_41[0][0]                   \n__________________________________________________________________________________________________\nconv2d_54 (Conv2D)              (None, 1, 1, 48)     55344       lambda_14[0][0]                  \n__________________________________________________________________________________________________\nswish_42 (Swish)                (None, 1, 1, 48)     0           conv2d_54[0][0]                  \n__________________________________________________________________________________________________\nconv2d_55 (Conv2D)              (None, 1, 1, 1152)   56448       swish_42[0][0]                   \n__________________________________________________________________________________________________\nactivation_14 (Activation)      (None, 1, 1, 1152)   0           conv2d_55[0][0]                  \n__________________________________________________________________________________________________\nmultiply_14 (Multiply)          (None, 8, 8, 1152)   0           activation_14[0][0]              \n                                                                 swish_41[0][0]                   \n__________________________________________________________________________________________________\nconv2d_56 (Conv2D)              (None, 8, 8, 192)    221184      multiply_14[0][0]                \n__________________________________________________________________________________________________\nbatch_normalization_42 (BatchNo (None, 8, 8, 192)    768         conv2d_56[0][0]                  \n__________________________________________________________________________________________________\nadd_8 (Add)                     (None, 8, 8, 192)    0           batch_normalization_42[0][0]     \n                                                                 add_7[0][0]                      \n__________________________________________________________________________________________________\nconv2d_57 (Conv2D)              (None, 8, 8, 1152)   221184      add_8[0][0]                      \n__________________________________________________________________________________________________\nbatch_normalization_43 (BatchNo (None, 8, 8, 1152)   4608        conv2d_57[0][0]                  \n__________________________________________________________________________________________________\nswish_43 (Swish)                (None, 8, 8, 1152)   0           batch_normalization_43[0][0]     \n__________________________________________________________________________________________________\ndepthwise_conv2d_15 (DepthwiseC (None, 8, 8, 1152)   28800       swish_43[0][0]                   \n__________________________________________________________________________________________________\nbatch_normalization_44 (BatchNo (None, 8, 8, 1152)   4608        depthwise_conv2d_15[0][0]        \n__________________________________________________________________________________________________\nswish_44 (Swish)                (None, 8, 8, 1152)   0           batch_normalization_44[0][0]     \n__________________________________________________________________________________________________\nlambda_15 (Lambda)              (None, 1, 1, 1152)   0           swish_44[0][0]                   \n__________________________________________________________________________________________________\nconv2d_58 (Conv2D)              (None, 1, 1, 48)     55344       lambda_15[0][0]                  \n__________________________________________________________________________________________________\nswish_45 (Swish)                (None, 1, 1, 48)     0           conv2d_58[0][0]                  \n__________________________________________________________________________________________________\nconv2d_59 (Conv2D)              (None, 1, 1, 1152)   56448       swish_45[0][0]                   \n__________________________________________________________________________________________________\nactivation_15 (Activation)      (None, 1, 1, 1152)   0           conv2d_59[0][0]                  \n__________________________________________________________________________________________________\nmultiply_15 (Multiply)          (None, 8, 8, 1152)   0           activation_15[0][0]              \n                                                                 swish_44[0][0]                   \n__________________________________________________________________________________________________\nconv2d_60 (Conv2D)              (None, 8, 8, 192)    221184      multiply_15[0][0]                \n__________________________________________________________________________________________________\nbatch_normalization_45 (BatchNo (None, 8, 8, 192)    768         conv2d_60[0][0]                  \n__________________________________________________________________________________________________\nadd_9 (Add)                     (None, 8, 8, 192)    0           batch_normalization_45[0][0]     \n                                                                 add_8[0][0]                      \n__________________________________________________________________________________________________\nconv2d_61 (Conv2D)              (None, 8, 8, 1152)   221184      add_9[0][0]                      \n__________________________________________________________________________________________________\nbatch_normalization_46 (BatchNo (None, 8, 8, 1152)   4608        conv2d_61[0][0]                  \n__________________________________________________________________________________________________\nswish_46 (Swish)                (None, 8, 8, 1152)   0           batch_normalization_46[0][0]     \n__________________________________________________________________________________________________\ndepthwise_conv2d_16 (DepthwiseC (None, 8, 8, 1152)   10368       swish_46[0][0]                   \n__________________________________________________________________________________________________\nbatch_normalization_47 (BatchNo (None, 8, 8, 1152)   4608        depthwise_conv2d_16[0][0]        \n__________________________________________________________________________________________________\nswish_47 (Swish)                (None, 8, 8, 1152)   0           batch_normalization_47[0][0]     \n__________________________________________________________________________________________________\nlambda_16 (Lambda)              (None, 1, 1, 1152)   0           swish_47[0][0]                   \n__________________________________________________________________________________________________\nconv2d_62 (Conv2D)              (None, 1, 1, 48)     55344       lambda_16[0][0]                  \n__________________________________________________________________________________________________\nswish_48 (Swish)                (None, 1, 1, 48)     0           conv2d_62[0][0]                  \n__________________________________________________________________________________________________\nconv2d_63 (Conv2D)              (None, 1, 1, 1152)   56448       swish_48[0][0]                   \n__________________________________________________________________________________________________\nactivation_16 (Activation)      (None, 1, 1, 1152)   0           conv2d_63[0][0]                  \n__________________________________________________________________________________________________\nmultiply_16 (Multiply)          (None, 8, 8, 1152)   0           activation_16[0][0]              \n                                                                 swish_47[0][0]                   \n__________________________________________________________________________________________________\nconv2d_64 (Conv2D)              (None, 8, 8, 320)    368640      multiply_16[0][0]                \n__________________________________________________________________________________________________\nbatch_normalization_48 (BatchNo (None, 8, 8, 320)    1280        conv2d_64[0][0]                  \n__________________________________________________________________________________________________\nconv2d_65 (Conv2D)              (None, 8, 8, 1280)   409600      batch_normalization_48[0][0]     \n__________________________________________________________________________________________________\nbatch_normalization_49 (BatchNo (None, 8, 8, 1280)   5120        conv2d_65[0][0]                  \n__________________________________________________________________________________________________\nswish_49 (Swish)                (None, 8, 8, 1280)   0           batch_normalization_49[0][0]     \n__________________________________________________________________________________________________\nglobal_average_pooling2d_1 (Glo (None, 1280)         0           swish_49[0][0]                   \n__________________________________________________________________________________________________\ndropout_1 (Dropout)             (None, 1280)         0           global_average_pooling2d_1[0][0] \n__________________________________________________________________________________________________\ndense_1 (Dense)                 (None, 102)          130662      dropout_1[0][0]                  \n__________________________________________________________________________________________________\nactivation_17 (Activation)      (None, 102)          0           dense_1[0][0]                    \n==================================================================================================\nTotal params: 4,180,226\nTrainable params: 4,138,210\nNon-trainable params: 42,016\n__________________________________________________________________________________________________\n"
        }
      ]
    },
    {
      "cell_type": "code",
      "execution_count": 32,
      "metadata": {
        "tags": [
          "outputPrepend"
        ]
      },
      "outputs": [
        {
          "output_type": "stream",
          "name": "stdout",
          "text": "___________________\nconv2d_171 (Conv2D)             (None, 16, 16, 672)  75264       add_23[0][0]                     \n__________________________________________________________________________________________________\nbatch_normalization_129 (BatchN (None, 16, 16, 672)  2688        conv2d_171[0][0]                 \n__________________________________________________________________________________________________\nswish_129 (Swish)               (None, 16, 16, 672)  0           batch_normalization_129[0][0]    \n__________________________________________________________________________________________________\ndepthwise_conv2d_43 (DepthwiseC (None, 16, 16, 672)  16800       swish_129[0][0]                  \n__________________________________________________________________________________________________\nbatch_normalization_130 (BatchN (None, 16, 16, 672)  2688        depthwise_conv2d_43[0][0]        \n__________________________________________________________________________________________________\nswish_130 (Swish)               (None, 16, 16, 672)  0           batch_normalization_130[0][0]    \n__________________________________________________________________________________________________\nlambda_43 (Lambda)              (None, 1, 1, 672)    0           swish_130[0][0]                  \n__________________________________________________________________________________________________\nconv2d_172 (Conv2D)             (None, 1, 1, 28)     18844       lambda_43[0][0]                  \n__________________________________________________________________________________________________\nswish_131 (Swish)               (None, 1, 1, 28)     0           conv2d_172[0][0]                 \n__________________________________________________________________________________________________\nconv2d_173 (Conv2D)             (None, 1, 1, 672)    19488       swish_131[0][0]                  \n__________________________________________________________________________________________________\nactivation_45 (Activation)      (None, 1, 1, 672)    0           conv2d_173[0][0]                 \n__________________________________________________________________________________________________\nmultiply_43 (Multiply)          (None, 16, 16, 672)  0           activation_45[0][0]              \n                                                                 swish_130[0][0]                  \n__________________________________________________________________________________________________\nconv2d_174 (Conv2D)             (None, 16, 16, 112)  75264       multiply_43[0][0]                \n__________________________________________________________________________________________________\nbatch_normalization_131 (BatchN (None, 16, 16, 112)  448         conv2d_174[0][0]                 \n__________________________________________________________________________________________________\nadd_24 (Add)                    (None, 16, 16, 112)  0           batch_normalization_131[0][0]    \n                                                                 add_23[0][0]                     \n__________________________________________________________________________________________________\nconv2d_175 (Conv2D)             (None, 16, 16, 672)  75264       add_24[0][0]                     \n__________________________________________________________________________________________________\nbatch_normalization_132 (BatchN (None, 16, 16, 672)  2688        conv2d_175[0][0]                 \n__________________________________________________________________________________________________\nswish_132 (Swish)               (None, 16, 16, 672)  0           batch_normalization_132[0][0]    \n__________________________________________________________________________________________________\ndepthwise_conv2d_44 (DepthwiseC (None, 8, 8, 672)    16800       swish_132[0][0]                  \n__________________________________________________________________________________________________\nbatch_normalization_133 (BatchN (None, 8, 8, 672)    2688        depthwise_conv2d_44[0][0]        \n__________________________________________________________________________________________________\nswish_133 (Swish)               (None, 8, 8, 672)    0           batch_normalization_133[0][0]    \n__________________________________________________________________________________________________\nlambda_44 (Lambda)              (None, 1, 1, 672)    0           swish_133[0][0]                  \n__________________________________________________________________________________________________\nconv2d_176 (Conv2D)             (None, 1, 1, 28)     18844       lambda_44[0][0]                  \n__________________________________________________________________________________________________\nswish_134 (Swish)               (None, 1, 1, 28)     0           conv2d_176[0][0]                 \n__________________________________________________________________________________________________\nconv2d_177 (Conv2D)             (None, 1, 1, 672)    19488       swish_134[0][0]                  \n__________________________________________________________________________________________________\nactivation_46 (Activation)      (None, 1, 1, 672)    0           conv2d_177[0][0]                 \n__________________________________________________________________________________________________\nmultiply_44 (Multiply)          (None, 8, 8, 672)    0           activation_46[0][0]              \n                                                                 swish_133[0][0]                  \n__________________________________________________________________________________________________\nconv2d_178 (Conv2D)             (None, 8, 8, 192)    129024      multiply_44[0][0]                \n__________________________________________________________________________________________________\nbatch_normalization_134 (BatchN (None, 8, 8, 192)    768         conv2d_178[0][0]                 \n__________________________________________________________________________________________________\nconv2d_179 (Conv2D)             (None, 8, 8, 1152)   221184      batch_normalization_134[0][0]    \n__________________________________________________________________________________________________\nbatch_normalization_135 (BatchN (None, 8, 8, 1152)   4608        conv2d_179[0][0]                 \n__________________________________________________________________________________________________\nswish_135 (Swish)               (None, 8, 8, 1152)   0           batch_normalization_135[0][0]    \n__________________________________________________________________________________________________\ndepthwise_conv2d_45 (DepthwiseC (None, 8, 8, 1152)   28800       swish_135[0][0]                  \n__________________________________________________________________________________________________\nbatch_normalization_136 (BatchN (None, 8, 8, 1152)   4608        depthwise_conv2d_45[0][0]        \n__________________________________________________________________________________________________\nswish_136 (Swish)               (None, 8, 8, 1152)   0           batch_normalization_136[0][0]    \n__________________________________________________________________________________________________\nlambda_45 (Lambda)              (None, 1, 1, 1152)   0           swish_136[0][0]                  \n__________________________________________________________________________________________________\nconv2d_180 (Conv2D)             (None, 1, 1, 48)     55344       lambda_45[0][0]                  \n__________________________________________________________________________________________________\nswish_137 (Swish)               (None, 1, 1, 48)     0           conv2d_180[0][0]                 \n__________________________________________________________________________________________________\nconv2d_181 (Conv2D)             (None, 1, 1, 1152)   56448       swish_137[0][0]                  \n__________________________________________________________________________________________________\nactivation_47 (Activation)      (None, 1, 1, 1152)   0           conv2d_181[0][0]                 \n__________________________________________________________________________________________________\nmultiply_45 (Multiply)          (None, 8, 8, 1152)   0           activation_47[0][0]              \n                                                                 swish_136[0][0]                  \n__________________________________________________________________________________________________\nconv2d_182 (Conv2D)             (None, 8, 8, 192)    221184      multiply_45[0][0]                \n__________________________________________________________________________________________________\nbatch_normalization_137 (BatchN (None, 8, 8, 192)    768         conv2d_182[0][0]                 \n__________________________________________________________________________________________________\nadd_25 (Add)                    (None, 8, 8, 192)    0           batch_normalization_137[0][0]    \n                                                                 batch_normalization_134[0][0]    \n__________________________________________________________________________________________________\nconv2d_183 (Conv2D)             (None, 8, 8, 1152)   221184      add_25[0][0]                     \n__________________________________________________________________________________________________\nbatch_normalization_138 (BatchN (None, 8, 8, 1152)   4608        conv2d_183[0][0]                 \n__________________________________________________________________________________________________\nswish_138 (Swish)               (None, 8, 8, 1152)   0           batch_normalization_138[0][0]    \n__________________________________________________________________________________________________\ndepthwise_conv2d_46 (DepthwiseC (None, 8, 8, 1152)   28800       swish_138[0][0]                  \n__________________________________________________________________________________________________\nbatch_normalization_139 (BatchN (None, 8, 8, 1152)   4608        depthwise_conv2d_46[0][0]        \n__________________________________________________________________________________________________\nswish_139 (Swish)               (None, 8, 8, 1152)   0           batch_normalization_139[0][0]    \n__________________________________________________________________________________________________\nlambda_46 (Lambda)              (None, 1, 1, 1152)   0           swish_139[0][0]                  \n__________________________________________________________________________________________________\nconv2d_184 (Conv2D)             (None, 1, 1, 48)     55344       lambda_46[0][0]                  \n__________________________________________________________________________________________________\nswish_140 (Swish)               (None, 1, 1, 48)     0           conv2d_184[0][0]                 \n__________________________________________________________________________________________________\nconv2d_185 (Conv2D)             (None, 1, 1, 1152)   56448       swish_140[0][0]                  \n__________________________________________________________________________________________________\nactivation_48 (Activation)      (None, 1, 1, 1152)   0           conv2d_185[0][0]                 \n__________________________________________________________________________________________________\nmultiply_46 (Multiply)          (None, 8, 8, 1152)   0           activation_48[0][0]              \n                                                                 swish_139[0][0]                  \n__________________________________________________________________________________________________\nconv2d_186 (Conv2D)             (None, 8, 8, 192)    221184      multiply_46[0][0]                \n__________________________________________________________________________________________________\nbatch_normalization_140 (BatchN (None, 8, 8, 192)    768         conv2d_186[0][0]                 \n__________________________________________________________________________________________________\nadd_26 (Add)                    (None, 8, 8, 192)    0           batch_normalization_140[0][0]    \n                                                                 add_25[0][0]                     \n__________________________________________________________________________________________________\nconv2d_187 (Conv2D)             (None, 8, 8, 1152)   221184      add_26[0][0]                     \n__________________________________________________________________________________________________\nbatch_normalization_141 (BatchN (None, 8, 8, 1152)   4608        conv2d_187[0][0]                 \n__________________________________________________________________________________________________\nswish_141 (Swish)               (None, 8, 8, 1152)   0           batch_normalization_141[0][0]    \n__________________________________________________________________________________________________\ndepthwise_conv2d_47 (DepthwiseC (None, 8, 8, 1152)   28800       swish_141[0][0]                  \n__________________________________________________________________________________________________\nbatch_normalization_142 (BatchN (None, 8, 8, 1152)   4608        depthwise_conv2d_47[0][0]        \n__________________________________________________________________________________________________\nswish_142 (Swish)               (None, 8, 8, 1152)   0           batch_normalization_142[0][0]    \n__________________________________________________________________________________________________\nlambda_47 (Lambda)              (None, 1, 1, 1152)   0           swish_142[0][0]                  \n__________________________________________________________________________________________________\nconv2d_188 (Conv2D)             (None, 1, 1, 48)     55344       lambda_47[0][0]                  \n__________________________________________________________________________________________________\nswish_143 (Swish)               (None, 1, 1, 48)     0           conv2d_188[0][0]                 \n__________________________________________________________________________________________________\nconv2d_189 (Conv2D)             (None, 1, 1, 1152)   56448       swish_143[0][0]                  \n__________________________________________________________________________________________________\nactivation_49 (Activation)      (None, 1, 1, 1152)   0           conv2d_189[0][0]                 \n__________________________________________________________________________________________________\nmultiply_47 (Multiply)          (None, 8, 8, 1152)   0           activation_49[0][0]              \n                                                                 swish_142[0][0]                  \n__________________________________________________________________________________________________\nconv2d_190 (Conv2D)             (None, 8, 8, 192)    221184      multiply_47[0][0]                \n__________________________________________________________________________________________________\nbatch_normalization_143 (BatchN (None, 8, 8, 192)    768         conv2d_190[0][0]                 \n__________________________________________________________________________________________________\nadd_27 (Add)                    (None, 8, 8, 192)    0           batch_normalization_143[0][0]    \n                                                                 add_26[0][0]                     \n__________________________________________________________________________________________________\nconv2d_191 (Conv2D)             (None, 8, 8, 1152)   221184      add_27[0][0]                     \n__________________________________________________________________________________________________\nbatch_normalization_144 (BatchN (None, 8, 8, 1152)   4608        conv2d_191[0][0]                 \n__________________________________________________________________________________________________\nswish_144 (Swish)               (None, 8, 8, 1152)   0           batch_normalization_144[0][0]    \n__________________________________________________________________________________________________\ndepthwise_conv2d_48 (DepthwiseC (None, 8, 8, 1152)   10368       swish_144[0][0]                  \n__________________________________________________________________________________________________\nbatch_normalization_145 (BatchN (None, 8, 8, 1152)   4608        depthwise_conv2d_48[0][0]        \n__________________________________________________________________________________________________\nswish_145 (Swish)               (None, 8, 8, 1152)   0           batch_normalization_145[0][0]    \n__________________________________________________________________________________________________\nlambda_48 (Lambda)              (None, 1, 1, 1152)   0           swish_145[0][0]                  \n__________________________________________________________________________________________________\nconv2d_192 (Conv2D)             (None, 1, 1, 48)     55344       lambda_48[0][0]                  \n__________________________________________________________________________________________________\nswish_146 (Swish)               (None, 1, 1, 48)     0           conv2d_192[0][0]                 \n__________________________________________________________________________________________________\nconv2d_193 (Conv2D)             (None, 1, 1, 1152)   56448       swish_146[0][0]                  \n__________________________________________________________________________________________________\nactivation_50 (Activation)      (None, 1, 1, 1152)   0           conv2d_193[0][0]                 \n__________________________________________________________________________________________________\nmultiply_48 (Multiply)          (None, 8, 8, 1152)   0           activation_50[0][0]              \n                                                                 swish_145[0][0]                  \n__________________________________________________________________________________________________\nconv2d_194 (Conv2D)             (None, 8, 8, 320)    368640      multiply_48[0][0]                \n__________________________________________________________________________________________________\nbatch_normalization_146 (BatchN (None, 8, 8, 320)    1280        conv2d_194[0][0]                 \n__________________________________________________________________________________________________\nconv2d_195 (Conv2D)             (None, 8, 8, 1280)   409600      batch_normalization_146[0][0]    \n__________________________________________________________________________________________________\nbatch_normalization_147 (BatchN (None, 8, 8, 1280)   5120        conv2d_195[0][0]                 \n__________________________________________________________________________________________________\nswish_147 (Swish)               (None, 8, 8, 1280)   0           batch_normalization_147[0][0]    \n__________________________________________________________________________________________________\nglobal_average_pooling2d_3 (Glo (None, 1280)         0           swish_147[0][0]                  \n__________________________________________________________________________________________________\ndropout_3 (Dropout)             (None, 1280)         0           global_average_pooling2d_3[0][0] \n__________________________________________________________________________________________________\ndense_3 (Dense)                 (None, 150)          192150      dropout_3[0][0]                  \n__________________________________________________________________________________________________\nactivation_51 (Activation)      (None, 150)          0           dense_3[0][0]                    \n==================================================================================================\nTotal params: 4,241,714\nTrainable params: 4,199,698\nNon-trainable params: 42,016\n__________________________________________________________________________________________________\n"
        }
      ],
      "source": [
        "model_2.summary()"
      ]
    },
    {
      "cell_type": "markdown",
      "metadata": {
        "id": "0Yj70omSGT5k",
        "colab_type": "text"
      },
      "source": [
        "#### compilation and training"
      ]
    },
    {
      "cell_type": "code",
      "execution_count": 33,
      "metadata": {},
      "outputs": [],
      "source": [
        "# early stopping\n",
        "es = keras.callbacks.EarlyStopping(monitor='val_accuracy', min_delta=0.005, mode='max', patience=10)\n",
        "# models checkpoints-- saves best only \n",
        "cp_efficient = keras.callbacks.ModelCheckpoint('efficient_net.h5', monitor='val_accuracy', verbose=0, save_best_only=True, save_weights_only=False, mode='max', period = 1)\n",
        "\n",
        "cp_efficient_m = keras.callbacks.ModelCheckpoint('efficient_net_m.h5', monitor='val_accuracy', verbose=0, save_best_only=True, save_weights_only=False, mode='max', period = 1)"
      ]
    },
    {
      "cell_type": "code",
      "metadata": {
        "id": "FBFB42EDDmsY",
        "colab_type": "code",
        "colab": {}
      },
      "source": [
        "model_1.compile(loss='categorical_crossentropy', optimizer='adam', metrics=['accuracy'])"
      ],
      "execution_count": 34,
      "outputs": []
    },
    {
      "cell_type": "code",
      "metadata": {
        "id": "iezTPyI9DmpA",
        "colab_type": "code",
        "outputId": "66901f06-dd65-4bfb-9f8a-6cfb8f874b10",
        "colab": {
          "base_uri": "https://localhost:8080/",
          "height": 384
        }
      },
      "source": [
        "model_1_hist = model_1.fit_generator(train_gen, steps_per_epoch=len(train_gen), validation_data=val_gen, validation_steps=len(val_gen), epochs=100, callbacks=[es, cp_efficient])"
      ],
      "execution_count": 30,
      "outputs": [
        {
          "output_type": "stream",
          "name": "stdout",
          "text": "WARNING:tensorflow:From C:\\Program Files\\Python37\\lib\\site-packages\\keras\\backend\\tensorflow_backend.py:422: The name tf.global_variables is deprecated. Please use tf.compat.v1.global_variables instead.\n\nEpoch 1/100\n2080/2080 [==============================] - 538s 259ms/step - loss: 1.4213 - accuracy: 0.6542 - val_loss: 0.0705 - val_accuracy: 0.9564\n"
        },
        {
          "output_type": "error",
          "ename": "KeyboardInterrupt",
          "evalue": "",
          "traceback": [
            "\u001b[1;31m---------------------------------------------------------------------------\u001b[0m",
            "\u001b[1;31mKeyboardInterrupt\u001b[0m                         Traceback (most recent call last)",
            "\u001b[1;32m<ipython-input-30-d79d5841afb8>\u001b[0m in \u001b[0;36m<module>\u001b[1;34m\u001b[0m\n\u001b[1;32m----> 1\u001b[1;33m \u001b[0mmodel_1_hist\u001b[0m \u001b[1;33m=\u001b[0m \u001b[0mmodel_1\u001b[0m\u001b[1;33m.\u001b[0m\u001b[0mfit_generator\u001b[0m\u001b[1;33m(\u001b[0m\u001b[0mtrain_gen\u001b[0m\u001b[1;33m,\u001b[0m \u001b[0msteps_per_epoch\u001b[0m\u001b[1;33m=\u001b[0m\u001b[0mlen\u001b[0m\u001b[1;33m(\u001b[0m\u001b[0mtrain_gen\u001b[0m\u001b[1;33m)\u001b[0m\u001b[1;33m,\u001b[0m \u001b[0mvalidation_data\u001b[0m\u001b[1;33m=\u001b[0m\u001b[0mval_gen\u001b[0m\u001b[1;33m,\u001b[0m \u001b[0mvalidation_steps\u001b[0m\u001b[1;33m=\u001b[0m\u001b[0mlen\u001b[0m\u001b[1;33m(\u001b[0m\u001b[0mval_gen\u001b[0m\u001b[1;33m)\u001b[0m\u001b[1;33m,\u001b[0m \u001b[0mepochs\u001b[0m\u001b[1;33m=\u001b[0m\u001b[1;36m100\u001b[0m\u001b[1;33m,\u001b[0m \u001b[0mcallbacks\u001b[0m\u001b[1;33m=\u001b[0m\u001b[1;33m[\u001b[0m\u001b[0mes\u001b[0m\u001b[1;33m,\u001b[0m \u001b[0mcp_efficient\u001b[0m\u001b[1;33m]\u001b[0m\u001b[1;33m)\u001b[0m\u001b[1;33m\u001b[0m\u001b[0m\n\u001b[0m",
            "\u001b[1;32mC:\\Program Files\\Python37\\lib\\site-packages\\keras\\legacy\\interfaces.py\u001b[0m in \u001b[0;36mwrapper\u001b[1;34m(*args, **kwargs)\u001b[0m\n\u001b[0;32m     89\u001b[0m                 warnings.warn('Update your `' + object_name + '` call to the ' +\n\u001b[0;32m     90\u001b[0m                               'Keras 2 API: ' + signature, stacklevel=2)\n\u001b[1;32m---> 91\u001b[1;33m             \u001b[1;32mreturn\u001b[0m \u001b[0mfunc\u001b[0m\u001b[1;33m(\u001b[0m\u001b[1;33m*\u001b[0m\u001b[0margs\u001b[0m\u001b[1;33m,\u001b[0m \u001b[1;33m**\u001b[0m\u001b[0mkwargs\u001b[0m\u001b[1;33m)\u001b[0m\u001b[1;33m\u001b[0m\u001b[0m\n\u001b[0m\u001b[0;32m     92\u001b[0m         \u001b[0mwrapper\u001b[0m\u001b[1;33m.\u001b[0m\u001b[0m_original_function\u001b[0m \u001b[1;33m=\u001b[0m \u001b[0mfunc\u001b[0m\u001b[1;33m\u001b[0m\u001b[0m\n\u001b[0;32m     93\u001b[0m         \u001b[1;32mreturn\u001b[0m \u001b[0mwrapper\u001b[0m\u001b[1;33m\u001b[0m\u001b[0m\n",
            "\u001b[1;32mC:\\Program Files\\Python37\\lib\\site-packages\\keras\\engine\\training.py\u001b[0m in \u001b[0;36mfit_generator\u001b[1;34m(self, generator, steps_per_epoch, epochs, verbose, callbacks, validation_data, validation_steps, validation_freq, class_weight, max_queue_size, workers, use_multiprocessing, shuffle, initial_epoch)\u001b[0m\n\u001b[0;32m   1730\u001b[0m             \u001b[0muse_multiprocessing\u001b[0m\u001b[1;33m=\u001b[0m\u001b[0muse_multiprocessing\u001b[0m\u001b[1;33m,\u001b[0m\u001b[1;33m\u001b[0m\u001b[0m\n\u001b[0;32m   1731\u001b[0m             \u001b[0mshuffle\u001b[0m\u001b[1;33m=\u001b[0m\u001b[0mshuffle\u001b[0m\u001b[1;33m,\u001b[0m\u001b[1;33m\u001b[0m\u001b[0m\n\u001b[1;32m-> 1732\u001b[1;33m             initial_epoch=initial_epoch)\n\u001b[0m\u001b[0;32m   1733\u001b[0m \u001b[1;33m\u001b[0m\u001b[0m\n\u001b[0;32m   1734\u001b[0m     \u001b[1;33m@\u001b[0m\u001b[0minterfaces\u001b[0m\u001b[1;33m.\u001b[0m\u001b[0mlegacy_generator_methods_support\u001b[0m\u001b[1;33m\u001b[0m\u001b[0m\n",
            "\u001b[1;32mC:\\Program Files\\Python37\\lib\\site-packages\\keras\\engine\\training_generator.py\u001b[0m in \u001b[0;36mfit_generator\u001b[1;34m(model, generator, steps_per_epoch, epochs, verbose, callbacks, validation_data, validation_steps, validation_freq, class_weight, max_queue_size, workers, use_multiprocessing, shuffle, initial_epoch)\u001b[0m\n\u001b[0;32m    258\u001b[0m                     \u001b[1;32mbreak\u001b[0m\u001b[1;33m\u001b[0m\u001b[0m\n\u001b[0;32m    259\u001b[0m \u001b[1;33m\u001b[0m\u001b[0m\n\u001b[1;32m--> 260\u001b[1;33m             \u001b[0mcallbacks\u001b[0m\u001b[1;33m.\u001b[0m\u001b[0mon_epoch_end\u001b[0m\u001b[1;33m(\u001b[0m\u001b[0mepoch\u001b[0m\u001b[1;33m,\u001b[0m \u001b[0mepoch_logs\u001b[0m\u001b[1;33m)\u001b[0m\u001b[1;33m\u001b[0m\u001b[0m\n\u001b[0m\u001b[0;32m    261\u001b[0m             \u001b[0mepoch\u001b[0m \u001b[1;33m+=\u001b[0m \u001b[1;36m1\u001b[0m\u001b[1;33m\u001b[0m\u001b[0m\n\u001b[0;32m    262\u001b[0m             \u001b[1;32mif\u001b[0m \u001b[0mcallbacks\u001b[0m\u001b[1;33m.\u001b[0m\u001b[0mmodel\u001b[0m\u001b[1;33m.\u001b[0m\u001b[0mstop_training\u001b[0m\u001b[1;33m:\u001b[0m\u001b[1;33m\u001b[0m\u001b[0m\n",
            "\u001b[1;32mC:\\Program Files\\Python37\\lib\\site-packages\\keras\\callbacks\\callbacks.py\u001b[0m in \u001b[0;36mon_epoch_end\u001b[1;34m(self, epoch, logs)\u001b[0m\n\u001b[0;32m    150\u001b[0m         \u001b[0mlogs\u001b[0m \u001b[1;33m=\u001b[0m \u001b[0mlogs\u001b[0m \u001b[1;32mor\u001b[0m \u001b[1;33m{\u001b[0m\u001b[1;33m}\u001b[0m\u001b[1;33m\u001b[0m\u001b[0m\n\u001b[0;32m    151\u001b[0m         \u001b[1;32mfor\u001b[0m \u001b[0mcallback\u001b[0m \u001b[1;32min\u001b[0m \u001b[0mself\u001b[0m\u001b[1;33m.\u001b[0m\u001b[0mcallbacks\u001b[0m\u001b[1;33m:\u001b[0m\u001b[1;33m\u001b[0m\u001b[0m\n\u001b[1;32m--> 152\u001b[1;33m             \u001b[0mcallback\u001b[0m\u001b[1;33m.\u001b[0m\u001b[0mon_epoch_end\u001b[0m\u001b[1;33m(\u001b[0m\u001b[0mepoch\u001b[0m\u001b[1;33m,\u001b[0m \u001b[0mlogs\u001b[0m\u001b[1;33m)\u001b[0m\u001b[1;33m\u001b[0m\u001b[0m\n\u001b[0m\u001b[0;32m    153\u001b[0m \u001b[1;33m\u001b[0m\u001b[0m\n\u001b[0;32m    154\u001b[0m     \u001b[1;32mdef\u001b[0m \u001b[0mon_train_batch_begin\u001b[0m\u001b[1;33m(\u001b[0m\u001b[0mself\u001b[0m\u001b[1;33m,\u001b[0m \u001b[0mbatch\u001b[0m\u001b[1;33m,\u001b[0m \u001b[0mlogs\u001b[0m\u001b[1;33m=\u001b[0m\u001b[1;32mNone\u001b[0m\u001b[1;33m)\u001b[0m\u001b[1;33m:\u001b[0m\u001b[1;33m\u001b[0m\u001b[0m\n",
            "\u001b[1;32mC:\\Program Files\\Python37\\lib\\site-packages\\keras\\callbacks\\callbacks.py\u001b[0m in \u001b[0;36mon_epoch_end\u001b[1;34m(self, epoch, logs)\u001b[0m\n\u001b[0;32m    717\u001b[0m                             \u001b[0mself\u001b[0m\u001b[1;33m.\u001b[0m\u001b[0mmodel\u001b[0m\u001b[1;33m.\u001b[0m\u001b[0msave_weights\u001b[0m\u001b[1;33m(\u001b[0m\u001b[0mfilepath\u001b[0m\u001b[1;33m,\u001b[0m \u001b[0moverwrite\u001b[0m\u001b[1;33m=\u001b[0m\u001b[1;32mTrue\u001b[0m\u001b[1;33m)\u001b[0m\u001b[1;33m\u001b[0m\u001b[0m\n\u001b[0;32m    718\u001b[0m                         \u001b[1;32melse\u001b[0m\u001b[1;33m:\u001b[0m\u001b[1;33m\u001b[0m\u001b[0m\n\u001b[1;32m--> 719\u001b[1;33m                             \u001b[0mself\u001b[0m\u001b[1;33m.\u001b[0m\u001b[0mmodel\u001b[0m\u001b[1;33m.\u001b[0m\u001b[0msave\u001b[0m\u001b[1;33m(\u001b[0m\u001b[0mfilepath\u001b[0m\u001b[1;33m,\u001b[0m \u001b[0moverwrite\u001b[0m\u001b[1;33m=\u001b[0m\u001b[1;32mTrue\u001b[0m\u001b[1;33m)\u001b[0m\u001b[1;33m\u001b[0m\u001b[0m\n\u001b[0m\u001b[0;32m    720\u001b[0m                     \u001b[1;32melse\u001b[0m\u001b[1;33m:\u001b[0m\u001b[1;33m\u001b[0m\u001b[0m\n\u001b[0;32m    721\u001b[0m                         \u001b[1;32mif\u001b[0m \u001b[0mself\u001b[0m\u001b[1;33m.\u001b[0m\u001b[0mverbose\u001b[0m \u001b[1;33m>\u001b[0m \u001b[1;36m0\u001b[0m\u001b[1;33m:\u001b[0m\u001b[1;33m\u001b[0m\u001b[0m\n",
            "\u001b[1;32mC:\\Program Files\\Python37\\lib\\site-packages\\keras\\engine\\network.py\u001b[0m in \u001b[0;36msave\u001b[1;34m(self, filepath, overwrite, include_optimizer)\u001b[0m\n\u001b[0;32m   1150\u001b[0m             \u001b[1;32mraise\u001b[0m \u001b[0mNotImplementedError\u001b[0m\u001b[1;33m\u001b[0m\u001b[0m\n\u001b[0;32m   1151\u001b[0m         \u001b[1;32mfrom\u001b[0m \u001b[1;33m.\u001b[0m\u001b[1;33m.\u001b[0m\u001b[0mmodels\u001b[0m \u001b[1;32mimport\u001b[0m \u001b[0msave_model\u001b[0m\u001b[1;33m\u001b[0m\u001b[0m\n\u001b[1;32m-> 1152\u001b[1;33m         \u001b[0msave_model\u001b[0m\u001b[1;33m(\u001b[0m\u001b[0mself\u001b[0m\u001b[1;33m,\u001b[0m \u001b[0mfilepath\u001b[0m\u001b[1;33m,\u001b[0m \u001b[0moverwrite\u001b[0m\u001b[1;33m,\u001b[0m \u001b[0minclude_optimizer\u001b[0m\u001b[1;33m)\u001b[0m\u001b[1;33m\u001b[0m\u001b[0m\n\u001b[0m\u001b[0;32m   1153\u001b[0m \u001b[1;33m\u001b[0m\u001b[0m\n\u001b[0;32m   1154\u001b[0m     \u001b[1;33m@\u001b[0m\u001b[0msaving\u001b[0m\u001b[1;33m.\u001b[0m\u001b[0mallow_write_to_gcs\u001b[0m\u001b[1;33m\u001b[0m\u001b[0m\n",
            "\u001b[1;32mC:\\Program Files\\Python37\\lib\\site-packages\\keras\\engine\\saving.py\u001b[0m in \u001b[0;36msave_wrapper\u001b[1;34m(obj, filepath, overwrite, *args, **kwargs)\u001b[0m\n\u001b[0;32m    447\u001b[0m                 \u001b[0mos\u001b[0m\u001b[1;33m.\u001b[0m\u001b[0mremove\u001b[0m\u001b[1;33m(\u001b[0m\u001b[0mtmp_filepath\u001b[0m\u001b[1;33m)\u001b[0m\u001b[1;33m\u001b[0m\u001b[0m\n\u001b[0;32m    448\u001b[0m         \u001b[1;32melse\u001b[0m\u001b[1;33m:\u001b[0m\u001b[1;33m\u001b[0m\u001b[0m\n\u001b[1;32m--> 449\u001b[1;33m             \u001b[0msave_function\u001b[0m\u001b[1;33m(\u001b[0m\u001b[0mobj\u001b[0m\u001b[1;33m,\u001b[0m \u001b[0mfilepath\u001b[0m\u001b[1;33m,\u001b[0m \u001b[0moverwrite\u001b[0m\u001b[1;33m,\u001b[0m \u001b[1;33m*\u001b[0m\u001b[0margs\u001b[0m\u001b[1;33m,\u001b[0m \u001b[1;33m**\u001b[0m\u001b[0mkwargs\u001b[0m\u001b[1;33m)\u001b[0m\u001b[1;33m\u001b[0m\u001b[0m\n\u001b[0m\u001b[0;32m    450\u001b[0m \u001b[1;33m\u001b[0m\u001b[0m\n\u001b[0;32m    451\u001b[0m     \u001b[1;32mreturn\u001b[0m \u001b[0msave_wrapper\u001b[0m\u001b[1;33m\u001b[0m\u001b[0m\n",
            "\u001b[1;32mC:\\Program Files\\Python37\\lib\\site-packages\\keras\\engine\\saving.py\u001b[0m in \u001b[0;36msave_model\u001b[1;34m(model, filepath, overwrite, include_optimizer)\u001b[0m\n\u001b[0;32m    539\u001b[0m                 \u001b[1;32mreturn\u001b[0m\u001b[1;33m\u001b[0m\u001b[0m\n\u001b[0;32m    540\u001b[0m         \u001b[1;32mwith\u001b[0m \u001b[0mH5Dict\u001b[0m\u001b[1;33m(\u001b[0m\u001b[0mfilepath\u001b[0m\u001b[1;33m,\u001b[0m \u001b[0mmode\u001b[0m\u001b[1;33m=\u001b[0m\u001b[1;34m'w'\u001b[0m\u001b[1;33m)\u001b[0m \u001b[1;32mas\u001b[0m \u001b[0mh5dict\u001b[0m\u001b[1;33m:\u001b[0m\u001b[1;33m\u001b[0m\u001b[0m\n\u001b[1;32m--> 541\u001b[1;33m             \u001b[0m_serialize_model\u001b[0m\u001b[1;33m(\u001b[0m\u001b[0mmodel\u001b[0m\u001b[1;33m,\u001b[0m \u001b[0mh5dict\u001b[0m\u001b[1;33m,\u001b[0m \u001b[0minclude_optimizer\u001b[0m\u001b[1;33m)\u001b[0m\u001b[1;33m\u001b[0m\u001b[0m\n\u001b[0m\u001b[0;32m    542\u001b[0m     \u001b[1;32melif\u001b[0m \u001b[0mhasattr\u001b[0m\u001b[1;33m(\u001b[0m\u001b[0mfilepath\u001b[0m\u001b[1;33m,\u001b[0m \u001b[1;34m'write'\u001b[0m\u001b[1;33m)\u001b[0m \u001b[1;32mand\u001b[0m \u001b[0mcallable\u001b[0m\u001b[1;33m(\u001b[0m\u001b[0mfilepath\u001b[0m\u001b[1;33m.\u001b[0m\u001b[0mwrite\u001b[0m\u001b[1;33m)\u001b[0m\u001b[1;33m:\u001b[0m\u001b[1;33m\u001b[0m\u001b[0m\n\u001b[0;32m    543\u001b[0m         \u001b[1;31m# write as binary stream\u001b[0m\u001b[1;33m\u001b[0m\u001b[1;33m\u001b[0m\u001b[0m\n",
            "\u001b[1;32mC:\\Program Files\\Python37\\lib\\site-packages\\keras\\engine\\saving.py\u001b[0m in \u001b[0;36m_serialize_model\u001b[1;34m(model, h5dict, include_optimizer)\u001b[0m\n\u001b[0;32m    141\u001b[0m         \u001b[0mlayer_group\u001b[0m \u001b[1;33m=\u001b[0m \u001b[0mmodel_weights_group\u001b[0m\u001b[1;33m[\u001b[0m\u001b[0mlayer\u001b[0m\u001b[1;33m.\u001b[0m\u001b[0mname\u001b[0m\u001b[1;33m]\u001b[0m\u001b[1;33m\u001b[0m\u001b[0m\n\u001b[0;32m    142\u001b[0m         \u001b[0msymbolic_weights\u001b[0m \u001b[1;33m=\u001b[0m \u001b[0mlayer\u001b[0m\u001b[1;33m.\u001b[0m\u001b[0mweights\u001b[0m\u001b[1;33m\u001b[0m\u001b[0m\n\u001b[1;32m--> 143\u001b[1;33m         \u001b[0mweight_values\u001b[0m \u001b[1;33m=\u001b[0m \u001b[0mK\u001b[0m\u001b[1;33m.\u001b[0m\u001b[0mbatch_get_value\u001b[0m\u001b[1;33m(\u001b[0m\u001b[0msymbolic_weights\u001b[0m\u001b[1;33m)\u001b[0m\u001b[1;33m\u001b[0m\u001b[0m\n\u001b[0m\u001b[0;32m    144\u001b[0m         \u001b[0mweight_names\u001b[0m \u001b[1;33m=\u001b[0m \u001b[1;33m[\u001b[0m\u001b[1;33m]\u001b[0m\u001b[1;33m\u001b[0m\u001b[0m\n\u001b[0;32m    145\u001b[0m         \u001b[1;32mfor\u001b[0m \u001b[0mi\u001b[0m\u001b[1;33m,\u001b[0m \u001b[1;33m(\u001b[0m\u001b[0mw\u001b[0m\u001b[1;33m,\u001b[0m \u001b[0mval\u001b[0m\u001b[1;33m)\u001b[0m \u001b[1;32min\u001b[0m \u001b[0menumerate\u001b[0m\u001b[1;33m(\u001b[0m\u001b[0mzip\u001b[0m\u001b[1;33m(\u001b[0m\u001b[0msymbolic_weights\u001b[0m\u001b[1;33m,\u001b[0m \u001b[0mweight_values\u001b[0m\u001b[1;33m)\u001b[0m\u001b[1;33m)\u001b[0m\u001b[1;33m:\u001b[0m\u001b[1;33m\u001b[0m\u001b[0m\n",
            "\u001b[1;32mC:\\Program Files\\Python37\\lib\\site-packages\\keras\\backend\\tensorflow_backend.py\u001b[0m in \u001b[0;36mbatch_get_value\u001b[1;34m(ops)\u001b[0m\n\u001b[0;32m   2937\u001b[0m         \u001b[0mA\u001b[0m \u001b[0mlist\u001b[0m \u001b[0mof\u001b[0m \u001b[0mNumpy\u001b[0m \u001b[0marrays\u001b[0m\u001b[1;33m.\u001b[0m\u001b[1;33m\u001b[0m\u001b[0m\n\u001b[0;32m   2938\u001b[0m     \"\"\"\n\u001b[1;32m-> 2939\u001b[1;33m     \u001b[1;32mreturn\u001b[0m \u001b[0mtf_keras_backend\u001b[0m\u001b[1;33m.\u001b[0m\u001b[0mbatch_get_value\u001b[0m\u001b[1;33m(\u001b[0m\u001b[0mops\u001b[0m\u001b[1;33m)\u001b[0m\u001b[1;33m\u001b[0m\u001b[0m\n\u001b[0m\u001b[0;32m   2940\u001b[0m \u001b[1;33m\u001b[0m\u001b[0m\n\u001b[0;32m   2941\u001b[0m \u001b[1;33m\u001b[0m\u001b[0m\n",
            "\u001b[1;32mC:\\Program Files\\Python37\\lib\\site-packages\\tensorflow\\python\\keras\\backend.py\u001b[0m in \u001b[0;36mbatch_get_value\u001b[1;34m(tensors)\u001b[0m\n\u001b[0;32m   3008\u001b[0m     \u001b[1;32mraise\u001b[0m \u001b[0mRuntimeError\u001b[0m\u001b[1;33m(\u001b[0m\u001b[1;34m'Cannot get value inside Tensorflow graph function.'\u001b[0m\u001b[1;33m)\u001b[0m\u001b[1;33m\u001b[0m\u001b[0m\n\u001b[0;32m   3009\u001b[0m   \u001b[1;32mif\u001b[0m \u001b[0mtensors\u001b[0m\u001b[1;33m:\u001b[0m\u001b[1;33m\u001b[0m\u001b[0m\n\u001b[1;32m-> 3010\u001b[1;33m     \u001b[1;32mreturn\u001b[0m \u001b[0mget_session\u001b[0m\u001b[1;33m(\u001b[0m\u001b[0mtensors\u001b[0m\u001b[1;33m)\u001b[0m\u001b[1;33m.\u001b[0m\u001b[0mrun\u001b[0m\u001b[1;33m(\u001b[0m\u001b[0mtensors\u001b[0m\u001b[1;33m)\u001b[0m\u001b[1;33m\u001b[0m\u001b[0m\n\u001b[0m\u001b[0;32m   3011\u001b[0m   \u001b[1;32melse\u001b[0m\u001b[1;33m:\u001b[0m\u001b[1;33m\u001b[0m\u001b[0m\n\u001b[0;32m   3012\u001b[0m     \u001b[1;32mreturn\u001b[0m \u001b[1;33m[\u001b[0m\u001b[1;33m]\u001b[0m\u001b[1;33m\u001b[0m\u001b[0m\n",
            "\u001b[1;32mC:\\Program Files\\Python37\\lib\\site-packages\\tensorflow\\python\\client\\session.py\u001b[0m in \u001b[0;36mrun\u001b[1;34m(self, fetches, feed_dict, options, run_metadata)\u001b[0m\n\u001b[0;32m    948\u001b[0m     \u001b[1;32mtry\u001b[0m\u001b[1;33m:\u001b[0m\u001b[1;33m\u001b[0m\u001b[0m\n\u001b[0;32m    949\u001b[0m       result = self._run(None, fetches, feed_dict, options_ptr,\n\u001b[1;32m--> 950\u001b[1;33m                          run_metadata_ptr)\n\u001b[0m\u001b[0;32m    951\u001b[0m       \u001b[1;32mif\u001b[0m \u001b[0mrun_metadata\u001b[0m\u001b[1;33m:\u001b[0m\u001b[1;33m\u001b[0m\u001b[0m\n\u001b[0;32m    952\u001b[0m         \u001b[0mproto_data\u001b[0m \u001b[1;33m=\u001b[0m \u001b[0mtf_session\u001b[0m\u001b[1;33m.\u001b[0m\u001b[0mTF_GetBuffer\u001b[0m\u001b[1;33m(\u001b[0m\u001b[0mrun_metadata_ptr\u001b[0m\u001b[1;33m)\u001b[0m\u001b[1;33m\u001b[0m\u001b[0m\n",
            "\u001b[1;32mC:\\Program Files\\Python37\\lib\\site-packages\\tensorflow\\python\\client\\session.py\u001b[0m in \u001b[0;36m_run\u001b[1;34m(self, handle, fetches, feed_dict, options, run_metadata)\u001b[0m\n\u001b[0;32m   1171\u001b[0m     \u001b[1;32mif\u001b[0m \u001b[0mfinal_fetches\u001b[0m \u001b[1;32mor\u001b[0m \u001b[0mfinal_targets\u001b[0m \u001b[1;32mor\u001b[0m \u001b[1;33m(\u001b[0m\u001b[0mhandle\u001b[0m \u001b[1;32mand\u001b[0m \u001b[0mfeed_dict_tensor\u001b[0m\u001b[1;33m)\u001b[0m\u001b[1;33m:\u001b[0m\u001b[1;33m\u001b[0m\u001b[0m\n\u001b[0;32m   1172\u001b[0m       results = self._do_run(handle, final_targets, final_fetches,\n\u001b[1;32m-> 1173\u001b[1;33m                              feed_dict_tensor, options, run_metadata)\n\u001b[0m\u001b[0;32m   1174\u001b[0m     \u001b[1;32melse\u001b[0m\u001b[1;33m:\u001b[0m\u001b[1;33m\u001b[0m\u001b[0m\n\u001b[0;32m   1175\u001b[0m       \u001b[0mresults\u001b[0m \u001b[1;33m=\u001b[0m \u001b[1;33m[\u001b[0m\u001b[1;33m]\u001b[0m\u001b[1;33m\u001b[0m\u001b[0m\n",
            "\u001b[1;32mC:\\Program Files\\Python37\\lib\\site-packages\\tensorflow\\python\\client\\session.py\u001b[0m in \u001b[0;36m_do_run\u001b[1;34m(self, handle, target_list, fetch_list, feed_dict, options, run_metadata)\u001b[0m\n\u001b[0;32m   1348\u001b[0m     \u001b[1;32mif\u001b[0m \u001b[0mhandle\u001b[0m \u001b[1;32mis\u001b[0m \u001b[1;32mNone\u001b[0m\u001b[1;33m:\u001b[0m\u001b[1;33m\u001b[0m\u001b[0m\n\u001b[0;32m   1349\u001b[0m       return self._do_call(_run_fn, feeds, fetches, targets, options,\n\u001b[1;32m-> 1350\u001b[1;33m                            run_metadata)\n\u001b[0m\u001b[0;32m   1351\u001b[0m     \u001b[1;32melse\u001b[0m\u001b[1;33m:\u001b[0m\u001b[1;33m\u001b[0m\u001b[0m\n\u001b[0;32m   1352\u001b[0m       \u001b[1;32mreturn\u001b[0m \u001b[0mself\u001b[0m\u001b[1;33m.\u001b[0m\u001b[0m_do_call\u001b[0m\u001b[1;33m(\u001b[0m\u001b[0m_prun_fn\u001b[0m\u001b[1;33m,\u001b[0m \u001b[0mhandle\u001b[0m\u001b[1;33m,\u001b[0m \u001b[0mfeeds\u001b[0m\u001b[1;33m,\u001b[0m \u001b[0mfetches\u001b[0m\u001b[1;33m)\u001b[0m\u001b[1;33m\u001b[0m\u001b[0m\n",
            "\u001b[1;32mC:\\Program Files\\Python37\\lib\\site-packages\\tensorflow\\python\\client\\session.py\u001b[0m in \u001b[0;36m_do_call\u001b[1;34m(self, fn, *args)\u001b[0m\n\u001b[0;32m   1354\u001b[0m   \u001b[1;32mdef\u001b[0m \u001b[0m_do_call\u001b[0m\u001b[1;33m(\u001b[0m\u001b[0mself\u001b[0m\u001b[1;33m,\u001b[0m \u001b[0mfn\u001b[0m\u001b[1;33m,\u001b[0m \u001b[1;33m*\u001b[0m\u001b[0margs\u001b[0m\u001b[1;33m)\u001b[0m\u001b[1;33m:\u001b[0m\u001b[1;33m\u001b[0m\u001b[0m\n\u001b[0;32m   1355\u001b[0m     \u001b[1;32mtry\u001b[0m\u001b[1;33m:\u001b[0m\u001b[1;33m\u001b[0m\u001b[0m\n\u001b[1;32m-> 1356\u001b[1;33m       \u001b[1;32mreturn\u001b[0m \u001b[0mfn\u001b[0m\u001b[1;33m(\u001b[0m\u001b[1;33m*\u001b[0m\u001b[0margs\u001b[0m\u001b[1;33m)\u001b[0m\u001b[1;33m\u001b[0m\u001b[0m\n\u001b[0m\u001b[0;32m   1357\u001b[0m     \u001b[1;32mexcept\u001b[0m \u001b[0merrors\u001b[0m\u001b[1;33m.\u001b[0m\u001b[0mOpError\u001b[0m \u001b[1;32mas\u001b[0m \u001b[0me\u001b[0m\u001b[1;33m:\u001b[0m\u001b[1;33m\u001b[0m\u001b[0m\n\u001b[0;32m   1358\u001b[0m       \u001b[0mmessage\u001b[0m \u001b[1;33m=\u001b[0m \u001b[0mcompat\u001b[0m\u001b[1;33m.\u001b[0m\u001b[0mas_text\u001b[0m\u001b[1;33m(\u001b[0m\u001b[0me\u001b[0m\u001b[1;33m.\u001b[0m\u001b[0mmessage\u001b[0m\u001b[1;33m)\u001b[0m\u001b[1;33m\u001b[0m\u001b[0m\n",
            "\u001b[1;32mC:\\Program Files\\Python37\\lib\\site-packages\\tensorflow\\python\\client\\session.py\u001b[0m in \u001b[0;36m_run_fn\u001b[1;34m(feed_dict, fetch_list, target_list, options, run_metadata)\u001b[0m\n\u001b[0;32m   1339\u001b[0m       \u001b[0mself\u001b[0m\u001b[1;33m.\u001b[0m\u001b[0m_extend_graph\u001b[0m\u001b[1;33m(\u001b[0m\u001b[1;33m)\u001b[0m\u001b[1;33m\u001b[0m\u001b[0m\n\u001b[0;32m   1340\u001b[0m       return self._call_tf_sessionrun(\n\u001b[1;32m-> 1341\u001b[1;33m           options, feed_dict, fetch_list, target_list, run_metadata)\n\u001b[0m\u001b[0;32m   1342\u001b[0m \u001b[1;33m\u001b[0m\u001b[0m\n\u001b[0;32m   1343\u001b[0m     \u001b[1;32mdef\u001b[0m \u001b[0m_prun_fn\u001b[0m\u001b[1;33m(\u001b[0m\u001b[0mhandle\u001b[0m\u001b[1;33m,\u001b[0m \u001b[0mfeed_dict\u001b[0m\u001b[1;33m,\u001b[0m \u001b[0mfetch_list\u001b[0m\u001b[1;33m)\u001b[0m\u001b[1;33m:\u001b[0m\u001b[1;33m\u001b[0m\u001b[0m\n",
            "\u001b[1;32mC:\\Program Files\\Python37\\lib\\site-packages\\tensorflow\\python\\client\\session.py\u001b[0m in \u001b[0;36m_call_tf_sessionrun\u001b[1;34m(self, options, feed_dict, fetch_list, target_list, run_metadata)\u001b[0m\n\u001b[0;32m   1427\u001b[0m     return tf_session.TF_SessionRun_wrapper(\n\u001b[0;32m   1428\u001b[0m         \u001b[0mself\u001b[0m\u001b[1;33m.\u001b[0m\u001b[0m_session\u001b[0m\u001b[1;33m,\u001b[0m \u001b[0moptions\u001b[0m\u001b[1;33m,\u001b[0m \u001b[0mfeed_dict\u001b[0m\u001b[1;33m,\u001b[0m \u001b[0mfetch_list\u001b[0m\u001b[1;33m,\u001b[0m \u001b[0mtarget_list\u001b[0m\u001b[1;33m,\u001b[0m\u001b[1;33m\u001b[0m\u001b[0m\n\u001b[1;32m-> 1429\u001b[1;33m         run_metadata)\n\u001b[0m\u001b[0;32m   1430\u001b[0m \u001b[1;33m\u001b[0m\u001b[0m\n\u001b[0;32m   1431\u001b[0m   \u001b[1;32mdef\u001b[0m \u001b[0m_call_tf_sessionprun\u001b[0m\u001b[1;33m(\u001b[0m\u001b[0mself\u001b[0m\u001b[1;33m,\u001b[0m \u001b[0mhandle\u001b[0m\u001b[1;33m,\u001b[0m \u001b[0mfeed_dict\u001b[0m\u001b[1;33m,\u001b[0m \u001b[0mfetch_list\u001b[0m\u001b[1;33m)\u001b[0m\u001b[1;33m:\u001b[0m\u001b[1;33m\u001b[0m\u001b[0m\n",
            "\u001b[1;31mKeyboardInterrupt\u001b[0m: "
          ]
        }
      ]
    },
    {
      "cell_type": "code",
      "metadata": {
        "id": "Hre-vm1uDma8",
        "colab_type": "code",
        "colab": {}
      },
      "source": [
        "# def plot_loss_accuracy(hist):\n",
        "#   # plot loss\n",
        "#   print(\"training_loss =\", hist.history['loss'][-1],  \"   val_loss =\", hist.history['val_loss'][-1])\n",
        "#   print(\"training_acc =\", hist.history['accuracy'][-1]*100, \"   val_acc =\", hist.history['val_acc'][-1]*100)\n",
        "#   plt.plot(hist.history['val_loss'], label='val_loss')\n",
        "#   plt.plot(hist.history['loss'], label='training_loss')\n",
        "\n",
        "#   # plot accuracy\n",
        "#   plt.plot(hist.history['val_acc'], label='val_acc')\n",
        "#   plt.plot(hist.history['accuracy'], label='training_acc')\n",
        "#   plt.legend()\n",
        "#   plt.show()"
      ],
      "execution_count": 25,
      "outputs": []
    },
    {
      "cell_type": "code",
      "metadata": {
        "id": "RIeR7wa_G07u",
        "colab_type": "code",
        "outputId": "835463a9-ce45-4a39-c3e6-2333a01e2ddc",
        "colab": {
          "base_uri": "https://localhost:8080/",
          "height": 304
        }
      },
      "source": [
        "# plot_loss_accuracy(model_1_hist)"
      ],
      "execution_count": 26,
      "outputs": []
    },
    {
      "cell_type": "code",
      "metadata": {
        "id": "DJQXaJjjH0GT",
        "colab_type": "code",
        "colab": {}
      },
      "source": [
        "model = load_model(\"efficient_net.h5\")"
      ],
      "execution_count": 26,
      "outputs": []
    },
    {
      "cell_type": "code",
      "metadata": {
        "id": "EbaGYiSWeAEj",
        "colab_type": "code",
        "colab": {}
      },
      "source": [
        "model.evaluate_generator(val_gen, steps=len(val_gen))"
      ],
      "execution_count": 27,
      "outputs": [
        {
          "output_type": "execute_result",
          "data": {
            "text/plain": "[0.006727680563926697, 0.9616193771362305]"
          },
          "metadata": {},
          "execution_count": 27
        }
      ]
    },
    {
      "cell_type": "code",
      "execution_count": 28,
      "metadata": {},
      "outputs": [],
      "source": [
        "model_2.compile(loss='categorical_crossentropy', optimizer='adam', metrics=['accuracy'])"
      ]
    },
    {
      "cell_type": "code",
      "execution_count": 29,
      "metadata": {},
      "outputs": [
        {
          "output_type": "stream",
          "name": "stdout",
          "text": "Epoch 1/100\n2080/2080 [==============================] - 557s 268ms/step - loss: 2.0812 - accuracy: 0.4864 - val_loss: 1.0755 - val_accuracy: 0.7902\nEpoch 2/100\n2080/2080 [==============================] - 350s 168ms/step - loss: 0.9160 - accuracy: 0.7482 - val_loss: 0.5934 - val_accuracy: 0.8270\nEpoch 3/100\n2080/2080 [==============================] - 288s 138ms/step - loss: 0.6838 - accuracy: 0.8107 - val_loss: 0.4699 - val_accuracy: 0.9054\nEpoch 4/100\n2080/2080 [==============================] - 287s 138ms/step - loss: 0.5713 - accuracy: 0.8410 - val_loss: 0.0739 - val_accuracy: 0.9038\nEpoch 5/100\n2080/2080 [==============================] - 287s 138ms/step - loss: 0.4918 - accuracy: 0.8677 - val_loss: 0.0206 - val_accuracy: 0.9264\nEpoch 6/100\n2080/2080 [==============================] - 290s 139ms/step - loss: 0.4346 - accuracy: 0.8814 - val_loss: 0.2412 - val_accuracy: 0.8728\nEpoch 7/100\n2080/2080 [==============================] - 295s 142ms/step - loss: 0.4153 - accuracy: 0.8884 - val_loss: 0.4745 - val_accuracy: 0.9317\nEpoch 8/100\n2080/2080 [==============================] - 294s 142ms/step - loss: 0.3794 - accuracy: 0.8991 - val_loss: 0.1647 - val_accuracy: 0.9295\nEpoch 9/100\n2080/2080 [==============================] - 295s 142ms/step - loss: 0.3617 - accuracy: 0.9046 - val_loss: 0.0322 - val_accuracy: 0.9317\nEpoch 10/100\n2080/2080 [==============================] - 292s 141ms/step - loss: 0.3232 - accuracy: 0.9122 - val_loss: 0.0022 - val_accuracy: 0.9311\nEpoch 11/100\n2080/2080 [==============================] - 292s 140ms/step - loss: 0.3301 - accuracy: 0.9112 - val_loss: 0.1031 - val_accuracy: 0.9553\nEpoch 12/100\n2080/2080 [==============================] - 291s 140ms/step - loss: 0.3168 - accuracy: 0.9166 - val_loss: 0.4936 - val_accuracy: 0.9301\nEpoch 13/100\n2080/2080 [==============================] - 291s 140ms/step - loss: 0.3037 - accuracy: 0.9207 - val_loss: 0.1113 - val_accuracy: 0.9453\nEpoch 14/100\n2080/2080 [==============================] - 291s 140ms/step - loss: 0.2892 - accuracy: 0.9241 - val_loss: 0.3582 - val_accuracy: 0.9585\nEpoch 15/100\n2080/2080 [==============================] - 290s 140ms/step - loss: 0.2645 - accuracy: 0.9297 - val_loss: 0.2213 - val_accuracy: 0.9453\nEpoch 16/100\n2080/2080 [==============================] - 291s 140ms/step - loss: 0.2738 - accuracy: 0.9291 - val_loss: 0.1935 - val_accuracy: 0.9232\n"
        }
      ],
      "source": [
        "model_2_hist = model_2.fit_generator(train_gen_m, steps_per_epoch=len(train_gen_m), validation_data=val_gen_m, validation_steps=len(val_gen_m), epochs=100, callbacks=[es, cp_efficient_m])"
      ]
    },
    {
      "cell_type": "code",
      "execution_count": 30,
      "metadata": {},
      "outputs": [],
      "source": [
        "model2 = load_model(\"efficient_net_m.h5\")"
      ]
    },
    {
      "cell_type": "code",
      "execution_count": 31,
      "metadata": {},
      "outputs": [
        {
          "output_type": "execute_result",
          "data": {
            "text/plain": "[0.34759804606437683, 0.9584648013114929]"
          },
          "metadata": {},
          "execution_count": 31
        }
      ],
      "source": [
        "model2.evaluate_generator(val_gen_m, steps=len(val_gen_m))"
      ]
    },
    {
      "cell_type": "code",
      "execution_count": null,
      "metadata": {},
      "outputs": [],
      "source": []
    },
    {
      "cell_type": "markdown",
      "metadata": {
        "id": "9V-xCE6-Bg-r",
        "colab_type": "text"
      },
      "source": [
        "### 2.VGG19 \n"
      ]
    },
    {
      "cell_type": "code",
      "metadata": {
        "id": "yQgUcNvgBtvP",
        "colab_type": "code",
        "colab": {}
      },
      "source": [
        "vgg = keras.applications.vgg19.VGG19(include_top=False, weights='imagenet', input_shape=(256, 256, 3))"
      ],
      "execution_count": 0,
      "outputs": []
    },
    {
      "cell_type": "code",
      "metadata": {
        "id": "d7Fti7gQBy1S",
        "colab_type": "code",
        "outputId": "e34930cb-151c-4f04-8361-fd7ec85fa1f1",
        "colab": {
          "base_uri": "https://localhost:8080/",
          "height": 903
        }
      },
      "source": [
        "vgg.summary()"
      ],
      "execution_count": 0,
      "outputs": [
        {
          "output_type": "stream",
          "text": [
            "_________________________________________________________________\n",
            "Layer (type)                 Output Shape              Param #   \n",
            "=================================================================\n",
            "input_3 (InputLayer)         (None, 256, 256, 3)       0         \n",
            "_________________________________________________________________\n",
            "block1_conv1 (Conv2D)        (None, 256, 256, 64)      1792      \n",
            "_________________________________________________________________\n",
            "block1_conv2 (Conv2D)        (None, 256, 256, 64)      36928     \n",
            "_________________________________________________________________\n",
            "block1_pool (MaxPooling2D)   (None, 128, 128, 64)      0         \n",
            "_________________________________________________________________\n",
            "block2_conv1 (Conv2D)        (None, 128, 128, 128)     73856     \n",
            "_________________________________________________________________\n",
            "block2_conv2 (Conv2D)        (None, 128, 128, 128)     147584    \n",
            "_________________________________________________________________\n",
            "block2_pool (MaxPooling2D)   (None, 64, 64, 128)       0         \n",
            "_________________________________________________________________\n",
            "block3_conv1 (Conv2D)        (None, 64, 64, 256)       295168    \n",
            "_________________________________________________________________\n",
            "block3_conv2 (Conv2D)        (None, 64, 64, 256)       590080    \n",
            "_________________________________________________________________\n",
            "block3_conv3 (Conv2D)        (None, 64, 64, 256)       590080    \n",
            "_________________________________________________________________\n",
            "block3_conv4 (Conv2D)        (None, 64, 64, 256)       590080    \n",
            "_________________________________________________________________\n",
            "block3_pool (MaxPooling2D)   (None, 32, 32, 256)       0         \n",
            "_________________________________________________________________\n",
            "block4_conv1 (Conv2D)        (None, 32, 32, 512)       1180160   \n",
            "_________________________________________________________________\n",
            "block4_conv2 (Conv2D)        (None, 32, 32, 512)       2359808   \n",
            "_________________________________________________________________\n",
            "block4_conv3 (Conv2D)        (None, 32, 32, 512)       2359808   \n",
            "_________________________________________________________________\n",
            "block4_conv4 (Conv2D)        (None, 32, 32, 512)       2359808   \n",
            "_________________________________________________________________\n",
            "block4_pool (MaxPooling2D)   (None, 16, 16, 512)       0         \n",
            "_________________________________________________________________\n",
            "block5_conv1 (Conv2D)        (None, 16, 16, 512)       2359808   \n",
            "_________________________________________________________________\n",
            "block5_conv2 (Conv2D)        (None, 16, 16, 512)       2359808   \n",
            "_________________________________________________________________\n",
            "block5_conv3 (Conv2D)        (None, 16, 16, 512)       2359808   \n",
            "_________________________________________________________________\n",
            "block5_conv4 (Conv2D)        (None, 16, 16, 512)       2359808   \n",
            "_________________________________________________________________\n",
            "block5_pool (MaxPooling2D)   (None, 8, 8, 512)         0         \n",
            "=================================================================\n",
            "Total params: 20,024,384\n",
            "Trainable params: 20,024,384\n",
            "Non-trainable params: 0\n",
            "_________________________________________________________________\n"
          ],
          "name": "stdout"
        }
      ]
    },
    {
      "cell_type": "code",
      "metadata": {
        "id": "zj5yGGJ-BtdI",
        "colab_type": "code",
        "colab": {}
      },
      "source": [
        "### adding layers for flower classification\n",
        "vgg_avg = GlobalAveragePooling2D()(vgg.output)\n",
        "vgg_fc_1 = Dense(256, activation='relu')(vgg_avg)\n",
        "vgg_fc_2 = Dense(128, activation='relu')(vgg_fc_1)\n",
        "vgg_d = Dropout(0.25)(vgg_fc_2)\n",
        "vgg_fc_3 = Dense(102, activation='softmax')(vgg_d)"
      ],
      "execution_count": 0,
      "outputs": []
    },
    {
      "cell_type": "code",
      "metadata": {
        "id": "ErN1_Xf1BtR5",
        "colab_type": "code",
        "colab": {}
      },
      "source": [
        "vgg = Model(vgg.input, outputs  = vgg_fc_3)"
      ],
      "execution_count": 0,
      "outputs": []
    },
    {
      "cell_type": "code",
      "metadata": {
        "id": "uAjA_5ymBtDn",
        "colab_type": "code",
        "outputId": "110d7c5c-18d7-4722-f4e1-da120e26a0ed",
        "colab": {
          "base_uri": "https://localhost:8080/",
          "height": 1000
        }
      },
      "source": [
        "vgg.summary()"
      ],
      "execution_count": 0,
      "outputs": [
        {
          "output_type": "stream",
          "text": [
            "_________________________________________________________________\n",
            "Layer (type)                 Output Shape              Param #   \n",
            "=================================================================\n",
            "input_3 (InputLayer)         (None, 256, 256, 3)       0         \n",
            "_________________________________________________________________\n",
            "block1_conv1 (Conv2D)        (None, 256, 256, 64)      1792      \n",
            "_________________________________________________________________\n",
            "block1_conv2 (Conv2D)        (None, 256, 256, 64)      36928     \n",
            "_________________________________________________________________\n",
            "block1_pool (MaxPooling2D)   (None, 128, 128, 64)      0         \n",
            "_________________________________________________________________\n",
            "block2_conv1 (Conv2D)        (None, 128, 128, 128)     73856     \n",
            "_________________________________________________________________\n",
            "block2_conv2 (Conv2D)        (None, 128, 128, 128)     147584    \n",
            "_________________________________________________________________\n",
            "block2_pool (MaxPooling2D)   (None, 64, 64, 128)       0         \n",
            "_________________________________________________________________\n",
            "block3_conv1 (Conv2D)        (None, 64, 64, 256)       295168    \n",
            "_________________________________________________________________\n",
            "block3_conv2 (Conv2D)        (None, 64, 64, 256)       590080    \n",
            "_________________________________________________________________\n",
            "block3_conv3 (Conv2D)        (None, 64, 64, 256)       590080    \n",
            "_________________________________________________________________\n",
            "block3_conv4 (Conv2D)        (None, 64, 64, 256)       590080    \n",
            "_________________________________________________________________\n",
            "block3_pool (MaxPooling2D)   (None, 32, 32, 256)       0         \n",
            "_________________________________________________________________\n",
            "block4_conv1 (Conv2D)        (None, 32, 32, 512)       1180160   \n",
            "_________________________________________________________________\n",
            "block4_conv2 (Conv2D)        (None, 32, 32, 512)       2359808   \n",
            "_________________________________________________________________\n",
            "block4_conv3 (Conv2D)        (None, 32, 32, 512)       2359808   \n",
            "_________________________________________________________________\n",
            "block4_conv4 (Conv2D)        (None, 32, 32, 512)       2359808   \n",
            "_________________________________________________________________\n",
            "block4_pool (MaxPooling2D)   (None, 16, 16, 512)       0         \n",
            "_________________________________________________________________\n",
            "block5_conv1 (Conv2D)        (None, 16, 16, 512)       2359808   \n",
            "_________________________________________________________________\n",
            "block5_conv2 (Conv2D)        (None, 16, 16, 512)       2359808   \n",
            "_________________________________________________________________\n",
            "block5_conv3 (Conv2D)        (None, 16, 16, 512)       2359808   \n",
            "_________________________________________________________________\n",
            "block5_conv4 (Conv2D)        (None, 16, 16, 512)       2359808   \n",
            "_________________________________________________________________\n",
            "block5_pool (MaxPooling2D)   (None, 8, 8, 512)         0         \n",
            "_________________________________________________________________\n",
            "global_average_pooling2d_2 ( (None, 512)               0         \n",
            "_________________________________________________________________\n",
            "dense_4 (Dense)              (None, 256)               131328    \n",
            "_________________________________________________________________\n",
            "dense_5 (Dense)              (None, 128)               32896     \n",
            "_________________________________________________________________\n",
            "dropout_2 (Dropout)          (None, 128)               0         \n",
            "_________________________________________________________________\n",
            "dense_6 (Dense)              (None, 102)               13158     \n",
            "=================================================================\n",
            "Total params: 20,201,766\n",
            "Trainable params: 20,201,766\n",
            "Non-trainable params: 0\n",
            "_________________________________________________________________\n"
          ],
          "name": "stdout"
        }
      ]
    },
    {
      "cell_type": "code",
      "metadata": {
        "id": "Ao2UoidFBs2T",
        "colab_type": "code",
        "colab": {}
      },
      "source": [
        "vgg.compile(loss='categorical_crossentropy', optimizer=adam, metrics=['accuracy'])"
      ],
      "execution_count": 0,
      "outputs": []
    },
    {
      "cell_type": "code",
      "metadata": {
        "id": "sie6-CCDBsl0",
        "colab_type": "code",
        "outputId": "53fa8179-48b8-4fe4-81db-9aabfcd10e60",
        "colab": {
          "base_uri": "https://localhost:8080/",
          "height": 680
        }
      },
      "source": [
        "vgg_hist = vgg.fit_generator(train_gen, steps_per_epoch=18305//16, validation_data=val_gen, validation_steps=235//16, epochs=20, callbacks=[es, cp_vgg])"
      ],
      "execution_count": 0,
      "outputs": [
        {
          "output_type": "stream",
          "text": [
            "W0819 13:57:12.817914 139621115123584 deprecation.py:323] From /usr/local/lib/python3.6/dist-packages/tensorflow/python/ops/math_grad.py:1250: add_dispatch_support.<locals>.wrapper (from tensorflow.python.ops.array_ops) is deprecated and will be removed in a future version.\n",
            "Instructions for updating:\n",
            "Use tf.where in 2.0, which has the same broadcast rule as np.where\n"
          ],
          "name": "stderr"
        },
        {
          "output_type": "stream",
          "text": [
            "Epoch 1/20\n",
            "1144/1144 [==============================] - 772s 675ms/step - loss: 4.1744 - acc: 0.0978 - val_loss: 3.2947 - val_acc: 0.2881\n",
            "Epoch 2/20\n",
            "1144/1144 [==============================] - 757s 661ms/step - loss: 2.3881 - acc: 0.4337 - val_loss: 1.4322 - val_acc: 0.6626\n",
            "Epoch 3/20\n",
            "1144/1144 [==============================] - 756s 661ms/step - loss: 1.4062 - acc: 0.6495 - val_loss: 1.0895 - val_acc: 0.7241\n",
            "Epoch 4/20\n",
            "1144/1144 [==============================] - 756s 661ms/step - loss: 0.9432 - acc: 0.7561 - val_loss: 0.5591 - val_acc: 0.8276\n",
            "Epoch 5/20\n",
            "1144/1144 [==============================] - 757s 661ms/step - loss: 0.7069 - acc: 0.8145 - val_loss: 0.5660 - val_acc: 0.8548\n",
            "Epoch 6/20\n",
            "1144/1144 [==============================] - 757s 661ms/step - loss: 0.5448 - acc: 0.8559 - val_loss: 0.3157 - val_acc: 0.9138\n",
            "Epoch 7/20\n",
            "1144/1144 [==============================] - 756s 661ms/step - loss: 0.4480 - acc: 0.8804 - val_loss: 0.3707 - val_acc: 0.9089\n",
            "Epoch 8/20\n",
            "1144/1144 [==============================] - 756s 661ms/step - loss: 0.3833 - acc: 0.8952 - val_loss: 0.2347 - val_acc: 0.9261\n",
            "Epoch 9/20\n",
            "1144/1144 [==============================] - 755s 660ms/step - loss: 0.3305 - acc: 0.9103 - val_loss: 0.2856 - val_acc: 0.9368\n",
            "Epoch 10/20\n",
            "1144/1144 [==============================] - 755s 660ms/step - loss: 0.2866 - acc: 0.9216 - val_loss: 0.1688 - val_acc: 0.9557\n",
            "Epoch 11/20\n",
            "1144/1144 [==============================] - 755s 660ms/step - loss: 0.2567 - acc: 0.9305 - val_loss: 0.2450 - val_acc: 0.9532\n",
            "Epoch 12/20\n",
            "1144/1144 [==============================] - 755s 660ms/step - loss: 0.2499 - acc: 0.9315 - val_loss: 0.2684 - val_acc: 0.9335\n",
            "Epoch 13/20\n",
            "1144/1144 [==============================] - 755s 660ms/step - loss: 0.2029 - acc: 0.9433 - val_loss: 0.1061 - val_acc: 0.9649\n",
            "Epoch 14/20\n",
            "1144/1144 [==============================] - 754s 659ms/step - loss: 0.1886 - acc: 0.9498 - val_loss: 0.0485 - val_acc: 0.9828\n",
            "Epoch 15/20\n",
            "1144/1144 [==============================] - 753s 659ms/step - loss: 0.1806 - acc: 0.9500 - val_loss: 0.2008 - val_acc: 0.9532\n",
            "Epoch 16/20\n",
            "1144/1144 [==============================] - 753s 658ms/step - loss: 0.1719 - acc: 0.9537 - val_loss: 0.0542 - val_acc: 0.9778\n",
            "Epoch 17/20\n",
            "1144/1144 [==============================] - 754s 659ms/step - loss: 0.1491 - acc: 0.9588 - val_loss: 0.0980 - val_acc: 0.9672\n"
          ],
          "name": "stdout"
        }
      ]
    },
    {
      "cell_type": "markdown",
      "metadata": {
        "id": "YD2N9_c-ef5g",
        "colab_type": "text"
      },
      "source": [
        "### 3. XceptionNet"
      ]
    },
    {
      "cell_type": "code",
      "metadata": {
        "id": "7kN2h0jeeAAD",
        "colab_type": "code",
        "colab": {}
      },
      "source": [
        "from keras.applications.xception import Xception"
      ],
      "execution_count": 0,
      "outputs": []
    },
    {
      "cell_type": "code",
      "metadata": {
        "id": "HPUMorEsd_8N",
        "colab_type": "code",
        "outputId": "cf42824e-c6bf-4212-eb01-820987bb7c9d",
        "colab": {
          "base_uri": "https://localhost:8080/",
          "height": 72
        }
      },
      "source": [
        "xception = Xception(include_top = False, weights = 'imagenet', input_shape = (256, 256, 3))"
      ],
      "execution_count": 0,
      "outputs": [
        {
          "output_type": "stream",
          "text": [
            "Downloading data from https://github.com/fchollet/deep-learning-models/releases/download/v0.4/xception_weights_tf_dim_ordering_tf_kernels_notop.h5\n",
            "83689472/83683744 [==============================] - 1s 0us/step\n"
          ],
          "name": "stdout"
        }
      ]
    },
    {
      "cell_type": "code",
      "metadata": {
        "id": "NrzLpwLxd_1Z",
        "colab_type": "code",
        "outputId": "941938b9-75d1-4bf4-d089-f84956132312",
        "colab": {
          "base_uri": "https://localhost:8080/",
          "height": 1000
        }
      },
      "source": [
        "xception.summary()"
      ],
      "execution_count": 0,
      "outputs": [
        {
          "output_type": "stream",
          "text": [
            "__________________________________________________________________________________________________\n",
            "Layer (type)                    Output Shape         Param #     Connected to                     \n",
            "==================================================================================================\n",
            "input_4 (InputLayer)            (None, 256, 256, 3)  0                                            \n",
            "__________________________________________________________________________________________________\n",
            "block1_conv1 (Conv2D)           (None, 127, 127, 32) 864         input_4[0][0]                    \n",
            "__________________________________________________________________________________________________\n",
            "block1_conv1_bn (BatchNormaliza (None, 127, 127, 32) 128         block1_conv1[0][0]               \n",
            "__________________________________________________________________________________________________\n",
            "block1_conv1_act (Activation)   (None, 127, 127, 32) 0           block1_conv1_bn[0][0]            \n",
            "__________________________________________________________________________________________________\n",
            "block1_conv2 (Conv2D)           (None, 125, 125, 64) 18432       block1_conv1_act[0][0]           \n",
            "__________________________________________________________________________________________________\n",
            "block1_conv2_bn (BatchNormaliza (None, 125, 125, 64) 256         block1_conv2[0][0]               \n",
            "__________________________________________________________________________________________________\n",
            "block1_conv2_act (Activation)   (None, 125, 125, 64) 0           block1_conv2_bn[0][0]            \n",
            "__________________________________________________________________________________________________\n",
            "block2_sepconv1 (SeparableConv2 (None, 125, 125, 128 8768        block1_conv2_act[0][0]           \n",
            "__________________________________________________________________________________________________\n",
            "block2_sepconv1_bn (BatchNormal (None, 125, 125, 128 512         block2_sepconv1[0][0]            \n",
            "__________________________________________________________________________________________________\n",
            "block2_sepconv2_act (Activation (None, 125, 125, 128 0           block2_sepconv1_bn[0][0]         \n",
            "__________________________________________________________________________________________________\n",
            "block2_sepconv2 (SeparableConv2 (None, 125, 125, 128 17536       block2_sepconv2_act[0][0]        \n",
            "__________________________________________________________________________________________________\n",
            "block2_sepconv2_bn (BatchNormal (None, 125, 125, 128 512         block2_sepconv2[0][0]            \n",
            "__________________________________________________________________________________________________\n",
            "conv2d_156 (Conv2D)             (None, 63, 63, 128)  8192        block1_conv2_act[0][0]           \n",
            "__________________________________________________________________________________________________\n",
            "block2_pool (MaxPooling2D)      (None, 63, 63, 128)  0           block2_sepconv2_bn[0][0]         \n",
            "__________________________________________________________________________________________________\n",
            "batch_normalization_117 (BatchN (None, 63, 63, 128)  512         conv2d_156[0][0]                 \n",
            "__________________________________________________________________________________________________\n",
            "add_33 (Add)                    (None, 63, 63, 128)  0           block2_pool[0][0]                \n",
            "                                                                 batch_normalization_117[0][0]    \n",
            "__________________________________________________________________________________________________\n",
            "block3_sepconv1_act (Activation (None, 63, 63, 128)  0           add_33[0][0]                     \n",
            "__________________________________________________________________________________________________\n",
            "block3_sepconv1 (SeparableConv2 (None, 63, 63, 256)  33920       block3_sepconv1_act[0][0]        \n",
            "__________________________________________________________________________________________________\n",
            "block3_sepconv1_bn (BatchNormal (None, 63, 63, 256)  1024        block3_sepconv1[0][0]            \n",
            "__________________________________________________________________________________________________\n",
            "block3_sepconv2_act (Activation (None, 63, 63, 256)  0           block3_sepconv1_bn[0][0]         \n",
            "__________________________________________________________________________________________________\n",
            "block3_sepconv2 (SeparableConv2 (None, 63, 63, 256)  67840       block3_sepconv2_act[0][0]        \n",
            "__________________________________________________________________________________________________\n",
            "block3_sepconv2_bn (BatchNormal (None, 63, 63, 256)  1024        block3_sepconv2[0][0]            \n",
            "__________________________________________________________________________________________________\n",
            "conv2d_157 (Conv2D)             (None, 32, 32, 256)  32768       add_33[0][0]                     \n",
            "__________________________________________________________________________________________________\n",
            "block3_pool (MaxPooling2D)      (None, 32, 32, 256)  0           block3_sepconv2_bn[0][0]         \n",
            "__________________________________________________________________________________________________\n",
            "batch_normalization_118 (BatchN (None, 32, 32, 256)  1024        conv2d_157[0][0]                 \n",
            "__________________________________________________________________________________________________\n",
            "add_34 (Add)                    (None, 32, 32, 256)  0           block3_pool[0][0]                \n",
            "                                                                 batch_normalization_118[0][0]    \n",
            "__________________________________________________________________________________________________\n",
            "block4_sepconv1_act (Activation (None, 32, 32, 256)  0           add_34[0][0]                     \n",
            "__________________________________________________________________________________________________\n",
            "block4_sepconv1 (SeparableConv2 (None, 32, 32, 728)  188672      block4_sepconv1_act[0][0]        \n",
            "__________________________________________________________________________________________________\n",
            "block4_sepconv1_bn (BatchNormal (None, 32, 32, 728)  2912        block4_sepconv1[0][0]            \n",
            "__________________________________________________________________________________________________\n",
            "block4_sepconv2_act (Activation (None, 32, 32, 728)  0           block4_sepconv1_bn[0][0]         \n",
            "__________________________________________________________________________________________________\n",
            "block4_sepconv2 (SeparableConv2 (None, 32, 32, 728)  536536      block4_sepconv2_act[0][0]        \n",
            "__________________________________________________________________________________________________\n",
            "block4_sepconv2_bn (BatchNormal (None, 32, 32, 728)  2912        block4_sepconv2[0][0]            \n",
            "__________________________________________________________________________________________________\n",
            "conv2d_158 (Conv2D)             (None, 16, 16, 728)  186368      add_34[0][0]                     \n",
            "__________________________________________________________________________________________________\n",
            "block4_pool (MaxPooling2D)      (None, 16, 16, 728)  0           block4_sepconv2_bn[0][0]         \n",
            "__________________________________________________________________________________________________\n",
            "batch_normalization_119 (BatchN (None, 16, 16, 728)  2912        conv2d_158[0][0]                 \n",
            "__________________________________________________________________________________________________\n",
            "add_35 (Add)                    (None, 16, 16, 728)  0           block4_pool[0][0]                \n",
            "                                                                 batch_normalization_119[0][0]    \n",
            "__________________________________________________________________________________________________\n",
            "block5_sepconv1_act (Activation (None, 16, 16, 728)  0           add_35[0][0]                     \n",
            "__________________________________________________________________________________________________\n",
            "block5_sepconv1 (SeparableConv2 (None, 16, 16, 728)  536536      block5_sepconv1_act[0][0]        \n",
            "__________________________________________________________________________________________________\n",
            "block5_sepconv1_bn (BatchNormal (None, 16, 16, 728)  2912        block5_sepconv1[0][0]            \n",
            "__________________________________________________________________________________________________\n",
            "block5_sepconv2_act (Activation (None, 16, 16, 728)  0           block5_sepconv1_bn[0][0]         \n",
            "__________________________________________________________________________________________________\n",
            "block5_sepconv2 (SeparableConv2 (None, 16, 16, 728)  536536      block5_sepconv2_act[0][0]        \n",
            "__________________________________________________________________________________________________\n",
            "block5_sepconv2_bn (BatchNormal (None, 16, 16, 728)  2912        block5_sepconv2[0][0]            \n",
            "__________________________________________________________________________________________________\n",
            "block5_sepconv3_act (Activation (None, 16, 16, 728)  0           block5_sepconv2_bn[0][0]         \n",
            "__________________________________________________________________________________________________\n",
            "block5_sepconv3 (SeparableConv2 (None, 16, 16, 728)  536536      block5_sepconv3_act[0][0]        \n",
            "__________________________________________________________________________________________________\n",
            "block5_sepconv3_bn (BatchNormal (None, 16, 16, 728)  2912        block5_sepconv3[0][0]            \n",
            "__________________________________________________________________________________________________\n",
            "add_36 (Add)                    (None, 16, 16, 728)  0           block5_sepconv3_bn[0][0]         \n",
            "                                                                 add_35[0][0]                     \n",
            "__________________________________________________________________________________________________\n",
            "block6_sepconv1_act (Activation (None, 16, 16, 728)  0           add_36[0][0]                     \n",
            "__________________________________________________________________________________________________\n",
            "block6_sepconv1 (SeparableConv2 (None, 16, 16, 728)  536536      block6_sepconv1_act[0][0]        \n",
            "__________________________________________________________________________________________________\n",
            "block6_sepconv1_bn (BatchNormal (None, 16, 16, 728)  2912        block6_sepconv1[0][0]            \n",
            "__________________________________________________________________________________________________\n",
            "block6_sepconv2_act (Activation (None, 16, 16, 728)  0           block6_sepconv1_bn[0][0]         \n",
            "__________________________________________________________________________________________________\n",
            "block6_sepconv2 (SeparableConv2 (None, 16, 16, 728)  536536      block6_sepconv2_act[0][0]        \n",
            "__________________________________________________________________________________________________\n",
            "block6_sepconv2_bn (BatchNormal (None, 16, 16, 728)  2912        block6_sepconv2[0][0]            \n",
            "__________________________________________________________________________________________________\n",
            "block6_sepconv3_act (Activation (None, 16, 16, 728)  0           block6_sepconv2_bn[0][0]         \n",
            "__________________________________________________________________________________________________\n",
            "block6_sepconv3 (SeparableConv2 (None, 16, 16, 728)  536536      block6_sepconv3_act[0][0]        \n",
            "__________________________________________________________________________________________________\n",
            "block6_sepconv3_bn (BatchNormal (None, 16, 16, 728)  2912        block6_sepconv3[0][0]            \n",
            "__________________________________________________________________________________________________\n",
            "add_37 (Add)                    (None, 16, 16, 728)  0           block6_sepconv3_bn[0][0]         \n",
            "                                                                 add_36[0][0]                     \n",
            "__________________________________________________________________________________________________\n",
            "block7_sepconv1_act (Activation (None, 16, 16, 728)  0           add_37[0][0]                     \n",
            "__________________________________________________________________________________________________\n",
            "block7_sepconv1 (SeparableConv2 (None, 16, 16, 728)  536536      block7_sepconv1_act[0][0]        \n",
            "__________________________________________________________________________________________________\n",
            "block7_sepconv1_bn (BatchNormal (None, 16, 16, 728)  2912        block7_sepconv1[0][0]            \n",
            "__________________________________________________________________________________________________\n",
            "block7_sepconv2_act (Activation (None, 16, 16, 728)  0           block7_sepconv1_bn[0][0]         \n",
            "__________________________________________________________________________________________________\n",
            "block7_sepconv2 (SeparableConv2 (None, 16, 16, 728)  536536      block7_sepconv2_act[0][0]        \n",
            "__________________________________________________________________________________________________\n",
            "block7_sepconv2_bn (BatchNormal (None, 16, 16, 728)  2912        block7_sepconv2[0][0]            \n",
            "__________________________________________________________________________________________________\n",
            "block7_sepconv3_act (Activation (None, 16, 16, 728)  0           block7_sepconv2_bn[0][0]         \n",
            "__________________________________________________________________________________________________\n",
            "block7_sepconv3 (SeparableConv2 (None, 16, 16, 728)  536536      block7_sepconv3_act[0][0]        \n",
            "__________________________________________________________________________________________________\n",
            "block7_sepconv3_bn (BatchNormal (None, 16, 16, 728)  2912        block7_sepconv3[0][0]            \n",
            "__________________________________________________________________________________________________\n",
            "add_38 (Add)                    (None, 16, 16, 728)  0           block7_sepconv3_bn[0][0]         \n",
            "                                                                 add_37[0][0]                     \n",
            "__________________________________________________________________________________________________\n",
            "block8_sepconv1_act (Activation (None, 16, 16, 728)  0           add_38[0][0]                     \n",
            "__________________________________________________________________________________________________\n",
            "block8_sepconv1 (SeparableConv2 (None, 16, 16, 728)  536536      block8_sepconv1_act[0][0]        \n",
            "__________________________________________________________________________________________________\n",
            "block8_sepconv1_bn (BatchNormal (None, 16, 16, 728)  2912        block8_sepconv1[0][0]            \n",
            "__________________________________________________________________________________________________\n",
            "block8_sepconv2_act (Activation (None, 16, 16, 728)  0           block8_sepconv1_bn[0][0]         \n",
            "__________________________________________________________________________________________________\n",
            "block8_sepconv2 (SeparableConv2 (None, 16, 16, 728)  536536      block8_sepconv2_act[0][0]        \n",
            "__________________________________________________________________________________________________\n",
            "block8_sepconv2_bn (BatchNormal (None, 16, 16, 728)  2912        block8_sepconv2[0][0]            \n",
            "__________________________________________________________________________________________________\n",
            "block8_sepconv3_act (Activation (None, 16, 16, 728)  0           block8_sepconv2_bn[0][0]         \n",
            "__________________________________________________________________________________________________\n",
            "block8_sepconv3 (SeparableConv2 (None, 16, 16, 728)  536536      block8_sepconv3_act[0][0]        \n",
            "__________________________________________________________________________________________________\n",
            "block8_sepconv3_bn (BatchNormal (None, 16, 16, 728)  2912        block8_sepconv3[0][0]            \n",
            "__________________________________________________________________________________________________\n",
            "add_39 (Add)                    (None, 16, 16, 728)  0           block8_sepconv3_bn[0][0]         \n",
            "                                                                 add_38[0][0]                     \n",
            "__________________________________________________________________________________________________\n",
            "block9_sepconv1_act (Activation (None, 16, 16, 728)  0           add_39[0][0]                     \n",
            "__________________________________________________________________________________________________\n",
            "block9_sepconv1 (SeparableConv2 (None, 16, 16, 728)  536536      block9_sepconv1_act[0][0]        \n",
            "__________________________________________________________________________________________________\n",
            "block9_sepconv1_bn (BatchNormal (None, 16, 16, 728)  2912        block9_sepconv1[0][0]            \n",
            "__________________________________________________________________________________________________\n",
            "block9_sepconv2_act (Activation (None, 16, 16, 728)  0           block9_sepconv1_bn[0][0]         \n",
            "__________________________________________________________________________________________________\n",
            "block9_sepconv2 (SeparableConv2 (None, 16, 16, 728)  536536      block9_sepconv2_act[0][0]        \n",
            "__________________________________________________________________________________________________\n",
            "block9_sepconv2_bn (BatchNormal (None, 16, 16, 728)  2912        block9_sepconv2[0][0]            \n",
            "__________________________________________________________________________________________________\n",
            "block9_sepconv3_act (Activation (None, 16, 16, 728)  0           block9_sepconv2_bn[0][0]         \n",
            "__________________________________________________________________________________________________\n",
            "block9_sepconv3 (SeparableConv2 (None, 16, 16, 728)  536536      block9_sepconv3_act[0][0]        \n",
            "__________________________________________________________________________________________________\n",
            "block9_sepconv3_bn (BatchNormal (None, 16, 16, 728)  2912        block9_sepconv3[0][0]            \n",
            "__________________________________________________________________________________________________\n",
            "add_40 (Add)                    (None, 16, 16, 728)  0           block9_sepconv3_bn[0][0]         \n",
            "                                                                 add_39[0][0]                     \n",
            "__________________________________________________________________________________________________\n",
            "block10_sepconv1_act (Activatio (None, 16, 16, 728)  0           add_40[0][0]                     \n",
            "__________________________________________________________________________________________________\n",
            "block10_sepconv1 (SeparableConv (None, 16, 16, 728)  536536      block10_sepconv1_act[0][0]       \n",
            "__________________________________________________________________________________________________\n",
            "block10_sepconv1_bn (BatchNorma (None, 16, 16, 728)  2912        block10_sepconv1[0][0]           \n",
            "__________________________________________________________________________________________________\n",
            "block10_sepconv2_act (Activatio (None, 16, 16, 728)  0           block10_sepconv1_bn[0][0]        \n",
            "__________________________________________________________________________________________________\n",
            "block10_sepconv2 (SeparableConv (None, 16, 16, 728)  536536      block10_sepconv2_act[0][0]       \n",
            "__________________________________________________________________________________________________\n",
            "block10_sepconv2_bn (BatchNorma (None, 16, 16, 728)  2912        block10_sepconv2[0][0]           \n",
            "__________________________________________________________________________________________________\n",
            "block10_sepconv3_act (Activatio (None, 16, 16, 728)  0           block10_sepconv2_bn[0][0]        \n",
            "__________________________________________________________________________________________________\n",
            "block10_sepconv3 (SeparableConv (None, 16, 16, 728)  536536      block10_sepconv3_act[0][0]       \n",
            "__________________________________________________________________________________________________\n",
            "block10_sepconv3_bn (BatchNorma (None, 16, 16, 728)  2912        block10_sepconv3[0][0]           \n",
            "__________________________________________________________________________________________________\n",
            "add_41 (Add)                    (None, 16, 16, 728)  0           block10_sepconv3_bn[0][0]        \n",
            "                                                                 add_40[0][0]                     \n",
            "__________________________________________________________________________________________________\n",
            "block11_sepconv1_act (Activatio (None, 16, 16, 728)  0           add_41[0][0]                     \n",
            "__________________________________________________________________________________________________\n",
            "block11_sepconv1 (SeparableConv (None, 16, 16, 728)  536536      block11_sepconv1_act[0][0]       \n",
            "__________________________________________________________________________________________________\n",
            "block11_sepconv1_bn (BatchNorma (None, 16, 16, 728)  2912        block11_sepconv1[0][0]           \n",
            "__________________________________________________________________________________________________\n",
            "block11_sepconv2_act (Activatio (None, 16, 16, 728)  0           block11_sepconv1_bn[0][0]        \n",
            "__________________________________________________________________________________________________\n",
            "block11_sepconv2 (SeparableConv (None, 16, 16, 728)  536536      block11_sepconv2_act[0][0]       \n",
            "__________________________________________________________________________________________________\n",
            "block11_sepconv2_bn (BatchNorma (None, 16, 16, 728)  2912        block11_sepconv2[0][0]           \n",
            "__________________________________________________________________________________________________\n",
            "block11_sepconv3_act (Activatio (None, 16, 16, 728)  0           block11_sepconv2_bn[0][0]        \n",
            "__________________________________________________________________________________________________\n",
            "block11_sepconv3 (SeparableConv (None, 16, 16, 728)  536536      block11_sepconv3_act[0][0]       \n",
            "__________________________________________________________________________________________________\n",
            "block11_sepconv3_bn (BatchNorma (None, 16, 16, 728)  2912        block11_sepconv3[0][0]           \n",
            "__________________________________________________________________________________________________\n",
            "add_42 (Add)                    (None, 16, 16, 728)  0           block11_sepconv3_bn[0][0]        \n",
            "                                                                 add_41[0][0]                     \n",
            "__________________________________________________________________________________________________\n",
            "block12_sepconv1_act (Activatio (None, 16, 16, 728)  0           add_42[0][0]                     \n",
            "__________________________________________________________________________________________________\n",
            "block12_sepconv1 (SeparableConv (None, 16, 16, 728)  536536      block12_sepconv1_act[0][0]       \n",
            "__________________________________________________________________________________________________\n",
            "block12_sepconv1_bn (BatchNorma (None, 16, 16, 728)  2912        block12_sepconv1[0][0]           \n",
            "__________________________________________________________________________________________________\n",
            "block12_sepconv2_act (Activatio (None, 16, 16, 728)  0           block12_sepconv1_bn[0][0]        \n",
            "__________________________________________________________________________________________________\n",
            "block12_sepconv2 (SeparableConv (None, 16, 16, 728)  536536      block12_sepconv2_act[0][0]       \n",
            "__________________________________________________________________________________________________\n",
            "block12_sepconv2_bn (BatchNorma (None, 16, 16, 728)  2912        block12_sepconv2[0][0]           \n",
            "__________________________________________________________________________________________________\n",
            "block12_sepconv3_act (Activatio (None, 16, 16, 728)  0           block12_sepconv2_bn[0][0]        \n",
            "__________________________________________________________________________________________________\n",
            "block12_sepconv3 (SeparableConv (None, 16, 16, 728)  536536      block12_sepconv3_act[0][0]       \n",
            "__________________________________________________________________________________________________\n",
            "block12_sepconv3_bn (BatchNorma (None, 16, 16, 728)  2912        block12_sepconv3[0][0]           \n",
            "__________________________________________________________________________________________________\n",
            "add_43 (Add)                    (None, 16, 16, 728)  0           block12_sepconv3_bn[0][0]        \n",
            "                                                                 add_42[0][0]                     \n",
            "__________________________________________________________________________________________________\n",
            "block13_sepconv1_act (Activatio (None, 16, 16, 728)  0           add_43[0][0]                     \n",
            "__________________________________________________________________________________________________\n",
            "block13_sepconv1 (SeparableConv (None, 16, 16, 728)  536536      block13_sepconv1_act[0][0]       \n",
            "__________________________________________________________________________________________________\n",
            "block13_sepconv1_bn (BatchNorma (None, 16, 16, 728)  2912        block13_sepconv1[0][0]           \n",
            "__________________________________________________________________________________________________\n",
            "block13_sepconv2_act (Activatio (None, 16, 16, 728)  0           block13_sepconv1_bn[0][0]        \n",
            "__________________________________________________________________________________________________\n",
            "block13_sepconv2 (SeparableConv (None, 16, 16, 1024) 752024      block13_sepconv2_act[0][0]       \n",
            "__________________________________________________________________________________________________\n",
            "block13_sepconv2_bn (BatchNorma (None, 16, 16, 1024) 4096        block13_sepconv2[0][0]           \n",
            "__________________________________________________________________________________________________\n",
            "conv2d_159 (Conv2D)             (None, 8, 8, 1024)   745472      add_43[0][0]                     \n",
            "__________________________________________________________________________________________________\n",
            "block13_pool (MaxPooling2D)     (None, 8, 8, 1024)   0           block13_sepconv2_bn[0][0]        \n",
            "__________________________________________________________________________________________________\n",
            "batch_normalization_120 (BatchN (None, 8, 8, 1024)   4096        conv2d_159[0][0]                 \n",
            "__________________________________________________________________________________________________\n",
            "add_44 (Add)                    (None, 8, 8, 1024)   0           block13_pool[0][0]               \n",
            "                                                                 batch_normalization_120[0][0]    \n",
            "__________________________________________________________________________________________________\n",
            "block14_sepconv1 (SeparableConv (None, 8, 8, 1536)   1582080     add_44[0][0]                     \n",
            "__________________________________________________________________________________________________\n",
            "block14_sepconv1_bn (BatchNorma (None, 8, 8, 1536)   6144        block14_sepconv1[0][0]           \n",
            "__________________________________________________________________________________________________\n",
            "block14_sepconv1_act (Activatio (None, 8, 8, 1536)   0           block14_sepconv1_bn[0][0]        \n",
            "__________________________________________________________________________________________________\n",
            "block14_sepconv2 (SeparableConv (None, 8, 8, 2048)   3159552     block14_sepconv1_act[0][0]       \n",
            "__________________________________________________________________________________________________\n",
            "block14_sepconv2_bn (BatchNorma (None, 8, 8, 2048)   8192        block14_sepconv2[0][0]           \n",
            "__________________________________________________________________________________________________\n",
            "block14_sepconv2_act (Activatio (None, 8, 8, 2048)   0           block14_sepconv2_bn[0][0]        \n",
            "==================================================================================================\n",
            "Total params: 20,861,480\n",
            "Trainable params: 20,806,952\n",
            "Non-trainable params: 54,528\n",
            "__________________________________________________________________________________________________\n"
          ],
          "name": "stdout"
        }
      ]
    },
    {
      "cell_type": "code",
      "metadata": {
        "id": "6RWrFqEUd_wx",
        "colab_type": "code",
        "colab": {}
      },
      "source": [
        "xc_avg = GlobalAveragePooling2D()(xception.output)\n",
        "xc_fc_1 = Dense(256, activation='relu')(xc_avg)\n",
        "xc_fc_2 = Dense(128, activation='relu')(xc_fc_1)\n",
        "xc_d = Dropout(0.25)(xc_fc_2)\n",
        "xc_fc_3 = Dense(102, activation='softmax')(xc_d)"
      ],
      "execution_count": 0,
      "outputs": []
    },
    {
      "cell_type": "code",
      "metadata": {
        "id": "c3PH-Cbud_N9",
        "colab_type": "code",
        "colab": {}
      },
      "source": [
        "xception = Model(xception.input, outputs  = xc_fc_3)"
      ],
      "execution_count": 0,
      "outputs": []
    },
    {
      "cell_type": "code",
      "metadata": {
        "id": "2kIbtpvrfdhF",
        "colab_type": "code",
        "colab": {}
      },
      "source": [
        "xception.compile(loss='categorical_crossentropy', optimizer=adam, metrics=['accuracy'])"
      ],
      "execution_count": 0,
      "outputs": []
    },
    {
      "cell_type": "code",
      "metadata": {
        "id": "k3HrhGuYfdP7",
        "colab_type": "code",
        "outputId": "dd6cbe89-08e3-4fe3-febc-2432791e2876",
        "colab": {
          "base_uri": "https://localhost:8080/",
          "height": 245
        }
      },
      "source": [
        "xception_hist = xception.fit_generator(train_gen, steps_per_epoch=18305//16, validation_data=val_gen, validation_steps=235//16, epochs=20, callbacks=[es, cp_xception])"
      ],
      "execution_count": 0,
      "outputs": [
        {
          "output_type": "stream",
          "text": [
            "Epoch 1/20\n",
            "1144/1144 [==============================] - 1048s 916ms/step - loss: 1.9454 - acc: 0.5909 - val_loss: 0.4648 - val_acc: 0.8876\n",
            "Epoch 2/20\n",
            "1144/1144 [==============================] - 1033s 903ms/step - loss: 0.5133 - acc: 0.8881 - val_loss: 0.1565 - val_acc: 0.9631\n",
            "Epoch 3/20\n",
            "1144/1144 [==============================] - 1038s 907ms/step - loss: 0.2517 - acc: 0.9473 - val_loss: 0.0823 - val_acc: 0.9655\n",
            "Epoch 4/20\n",
            "1144/1144 [==============================] - 1035s 904ms/step - loss: 0.1482 - acc: 0.9679 - val_loss: 0.0345 - val_acc: 0.9926\n",
            "Epoch 5/20\n",
            "1144/1144 [==============================] - 1035s 905ms/step - loss: 0.1082 - acc: 0.9755 - val_loss: 0.0330 - val_acc: 0.9906\n",
            "Epoch 6/20\n",
            "1144/1144 [==============================] - 1034s 904ms/step - loss: 0.0731 - acc: 0.9845 - val_loss: 0.0333 - val_acc: 0.9901\n"
          ],
          "name": "stdout"
        }
      ]
    },
    {
      "cell_type": "code",
      "metadata": {
        "id": "ye8rSlo1fc-d",
        "colab_type": "code",
        "colab": {}
      },
      "source": [
        "xception_reserve = xception"
      ],
      "execution_count": 0,
      "outputs": []
    },
    {
      "cell_type": "markdown",
      "metadata": {
        "id": "QwaoFDk-MKQw",
        "colab_type": "text"
      },
      "source": [
        "### 4. EfficientNetB0 "
      ]
    },
    {
      "cell_type": "code",
      "metadata": {
        "id": "K8dhbdCcMUTq",
        "colab_type": "code",
        "colab": {}
      },
      "source": [
        "from keras_efficientnets import EfficientNetB0"
      ],
      "execution_count": 0,
      "outputs": []
    },
    {
      "cell_type": "code",
      "metadata": {
        "id": "LOjx9A1tLeaw",
        "colab_type": "code",
        "colab": {}
      },
      "source": [
        "efficientb0 = EfficientNetB0((256, 256, 3), classes=102, include_top=False, weights='imagenet')"
      ],
      "execution_count": 0,
      "outputs": []
    },
    {
      "cell_type": "code",
      "metadata": {
        "id": "kY3YSXGdMRGV",
        "colab_type": "code",
        "outputId": "694cdfdb-6806-436e-8686-33283935806d",
        "colab": {
          "base_uri": "https://localhost:8080/",
          "height": 1000
        }
      },
      "source": [
        "efficientb0.summary()"
      ],
      "execution_count": 0,
      "outputs": [
        {
          "output_type": "stream",
          "text": [
            "__________________________________________________________________________________________________\n",
            "Layer (type)                    Output Shape         Param #     Connected to                     \n",
            "==================================================================================================\n",
            "input_6 (InputLayer)            (None, 256, 256, 3)  0                                            \n",
            "__________________________________________________________________________________________________\n",
            "conv2d_225 (Conv2D)             (None, 128, 128, 32) 864         input_6[0][0]                    \n",
            "__________________________________________________________________________________________________\n",
            "batch_normalization_170 (BatchN (None, 128, 128, 32) 128         conv2d_225[0][0]                 \n",
            "__________________________________________________________________________________________________\n",
            "swish_166 (Swish)               (None, 128, 128, 32) 0           batch_normalization_170[0][0]    \n",
            "__________________________________________________________________________________________________\n",
            "depthwise_conv2d_56 (DepthwiseC (None, 128, 128, 32) 288         swish_166[0][0]                  \n",
            "__________________________________________________________________________________________________\n",
            "batch_normalization_171 (BatchN (None, 128, 128, 32) 128         depthwise_conv2d_56[0][0]        \n",
            "__________________________________________________________________________________________________\n",
            "swish_167 (Swish)               (None, 128, 128, 32) 0           batch_normalization_171[0][0]    \n",
            "__________________________________________________________________________________________________\n",
            "lambda_56 (Lambda)              (None, 1, 1, 32)     0           swish_167[0][0]                  \n",
            "__________________________________________________________________________________________________\n",
            "conv2d_226 (Conv2D)             (None, 1, 1, 8)      264         lambda_56[0][0]                  \n",
            "__________________________________________________________________________________________________\n",
            "swish_168 (Swish)               (None, 1, 1, 8)      0           conv2d_226[0][0]                 \n",
            "__________________________________________________________________________________________________\n",
            "conv2d_227 (Conv2D)             (None, 1, 1, 32)     288         swish_168[0][0]                  \n",
            "__________________________________________________________________________________________________\n",
            "activation_56 (Activation)      (None, 1, 1, 32)     0           conv2d_227[0][0]                 \n",
            "__________________________________________________________________________________________________\n",
            "multiply_56 (Multiply)          (None, 128, 128, 32) 0           activation_56[0][0]              \n",
            "                                                                 swish_167[0][0]                  \n",
            "__________________________________________________________________________________________________\n",
            "conv2d_228 (Conv2D)             (None, 128, 128, 16) 512         multiply_56[0][0]                \n",
            "__________________________________________________________________________________________________\n",
            "batch_normalization_172 (BatchN (None, 128, 128, 16) 64          conv2d_228[0][0]                 \n",
            "__________________________________________________________________________________________________\n",
            "conv2d_229 (Conv2D)             (None, 128, 128, 96) 1536        batch_normalization_172[0][0]    \n",
            "__________________________________________________________________________________________________\n",
            "batch_normalization_173 (BatchN (None, 128, 128, 96) 384         conv2d_229[0][0]                 \n",
            "__________________________________________________________________________________________________\n",
            "swish_169 (Swish)               (None, 128, 128, 96) 0           batch_normalization_173[0][0]    \n",
            "__________________________________________________________________________________________________\n",
            "depthwise_conv2d_57 (DepthwiseC (None, 64, 64, 96)   864         swish_169[0][0]                  \n",
            "__________________________________________________________________________________________________\n",
            "batch_normalization_174 (BatchN (None, 64, 64, 96)   384         depthwise_conv2d_57[0][0]        \n",
            "__________________________________________________________________________________________________\n",
            "swish_170 (Swish)               (None, 64, 64, 96)   0           batch_normalization_174[0][0]    \n",
            "__________________________________________________________________________________________________\n",
            "lambda_57 (Lambda)              (None, 1, 1, 96)     0           swish_170[0][0]                  \n",
            "__________________________________________________________________________________________________\n",
            "conv2d_230 (Conv2D)             (None, 1, 1, 4)      388         lambda_57[0][0]                  \n",
            "__________________________________________________________________________________________________\n",
            "swish_171 (Swish)               (None, 1, 1, 4)      0           conv2d_230[0][0]                 \n",
            "__________________________________________________________________________________________________\n",
            "conv2d_231 (Conv2D)             (None, 1, 1, 96)     480         swish_171[0][0]                  \n",
            "__________________________________________________________________________________________________\n",
            "activation_57 (Activation)      (None, 1, 1, 96)     0           conv2d_231[0][0]                 \n",
            "__________________________________________________________________________________________________\n",
            "multiply_57 (Multiply)          (None, 64, 64, 96)   0           activation_57[0][0]              \n",
            "                                                                 swish_170[0][0]                  \n",
            "__________________________________________________________________________________________________\n",
            "conv2d_232 (Conv2D)             (None, 64, 64, 24)   2304        multiply_57[0][0]                \n",
            "__________________________________________________________________________________________________\n",
            "batch_normalization_175 (BatchN (None, 64, 64, 24)   96          conv2d_232[0][0]                 \n",
            "__________________________________________________________________________________________________\n",
            "conv2d_233 (Conv2D)             (None, 64, 64, 144)  3456        batch_normalization_175[0][0]    \n",
            "__________________________________________________________________________________________________\n",
            "batch_normalization_176 (BatchN (None, 64, 64, 144)  576         conv2d_233[0][0]                 \n",
            "__________________________________________________________________________________________________\n",
            "swish_172 (Swish)               (None, 64, 64, 144)  0           batch_normalization_176[0][0]    \n",
            "__________________________________________________________________________________________________\n",
            "depthwise_conv2d_58 (DepthwiseC (None, 64, 64, 144)  1296        swish_172[0][0]                  \n",
            "__________________________________________________________________________________________________\n",
            "batch_normalization_177 (BatchN (None, 64, 64, 144)  576         depthwise_conv2d_58[0][0]        \n",
            "__________________________________________________________________________________________________\n",
            "swish_173 (Swish)               (None, 64, 64, 144)  0           batch_normalization_177[0][0]    \n",
            "__________________________________________________________________________________________________\n",
            "lambda_58 (Lambda)              (None, 1, 1, 144)    0           swish_173[0][0]                  \n",
            "__________________________________________________________________________________________________\n",
            "conv2d_234 (Conv2D)             (None, 1, 1, 6)      870         lambda_58[0][0]                  \n",
            "__________________________________________________________________________________________________\n",
            "swish_174 (Swish)               (None, 1, 1, 6)      0           conv2d_234[0][0]                 \n",
            "__________________________________________________________________________________________________\n",
            "conv2d_235 (Conv2D)             (None, 1, 1, 144)    1008        swish_174[0][0]                  \n",
            "__________________________________________________________________________________________________\n",
            "activation_58 (Activation)      (None, 1, 1, 144)    0           conv2d_235[0][0]                 \n",
            "__________________________________________________________________________________________________\n",
            "multiply_58 (Multiply)          (None, 64, 64, 144)  0           activation_58[0][0]              \n",
            "                                                                 swish_173[0][0]                  \n",
            "__________________________________________________________________________________________________\n",
            "conv2d_236 (Conv2D)             (None, 64, 64, 24)   3456        multiply_58[0][0]                \n",
            "__________________________________________________________________________________________________\n",
            "batch_normalization_178 (BatchN (None, 64, 64, 24)   96          conv2d_236[0][0]                 \n",
            "__________________________________________________________________________________________________\n",
            "add_54 (Add)                    (None, 64, 64, 24)   0           batch_normalization_178[0][0]    \n",
            "                                                                 batch_normalization_175[0][0]    \n",
            "__________________________________________________________________________________________________\n",
            "conv2d_237 (Conv2D)             (None, 64, 64, 144)  3456        add_54[0][0]                     \n",
            "__________________________________________________________________________________________________\n",
            "batch_normalization_179 (BatchN (None, 64, 64, 144)  576         conv2d_237[0][0]                 \n",
            "__________________________________________________________________________________________________\n",
            "swish_175 (Swish)               (None, 64, 64, 144)  0           batch_normalization_179[0][0]    \n",
            "__________________________________________________________________________________________________\n",
            "depthwise_conv2d_59 (DepthwiseC (None, 32, 32, 144)  3600        swish_175[0][0]                  \n",
            "__________________________________________________________________________________________________\n",
            "batch_normalization_180 (BatchN (None, 32, 32, 144)  576         depthwise_conv2d_59[0][0]        \n",
            "__________________________________________________________________________________________________\n",
            "swish_176 (Swish)               (None, 32, 32, 144)  0           batch_normalization_180[0][0]    \n",
            "__________________________________________________________________________________________________\n",
            "lambda_59 (Lambda)              (None, 1, 1, 144)    0           swish_176[0][0]                  \n",
            "__________________________________________________________________________________________________\n",
            "conv2d_238 (Conv2D)             (None, 1, 1, 6)      870         lambda_59[0][0]                  \n",
            "__________________________________________________________________________________________________\n",
            "swish_177 (Swish)               (None, 1, 1, 6)      0           conv2d_238[0][0]                 \n",
            "__________________________________________________________________________________________________\n",
            "conv2d_239 (Conv2D)             (None, 1, 1, 144)    1008        swish_177[0][0]                  \n",
            "__________________________________________________________________________________________________\n",
            "activation_59 (Activation)      (None, 1, 1, 144)    0           conv2d_239[0][0]                 \n",
            "__________________________________________________________________________________________________\n",
            "multiply_59 (Multiply)          (None, 32, 32, 144)  0           activation_59[0][0]              \n",
            "                                                                 swish_176[0][0]                  \n",
            "__________________________________________________________________________________________________\n",
            "conv2d_240 (Conv2D)             (None, 32, 32, 40)   5760        multiply_59[0][0]                \n",
            "__________________________________________________________________________________________________\n",
            "batch_normalization_181 (BatchN (None, 32, 32, 40)   160         conv2d_240[0][0]                 \n",
            "__________________________________________________________________________________________________\n",
            "conv2d_241 (Conv2D)             (None, 32, 32, 240)  9600        batch_normalization_181[0][0]    \n",
            "__________________________________________________________________________________________________\n",
            "batch_normalization_182 (BatchN (None, 32, 32, 240)  960         conv2d_241[0][0]                 \n",
            "__________________________________________________________________________________________________\n",
            "swish_178 (Swish)               (None, 32, 32, 240)  0           batch_normalization_182[0][0]    \n",
            "__________________________________________________________________________________________________\n",
            "depthwise_conv2d_60 (DepthwiseC (None, 32, 32, 240)  6000        swish_178[0][0]                  \n",
            "__________________________________________________________________________________________________\n",
            "batch_normalization_183 (BatchN (None, 32, 32, 240)  960         depthwise_conv2d_60[0][0]        \n",
            "__________________________________________________________________________________________________\n",
            "swish_179 (Swish)               (None, 32, 32, 240)  0           batch_normalization_183[0][0]    \n",
            "__________________________________________________________________________________________________\n",
            "lambda_60 (Lambda)              (None, 1, 1, 240)    0           swish_179[0][0]                  \n",
            "__________________________________________________________________________________________________\n",
            "conv2d_242 (Conv2D)             (None, 1, 1, 10)     2410        lambda_60[0][0]                  \n",
            "__________________________________________________________________________________________________\n",
            "swish_180 (Swish)               (None, 1, 1, 10)     0           conv2d_242[0][0]                 \n",
            "__________________________________________________________________________________________________\n",
            "conv2d_243 (Conv2D)             (None, 1, 1, 240)    2640        swish_180[0][0]                  \n",
            "__________________________________________________________________________________________________\n",
            "activation_60 (Activation)      (None, 1, 1, 240)    0           conv2d_243[0][0]                 \n",
            "__________________________________________________________________________________________________\n",
            "multiply_60 (Multiply)          (None, 32, 32, 240)  0           activation_60[0][0]              \n",
            "                                                                 swish_179[0][0]                  \n",
            "__________________________________________________________________________________________________\n",
            "conv2d_244 (Conv2D)             (None, 32, 32, 40)   9600        multiply_60[0][0]                \n",
            "__________________________________________________________________________________________________\n",
            "batch_normalization_184 (BatchN (None, 32, 32, 40)   160         conv2d_244[0][0]                 \n",
            "__________________________________________________________________________________________________\n",
            "add_55 (Add)                    (None, 32, 32, 40)   0           batch_normalization_184[0][0]    \n",
            "                                                                 batch_normalization_181[0][0]    \n",
            "__________________________________________________________________________________________________\n",
            "conv2d_245 (Conv2D)             (None, 32, 32, 240)  9600        add_55[0][0]                     \n",
            "__________________________________________________________________________________________________\n",
            "batch_normalization_185 (BatchN (None, 32, 32, 240)  960         conv2d_245[0][0]                 \n",
            "__________________________________________________________________________________________________\n",
            "swish_181 (Swish)               (None, 32, 32, 240)  0           batch_normalization_185[0][0]    \n",
            "__________________________________________________________________________________________________\n",
            "depthwise_conv2d_61 (DepthwiseC (None, 16, 16, 240)  2160        swish_181[0][0]                  \n",
            "__________________________________________________________________________________________________\n",
            "batch_normalization_186 (BatchN (None, 16, 16, 240)  960         depthwise_conv2d_61[0][0]        \n",
            "__________________________________________________________________________________________________\n",
            "swish_182 (Swish)               (None, 16, 16, 240)  0           batch_normalization_186[0][0]    \n",
            "__________________________________________________________________________________________________\n",
            "lambda_61 (Lambda)              (None, 1, 1, 240)    0           swish_182[0][0]                  \n",
            "__________________________________________________________________________________________________\n",
            "conv2d_246 (Conv2D)             (None, 1, 1, 10)     2410        lambda_61[0][0]                  \n",
            "__________________________________________________________________________________________________\n",
            "swish_183 (Swish)               (None, 1, 1, 10)     0           conv2d_246[0][0]                 \n",
            "__________________________________________________________________________________________________\n",
            "conv2d_247 (Conv2D)             (None, 1, 1, 240)    2640        swish_183[0][0]                  \n",
            "__________________________________________________________________________________________________\n",
            "activation_61 (Activation)      (None, 1, 1, 240)    0           conv2d_247[0][0]                 \n",
            "__________________________________________________________________________________________________\n",
            "multiply_61 (Multiply)          (None, 16, 16, 240)  0           activation_61[0][0]              \n",
            "                                                                 swish_182[0][0]                  \n",
            "__________________________________________________________________________________________________\n",
            "conv2d_248 (Conv2D)             (None, 16, 16, 80)   19200       multiply_61[0][0]                \n",
            "__________________________________________________________________________________________________\n",
            "batch_normalization_187 (BatchN (None, 16, 16, 80)   320         conv2d_248[0][0]                 \n",
            "__________________________________________________________________________________________________\n",
            "conv2d_249 (Conv2D)             (None, 16, 16, 480)  38400       batch_normalization_187[0][0]    \n",
            "__________________________________________________________________________________________________\n",
            "batch_normalization_188 (BatchN (None, 16, 16, 480)  1920        conv2d_249[0][0]                 \n",
            "__________________________________________________________________________________________________\n",
            "swish_184 (Swish)               (None, 16, 16, 480)  0           batch_normalization_188[0][0]    \n",
            "__________________________________________________________________________________________________\n",
            "depthwise_conv2d_62 (DepthwiseC (None, 16, 16, 480)  4320        swish_184[0][0]                  \n",
            "__________________________________________________________________________________________________\n",
            "batch_normalization_189 (BatchN (None, 16, 16, 480)  1920        depthwise_conv2d_62[0][0]        \n",
            "__________________________________________________________________________________________________\n",
            "swish_185 (Swish)               (None, 16, 16, 480)  0           batch_normalization_189[0][0]    \n",
            "__________________________________________________________________________________________________\n",
            "lambda_62 (Lambda)              (None, 1, 1, 480)    0           swish_185[0][0]                  \n",
            "__________________________________________________________________________________________________\n",
            "conv2d_250 (Conv2D)             (None, 1, 1, 20)     9620        lambda_62[0][0]                  \n",
            "__________________________________________________________________________________________________\n",
            "swish_186 (Swish)               (None, 1, 1, 20)     0           conv2d_250[0][0]                 \n",
            "__________________________________________________________________________________________________\n",
            "conv2d_251 (Conv2D)             (None, 1, 1, 480)    10080       swish_186[0][0]                  \n",
            "__________________________________________________________________________________________________\n",
            "activation_62 (Activation)      (None, 1, 1, 480)    0           conv2d_251[0][0]                 \n",
            "__________________________________________________________________________________________________\n",
            "multiply_62 (Multiply)          (None, 16, 16, 480)  0           activation_62[0][0]              \n",
            "                                                                 swish_185[0][0]                  \n",
            "__________________________________________________________________________________________________\n",
            "conv2d_252 (Conv2D)             (None, 16, 16, 80)   38400       multiply_62[0][0]                \n",
            "__________________________________________________________________________________________________\n",
            "batch_normalization_190 (BatchN (None, 16, 16, 80)   320         conv2d_252[0][0]                 \n",
            "__________________________________________________________________________________________________\n",
            "add_56 (Add)                    (None, 16, 16, 80)   0           batch_normalization_190[0][0]    \n",
            "                                                                 batch_normalization_187[0][0]    \n",
            "__________________________________________________________________________________________________\n",
            "conv2d_253 (Conv2D)             (None, 16, 16, 480)  38400       add_56[0][0]                     \n",
            "__________________________________________________________________________________________________\n",
            "batch_normalization_191 (BatchN (None, 16, 16, 480)  1920        conv2d_253[0][0]                 \n",
            "__________________________________________________________________________________________________\n",
            "swish_187 (Swish)               (None, 16, 16, 480)  0           batch_normalization_191[0][0]    \n",
            "__________________________________________________________________________________________________\n",
            "depthwise_conv2d_63 (DepthwiseC (None, 16, 16, 480)  4320        swish_187[0][0]                  \n",
            "__________________________________________________________________________________________________\n",
            "batch_normalization_192 (BatchN (None, 16, 16, 480)  1920        depthwise_conv2d_63[0][0]        \n",
            "__________________________________________________________________________________________________\n",
            "swish_188 (Swish)               (None, 16, 16, 480)  0           batch_normalization_192[0][0]    \n",
            "__________________________________________________________________________________________________\n",
            "lambda_63 (Lambda)              (None, 1, 1, 480)    0           swish_188[0][0]                  \n",
            "__________________________________________________________________________________________________\n",
            "conv2d_254 (Conv2D)             (None, 1, 1, 20)     9620        lambda_63[0][0]                  \n",
            "__________________________________________________________________________________________________\n",
            "swish_189 (Swish)               (None, 1, 1, 20)     0           conv2d_254[0][0]                 \n",
            "__________________________________________________________________________________________________\n",
            "conv2d_255 (Conv2D)             (None, 1, 1, 480)    10080       swish_189[0][0]                  \n",
            "__________________________________________________________________________________________________\n",
            "activation_63 (Activation)      (None, 1, 1, 480)    0           conv2d_255[0][0]                 \n",
            "__________________________________________________________________________________________________\n",
            "multiply_63 (Multiply)          (None, 16, 16, 480)  0           activation_63[0][0]              \n",
            "                                                                 swish_188[0][0]                  \n",
            "__________________________________________________________________________________________________\n",
            "conv2d_256 (Conv2D)             (None, 16, 16, 80)   38400       multiply_63[0][0]                \n",
            "__________________________________________________________________________________________________\n",
            "batch_normalization_193 (BatchN (None, 16, 16, 80)   320         conv2d_256[0][0]                 \n",
            "__________________________________________________________________________________________________\n",
            "add_57 (Add)                    (None, 16, 16, 80)   0           batch_normalization_193[0][0]    \n",
            "                                                                 add_56[0][0]                     \n",
            "__________________________________________________________________________________________________\n",
            "conv2d_257 (Conv2D)             (None, 16, 16, 480)  38400       add_57[0][0]                     \n",
            "__________________________________________________________________________________________________\n",
            "batch_normalization_194 (BatchN (None, 16, 16, 480)  1920        conv2d_257[0][0]                 \n",
            "__________________________________________________________________________________________________\n",
            "swish_190 (Swish)               (None, 16, 16, 480)  0           batch_normalization_194[0][0]    \n",
            "__________________________________________________________________________________________________\n",
            "depthwise_conv2d_64 (DepthwiseC (None, 16, 16, 480)  12000       swish_190[0][0]                  \n",
            "__________________________________________________________________________________________________\n",
            "batch_normalization_195 (BatchN (None, 16, 16, 480)  1920        depthwise_conv2d_64[0][0]        \n",
            "__________________________________________________________________________________________________\n",
            "swish_191 (Swish)               (None, 16, 16, 480)  0           batch_normalization_195[0][0]    \n",
            "__________________________________________________________________________________________________\n",
            "lambda_64 (Lambda)              (None, 1, 1, 480)    0           swish_191[0][0]                  \n",
            "__________________________________________________________________________________________________\n",
            "conv2d_258 (Conv2D)             (None, 1, 1, 20)     9620        lambda_64[0][0]                  \n",
            "__________________________________________________________________________________________________\n",
            "swish_192 (Swish)               (None, 1, 1, 20)     0           conv2d_258[0][0]                 \n",
            "__________________________________________________________________________________________________\n",
            "conv2d_259 (Conv2D)             (None, 1, 1, 480)    10080       swish_192[0][0]                  \n",
            "__________________________________________________________________________________________________\n",
            "activation_64 (Activation)      (None, 1, 1, 480)    0           conv2d_259[0][0]                 \n",
            "__________________________________________________________________________________________________\n",
            "multiply_64 (Multiply)          (None, 16, 16, 480)  0           activation_64[0][0]              \n",
            "                                                                 swish_191[0][0]                  \n",
            "__________________________________________________________________________________________________\n",
            "conv2d_260 (Conv2D)             (None, 16, 16, 112)  53760       multiply_64[0][0]                \n",
            "__________________________________________________________________________________________________\n",
            "batch_normalization_196 (BatchN (None, 16, 16, 112)  448         conv2d_260[0][0]                 \n",
            "__________________________________________________________________________________________________\n",
            "conv2d_261 (Conv2D)             (None, 16, 16, 672)  75264       batch_normalization_196[0][0]    \n",
            "__________________________________________________________________________________________________\n",
            "batch_normalization_197 (BatchN (None, 16, 16, 672)  2688        conv2d_261[0][0]                 \n",
            "__________________________________________________________________________________________________\n",
            "swish_193 (Swish)               (None, 16, 16, 672)  0           batch_normalization_197[0][0]    \n",
            "__________________________________________________________________________________________________\n",
            "depthwise_conv2d_65 (DepthwiseC (None, 16, 16, 672)  16800       swish_193[0][0]                  \n",
            "__________________________________________________________________________________________________\n",
            "batch_normalization_198 (BatchN (None, 16, 16, 672)  2688        depthwise_conv2d_65[0][0]        \n",
            "__________________________________________________________________________________________________\n",
            "swish_194 (Swish)               (None, 16, 16, 672)  0           batch_normalization_198[0][0]    \n",
            "__________________________________________________________________________________________________\n",
            "lambda_65 (Lambda)              (None, 1, 1, 672)    0           swish_194[0][0]                  \n",
            "__________________________________________________________________________________________________\n",
            "conv2d_262 (Conv2D)             (None, 1, 1, 28)     18844       lambda_65[0][0]                  \n",
            "__________________________________________________________________________________________________\n",
            "swish_195 (Swish)               (None, 1, 1, 28)     0           conv2d_262[0][0]                 \n",
            "__________________________________________________________________________________________________\n",
            "conv2d_263 (Conv2D)             (None, 1, 1, 672)    19488       swish_195[0][0]                  \n",
            "__________________________________________________________________________________________________\n",
            "activation_65 (Activation)      (None, 1, 1, 672)    0           conv2d_263[0][0]                 \n",
            "__________________________________________________________________________________________________\n",
            "multiply_65 (Multiply)          (None, 16, 16, 672)  0           activation_65[0][0]              \n",
            "                                                                 swish_194[0][0]                  \n",
            "__________________________________________________________________________________________________\n",
            "conv2d_264 (Conv2D)             (None, 16, 16, 112)  75264       multiply_65[0][0]                \n",
            "__________________________________________________________________________________________________\n",
            "batch_normalization_199 (BatchN (None, 16, 16, 112)  448         conv2d_264[0][0]                 \n",
            "__________________________________________________________________________________________________\n",
            "add_58 (Add)                    (None, 16, 16, 112)  0           batch_normalization_199[0][0]    \n",
            "                                                                 batch_normalization_196[0][0]    \n",
            "__________________________________________________________________________________________________\n",
            "conv2d_265 (Conv2D)             (None, 16, 16, 672)  75264       add_58[0][0]                     \n",
            "__________________________________________________________________________________________________\n",
            "batch_normalization_200 (BatchN (None, 16, 16, 672)  2688        conv2d_265[0][0]                 \n",
            "__________________________________________________________________________________________________\n",
            "swish_196 (Swish)               (None, 16, 16, 672)  0           batch_normalization_200[0][0]    \n",
            "__________________________________________________________________________________________________\n",
            "depthwise_conv2d_66 (DepthwiseC (None, 16, 16, 672)  16800       swish_196[0][0]                  \n",
            "__________________________________________________________________________________________________\n",
            "batch_normalization_201 (BatchN (None, 16, 16, 672)  2688        depthwise_conv2d_66[0][0]        \n",
            "__________________________________________________________________________________________________\n",
            "swish_197 (Swish)               (None, 16, 16, 672)  0           batch_normalization_201[0][0]    \n",
            "__________________________________________________________________________________________________\n",
            "lambda_66 (Lambda)              (None, 1, 1, 672)    0           swish_197[0][0]                  \n",
            "__________________________________________________________________________________________________\n",
            "conv2d_266 (Conv2D)             (None, 1, 1, 28)     18844       lambda_66[0][0]                  \n",
            "__________________________________________________________________________________________________\n",
            "swish_198 (Swish)               (None, 1, 1, 28)     0           conv2d_266[0][0]                 \n",
            "__________________________________________________________________________________________________\n",
            "conv2d_267 (Conv2D)             (None, 1, 1, 672)    19488       swish_198[0][0]                  \n",
            "__________________________________________________________________________________________________\n",
            "activation_66 (Activation)      (None, 1, 1, 672)    0           conv2d_267[0][0]                 \n",
            "__________________________________________________________________________________________________\n",
            "multiply_66 (Multiply)          (None, 16, 16, 672)  0           activation_66[0][0]              \n",
            "                                                                 swish_197[0][0]                  \n",
            "__________________________________________________________________________________________________\n",
            "conv2d_268 (Conv2D)             (None, 16, 16, 112)  75264       multiply_66[0][0]                \n",
            "__________________________________________________________________________________________________\n",
            "batch_normalization_202 (BatchN (None, 16, 16, 112)  448         conv2d_268[0][0]                 \n",
            "__________________________________________________________________________________________________\n",
            "add_59 (Add)                    (None, 16, 16, 112)  0           batch_normalization_202[0][0]    \n",
            "                                                                 add_58[0][0]                     \n",
            "__________________________________________________________________________________________________\n",
            "conv2d_269 (Conv2D)             (None, 16, 16, 672)  75264       add_59[0][0]                     \n",
            "__________________________________________________________________________________________________\n",
            "batch_normalization_203 (BatchN (None, 16, 16, 672)  2688        conv2d_269[0][0]                 \n",
            "__________________________________________________________________________________________________\n",
            "swish_199 (Swish)               (None, 16, 16, 672)  0           batch_normalization_203[0][0]    \n",
            "__________________________________________________________________________________________________\n",
            "depthwise_conv2d_67 (DepthwiseC (None, 8, 8, 672)    16800       swish_199[0][0]                  \n",
            "__________________________________________________________________________________________________\n",
            "batch_normalization_204 (BatchN (None, 8, 8, 672)    2688        depthwise_conv2d_67[0][0]        \n",
            "__________________________________________________________________________________________________\n",
            "swish_200 (Swish)               (None, 8, 8, 672)    0           batch_normalization_204[0][0]    \n",
            "__________________________________________________________________________________________________\n",
            "lambda_67 (Lambda)              (None, 1, 1, 672)    0           swish_200[0][0]                  \n",
            "__________________________________________________________________________________________________\n",
            "conv2d_270 (Conv2D)             (None, 1, 1, 28)     18844       lambda_67[0][0]                  \n",
            "__________________________________________________________________________________________________\n",
            "swish_201 (Swish)               (None, 1, 1, 28)     0           conv2d_270[0][0]                 \n",
            "__________________________________________________________________________________________________\n",
            "conv2d_271 (Conv2D)             (None, 1, 1, 672)    19488       swish_201[0][0]                  \n",
            "__________________________________________________________________________________________________\n",
            "activation_67 (Activation)      (None, 1, 1, 672)    0           conv2d_271[0][0]                 \n",
            "__________________________________________________________________________________________________\n",
            "multiply_67 (Multiply)          (None, 8, 8, 672)    0           activation_67[0][0]              \n",
            "                                                                 swish_200[0][0]                  \n",
            "__________________________________________________________________________________________________\n",
            "conv2d_272 (Conv2D)             (None, 8, 8, 192)    129024      multiply_67[0][0]                \n",
            "__________________________________________________________________________________________________\n",
            "batch_normalization_205 (BatchN (None, 8, 8, 192)    768         conv2d_272[0][0]                 \n",
            "__________________________________________________________________________________________________\n",
            "conv2d_273 (Conv2D)             (None, 8, 8, 1152)   221184      batch_normalization_205[0][0]    \n",
            "__________________________________________________________________________________________________\n",
            "batch_normalization_206 (BatchN (None, 8, 8, 1152)   4608        conv2d_273[0][0]                 \n",
            "__________________________________________________________________________________________________\n",
            "swish_202 (Swish)               (None, 8, 8, 1152)   0           batch_normalization_206[0][0]    \n",
            "__________________________________________________________________________________________________\n",
            "depthwise_conv2d_68 (DepthwiseC (None, 8, 8, 1152)   28800       swish_202[0][0]                  \n",
            "__________________________________________________________________________________________________\n",
            "batch_normalization_207 (BatchN (None, 8, 8, 1152)   4608        depthwise_conv2d_68[0][0]        \n",
            "__________________________________________________________________________________________________\n",
            "swish_203 (Swish)               (None, 8, 8, 1152)   0           batch_normalization_207[0][0]    \n",
            "__________________________________________________________________________________________________\n",
            "lambda_68 (Lambda)              (None, 1, 1, 1152)   0           swish_203[0][0]                  \n",
            "__________________________________________________________________________________________________\n",
            "conv2d_274 (Conv2D)             (None, 1, 1, 48)     55344       lambda_68[0][0]                  \n",
            "__________________________________________________________________________________________________\n",
            "swish_204 (Swish)               (None, 1, 1, 48)     0           conv2d_274[0][0]                 \n",
            "__________________________________________________________________________________________________\n",
            "conv2d_275 (Conv2D)             (None, 1, 1, 1152)   56448       swish_204[0][0]                  \n",
            "__________________________________________________________________________________________________\n",
            "activation_68 (Activation)      (None, 1, 1, 1152)   0           conv2d_275[0][0]                 \n",
            "__________________________________________________________________________________________________\n",
            "multiply_68 (Multiply)          (None, 8, 8, 1152)   0           activation_68[0][0]              \n",
            "                                                                 swish_203[0][0]                  \n",
            "__________________________________________________________________________________________________\n",
            "conv2d_276 (Conv2D)             (None, 8, 8, 192)    221184      multiply_68[0][0]                \n",
            "__________________________________________________________________________________________________\n",
            "batch_normalization_208 (BatchN (None, 8, 8, 192)    768         conv2d_276[0][0]                 \n",
            "__________________________________________________________________________________________________\n",
            "add_60 (Add)                    (None, 8, 8, 192)    0           batch_normalization_208[0][0]    \n",
            "                                                                 batch_normalization_205[0][0]    \n",
            "__________________________________________________________________________________________________\n",
            "conv2d_277 (Conv2D)             (None, 8, 8, 1152)   221184      add_60[0][0]                     \n",
            "__________________________________________________________________________________________________\n",
            "batch_normalization_209 (BatchN (None, 8, 8, 1152)   4608        conv2d_277[0][0]                 \n",
            "__________________________________________________________________________________________________\n",
            "swish_205 (Swish)               (None, 8, 8, 1152)   0           batch_normalization_209[0][0]    \n",
            "__________________________________________________________________________________________________\n",
            "depthwise_conv2d_69 (DepthwiseC (None, 8, 8, 1152)   28800       swish_205[0][0]                  \n",
            "__________________________________________________________________________________________________\n",
            "batch_normalization_210 (BatchN (None, 8, 8, 1152)   4608        depthwise_conv2d_69[0][0]        \n",
            "__________________________________________________________________________________________________\n",
            "swish_206 (Swish)               (None, 8, 8, 1152)   0           batch_normalization_210[0][0]    \n",
            "__________________________________________________________________________________________________\n",
            "lambda_69 (Lambda)              (None, 1, 1, 1152)   0           swish_206[0][0]                  \n",
            "__________________________________________________________________________________________________\n",
            "conv2d_278 (Conv2D)             (None, 1, 1, 48)     55344       lambda_69[0][0]                  \n",
            "__________________________________________________________________________________________________\n",
            "swish_207 (Swish)               (None, 1, 1, 48)     0           conv2d_278[0][0]                 \n",
            "__________________________________________________________________________________________________\n",
            "conv2d_279 (Conv2D)             (None, 1, 1, 1152)   56448       swish_207[0][0]                  \n",
            "__________________________________________________________________________________________________\n",
            "activation_69 (Activation)      (None, 1, 1, 1152)   0           conv2d_279[0][0]                 \n",
            "__________________________________________________________________________________________________\n",
            "multiply_69 (Multiply)          (None, 8, 8, 1152)   0           activation_69[0][0]              \n",
            "                                                                 swish_206[0][0]                  \n",
            "__________________________________________________________________________________________________\n",
            "conv2d_280 (Conv2D)             (None, 8, 8, 192)    221184      multiply_69[0][0]                \n",
            "__________________________________________________________________________________________________\n",
            "batch_normalization_211 (BatchN (None, 8, 8, 192)    768         conv2d_280[0][0]                 \n",
            "__________________________________________________________________________________________________\n",
            "add_61 (Add)                    (None, 8, 8, 192)    0           batch_normalization_211[0][0]    \n",
            "                                                                 add_60[0][0]                     \n",
            "__________________________________________________________________________________________________\n",
            "conv2d_281 (Conv2D)             (None, 8, 8, 1152)   221184      add_61[0][0]                     \n",
            "__________________________________________________________________________________________________\n",
            "batch_normalization_212 (BatchN (None, 8, 8, 1152)   4608        conv2d_281[0][0]                 \n",
            "__________________________________________________________________________________________________\n",
            "swish_208 (Swish)               (None, 8, 8, 1152)   0           batch_normalization_212[0][0]    \n",
            "__________________________________________________________________________________________________\n",
            "depthwise_conv2d_70 (DepthwiseC (None, 8, 8, 1152)   28800       swish_208[0][0]                  \n",
            "__________________________________________________________________________________________________\n",
            "batch_normalization_213 (BatchN (None, 8, 8, 1152)   4608        depthwise_conv2d_70[0][0]        \n",
            "__________________________________________________________________________________________________\n",
            "swish_209 (Swish)               (None, 8, 8, 1152)   0           batch_normalization_213[0][0]    \n",
            "__________________________________________________________________________________________________\n",
            "lambda_70 (Lambda)              (None, 1, 1, 1152)   0           swish_209[0][0]                  \n",
            "__________________________________________________________________________________________________\n",
            "conv2d_282 (Conv2D)             (None, 1, 1, 48)     55344       lambda_70[0][0]                  \n",
            "__________________________________________________________________________________________________\n",
            "swish_210 (Swish)               (None, 1, 1, 48)     0           conv2d_282[0][0]                 \n",
            "__________________________________________________________________________________________________\n",
            "conv2d_283 (Conv2D)             (None, 1, 1, 1152)   56448       swish_210[0][0]                  \n",
            "__________________________________________________________________________________________________\n",
            "activation_70 (Activation)      (None, 1, 1, 1152)   0           conv2d_283[0][0]                 \n",
            "__________________________________________________________________________________________________\n",
            "multiply_70 (Multiply)          (None, 8, 8, 1152)   0           activation_70[0][0]              \n",
            "                                                                 swish_209[0][0]                  \n",
            "__________________________________________________________________________________________________\n",
            "conv2d_284 (Conv2D)             (None, 8, 8, 192)    221184      multiply_70[0][0]                \n",
            "__________________________________________________________________________________________________\n",
            "batch_normalization_214 (BatchN (None, 8, 8, 192)    768         conv2d_284[0][0]                 \n",
            "__________________________________________________________________________________________________\n",
            "add_62 (Add)                    (None, 8, 8, 192)    0           batch_normalization_214[0][0]    \n",
            "                                                                 add_61[0][0]                     \n",
            "__________________________________________________________________________________________________\n",
            "conv2d_285 (Conv2D)             (None, 8, 8, 1152)   221184      add_62[0][0]                     \n",
            "__________________________________________________________________________________________________\n",
            "batch_normalization_215 (BatchN (None, 8, 8, 1152)   4608        conv2d_285[0][0]                 \n",
            "__________________________________________________________________________________________________\n",
            "swish_211 (Swish)               (None, 8, 8, 1152)   0           batch_normalization_215[0][0]    \n",
            "__________________________________________________________________________________________________\n",
            "depthwise_conv2d_71 (DepthwiseC (None, 8, 8, 1152)   10368       swish_211[0][0]                  \n",
            "__________________________________________________________________________________________________\n",
            "batch_normalization_216 (BatchN (None, 8, 8, 1152)   4608        depthwise_conv2d_71[0][0]        \n",
            "__________________________________________________________________________________________________\n",
            "swish_212 (Swish)               (None, 8, 8, 1152)   0           batch_normalization_216[0][0]    \n",
            "__________________________________________________________________________________________________\n",
            "lambda_71 (Lambda)              (None, 1, 1, 1152)   0           swish_212[0][0]                  \n",
            "__________________________________________________________________________________________________\n",
            "conv2d_286 (Conv2D)             (None, 1, 1, 48)     55344       lambda_71[0][0]                  \n",
            "__________________________________________________________________________________________________\n",
            "swish_213 (Swish)               (None, 1, 1, 48)     0           conv2d_286[0][0]                 \n",
            "__________________________________________________________________________________________________\n",
            "conv2d_287 (Conv2D)             (None, 1, 1, 1152)   56448       swish_213[0][0]                  \n",
            "__________________________________________________________________________________________________\n",
            "activation_71 (Activation)      (None, 1, 1, 1152)   0           conv2d_287[0][0]                 \n",
            "__________________________________________________________________________________________________\n",
            "multiply_71 (Multiply)          (None, 8, 8, 1152)   0           activation_71[0][0]              \n",
            "                                                                 swish_212[0][0]                  \n",
            "__________________________________________________________________________________________________\n",
            "conv2d_288 (Conv2D)             (None, 8, 8, 320)    368640      multiply_71[0][0]                \n",
            "__________________________________________________________________________________________________\n",
            "batch_normalization_217 (BatchN (None, 8, 8, 320)    1280        conv2d_288[0][0]                 \n",
            "__________________________________________________________________________________________________\n",
            "conv2d_289 (Conv2D)             (None, 8, 8, 1280)   409600      batch_normalization_217[0][0]    \n",
            "__________________________________________________________________________________________________\n",
            "batch_normalization_218 (BatchN (None, 8, 8, 1280)   5120        conv2d_289[0][0]                 \n",
            "__________________________________________________________________________________________________\n",
            "swish_214 (Swish)               (None, 8, 8, 1280)   0           batch_normalization_218[0][0]    \n",
            "==================================================================================================\n",
            "Total params: 4,049,564\n",
            "Trainable params: 4,007,548\n",
            "Non-trainable params: 42,016\n",
            "__________________________________________________________________________________________________\n"
          ],
          "name": "stdout"
        }
      ]
    },
    {
      "cell_type": "code",
      "metadata": {
        "id": "4gjqfS9NMp9P",
        "colab_type": "code",
        "colab": {}
      },
      "source": [
        "effb0_avg = GlobalAveragePooling2D()(efficientb0.output)\n",
        "effb0_fc_1 = Dense(256, activation='relu')(effb0_avg)\n",
        "effb0_fc_2 = Dense(128, activation='relu')(effb0_fc_1)\n",
        "effb0_d = Dropout(0.25)(effb0_fc_2)\n",
        "effb0_fc_3 = Dense(102, activation='softmax')(effb0_d)"
      ],
      "execution_count": 0,
      "outputs": []
    },
    {
      "cell_type": "code",
      "metadata": {
        "id": "eDCcHRUhMt2E",
        "colab_type": "code",
        "colab": {}
      },
      "source": [
        "efficientb0 = Model(efficientb0.input, outputs  = effb0_fc_3)"
      ],
      "execution_count": 0,
      "outputs": []
    },
    {
      "cell_type": "code",
      "metadata": {
        "id": "b7t34a9EMwgX",
        "colab_type": "code",
        "outputId": "669df275-05f8-4a83-ceec-d3a0baa98f76",
        "colab": {
          "base_uri": "https://localhost:8080/",
          "height": 1000
        }
      },
      "source": [
        "efficientb0.summary()"
      ],
      "execution_count": 0,
      "outputs": [
        {
          "output_type": "stream",
          "text": [
            "__________________________________________________________________________________________________\n",
            "Layer (type)                    Output Shape         Param #     Connected to                     \n",
            "==================================================================================================\n",
            "input_6 (InputLayer)            (None, 256, 256, 3)  0                                            \n",
            "__________________________________________________________________________________________________\n",
            "conv2d_225 (Conv2D)             (None, 128, 128, 32) 864         input_6[0][0]                    \n",
            "__________________________________________________________________________________________________\n",
            "batch_normalization_170 (BatchN (None, 128, 128, 32) 128         conv2d_225[0][0]                 \n",
            "__________________________________________________________________________________________________\n",
            "swish_166 (Swish)               (None, 128, 128, 32) 0           batch_normalization_170[0][0]    \n",
            "__________________________________________________________________________________________________\n",
            "depthwise_conv2d_56 (DepthwiseC (None, 128, 128, 32) 288         swish_166[0][0]                  \n",
            "__________________________________________________________________________________________________\n",
            "batch_normalization_171 (BatchN (None, 128, 128, 32) 128         depthwise_conv2d_56[0][0]        \n",
            "__________________________________________________________________________________________________\n",
            "swish_167 (Swish)               (None, 128, 128, 32) 0           batch_normalization_171[0][0]    \n",
            "__________________________________________________________________________________________________\n",
            "lambda_56 (Lambda)              (None, 1, 1, 32)     0           swish_167[0][0]                  \n",
            "__________________________________________________________________________________________________\n",
            "conv2d_226 (Conv2D)             (None, 1, 1, 8)      264         lambda_56[0][0]                  \n",
            "__________________________________________________________________________________________________\n",
            "swish_168 (Swish)               (None, 1, 1, 8)      0           conv2d_226[0][0]                 \n",
            "__________________________________________________________________________________________________\n",
            "conv2d_227 (Conv2D)             (None, 1, 1, 32)     288         swish_168[0][0]                  \n",
            "__________________________________________________________________________________________________\n",
            "activation_56 (Activation)      (None, 1, 1, 32)     0           conv2d_227[0][0]                 \n",
            "__________________________________________________________________________________________________\n",
            "multiply_56 (Multiply)          (None, 128, 128, 32) 0           activation_56[0][0]              \n",
            "                                                                 swish_167[0][0]                  \n",
            "__________________________________________________________________________________________________\n",
            "conv2d_228 (Conv2D)             (None, 128, 128, 16) 512         multiply_56[0][0]                \n",
            "__________________________________________________________________________________________________\n",
            "batch_normalization_172 (BatchN (None, 128, 128, 16) 64          conv2d_228[0][0]                 \n",
            "__________________________________________________________________________________________________\n",
            "conv2d_229 (Conv2D)             (None, 128, 128, 96) 1536        batch_normalization_172[0][0]    \n",
            "__________________________________________________________________________________________________\n",
            "batch_normalization_173 (BatchN (None, 128, 128, 96) 384         conv2d_229[0][0]                 \n",
            "__________________________________________________________________________________________________\n",
            "swish_169 (Swish)               (None, 128, 128, 96) 0           batch_normalization_173[0][0]    \n",
            "__________________________________________________________________________________________________\n",
            "depthwise_conv2d_57 (DepthwiseC (None, 64, 64, 96)   864         swish_169[0][0]                  \n",
            "__________________________________________________________________________________________________\n",
            "batch_normalization_174 (BatchN (None, 64, 64, 96)   384         depthwise_conv2d_57[0][0]        \n",
            "__________________________________________________________________________________________________\n",
            "swish_170 (Swish)               (None, 64, 64, 96)   0           batch_normalization_174[0][0]    \n",
            "__________________________________________________________________________________________________\n",
            "lambda_57 (Lambda)              (None, 1, 1, 96)     0           swish_170[0][0]                  \n",
            "__________________________________________________________________________________________________\n",
            "conv2d_230 (Conv2D)             (None, 1, 1, 4)      388         lambda_57[0][0]                  \n",
            "__________________________________________________________________________________________________\n",
            "swish_171 (Swish)               (None, 1, 1, 4)      0           conv2d_230[0][0]                 \n",
            "__________________________________________________________________________________________________\n",
            "conv2d_231 (Conv2D)             (None, 1, 1, 96)     480         swish_171[0][0]                  \n",
            "__________________________________________________________________________________________________\n",
            "activation_57 (Activation)      (None, 1, 1, 96)     0           conv2d_231[0][0]                 \n",
            "__________________________________________________________________________________________________\n",
            "multiply_57 (Multiply)          (None, 64, 64, 96)   0           activation_57[0][0]              \n",
            "                                                                 swish_170[0][0]                  \n",
            "__________________________________________________________________________________________________\n",
            "conv2d_232 (Conv2D)             (None, 64, 64, 24)   2304        multiply_57[0][0]                \n",
            "__________________________________________________________________________________________________\n",
            "batch_normalization_175 (BatchN (None, 64, 64, 24)   96          conv2d_232[0][0]                 \n",
            "__________________________________________________________________________________________________\n",
            "conv2d_233 (Conv2D)             (None, 64, 64, 144)  3456        batch_normalization_175[0][0]    \n",
            "__________________________________________________________________________________________________\n",
            "batch_normalization_176 (BatchN (None, 64, 64, 144)  576         conv2d_233[0][0]                 \n",
            "__________________________________________________________________________________________________\n",
            "swish_172 (Swish)               (None, 64, 64, 144)  0           batch_normalization_176[0][0]    \n",
            "__________________________________________________________________________________________________\n",
            "depthwise_conv2d_58 (DepthwiseC (None, 64, 64, 144)  1296        swish_172[0][0]                  \n",
            "__________________________________________________________________________________________________\n",
            "batch_normalization_177 (BatchN (None, 64, 64, 144)  576         depthwise_conv2d_58[0][0]        \n",
            "__________________________________________________________________________________________________\n",
            "swish_173 (Swish)               (None, 64, 64, 144)  0           batch_normalization_177[0][0]    \n",
            "__________________________________________________________________________________________________\n",
            "lambda_58 (Lambda)              (None, 1, 1, 144)    0           swish_173[0][0]                  \n",
            "__________________________________________________________________________________________________\n",
            "conv2d_234 (Conv2D)             (None, 1, 1, 6)      870         lambda_58[0][0]                  \n",
            "__________________________________________________________________________________________________\n",
            "swish_174 (Swish)               (None, 1, 1, 6)      0           conv2d_234[0][0]                 \n",
            "__________________________________________________________________________________________________\n",
            "conv2d_235 (Conv2D)             (None, 1, 1, 144)    1008        swish_174[0][0]                  \n",
            "__________________________________________________________________________________________________\n",
            "activation_58 (Activation)      (None, 1, 1, 144)    0           conv2d_235[0][0]                 \n",
            "__________________________________________________________________________________________________\n",
            "multiply_58 (Multiply)          (None, 64, 64, 144)  0           activation_58[0][0]              \n",
            "                                                                 swish_173[0][0]                  \n",
            "__________________________________________________________________________________________________\n",
            "conv2d_236 (Conv2D)             (None, 64, 64, 24)   3456        multiply_58[0][0]                \n",
            "__________________________________________________________________________________________________\n",
            "batch_normalization_178 (BatchN (None, 64, 64, 24)   96          conv2d_236[0][0]                 \n",
            "__________________________________________________________________________________________________\n",
            "add_54 (Add)                    (None, 64, 64, 24)   0           batch_normalization_178[0][0]    \n",
            "                                                                 batch_normalization_175[0][0]    \n",
            "__________________________________________________________________________________________________\n",
            "conv2d_237 (Conv2D)             (None, 64, 64, 144)  3456        add_54[0][0]                     \n",
            "__________________________________________________________________________________________________\n",
            "batch_normalization_179 (BatchN (None, 64, 64, 144)  576         conv2d_237[0][0]                 \n",
            "__________________________________________________________________________________________________\n",
            "swish_175 (Swish)               (None, 64, 64, 144)  0           batch_normalization_179[0][0]    \n",
            "__________________________________________________________________________________________________\n",
            "depthwise_conv2d_59 (DepthwiseC (None, 32, 32, 144)  3600        swish_175[0][0]                  \n",
            "__________________________________________________________________________________________________\n",
            "batch_normalization_180 (BatchN (None, 32, 32, 144)  576         depthwise_conv2d_59[0][0]        \n",
            "__________________________________________________________________________________________________\n",
            "swish_176 (Swish)               (None, 32, 32, 144)  0           batch_normalization_180[0][0]    \n",
            "__________________________________________________________________________________________________\n",
            "lambda_59 (Lambda)              (None, 1, 1, 144)    0           swish_176[0][0]                  \n",
            "__________________________________________________________________________________________________\n",
            "conv2d_238 (Conv2D)             (None, 1, 1, 6)      870         lambda_59[0][0]                  \n",
            "__________________________________________________________________________________________________\n",
            "swish_177 (Swish)               (None, 1, 1, 6)      0           conv2d_238[0][0]                 \n",
            "__________________________________________________________________________________________________\n",
            "conv2d_239 (Conv2D)             (None, 1, 1, 144)    1008        swish_177[0][0]                  \n",
            "__________________________________________________________________________________________________\n",
            "activation_59 (Activation)      (None, 1, 1, 144)    0           conv2d_239[0][0]                 \n",
            "__________________________________________________________________________________________________\n",
            "multiply_59 (Multiply)          (None, 32, 32, 144)  0           activation_59[0][0]              \n",
            "                                                                 swish_176[0][0]                  \n",
            "__________________________________________________________________________________________________\n",
            "conv2d_240 (Conv2D)             (None, 32, 32, 40)   5760        multiply_59[0][0]                \n",
            "__________________________________________________________________________________________________\n",
            "batch_normalization_181 (BatchN (None, 32, 32, 40)   160         conv2d_240[0][0]                 \n",
            "__________________________________________________________________________________________________\n",
            "conv2d_241 (Conv2D)             (None, 32, 32, 240)  9600        batch_normalization_181[0][0]    \n",
            "__________________________________________________________________________________________________\n",
            "batch_normalization_182 (BatchN (None, 32, 32, 240)  960         conv2d_241[0][0]                 \n",
            "__________________________________________________________________________________________________\n",
            "swish_178 (Swish)               (None, 32, 32, 240)  0           batch_normalization_182[0][0]    \n",
            "__________________________________________________________________________________________________\n",
            "depthwise_conv2d_60 (DepthwiseC (None, 32, 32, 240)  6000        swish_178[0][0]                  \n",
            "__________________________________________________________________________________________________\n",
            "batch_normalization_183 (BatchN (None, 32, 32, 240)  960         depthwise_conv2d_60[0][0]        \n",
            "__________________________________________________________________________________________________\n",
            "swish_179 (Swish)               (None, 32, 32, 240)  0           batch_normalization_183[0][0]    \n",
            "__________________________________________________________________________________________________\n",
            "lambda_60 (Lambda)              (None, 1, 1, 240)    0           swish_179[0][0]                  \n",
            "__________________________________________________________________________________________________\n",
            "conv2d_242 (Conv2D)             (None, 1, 1, 10)     2410        lambda_60[0][0]                  \n",
            "__________________________________________________________________________________________________\n",
            "swish_180 (Swish)               (None, 1, 1, 10)     0           conv2d_242[0][0]                 \n",
            "__________________________________________________________________________________________________\n",
            "conv2d_243 (Conv2D)             (None, 1, 1, 240)    2640        swish_180[0][0]                  \n",
            "__________________________________________________________________________________________________\n",
            "activation_60 (Activation)      (None, 1, 1, 240)    0           conv2d_243[0][0]                 \n",
            "__________________________________________________________________________________________________\n",
            "multiply_60 (Multiply)          (None, 32, 32, 240)  0           activation_60[0][0]              \n",
            "                                                                 swish_179[0][0]                  \n",
            "__________________________________________________________________________________________________\n",
            "conv2d_244 (Conv2D)             (None, 32, 32, 40)   9600        multiply_60[0][0]                \n",
            "__________________________________________________________________________________________________\n",
            "batch_normalization_184 (BatchN (None, 32, 32, 40)   160         conv2d_244[0][0]                 \n",
            "__________________________________________________________________________________________________\n",
            "add_55 (Add)                    (None, 32, 32, 40)   0           batch_normalization_184[0][0]    \n",
            "                                                                 batch_normalization_181[0][0]    \n",
            "__________________________________________________________________________________________________\n",
            "conv2d_245 (Conv2D)             (None, 32, 32, 240)  9600        add_55[0][0]                     \n",
            "__________________________________________________________________________________________________\n",
            "batch_normalization_185 (BatchN (None, 32, 32, 240)  960         conv2d_245[0][0]                 \n",
            "__________________________________________________________________________________________________\n",
            "swish_181 (Swish)               (None, 32, 32, 240)  0           batch_normalization_185[0][0]    \n",
            "__________________________________________________________________________________________________\n",
            "depthwise_conv2d_61 (DepthwiseC (None, 16, 16, 240)  2160        swish_181[0][0]                  \n",
            "__________________________________________________________________________________________________\n",
            "batch_normalization_186 (BatchN (None, 16, 16, 240)  960         depthwise_conv2d_61[0][0]        \n",
            "__________________________________________________________________________________________________\n",
            "swish_182 (Swish)               (None, 16, 16, 240)  0           batch_normalization_186[0][0]    \n",
            "__________________________________________________________________________________________________\n",
            "lambda_61 (Lambda)              (None, 1, 1, 240)    0           swish_182[0][0]                  \n",
            "__________________________________________________________________________________________________\n",
            "conv2d_246 (Conv2D)             (None, 1, 1, 10)     2410        lambda_61[0][0]                  \n",
            "__________________________________________________________________________________________________\n",
            "swish_183 (Swish)               (None, 1, 1, 10)     0           conv2d_246[0][0]                 \n",
            "__________________________________________________________________________________________________\n",
            "conv2d_247 (Conv2D)             (None, 1, 1, 240)    2640        swish_183[0][0]                  \n",
            "__________________________________________________________________________________________________\n",
            "activation_61 (Activation)      (None, 1, 1, 240)    0           conv2d_247[0][0]                 \n",
            "__________________________________________________________________________________________________\n",
            "multiply_61 (Multiply)          (None, 16, 16, 240)  0           activation_61[0][0]              \n",
            "                                                                 swish_182[0][0]                  \n",
            "__________________________________________________________________________________________________\n",
            "conv2d_248 (Conv2D)             (None, 16, 16, 80)   19200       multiply_61[0][0]                \n",
            "__________________________________________________________________________________________________\n",
            "batch_normalization_187 (BatchN (None, 16, 16, 80)   320         conv2d_248[0][0]                 \n",
            "__________________________________________________________________________________________________\n",
            "conv2d_249 (Conv2D)             (None, 16, 16, 480)  38400       batch_normalization_187[0][0]    \n",
            "__________________________________________________________________________________________________\n",
            "batch_normalization_188 (BatchN (None, 16, 16, 480)  1920        conv2d_249[0][0]                 \n",
            "__________________________________________________________________________________________________\n",
            "swish_184 (Swish)               (None, 16, 16, 480)  0           batch_normalization_188[0][0]    \n",
            "__________________________________________________________________________________________________\n",
            "depthwise_conv2d_62 (DepthwiseC (None, 16, 16, 480)  4320        swish_184[0][0]                  \n",
            "__________________________________________________________________________________________________\n",
            "batch_normalization_189 (BatchN (None, 16, 16, 480)  1920        depthwise_conv2d_62[0][0]        \n",
            "__________________________________________________________________________________________________\n",
            "swish_185 (Swish)               (None, 16, 16, 480)  0           batch_normalization_189[0][0]    \n",
            "__________________________________________________________________________________________________\n",
            "lambda_62 (Lambda)              (None, 1, 1, 480)    0           swish_185[0][0]                  \n",
            "__________________________________________________________________________________________________\n",
            "conv2d_250 (Conv2D)             (None, 1, 1, 20)     9620        lambda_62[0][0]                  \n",
            "__________________________________________________________________________________________________\n",
            "swish_186 (Swish)               (None, 1, 1, 20)     0           conv2d_250[0][0]                 \n",
            "__________________________________________________________________________________________________\n",
            "conv2d_251 (Conv2D)             (None, 1, 1, 480)    10080       swish_186[0][0]                  \n",
            "__________________________________________________________________________________________________\n",
            "activation_62 (Activation)      (None, 1, 1, 480)    0           conv2d_251[0][0]                 \n",
            "__________________________________________________________________________________________________\n",
            "multiply_62 (Multiply)          (None, 16, 16, 480)  0           activation_62[0][0]              \n",
            "                                                                 swish_185[0][0]                  \n",
            "__________________________________________________________________________________________________\n",
            "conv2d_252 (Conv2D)             (None, 16, 16, 80)   38400       multiply_62[0][0]                \n",
            "__________________________________________________________________________________________________\n",
            "batch_normalization_190 (BatchN (None, 16, 16, 80)   320         conv2d_252[0][0]                 \n",
            "__________________________________________________________________________________________________\n",
            "add_56 (Add)                    (None, 16, 16, 80)   0           batch_normalization_190[0][0]    \n",
            "                                                                 batch_normalization_187[0][0]    \n",
            "__________________________________________________________________________________________________\n",
            "conv2d_253 (Conv2D)             (None, 16, 16, 480)  38400       add_56[0][0]                     \n",
            "__________________________________________________________________________________________________\n",
            "batch_normalization_191 (BatchN (None, 16, 16, 480)  1920        conv2d_253[0][0]                 \n",
            "__________________________________________________________________________________________________\n",
            "swish_187 (Swish)               (None, 16, 16, 480)  0           batch_normalization_191[0][0]    \n",
            "__________________________________________________________________________________________________\n",
            "depthwise_conv2d_63 (DepthwiseC (None, 16, 16, 480)  4320        swish_187[0][0]                  \n",
            "__________________________________________________________________________________________________\n",
            "batch_normalization_192 (BatchN (None, 16, 16, 480)  1920        depthwise_conv2d_63[0][0]        \n",
            "__________________________________________________________________________________________________\n",
            "swish_188 (Swish)               (None, 16, 16, 480)  0           batch_normalization_192[0][0]    \n",
            "__________________________________________________________________________________________________\n",
            "lambda_63 (Lambda)              (None, 1, 1, 480)    0           swish_188[0][0]                  \n",
            "__________________________________________________________________________________________________\n",
            "conv2d_254 (Conv2D)             (None, 1, 1, 20)     9620        lambda_63[0][0]                  \n",
            "__________________________________________________________________________________________________\n",
            "swish_189 (Swish)               (None, 1, 1, 20)     0           conv2d_254[0][0]                 \n",
            "__________________________________________________________________________________________________\n",
            "conv2d_255 (Conv2D)             (None, 1, 1, 480)    10080       swish_189[0][0]                  \n",
            "__________________________________________________________________________________________________\n",
            "activation_63 (Activation)      (None, 1, 1, 480)    0           conv2d_255[0][0]                 \n",
            "__________________________________________________________________________________________________\n",
            "multiply_63 (Multiply)          (None, 16, 16, 480)  0           activation_63[0][0]              \n",
            "                                                                 swish_188[0][0]                  \n",
            "__________________________________________________________________________________________________\n",
            "conv2d_256 (Conv2D)             (None, 16, 16, 80)   38400       multiply_63[0][0]                \n",
            "__________________________________________________________________________________________________\n",
            "batch_normalization_193 (BatchN (None, 16, 16, 80)   320         conv2d_256[0][0]                 \n",
            "__________________________________________________________________________________________________\n",
            "add_57 (Add)                    (None, 16, 16, 80)   0           batch_normalization_193[0][0]    \n",
            "                                                                 add_56[0][0]                     \n",
            "__________________________________________________________________________________________________\n",
            "conv2d_257 (Conv2D)             (None, 16, 16, 480)  38400       add_57[0][0]                     \n",
            "__________________________________________________________________________________________________\n",
            "batch_normalization_194 (BatchN (None, 16, 16, 480)  1920        conv2d_257[0][0]                 \n",
            "__________________________________________________________________________________________________\n",
            "swish_190 (Swish)               (None, 16, 16, 480)  0           batch_normalization_194[0][0]    \n",
            "__________________________________________________________________________________________________\n",
            "depthwise_conv2d_64 (DepthwiseC (None, 16, 16, 480)  12000       swish_190[0][0]                  \n",
            "__________________________________________________________________________________________________\n",
            "batch_normalization_195 (BatchN (None, 16, 16, 480)  1920        depthwise_conv2d_64[0][0]        \n",
            "__________________________________________________________________________________________________\n",
            "swish_191 (Swish)               (None, 16, 16, 480)  0           batch_normalization_195[0][0]    \n",
            "__________________________________________________________________________________________________\n",
            "lambda_64 (Lambda)              (None, 1, 1, 480)    0           swish_191[0][0]                  \n",
            "__________________________________________________________________________________________________\n",
            "conv2d_258 (Conv2D)             (None, 1, 1, 20)     9620        lambda_64[0][0]                  \n",
            "__________________________________________________________________________________________________\n",
            "swish_192 (Swish)               (None, 1, 1, 20)     0           conv2d_258[0][0]                 \n",
            "__________________________________________________________________________________________________\n",
            "conv2d_259 (Conv2D)             (None, 1, 1, 480)    10080       swish_192[0][0]                  \n",
            "__________________________________________________________________________________________________\n",
            "activation_64 (Activation)      (None, 1, 1, 480)    0           conv2d_259[0][0]                 \n",
            "__________________________________________________________________________________________________\n",
            "multiply_64 (Multiply)          (None, 16, 16, 480)  0           activation_64[0][0]              \n",
            "                                                                 swish_191[0][0]                  \n",
            "__________________________________________________________________________________________________\n",
            "conv2d_260 (Conv2D)             (None, 16, 16, 112)  53760       multiply_64[0][0]                \n",
            "__________________________________________________________________________________________________\n",
            "batch_normalization_196 (BatchN (None, 16, 16, 112)  448         conv2d_260[0][0]                 \n",
            "__________________________________________________________________________________________________\n",
            "conv2d_261 (Conv2D)             (None, 16, 16, 672)  75264       batch_normalization_196[0][0]    \n",
            "__________________________________________________________________________________________________\n",
            "batch_normalization_197 (BatchN (None, 16, 16, 672)  2688        conv2d_261[0][0]                 \n",
            "__________________________________________________________________________________________________\n",
            "swish_193 (Swish)               (None, 16, 16, 672)  0           batch_normalization_197[0][0]    \n",
            "__________________________________________________________________________________________________\n",
            "depthwise_conv2d_65 (DepthwiseC (None, 16, 16, 672)  16800       swish_193[0][0]                  \n",
            "__________________________________________________________________________________________________\n",
            "batch_normalization_198 (BatchN (None, 16, 16, 672)  2688        depthwise_conv2d_65[0][0]        \n",
            "__________________________________________________________________________________________________\n",
            "swish_194 (Swish)               (None, 16, 16, 672)  0           batch_normalization_198[0][0]    \n",
            "__________________________________________________________________________________________________\n",
            "lambda_65 (Lambda)              (None, 1, 1, 672)    0           swish_194[0][0]                  \n",
            "__________________________________________________________________________________________________\n",
            "conv2d_262 (Conv2D)             (None, 1, 1, 28)     18844       lambda_65[0][0]                  \n",
            "__________________________________________________________________________________________________\n",
            "swish_195 (Swish)               (None, 1, 1, 28)     0           conv2d_262[0][0]                 \n",
            "__________________________________________________________________________________________________\n",
            "conv2d_263 (Conv2D)             (None, 1, 1, 672)    19488       swish_195[0][0]                  \n",
            "__________________________________________________________________________________________________\n",
            "activation_65 (Activation)      (None, 1, 1, 672)    0           conv2d_263[0][0]                 \n",
            "__________________________________________________________________________________________________\n",
            "multiply_65 (Multiply)          (None, 16, 16, 672)  0           activation_65[0][0]              \n",
            "                                                                 swish_194[0][0]                  \n",
            "__________________________________________________________________________________________________\n",
            "conv2d_264 (Conv2D)             (None, 16, 16, 112)  75264       multiply_65[0][0]                \n",
            "__________________________________________________________________________________________________\n",
            "batch_normalization_199 (BatchN (None, 16, 16, 112)  448         conv2d_264[0][0]                 \n",
            "__________________________________________________________________________________________________\n",
            "add_58 (Add)                    (None, 16, 16, 112)  0           batch_normalization_199[0][0]    \n",
            "                                                                 batch_normalization_196[0][0]    \n",
            "__________________________________________________________________________________________________\n",
            "conv2d_265 (Conv2D)             (None, 16, 16, 672)  75264       add_58[0][0]                     \n",
            "__________________________________________________________________________________________________\n",
            "batch_normalization_200 (BatchN (None, 16, 16, 672)  2688        conv2d_265[0][0]                 \n",
            "__________________________________________________________________________________________________\n",
            "swish_196 (Swish)               (None, 16, 16, 672)  0           batch_normalization_200[0][0]    \n",
            "__________________________________________________________________________________________________\n",
            "depthwise_conv2d_66 (DepthwiseC (None, 16, 16, 672)  16800       swish_196[0][0]                  \n",
            "__________________________________________________________________________________________________\n",
            "batch_normalization_201 (BatchN (None, 16, 16, 672)  2688        depthwise_conv2d_66[0][0]        \n",
            "__________________________________________________________________________________________________\n",
            "swish_197 (Swish)               (None, 16, 16, 672)  0           batch_normalization_201[0][0]    \n",
            "__________________________________________________________________________________________________\n",
            "lambda_66 (Lambda)              (None, 1, 1, 672)    0           swish_197[0][0]                  \n",
            "__________________________________________________________________________________________________\n",
            "conv2d_266 (Conv2D)             (None, 1, 1, 28)     18844       lambda_66[0][0]                  \n",
            "__________________________________________________________________________________________________\n",
            "swish_198 (Swish)               (None, 1, 1, 28)     0           conv2d_266[0][0]                 \n",
            "__________________________________________________________________________________________________\n",
            "conv2d_267 (Conv2D)             (None, 1, 1, 672)    19488       swish_198[0][0]                  \n",
            "__________________________________________________________________________________________________\n",
            "activation_66 (Activation)      (None, 1, 1, 672)    0           conv2d_267[0][0]                 \n",
            "__________________________________________________________________________________________________\n",
            "multiply_66 (Multiply)          (None, 16, 16, 672)  0           activation_66[0][0]              \n",
            "                                                                 swish_197[0][0]                  \n",
            "__________________________________________________________________________________________________\n",
            "conv2d_268 (Conv2D)             (None, 16, 16, 112)  75264       multiply_66[0][0]                \n",
            "__________________________________________________________________________________________________\n",
            "batch_normalization_202 (BatchN (None, 16, 16, 112)  448         conv2d_268[0][0]                 \n",
            "__________________________________________________________________________________________________\n",
            "add_59 (Add)                    (None, 16, 16, 112)  0           batch_normalization_202[0][0]    \n",
            "                                                                 add_58[0][0]                     \n",
            "__________________________________________________________________________________________________\n",
            "conv2d_269 (Conv2D)             (None, 16, 16, 672)  75264       add_59[0][0]                     \n",
            "__________________________________________________________________________________________________\n",
            "batch_normalization_203 (BatchN (None, 16, 16, 672)  2688        conv2d_269[0][0]                 \n",
            "__________________________________________________________________________________________________\n",
            "swish_199 (Swish)               (None, 16, 16, 672)  0           batch_normalization_203[0][0]    \n",
            "__________________________________________________________________________________________________\n",
            "depthwise_conv2d_67 (DepthwiseC (None, 8, 8, 672)    16800       swish_199[0][0]                  \n",
            "__________________________________________________________________________________________________\n",
            "batch_normalization_204 (BatchN (None, 8, 8, 672)    2688        depthwise_conv2d_67[0][0]        \n",
            "__________________________________________________________________________________________________\n",
            "swish_200 (Swish)               (None, 8, 8, 672)    0           batch_normalization_204[0][0]    \n",
            "__________________________________________________________________________________________________\n",
            "lambda_67 (Lambda)              (None, 1, 1, 672)    0           swish_200[0][0]                  \n",
            "__________________________________________________________________________________________________\n",
            "conv2d_270 (Conv2D)             (None, 1, 1, 28)     18844       lambda_67[0][0]                  \n",
            "__________________________________________________________________________________________________\n",
            "swish_201 (Swish)               (None, 1, 1, 28)     0           conv2d_270[0][0]                 \n",
            "__________________________________________________________________________________________________\n",
            "conv2d_271 (Conv2D)             (None, 1, 1, 672)    19488       swish_201[0][0]                  \n",
            "__________________________________________________________________________________________________\n",
            "activation_67 (Activation)      (None, 1, 1, 672)    0           conv2d_271[0][0]                 \n",
            "__________________________________________________________________________________________________\n",
            "multiply_67 (Multiply)          (None, 8, 8, 672)    0           activation_67[0][0]              \n",
            "                                                                 swish_200[0][0]                  \n",
            "__________________________________________________________________________________________________\n",
            "conv2d_272 (Conv2D)             (None, 8, 8, 192)    129024      multiply_67[0][0]                \n",
            "__________________________________________________________________________________________________\n",
            "batch_normalization_205 (BatchN (None, 8, 8, 192)    768         conv2d_272[0][0]                 \n",
            "__________________________________________________________________________________________________\n",
            "conv2d_273 (Conv2D)             (None, 8, 8, 1152)   221184      batch_normalization_205[0][0]    \n",
            "__________________________________________________________________________________________________\n",
            "batch_normalization_206 (BatchN (None, 8, 8, 1152)   4608        conv2d_273[0][0]                 \n",
            "__________________________________________________________________________________________________\n",
            "swish_202 (Swish)               (None, 8, 8, 1152)   0           batch_normalization_206[0][0]    \n",
            "__________________________________________________________________________________________________\n",
            "depthwise_conv2d_68 (DepthwiseC (None, 8, 8, 1152)   28800       swish_202[0][0]                  \n",
            "__________________________________________________________________________________________________\n",
            "batch_normalization_207 (BatchN (None, 8, 8, 1152)   4608        depthwise_conv2d_68[0][0]        \n",
            "__________________________________________________________________________________________________\n",
            "swish_203 (Swish)               (None, 8, 8, 1152)   0           batch_normalization_207[0][0]    \n",
            "__________________________________________________________________________________________________\n",
            "lambda_68 (Lambda)              (None, 1, 1, 1152)   0           swish_203[0][0]                  \n",
            "__________________________________________________________________________________________________\n",
            "conv2d_274 (Conv2D)             (None, 1, 1, 48)     55344       lambda_68[0][0]                  \n",
            "__________________________________________________________________________________________________\n",
            "swish_204 (Swish)               (None, 1, 1, 48)     0           conv2d_274[0][0]                 \n",
            "__________________________________________________________________________________________________\n",
            "conv2d_275 (Conv2D)             (None, 1, 1, 1152)   56448       swish_204[0][0]                  \n",
            "__________________________________________________________________________________________________\n",
            "activation_68 (Activation)      (None, 1, 1, 1152)   0           conv2d_275[0][0]                 \n",
            "__________________________________________________________________________________________________\n",
            "multiply_68 (Multiply)          (None, 8, 8, 1152)   0           activation_68[0][0]              \n",
            "                                                                 swish_203[0][0]                  \n",
            "__________________________________________________________________________________________________\n",
            "conv2d_276 (Conv2D)             (None, 8, 8, 192)    221184      multiply_68[0][0]                \n",
            "__________________________________________________________________________________________________\n",
            "batch_normalization_208 (BatchN (None, 8, 8, 192)    768         conv2d_276[0][0]                 \n",
            "__________________________________________________________________________________________________\n",
            "add_60 (Add)                    (None, 8, 8, 192)    0           batch_normalization_208[0][0]    \n",
            "                                                                 batch_normalization_205[0][0]    \n",
            "__________________________________________________________________________________________________\n",
            "conv2d_277 (Conv2D)             (None, 8, 8, 1152)   221184      add_60[0][0]                     \n",
            "__________________________________________________________________________________________________\n",
            "batch_normalization_209 (BatchN (None, 8, 8, 1152)   4608        conv2d_277[0][0]                 \n",
            "__________________________________________________________________________________________________\n",
            "swish_205 (Swish)               (None, 8, 8, 1152)   0           batch_normalization_209[0][0]    \n",
            "__________________________________________________________________________________________________\n",
            "depthwise_conv2d_69 (DepthwiseC (None, 8, 8, 1152)   28800       swish_205[0][0]                  \n",
            "__________________________________________________________________________________________________\n",
            "batch_normalization_210 (BatchN (None, 8, 8, 1152)   4608        depthwise_conv2d_69[0][0]        \n",
            "__________________________________________________________________________________________________\n",
            "swish_206 (Swish)               (None, 8, 8, 1152)   0           batch_normalization_210[0][0]    \n",
            "__________________________________________________________________________________________________\n",
            "lambda_69 (Lambda)              (None, 1, 1, 1152)   0           swish_206[0][0]                  \n",
            "__________________________________________________________________________________________________\n",
            "conv2d_278 (Conv2D)             (None, 1, 1, 48)     55344       lambda_69[0][0]                  \n",
            "__________________________________________________________________________________________________\n",
            "swish_207 (Swish)               (None, 1, 1, 48)     0           conv2d_278[0][0]                 \n",
            "__________________________________________________________________________________________________\n",
            "conv2d_279 (Conv2D)             (None, 1, 1, 1152)   56448       swish_207[0][0]                  \n",
            "__________________________________________________________________________________________________\n",
            "activation_69 (Activation)      (None, 1, 1, 1152)   0           conv2d_279[0][0]                 \n",
            "__________________________________________________________________________________________________\n",
            "multiply_69 (Multiply)          (None, 8, 8, 1152)   0           activation_69[0][0]              \n",
            "                                                                 swish_206[0][0]                  \n",
            "__________________________________________________________________________________________________\n",
            "conv2d_280 (Conv2D)             (None, 8, 8, 192)    221184      multiply_69[0][0]                \n",
            "__________________________________________________________________________________________________\n",
            "batch_normalization_211 (BatchN (None, 8, 8, 192)    768         conv2d_280[0][0]                 \n",
            "__________________________________________________________________________________________________\n",
            "add_61 (Add)                    (None, 8, 8, 192)    0           batch_normalization_211[0][0]    \n",
            "                                                                 add_60[0][0]                     \n",
            "__________________________________________________________________________________________________\n",
            "conv2d_281 (Conv2D)             (None, 8, 8, 1152)   221184      add_61[0][0]                     \n",
            "__________________________________________________________________________________________________\n",
            "batch_normalization_212 (BatchN (None, 8, 8, 1152)   4608        conv2d_281[0][0]                 \n",
            "__________________________________________________________________________________________________\n",
            "swish_208 (Swish)               (None, 8, 8, 1152)   0           batch_normalization_212[0][0]    \n",
            "__________________________________________________________________________________________________\n",
            "depthwise_conv2d_70 (DepthwiseC (None, 8, 8, 1152)   28800       swish_208[0][0]                  \n",
            "__________________________________________________________________________________________________\n",
            "batch_normalization_213 (BatchN (None, 8, 8, 1152)   4608        depthwise_conv2d_70[0][0]        \n",
            "__________________________________________________________________________________________________\n",
            "swish_209 (Swish)               (None, 8, 8, 1152)   0           batch_normalization_213[0][0]    \n",
            "__________________________________________________________________________________________________\n",
            "lambda_70 (Lambda)              (None, 1, 1, 1152)   0           swish_209[0][0]                  \n",
            "__________________________________________________________________________________________________\n",
            "conv2d_282 (Conv2D)             (None, 1, 1, 48)     55344       lambda_70[0][0]                  \n",
            "__________________________________________________________________________________________________\n",
            "swish_210 (Swish)               (None, 1, 1, 48)     0           conv2d_282[0][0]                 \n",
            "__________________________________________________________________________________________________\n",
            "conv2d_283 (Conv2D)             (None, 1, 1, 1152)   56448       swish_210[0][0]                  \n",
            "__________________________________________________________________________________________________\n",
            "activation_70 (Activation)      (None, 1, 1, 1152)   0           conv2d_283[0][0]                 \n",
            "__________________________________________________________________________________________________\n",
            "multiply_70 (Multiply)          (None, 8, 8, 1152)   0           activation_70[0][0]              \n",
            "                                                                 swish_209[0][0]                  \n",
            "__________________________________________________________________________________________________\n",
            "conv2d_284 (Conv2D)             (None, 8, 8, 192)    221184      multiply_70[0][0]                \n",
            "__________________________________________________________________________________________________\n",
            "batch_normalization_214 (BatchN (None, 8, 8, 192)    768         conv2d_284[0][0]                 \n",
            "__________________________________________________________________________________________________\n",
            "add_62 (Add)                    (None, 8, 8, 192)    0           batch_normalization_214[0][0]    \n",
            "                                                                 add_61[0][0]                     \n",
            "__________________________________________________________________________________________________\n",
            "conv2d_285 (Conv2D)             (None, 8, 8, 1152)   221184      add_62[0][0]                     \n",
            "__________________________________________________________________________________________________\n",
            "batch_normalization_215 (BatchN (None, 8, 8, 1152)   4608        conv2d_285[0][0]                 \n",
            "__________________________________________________________________________________________________\n",
            "swish_211 (Swish)               (None, 8, 8, 1152)   0           batch_normalization_215[0][0]    \n",
            "__________________________________________________________________________________________________\n",
            "depthwise_conv2d_71 (DepthwiseC (None, 8, 8, 1152)   10368       swish_211[0][0]                  \n",
            "__________________________________________________________________________________________________\n",
            "batch_normalization_216 (BatchN (None, 8, 8, 1152)   4608        depthwise_conv2d_71[0][0]        \n",
            "__________________________________________________________________________________________________\n",
            "swish_212 (Swish)               (None, 8, 8, 1152)   0           batch_normalization_216[0][0]    \n",
            "__________________________________________________________________________________________________\n",
            "lambda_71 (Lambda)              (None, 1, 1, 1152)   0           swish_212[0][0]                  \n",
            "__________________________________________________________________________________________________\n",
            "conv2d_286 (Conv2D)             (None, 1, 1, 48)     55344       lambda_71[0][0]                  \n",
            "__________________________________________________________________________________________________\n",
            "swish_213 (Swish)               (None, 1, 1, 48)     0           conv2d_286[0][0]                 \n",
            "__________________________________________________________________________________________________\n",
            "conv2d_287 (Conv2D)             (None, 1, 1, 1152)   56448       swish_213[0][0]                  \n",
            "__________________________________________________________________________________________________\n",
            "activation_71 (Activation)      (None, 1, 1, 1152)   0           conv2d_287[0][0]                 \n",
            "__________________________________________________________________________________________________\n",
            "multiply_71 (Multiply)          (None, 8, 8, 1152)   0           activation_71[0][0]              \n",
            "                                                                 swish_212[0][0]                  \n",
            "__________________________________________________________________________________________________\n",
            "conv2d_288 (Conv2D)             (None, 8, 8, 320)    368640      multiply_71[0][0]                \n",
            "__________________________________________________________________________________________________\n",
            "batch_normalization_217 (BatchN (None, 8, 8, 320)    1280        conv2d_288[0][0]                 \n",
            "__________________________________________________________________________________________________\n",
            "conv2d_289 (Conv2D)             (None, 8, 8, 1280)   409600      batch_normalization_217[0][0]    \n",
            "__________________________________________________________________________________________________\n",
            "batch_normalization_218 (BatchN (None, 8, 8, 1280)   5120        conv2d_289[0][0]                 \n",
            "__________________________________________________________________________________________________\n",
            "swish_214 (Swish)               (None, 8, 8, 1280)   0           batch_normalization_218[0][0]    \n",
            "__________________________________________________________________________________________________\n",
            "global_average_pooling2d_5 (Glo (None, 1280)         0           swish_214[0][0]                  \n",
            "__________________________________________________________________________________________________\n",
            "dense_13 (Dense)                (None, 256)          327936      global_average_pooling2d_5[0][0] \n",
            "__________________________________________________________________________________________________\n",
            "dense_14 (Dense)                (None, 128)          32896       dense_13[0][0]                   \n",
            "__________________________________________________________________________________________________\n",
            "dropout_5 (Dropout)             (None, 128)          0           dense_14[0][0]                   \n",
            "__________________________________________________________________________________________________\n",
            "dense_15 (Dense)                (None, 102)          13158       dropout_5[0][0]                  \n",
            "==================================================================================================\n",
            "Total params: 4,423,554\n",
            "Trainable params: 4,381,538\n",
            "Non-trainable params: 42,016\n",
            "__________________________________________________________________________________________________\n"
          ],
          "name": "stdout"
        }
      ]
    },
    {
      "cell_type": "code",
      "metadata": {
        "id": "qV6XbQIwTVuW",
        "colab_type": "code",
        "colab": {}
      },
      "source": [
        "cp_efficientb0 = keras.callbacks.ModelCheckpoint('efficient_netb0_weights.h5', monitor='val_loss', verbose=0, save_best_only=True, save_weights_only=False, mode='auto', period = 1)\n"
      ],
      "execution_count": 0,
      "outputs": []
    },
    {
      "cell_type": "code",
      "metadata": {
        "id": "yRumkPd1MwLy",
        "colab_type": "code",
        "colab": {}
      },
      "source": [
        "efficientb0.compile(loss='categorical_crossentropy', optimizer=adam, metrics=['accuracy'])"
      ],
      "execution_count": 0,
      "outputs": []
    },
    {
      "cell_type": "code",
      "metadata": {
        "id": "FECs8O--Mv2X",
        "colab_type": "code",
        "colab": {}
      },
      "source": [
        "efficientb0_hist = efficientb0.fit_generator(train_gen, steps_per_epoch=18305//16, validation_data=val_gen, validation_steps=235/16, epochs=20, callbacks=[es, cp_efficientb0])"
      ],
      "execution_count": 0,
      "outputs": []
    },
    {
      "cell_type": "code",
      "metadata": {
        "id": "b0Va3zVlMvhX",
        "colab_type": "code",
        "colab": {}
      },
      "source": [
        ""
      ],
      "execution_count": 0,
      "outputs": []
    },
    {
      "cell_type": "markdown",
      "metadata": {
        "id": "aRV137IQLgyI",
        "colab_type": "text"
      },
      "source": [
        "### 5. NASNet"
      ]
    },
    {
      "cell_type": "code",
      "metadata": {
        "id": "TDUtfHl0tpZi",
        "colab_type": "code",
        "outputId": "47661ca9-3cbf-42e4-b121-6f9c06e7116c",
        "colab": {
          "base_uri": "https://localhost:8080/",
          "height": 86
        }
      },
      "source": [
        "!git clone https://github.com/titu1994/Keras-ResNeXt.git"
      ],
      "execution_count": 0,
      "outputs": [
        {
          "output_type": "stream",
          "text": [
            "Cloning into 'Keras-ResNeXt'...\n",
            "remote: Enumerating objects: 60, done.\u001b[K\n",
            "remote: Total 60 (delta 0), reused 0 (delta 0), pack-reused 60\u001b[K\n",
            "Unpacking objects: 100% (60/60), done.\n"
          ],
          "name": "stdout"
        }
      ]
    },
    {
      "cell_type": "code",
      "metadata": {
        "id": "a6fG-a6EswCZ",
        "colab_type": "code",
        "colab": {}
      },
      "source": [
        "# from google.colab import files\n",
        "# uploaded = files.upload()"
      ],
      "execution_count": 0,
      "outputs": []
    },
    {
      "cell_type": "code",
      "metadata": {
        "id": "vC-905NIuB7i",
        "colab_type": "code",
        "colab": {}
      },
      "source": [
        "import resnext as res\n"
      ],
      "execution_count": 0,
      "outputs": []
    },
    {
      "cell_type": "code",
      "metadata": {
        "id": "31MLk62EvWWc",
        "colab_type": "code",
        "outputId": "df41a3bd-5ee6-4a4f-e132-0776f188b612",
        "colab": {
          "base_uri": "https://localhost:8080/",
          "height": 332
        }
      },
      "source": [
        "import keras\n",
        "from keras_applications.resnext import ResNeXt50\n",
        "\n",
        "resnext = ResNeXt50(weights='imagenet', input_shape = (256, 256, 3), classes=102, include_top=False, backend=keras.backend, layers=keras.layers, models=keras.models, utils=keras.utils)"
      ],
      "execution_count": 30,
      "outputs": [
        {
          "output_type": "stream",
          "text": [
            "WARNING: Logging before flag parsing goes to stderr.\n",
            "W0821 10:37:44.875379 139885793322880 deprecation_wrapper.py:119] From /usr/local/lib/python3.6/dist-packages/keras/backend/tensorflow_backend.py:74: The name tf.get_default_graph is deprecated. Please use tf.compat.v1.get_default_graph instead.\n",
            "\n",
            "W0821 10:37:44.877959 139885793322880 deprecation_wrapper.py:119] From /usr/local/lib/python3.6/dist-packages/keras/backend/tensorflow_backend.py:517: The name tf.placeholder is deprecated. Please use tf.compat.v1.placeholder instead.\n",
            "\n",
            "W0821 10:37:44.888359 139885793322880 deprecation_wrapper.py:119] From /usr/local/lib/python3.6/dist-packages/keras/backend/tensorflow_backend.py:4138: The name tf.random_uniform is deprecated. Please use tf.random.uniform instead.\n",
            "\n",
            "W0821 10:37:44.928210 139885793322880 deprecation_wrapper.py:119] From /usr/local/lib/python3.6/dist-packages/keras/backend/tensorflow_backend.py:174: The name tf.get_default_session is deprecated. Please use tf.compat.v1.get_default_session instead.\n",
            "\n",
            "W0821 10:37:44.929498 139885793322880 deprecation_wrapper.py:119] From /usr/local/lib/python3.6/dist-packages/keras/backend/tensorflow_backend.py:181: The name tf.ConfigProto is deprecated. Please use tf.compat.v1.ConfigProto instead.\n",
            "\n",
            "W0821 10:37:47.853447 139885793322880 deprecation_wrapper.py:119] From /usr/local/lib/python3.6/dist-packages/keras/backend/tensorflow_backend.py:1834: The name tf.nn.fused_batch_norm is deprecated. Please use tf.compat.v1.nn.fused_batch_norm instead.\n",
            "\n",
            "W0821 10:37:47.943161 139885793322880 deprecation_wrapper.py:119] From /usr/local/lib/python3.6/dist-packages/keras/backend/tensorflow_backend.py:3976: The name tf.nn.max_pool is deprecated. Please use tf.nn.max_pool2d instead.\n",
            "\n"
          ],
          "name": "stderr"
        },
        {
          "output_type": "stream",
          "text": [
            "Downloading data from https://github.com/keras-team/keras-applications/releases/download/resnet/resnext50_weights_tf_dim_ordering_tf_kernels_notop.h5\n",
            "92659712/92652672 [==============================] - 1s 0us/step\n"
          ],
          "name": "stdout"
        }
      ]
    },
    {
      "cell_type": "code",
      "metadata": {
        "id": "xdNkvPT8Alkb",
        "colab_type": "code",
        "outputId": "027794a8-345c-425e-f28b-dd3e9564da69",
        "colab": {
          "base_uri": "https://localhost:8080/",
          "height": 1000
        }
      },
      "source": [
        "resnext.summary()"
      ],
      "execution_count": 31,
      "outputs": [
        {
          "output_type": "stream",
          "text": [
            "__________________________________________________________________________________________________\n",
            "Layer (type)                    Output Shape         Param #     Connected to                     \n",
            "==================================================================================================\n",
            "input_1 (InputLayer)            (None, 256, 256, 3)  0                                            \n",
            "__________________________________________________________________________________________________\n",
            "conv1_pad (ZeroPadding2D)       (None, 262, 262, 3)  0           input_1[0][0]                    \n",
            "__________________________________________________________________________________________________\n",
            "conv1_conv (Conv2D)             (None, 128, 128, 64) 9408        conv1_pad[0][0]                  \n",
            "__________________________________________________________________________________________________\n",
            "conv1_bn (BatchNormalization)   (None, 128, 128, 64) 256         conv1_conv[0][0]                 \n",
            "__________________________________________________________________________________________________\n",
            "conv1_relu (Activation)         (None, 128, 128, 64) 0           conv1_bn[0][0]                   \n",
            "__________________________________________________________________________________________________\n",
            "pool1_pad (ZeroPadding2D)       (None, 130, 130, 64) 0           conv1_relu[0][0]                 \n",
            "__________________________________________________________________________________________________\n",
            "pool1_pool (MaxPooling2D)       (None, 64, 64, 64)   0           pool1_pad[0][0]                  \n",
            "__________________________________________________________________________________________________\n",
            "conv2_block1_1_conv (Conv2D)    (None, 64, 64, 128)  8192        pool1_pool[0][0]                 \n",
            "__________________________________________________________________________________________________\n",
            "conv2_block1_1_bn (BatchNormali (None, 64, 64, 128)  512         conv2_block1_1_conv[0][0]        \n",
            "__________________________________________________________________________________________________\n",
            "conv2_block1_1_relu (Activation (None, 64, 64, 128)  0           conv2_block1_1_bn[0][0]          \n",
            "__________________________________________________________________________________________________\n",
            "conv2_block1_2_pad (ZeroPadding (None, 66, 66, 128)  0           conv2_block1_1_relu[0][0]        \n",
            "__________________________________________________________________________________________________\n",
            "conv2_block1_2_conv (DepthwiseC (None, 64, 64, 512)  4608        conv2_block1_2_pad[0][0]         \n",
            "__________________________________________________________________________________________________\n",
            "reshape_1 (Reshape)             (None, 64, 64, 32, 4 0           conv2_block1_2_conv[0][0]        \n",
            "__________________________________________________________________________________________________\n",
            "conv2_block1_2_reduce (Lambda)  (None, 64, 64, 32, 4 0           reshape_1[0][0]                  \n",
            "__________________________________________________________________________________________________\n",
            "reshape_2 (Reshape)             (None, 64, 64, 128)  0           conv2_block1_2_reduce[0][0]      \n",
            "__________________________________________________________________________________________________\n",
            "conv2_block1_2_bn (BatchNormali (None, 64, 64, 128)  512         reshape_2[0][0]                  \n",
            "__________________________________________________________________________________________________\n",
            "conv2_block1_2_relu (Activation (None, 64, 64, 128)  0           conv2_block1_2_bn[0][0]          \n",
            "__________________________________________________________________________________________________\n",
            "conv2_block1_0_conv (Conv2D)    (None, 64, 64, 256)  16384       pool1_pool[0][0]                 \n",
            "__________________________________________________________________________________________________\n",
            "conv2_block1_3_conv (Conv2D)    (None, 64, 64, 256)  32768       conv2_block1_2_relu[0][0]        \n",
            "__________________________________________________________________________________________________\n",
            "conv2_block1_0_bn (BatchNormali (None, 64, 64, 256)  1024        conv2_block1_0_conv[0][0]        \n",
            "__________________________________________________________________________________________________\n",
            "conv2_block1_3_bn (BatchNormali (None, 64, 64, 256)  1024        conv2_block1_3_conv[0][0]        \n",
            "__________________________________________________________________________________________________\n",
            "conv2_block1_add (Add)          (None, 64, 64, 256)  0           conv2_block1_0_bn[0][0]          \n",
            "                                                                 conv2_block1_3_bn[0][0]          \n",
            "__________________________________________________________________________________________________\n",
            "conv2_block1_out (Activation)   (None, 64, 64, 256)  0           conv2_block1_add[0][0]           \n",
            "__________________________________________________________________________________________________\n",
            "conv2_block2_1_conv (Conv2D)    (None, 64, 64, 128)  32768       conv2_block1_out[0][0]           \n",
            "__________________________________________________________________________________________________\n",
            "conv2_block2_1_bn (BatchNormali (None, 64, 64, 128)  512         conv2_block2_1_conv[0][0]        \n",
            "__________________________________________________________________________________________________\n",
            "conv2_block2_1_relu (Activation (None, 64, 64, 128)  0           conv2_block2_1_bn[0][0]          \n",
            "__________________________________________________________________________________________________\n",
            "conv2_block2_2_pad (ZeroPadding (None, 66, 66, 128)  0           conv2_block2_1_relu[0][0]        \n",
            "__________________________________________________________________________________________________\n",
            "conv2_block2_2_conv (DepthwiseC (None, 64, 64, 512)  4608        conv2_block2_2_pad[0][0]         \n",
            "__________________________________________________________________________________________________\n",
            "reshape_3 (Reshape)             (None, 64, 64, 32, 4 0           conv2_block2_2_conv[0][0]        \n",
            "__________________________________________________________________________________________________\n",
            "conv2_block2_2_reduce (Lambda)  (None, 64, 64, 32, 4 0           reshape_3[0][0]                  \n",
            "__________________________________________________________________________________________________\n",
            "reshape_4 (Reshape)             (None, 64, 64, 128)  0           conv2_block2_2_reduce[0][0]      \n",
            "__________________________________________________________________________________________________\n",
            "conv2_block2_2_bn (BatchNormali (None, 64, 64, 128)  512         reshape_4[0][0]                  \n",
            "__________________________________________________________________________________________________\n",
            "conv2_block2_2_relu (Activation (None, 64, 64, 128)  0           conv2_block2_2_bn[0][0]          \n",
            "__________________________________________________________________________________________________\n",
            "conv2_block2_3_conv (Conv2D)    (None, 64, 64, 256)  32768       conv2_block2_2_relu[0][0]        \n",
            "__________________________________________________________________________________________________\n",
            "conv2_block2_3_bn (BatchNormali (None, 64, 64, 256)  1024        conv2_block2_3_conv[0][0]        \n",
            "__________________________________________________________________________________________________\n",
            "conv2_block2_add (Add)          (None, 64, 64, 256)  0           conv2_block1_out[0][0]           \n",
            "                                                                 conv2_block2_3_bn[0][0]          \n",
            "__________________________________________________________________________________________________\n",
            "conv2_block2_out (Activation)   (None, 64, 64, 256)  0           conv2_block2_add[0][0]           \n",
            "__________________________________________________________________________________________________\n",
            "conv2_block3_1_conv (Conv2D)    (None, 64, 64, 128)  32768       conv2_block2_out[0][0]           \n",
            "__________________________________________________________________________________________________\n",
            "conv2_block3_1_bn (BatchNormali (None, 64, 64, 128)  512         conv2_block3_1_conv[0][0]        \n",
            "__________________________________________________________________________________________________\n",
            "conv2_block3_1_relu (Activation (None, 64, 64, 128)  0           conv2_block3_1_bn[0][0]          \n",
            "__________________________________________________________________________________________________\n",
            "conv2_block3_2_pad (ZeroPadding (None, 66, 66, 128)  0           conv2_block3_1_relu[0][0]        \n",
            "__________________________________________________________________________________________________\n",
            "conv2_block3_2_conv (DepthwiseC (None, 64, 64, 512)  4608        conv2_block3_2_pad[0][0]         \n",
            "__________________________________________________________________________________________________\n",
            "reshape_5 (Reshape)             (None, 64, 64, 32, 4 0           conv2_block3_2_conv[0][0]        \n",
            "__________________________________________________________________________________________________\n",
            "conv2_block3_2_reduce (Lambda)  (None, 64, 64, 32, 4 0           reshape_5[0][0]                  \n",
            "__________________________________________________________________________________________________\n",
            "reshape_6 (Reshape)             (None, 64, 64, 128)  0           conv2_block3_2_reduce[0][0]      \n",
            "__________________________________________________________________________________________________\n",
            "conv2_block3_2_bn (BatchNormali (None, 64, 64, 128)  512         reshape_6[0][0]                  \n",
            "__________________________________________________________________________________________________\n",
            "conv2_block3_2_relu (Activation (None, 64, 64, 128)  0           conv2_block3_2_bn[0][0]          \n",
            "__________________________________________________________________________________________________\n",
            "conv2_block3_3_conv (Conv2D)    (None, 64, 64, 256)  32768       conv2_block3_2_relu[0][0]        \n",
            "__________________________________________________________________________________________________\n",
            "conv2_block3_3_bn (BatchNormali (None, 64, 64, 256)  1024        conv2_block3_3_conv[0][0]        \n",
            "__________________________________________________________________________________________________\n",
            "conv2_block3_add (Add)          (None, 64, 64, 256)  0           conv2_block2_out[0][0]           \n",
            "                                                                 conv2_block3_3_bn[0][0]          \n",
            "__________________________________________________________________________________________________\n",
            "conv2_block3_out (Activation)   (None, 64, 64, 256)  0           conv2_block3_add[0][0]           \n",
            "__________________________________________________________________________________________________\n",
            "conv3_block1_1_conv (Conv2D)    (None, 64, 64, 256)  65536       conv2_block3_out[0][0]           \n",
            "__________________________________________________________________________________________________\n",
            "conv3_block1_1_bn (BatchNormali (None, 64, 64, 256)  1024        conv3_block1_1_conv[0][0]        \n",
            "__________________________________________________________________________________________________\n",
            "conv3_block1_1_relu (Activation (None, 64, 64, 256)  0           conv3_block1_1_bn[0][0]          \n",
            "__________________________________________________________________________________________________\n",
            "conv3_block1_2_pad (ZeroPadding (None, 66, 66, 256)  0           conv3_block1_1_relu[0][0]        \n",
            "__________________________________________________________________________________________________\n",
            "conv3_block1_2_conv (DepthwiseC (None, 32, 32, 2048) 18432       conv3_block1_2_pad[0][0]         \n",
            "__________________________________________________________________________________________________\n",
            "reshape_7 (Reshape)             (None, 32, 32, 32, 8 0           conv3_block1_2_conv[0][0]        \n",
            "__________________________________________________________________________________________________\n",
            "conv3_block1_2_reduce (Lambda)  (None, 32, 32, 32, 8 0           reshape_7[0][0]                  \n",
            "__________________________________________________________________________________________________\n",
            "reshape_8 (Reshape)             (None, 32, 32, 256)  0           conv3_block1_2_reduce[0][0]      \n",
            "__________________________________________________________________________________________________\n",
            "conv3_block1_2_bn (BatchNormali (None, 32, 32, 256)  1024        reshape_8[0][0]                  \n",
            "__________________________________________________________________________________________________\n",
            "conv3_block1_2_relu (Activation (None, 32, 32, 256)  0           conv3_block1_2_bn[0][0]          \n",
            "__________________________________________________________________________________________________\n",
            "conv3_block1_0_conv (Conv2D)    (None, 32, 32, 512)  131072      conv2_block3_out[0][0]           \n",
            "__________________________________________________________________________________________________\n",
            "conv3_block1_3_conv (Conv2D)    (None, 32, 32, 512)  131072      conv3_block1_2_relu[0][0]        \n",
            "__________________________________________________________________________________________________\n",
            "conv3_block1_0_bn (BatchNormali (None, 32, 32, 512)  2048        conv3_block1_0_conv[0][0]        \n",
            "__________________________________________________________________________________________________\n",
            "conv3_block1_3_bn (BatchNormali (None, 32, 32, 512)  2048        conv3_block1_3_conv[0][0]        \n",
            "__________________________________________________________________________________________________\n",
            "conv3_block1_add (Add)          (None, 32, 32, 512)  0           conv3_block1_0_bn[0][0]          \n",
            "                                                                 conv3_block1_3_bn[0][0]          \n",
            "__________________________________________________________________________________________________\n",
            "conv3_block1_out (Activation)   (None, 32, 32, 512)  0           conv3_block1_add[0][0]           \n",
            "__________________________________________________________________________________________________\n",
            "conv3_block2_1_conv (Conv2D)    (None, 32, 32, 256)  131072      conv3_block1_out[0][0]           \n",
            "__________________________________________________________________________________________________\n",
            "conv3_block2_1_bn (BatchNormali (None, 32, 32, 256)  1024        conv3_block2_1_conv[0][0]        \n",
            "__________________________________________________________________________________________________\n",
            "conv3_block2_1_relu (Activation (None, 32, 32, 256)  0           conv3_block2_1_bn[0][0]          \n",
            "__________________________________________________________________________________________________\n",
            "conv3_block2_2_pad (ZeroPadding (None, 34, 34, 256)  0           conv3_block2_1_relu[0][0]        \n",
            "__________________________________________________________________________________________________\n",
            "conv3_block2_2_conv (DepthwiseC (None, 32, 32, 2048) 18432       conv3_block2_2_pad[0][0]         \n",
            "__________________________________________________________________________________________________\n",
            "reshape_9 (Reshape)             (None, 32, 32, 32, 8 0           conv3_block2_2_conv[0][0]        \n",
            "__________________________________________________________________________________________________\n",
            "conv3_block2_2_reduce (Lambda)  (None, 32, 32, 32, 8 0           reshape_9[0][0]                  \n",
            "__________________________________________________________________________________________________\n",
            "reshape_10 (Reshape)            (None, 32, 32, 256)  0           conv3_block2_2_reduce[0][0]      \n",
            "__________________________________________________________________________________________________\n",
            "conv3_block2_2_bn (BatchNormali (None, 32, 32, 256)  1024        reshape_10[0][0]                 \n",
            "__________________________________________________________________________________________________\n",
            "conv3_block2_2_relu (Activation (None, 32, 32, 256)  0           conv3_block2_2_bn[0][0]          \n",
            "__________________________________________________________________________________________________\n",
            "conv3_block2_3_conv (Conv2D)    (None, 32, 32, 512)  131072      conv3_block2_2_relu[0][0]        \n",
            "__________________________________________________________________________________________________\n",
            "conv3_block2_3_bn (BatchNormali (None, 32, 32, 512)  2048        conv3_block2_3_conv[0][0]        \n",
            "__________________________________________________________________________________________________\n",
            "conv3_block2_add (Add)          (None, 32, 32, 512)  0           conv3_block1_out[0][0]           \n",
            "                                                                 conv3_block2_3_bn[0][0]          \n",
            "__________________________________________________________________________________________________\n",
            "conv3_block2_out (Activation)   (None, 32, 32, 512)  0           conv3_block2_add[0][0]           \n",
            "__________________________________________________________________________________________________\n",
            "conv3_block3_1_conv (Conv2D)    (None, 32, 32, 256)  131072      conv3_block2_out[0][0]           \n",
            "__________________________________________________________________________________________________\n",
            "conv3_block3_1_bn (BatchNormali (None, 32, 32, 256)  1024        conv3_block3_1_conv[0][0]        \n",
            "__________________________________________________________________________________________________\n",
            "conv3_block3_1_relu (Activation (None, 32, 32, 256)  0           conv3_block3_1_bn[0][0]          \n",
            "__________________________________________________________________________________________________\n",
            "conv3_block3_2_pad (ZeroPadding (None, 34, 34, 256)  0           conv3_block3_1_relu[0][0]        \n",
            "__________________________________________________________________________________________________\n",
            "conv3_block3_2_conv (DepthwiseC (None, 32, 32, 2048) 18432       conv3_block3_2_pad[0][0]         \n",
            "__________________________________________________________________________________________________\n",
            "reshape_11 (Reshape)            (None, 32, 32, 32, 8 0           conv3_block3_2_conv[0][0]        \n",
            "__________________________________________________________________________________________________\n",
            "conv3_block3_2_reduce (Lambda)  (None, 32, 32, 32, 8 0           reshape_11[0][0]                 \n",
            "__________________________________________________________________________________________________\n",
            "reshape_12 (Reshape)            (None, 32, 32, 256)  0           conv3_block3_2_reduce[0][0]      \n",
            "__________________________________________________________________________________________________\n",
            "conv3_block3_2_bn (BatchNormali (None, 32, 32, 256)  1024        reshape_12[0][0]                 \n",
            "__________________________________________________________________________________________________\n",
            "conv3_block3_2_relu (Activation (None, 32, 32, 256)  0           conv3_block3_2_bn[0][0]          \n",
            "__________________________________________________________________________________________________\n",
            "conv3_block3_3_conv (Conv2D)    (None, 32, 32, 512)  131072      conv3_block3_2_relu[0][0]        \n",
            "__________________________________________________________________________________________________\n",
            "conv3_block3_3_bn (BatchNormali (None, 32, 32, 512)  2048        conv3_block3_3_conv[0][0]        \n",
            "__________________________________________________________________________________________________\n",
            "conv3_block3_add (Add)          (None, 32, 32, 512)  0           conv3_block2_out[0][0]           \n",
            "                                                                 conv3_block3_3_bn[0][0]          \n",
            "__________________________________________________________________________________________________\n",
            "conv3_block3_out (Activation)   (None, 32, 32, 512)  0           conv3_block3_add[0][0]           \n",
            "__________________________________________________________________________________________________\n",
            "conv3_block4_1_conv (Conv2D)    (None, 32, 32, 256)  131072      conv3_block3_out[0][0]           \n",
            "__________________________________________________________________________________________________\n",
            "conv3_block4_1_bn (BatchNormali (None, 32, 32, 256)  1024        conv3_block4_1_conv[0][0]        \n",
            "__________________________________________________________________________________________________\n",
            "conv3_block4_1_relu (Activation (None, 32, 32, 256)  0           conv3_block4_1_bn[0][0]          \n",
            "__________________________________________________________________________________________________\n",
            "conv3_block4_2_pad (ZeroPadding (None, 34, 34, 256)  0           conv3_block4_1_relu[0][0]        \n",
            "__________________________________________________________________________________________________\n",
            "conv3_block4_2_conv (DepthwiseC (None, 32, 32, 2048) 18432       conv3_block4_2_pad[0][0]         \n",
            "__________________________________________________________________________________________________\n",
            "reshape_13 (Reshape)            (None, 32, 32, 32, 8 0           conv3_block4_2_conv[0][0]        \n",
            "__________________________________________________________________________________________________\n",
            "conv3_block4_2_reduce (Lambda)  (None, 32, 32, 32, 8 0           reshape_13[0][0]                 \n",
            "__________________________________________________________________________________________________\n",
            "reshape_14 (Reshape)            (None, 32, 32, 256)  0           conv3_block4_2_reduce[0][0]      \n",
            "__________________________________________________________________________________________________\n",
            "conv3_block4_2_bn (BatchNormali (None, 32, 32, 256)  1024        reshape_14[0][0]                 \n",
            "__________________________________________________________________________________________________\n",
            "conv3_block4_2_relu (Activation (None, 32, 32, 256)  0           conv3_block4_2_bn[0][0]          \n",
            "__________________________________________________________________________________________________\n",
            "conv3_block4_3_conv (Conv2D)    (None, 32, 32, 512)  131072      conv3_block4_2_relu[0][0]        \n",
            "__________________________________________________________________________________________________\n",
            "conv3_block4_3_bn (BatchNormali (None, 32, 32, 512)  2048        conv3_block4_3_conv[0][0]        \n",
            "__________________________________________________________________________________________________\n",
            "conv3_block4_add (Add)          (None, 32, 32, 512)  0           conv3_block3_out[0][0]           \n",
            "                                                                 conv3_block4_3_bn[0][0]          \n",
            "__________________________________________________________________________________________________\n",
            "conv3_block4_out (Activation)   (None, 32, 32, 512)  0           conv3_block4_add[0][0]           \n",
            "__________________________________________________________________________________________________\n",
            "conv4_block1_1_conv (Conv2D)    (None, 32, 32, 512)  262144      conv3_block4_out[0][0]           \n",
            "__________________________________________________________________________________________________\n",
            "conv4_block1_1_bn (BatchNormali (None, 32, 32, 512)  2048        conv4_block1_1_conv[0][0]        \n",
            "__________________________________________________________________________________________________\n",
            "conv4_block1_1_relu (Activation (None, 32, 32, 512)  0           conv4_block1_1_bn[0][0]          \n",
            "__________________________________________________________________________________________________\n",
            "conv4_block1_2_pad (ZeroPadding (None, 34, 34, 512)  0           conv4_block1_1_relu[0][0]        \n",
            "__________________________________________________________________________________________________\n",
            "conv4_block1_2_conv (DepthwiseC (None, 16, 16, 8192) 73728       conv4_block1_2_pad[0][0]         \n",
            "__________________________________________________________________________________________________\n",
            "reshape_15 (Reshape)            (None, 16, 16, 32, 1 0           conv4_block1_2_conv[0][0]        \n",
            "__________________________________________________________________________________________________\n",
            "conv4_block1_2_reduce (Lambda)  (None, 16, 16, 32, 1 0           reshape_15[0][0]                 \n",
            "__________________________________________________________________________________________________\n",
            "reshape_16 (Reshape)            (None, 16, 16, 512)  0           conv4_block1_2_reduce[0][0]      \n",
            "__________________________________________________________________________________________________\n",
            "conv4_block1_2_bn (BatchNormali (None, 16, 16, 512)  2048        reshape_16[0][0]                 \n",
            "__________________________________________________________________________________________________\n",
            "conv4_block1_2_relu (Activation (None, 16, 16, 512)  0           conv4_block1_2_bn[0][0]          \n",
            "__________________________________________________________________________________________________\n",
            "conv4_block1_0_conv (Conv2D)    (None, 16, 16, 1024) 524288      conv3_block4_out[0][0]           \n",
            "__________________________________________________________________________________________________\n",
            "conv4_block1_3_conv (Conv2D)    (None, 16, 16, 1024) 524288      conv4_block1_2_relu[0][0]        \n",
            "__________________________________________________________________________________________________\n",
            "conv4_block1_0_bn (BatchNormali (None, 16, 16, 1024) 4096        conv4_block1_0_conv[0][0]        \n",
            "__________________________________________________________________________________________________\n",
            "conv4_block1_3_bn (BatchNormali (None, 16, 16, 1024) 4096        conv4_block1_3_conv[0][0]        \n",
            "__________________________________________________________________________________________________\n",
            "conv4_block1_add (Add)          (None, 16, 16, 1024) 0           conv4_block1_0_bn[0][0]          \n",
            "                                                                 conv4_block1_3_bn[0][0]          \n",
            "__________________________________________________________________________________________________\n",
            "conv4_block1_out (Activation)   (None, 16, 16, 1024) 0           conv4_block1_add[0][0]           \n",
            "__________________________________________________________________________________________________\n",
            "conv4_block2_1_conv (Conv2D)    (None, 16, 16, 512)  524288      conv4_block1_out[0][0]           \n",
            "__________________________________________________________________________________________________\n",
            "conv4_block2_1_bn (BatchNormali (None, 16, 16, 512)  2048        conv4_block2_1_conv[0][0]        \n",
            "__________________________________________________________________________________________________\n",
            "conv4_block2_1_relu (Activation (None, 16, 16, 512)  0           conv4_block2_1_bn[0][0]          \n",
            "__________________________________________________________________________________________________\n",
            "conv4_block2_2_pad (ZeroPadding (None, 18, 18, 512)  0           conv4_block2_1_relu[0][0]        \n",
            "__________________________________________________________________________________________________\n",
            "conv4_block2_2_conv (DepthwiseC (None, 16, 16, 8192) 73728       conv4_block2_2_pad[0][0]         \n",
            "__________________________________________________________________________________________________\n",
            "reshape_17 (Reshape)            (None, 16, 16, 32, 1 0           conv4_block2_2_conv[0][0]        \n",
            "__________________________________________________________________________________________________\n",
            "conv4_block2_2_reduce (Lambda)  (None, 16, 16, 32, 1 0           reshape_17[0][0]                 \n",
            "__________________________________________________________________________________________________\n",
            "reshape_18 (Reshape)            (None, 16, 16, 512)  0           conv4_block2_2_reduce[0][0]      \n",
            "__________________________________________________________________________________________________\n",
            "conv4_block2_2_bn (BatchNormali (None, 16, 16, 512)  2048        reshape_18[0][0]                 \n",
            "__________________________________________________________________________________________________\n",
            "conv4_block2_2_relu (Activation (None, 16, 16, 512)  0           conv4_block2_2_bn[0][0]          \n",
            "__________________________________________________________________________________________________\n",
            "conv4_block2_3_conv (Conv2D)    (None, 16, 16, 1024) 524288      conv4_block2_2_relu[0][0]        \n",
            "__________________________________________________________________________________________________\n",
            "conv4_block2_3_bn (BatchNormali (None, 16, 16, 1024) 4096        conv4_block2_3_conv[0][0]        \n",
            "__________________________________________________________________________________________________\n",
            "conv4_block2_add (Add)          (None, 16, 16, 1024) 0           conv4_block1_out[0][0]           \n",
            "                                                                 conv4_block2_3_bn[0][0]          \n",
            "__________________________________________________________________________________________________\n",
            "conv4_block2_out (Activation)   (None, 16, 16, 1024) 0           conv4_block2_add[0][0]           \n",
            "__________________________________________________________________________________________________\n",
            "conv4_block3_1_conv (Conv2D)    (None, 16, 16, 512)  524288      conv4_block2_out[0][0]           \n",
            "__________________________________________________________________________________________________\n",
            "conv4_block3_1_bn (BatchNormali (None, 16, 16, 512)  2048        conv4_block3_1_conv[0][0]        \n",
            "__________________________________________________________________________________________________\n",
            "conv4_block3_1_relu (Activation (None, 16, 16, 512)  0           conv4_block3_1_bn[0][0]          \n",
            "__________________________________________________________________________________________________\n",
            "conv4_block3_2_pad (ZeroPadding (None, 18, 18, 512)  0           conv4_block3_1_relu[0][0]        \n",
            "__________________________________________________________________________________________________\n",
            "conv4_block3_2_conv (DepthwiseC (None, 16, 16, 8192) 73728       conv4_block3_2_pad[0][0]         \n",
            "__________________________________________________________________________________________________\n",
            "reshape_19 (Reshape)            (None, 16, 16, 32, 1 0           conv4_block3_2_conv[0][0]        \n",
            "__________________________________________________________________________________________________\n",
            "conv4_block3_2_reduce (Lambda)  (None, 16, 16, 32, 1 0           reshape_19[0][0]                 \n",
            "__________________________________________________________________________________________________\n",
            "reshape_20 (Reshape)            (None, 16, 16, 512)  0           conv4_block3_2_reduce[0][0]      \n",
            "__________________________________________________________________________________________________\n",
            "conv4_block3_2_bn (BatchNormali (None, 16, 16, 512)  2048        reshape_20[0][0]                 \n",
            "__________________________________________________________________________________________________\n",
            "conv4_block3_2_relu (Activation (None, 16, 16, 512)  0           conv4_block3_2_bn[0][0]          \n",
            "__________________________________________________________________________________________________\n",
            "conv4_block3_3_conv (Conv2D)    (None, 16, 16, 1024) 524288      conv4_block3_2_relu[0][0]        \n",
            "__________________________________________________________________________________________________\n",
            "conv4_block3_3_bn (BatchNormali (None, 16, 16, 1024) 4096        conv4_block3_3_conv[0][0]        \n",
            "__________________________________________________________________________________________________\n",
            "conv4_block3_add (Add)          (None, 16, 16, 1024) 0           conv4_block2_out[0][0]           \n",
            "                                                                 conv4_block3_3_bn[0][0]          \n",
            "__________________________________________________________________________________________________\n",
            "conv4_block3_out (Activation)   (None, 16, 16, 1024) 0           conv4_block3_add[0][0]           \n",
            "__________________________________________________________________________________________________\n",
            "conv4_block4_1_conv (Conv2D)    (None, 16, 16, 512)  524288      conv4_block3_out[0][0]           \n",
            "__________________________________________________________________________________________________\n",
            "conv4_block4_1_bn (BatchNormali (None, 16, 16, 512)  2048        conv4_block4_1_conv[0][0]        \n",
            "__________________________________________________________________________________________________\n",
            "conv4_block4_1_relu (Activation (None, 16, 16, 512)  0           conv4_block4_1_bn[0][0]          \n",
            "__________________________________________________________________________________________________\n",
            "conv4_block4_2_pad (ZeroPadding (None, 18, 18, 512)  0           conv4_block4_1_relu[0][0]        \n",
            "__________________________________________________________________________________________________\n",
            "conv4_block4_2_conv (DepthwiseC (None, 16, 16, 8192) 73728       conv4_block4_2_pad[0][0]         \n",
            "__________________________________________________________________________________________________\n",
            "reshape_21 (Reshape)            (None, 16, 16, 32, 1 0           conv4_block4_2_conv[0][0]        \n",
            "__________________________________________________________________________________________________\n",
            "conv4_block4_2_reduce (Lambda)  (None, 16, 16, 32, 1 0           reshape_21[0][0]                 \n",
            "__________________________________________________________________________________________________\n",
            "reshape_22 (Reshape)            (None, 16, 16, 512)  0           conv4_block4_2_reduce[0][0]      \n",
            "__________________________________________________________________________________________________\n",
            "conv4_block4_2_bn (BatchNormali (None, 16, 16, 512)  2048        reshape_22[0][0]                 \n",
            "__________________________________________________________________________________________________\n",
            "conv4_block4_2_relu (Activation (None, 16, 16, 512)  0           conv4_block4_2_bn[0][0]          \n",
            "__________________________________________________________________________________________________\n",
            "conv4_block4_3_conv (Conv2D)    (None, 16, 16, 1024) 524288      conv4_block4_2_relu[0][0]        \n",
            "__________________________________________________________________________________________________\n",
            "conv4_block4_3_bn (BatchNormali (None, 16, 16, 1024) 4096        conv4_block4_3_conv[0][0]        \n",
            "__________________________________________________________________________________________________\n",
            "conv4_block4_add (Add)          (None, 16, 16, 1024) 0           conv4_block3_out[0][0]           \n",
            "                                                                 conv4_block4_3_bn[0][0]          \n",
            "__________________________________________________________________________________________________\n",
            "conv4_block4_out (Activation)   (None, 16, 16, 1024) 0           conv4_block4_add[0][0]           \n",
            "__________________________________________________________________________________________________\n",
            "conv4_block5_1_conv (Conv2D)    (None, 16, 16, 512)  524288      conv4_block4_out[0][0]           \n",
            "__________________________________________________________________________________________________\n",
            "conv4_block5_1_bn (BatchNormali (None, 16, 16, 512)  2048        conv4_block5_1_conv[0][0]        \n",
            "__________________________________________________________________________________________________\n",
            "conv4_block5_1_relu (Activation (None, 16, 16, 512)  0           conv4_block5_1_bn[0][0]          \n",
            "__________________________________________________________________________________________________\n",
            "conv4_block5_2_pad (ZeroPadding (None, 18, 18, 512)  0           conv4_block5_1_relu[0][0]        \n",
            "__________________________________________________________________________________________________\n",
            "conv4_block5_2_conv (DepthwiseC (None, 16, 16, 8192) 73728       conv4_block5_2_pad[0][0]         \n",
            "__________________________________________________________________________________________________\n",
            "reshape_23 (Reshape)            (None, 16, 16, 32, 1 0           conv4_block5_2_conv[0][0]        \n",
            "__________________________________________________________________________________________________\n",
            "conv4_block5_2_reduce (Lambda)  (None, 16, 16, 32, 1 0           reshape_23[0][0]                 \n",
            "__________________________________________________________________________________________________\n",
            "reshape_24 (Reshape)            (None, 16, 16, 512)  0           conv4_block5_2_reduce[0][0]      \n",
            "__________________________________________________________________________________________________\n",
            "conv4_block5_2_bn (BatchNormali (None, 16, 16, 512)  2048        reshape_24[0][0]                 \n",
            "__________________________________________________________________________________________________\n",
            "conv4_block5_2_relu (Activation (None, 16, 16, 512)  0           conv4_block5_2_bn[0][0]          \n",
            "__________________________________________________________________________________________________\n",
            "conv4_block5_3_conv (Conv2D)    (None, 16, 16, 1024) 524288      conv4_block5_2_relu[0][0]        \n",
            "__________________________________________________________________________________________________\n",
            "conv4_block5_3_bn (BatchNormali (None, 16, 16, 1024) 4096        conv4_block5_3_conv[0][0]        \n",
            "__________________________________________________________________________________________________\n",
            "conv4_block5_add (Add)          (None, 16, 16, 1024) 0           conv4_block4_out[0][0]           \n",
            "                                                                 conv4_block5_3_bn[0][0]          \n",
            "__________________________________________________________________________________________________\n",
            "conv4_block5_out (Activation)   (None, 16, 16, 1024) 0           conv4_block5_add[0][0]           \n",
            "__________________________________________________________________________________________________\n",
            "conv4_block6_1_conv (Conv2D)    (None, 16, 16, 512)  524288      conv4_block5_out[0][0]           \n",
            "__________________________________________________________________________________________________\n",
            "conv4_block6_1_bn (BatchNormali (None, 16, 16, 512)  2048        conv4_block6_1_conv[0][0]        \n",
            "__________________________________________________________________________________________________\n",
            "conv4_block6_1_relu (Activation (None, 16, 16, 512)  0           conv4_block6_1_bn[0][0]          \n",
            "__________________________________________________________________________________________________\n",
            "conv4_block6_2_pad (ZeroPadding (None, 18, 18, 512)  0           conv4_block6_1_relu[0][0]        \n",
            "__________________________________________________________________________________________________\n",
            "conv4_block6_2_conv (DepthwiseC (None, 16, 16, 8192) 73728       conv4_block6_2_pad[0][0]         \n",
            "__________________________________________________________________________________________________\n",
            "reshape_25 (Reshape)            (None, 16, 16, 32, 1 0           conv4_block6_2_conv[0][0]        \n",
            "__________________________________________________________________________________________________\n",
            "conv4_block6_2_reduce (Lambda)  (None, 16, 16, 32, 1 0           reshape_25[0][0]                 \n",
            "__________________________________________________________________________________________________\n",
            "reshape_26 (Reshape)            (None, 16, 16, 512)  0           conv4_block6_2_reduce[0][0]      \n",
            "__________________________________________________________________________________________________\n",
            "conv4_block6_2_bn (BatchNormali (None, 16, 16, 512)  2048        reshape_26[0][0]                 \n",
            "__________________________________________________________________________________________________\n",
            "conv4_block6_2_relu (Activation (None, 16, 16, 512)  0           conv4_block6_2_bn[0][0]          \n",
            "__________________________________________________________________________________________________\n",
            "conv4_block6_3_conv (Conv2D)    (None, 16, 16, 1024) 524288      conv4_block6_2_relu[0][0]        \n",
            "__________________________________________________________________________________________________\n",
            "conv4_block6_3_bn (BatchNormali (None, 16, 16, 1024) 4096        conv4_block6_3_conv[0][0]        \n",
            "__________________________________________________________________________________________________\n",
            "conv4_block6_add (Add)          (None, 16, 16, 1024) 0           conv4_block5_out[0][0]           \n",
            "                                                                 conv4_block6_3_bn[0][0]          \n",
            "__________________________________________________________________________________________________\n",
            "conv4_block6_out (Activation)   (None, 16, 16, 1024) 0           conv4_block6_add[0][0]           \n",
            "__________________________________________________________________________________________________\n",
            "conv5_block1_1_conv (Conv2D)    (None, 16, 16, 1024) 1048576     conv4_block6_out[0][0]           \n",
            "__________________________________________________________________________________________________\n",
            "conv5_block1_1_bn (BatchNormali (None, 16, 16, 1024) 4096        conv5_block1_1_conv[0][0]        \n",
            "__________________________________________________________________________________________________\n",
            "conv5_block1_1_relu (Activation (None, 16, 16, 1024) 0           conv5_block1_1_bn[0][0]          \n",
            "__________________________________________________________________________________________________\n",
            "conv5_block1_2_pad (ZeroPadding (None, 18, 18, 1024) 0           conv5_block1_1_relu[0][0]        \n",
            "__________________________________________________________________________________________________\n",
            "conv5_block1_2_conv (DepthwiseC (None, 8, 8, 32768)  294912      conv5_block1_2_pad[0][0]         \n",
            "__________________________________________________________________________________________________\n",
            "reshape_27 (Reshape)            (None, 8, 8, 32, 32, 0           conv5_block1_2_conv[0][0]        \n",
            "__________________________________________________________________________________________________\n",
            "conv5_block1_2_reduce (Lambda)  (None, 8, 8, 32, 32) 0           reshape_27[0][0]                 \n",
            "__________________________________________________________________________________________________\n",
            "reshape_28 (Reshape)            (None, 8, 8, 1024)   0           conv5_block1_2_reduce[0][0]      \n",
            "__________________________________________________________________________________________________\n",
            "conv5_block1_2_bn (BatchNormali (None, 8, 8, 1024)   4096        reshape_28[0][0]                 \n",
            "__________________________________________________________________________________________________\n",
            "conv5_block1_2_relu (Activation (None, 8, 8, 1024)   0           conv5_block1_2_bn[0][0]          \n",
            "__________________________________________________________________________________________________\n",
            "conv5_block1_0_conv (Conv2D)    (None, 8, 8, 2048)   2097152     conv4_block6_out[0][0]           \n",
            "__________________________________________________________________________________________________\n",
            "conv5_block1_3_conv (Conv2D)    (None, 8, 8, 2048)   2097152     conv5_block1_2_relu[0][0]        \n",
            "__________________________________________________________________________________________________\n",
            "conv5_block1_0_bn (BatchNormali (None, 8, 8, 2048)   8192        conv5_block1_0_conv[0][0]        \n",
            "__________________________________________________________________________________________________\n",
            "conv5_block1_3_bn (BatchNormali (None, 8, 8, 2048)   8192        conv5_block1_3_conv[0][0]        \n",
            "__________________________________________________________________________________________________\n",
            "conv5_block1_add (Add)          (None, 8, 8, 2048)   0           conv5_block1_0_bn[0][0]          \n",
            "                                                                 conv5_block1_3_bn[0][0]          \n",
            "__________________________________________________________________________________________________\n",
            "conv5_block1_out (Activation)   (None, 8, 8, 2048)   0           conv5_block1_add[0][0]           \n",
            "__________________________________________________________________________________________________\n",
            "conv5_block2_1_conv (Conv2D)    (None, 8, 8, 1024)   2097152     conv5_block1_out[0][0]           \n",
            "__________________________________________________________________________________________________\n",
            "conv5_block2_1_bn (BatchNormali (None, 8, 8, 1024)   4096        conv5_block2_1_conv[0][0]        \n",
            "__________________________________________________________________________________________________\n",
            "conv5_block2_1_relu (Activation (None, 8, 8, 1024)   0           conv5_block2_1_bn[0][0]          \n",
            "__________________________________________________________________________________________________\n",
            "conv5_block2_2_pad (ZeroPadding (None, 10, 10, 1024) 0           conv5_block2_1_relu[0][0]        \n",
            "__________________________________________________________________________________________________\n",
            "conv5_block2_2_conv (DepthwiseC (None, 8, 8, 32768)  294912      conv5_block2_2_pad[0][0]         \n",
            "__________________________________________________________________________________________________\n",
            "reshape_29 (Reshape)            (None, 8, 8, 32, 32, 0           conv5_block2_2_conv[0][0]        \n",
            "__________________________________________________________________________________________________\n",
            "conv5_block2_2_reduce (Lambda)  (None, 8, 8, 32, 32) 0           reshape_29[0][0]                 \n",
            "__________________________________________________________________________________________________\n",
            "reshape_30 (Reshape)            (None, 8, 8, 1024)   0           conv5_block2_2_reduce[0][0]      \n",
            "__________________________________________________________________________________________________\n",
            "conv5_block2_2_bn (BatchNormali (None, 8, 8, 1024)   4096        reshape_30[0][0]                 \n",
            "__________________________________________________________________________________________________\n",
            "conv5_block2_2_relu (Activation (None, 8, 8, 1024)   0           conv5_block2_2_bn[0][0]          \n",
            "__________________________________________________________________________________________________\n",
            "conv5_block2_3_conv (Conv2D)    (None, 8, 8, 2048)   2097152     conv5_block2_2_relu[0][0]        \n",
            "__________________________________________________________________________________________________\n",
            "conv5_block2_3_bn (BatchNormali (None, 8, 8, 2048)   8192        conv5_block2_3_conv[0][0]        \n",
            "__________________________________________________________________________________________________\n",
            "conv5_block2_add (Add)          (None, 8, 8, 2048)   0           conv5_block1_out[0][0]           \n",
            "                                                                 conv5_block2_3_bn[0][0]          \n",
            "__________________________________________________________________________________________________\n",
            "conv5_block2_out (Activation)   (None, 8, 8, 2048)   0           conv5_block2_add[0][0]           \n",
            "__________________________________________________________________________________________________\n",
            "conv5_block3_1_conv (Conv2D)    (None, 8, 8, 1024)   2097152     conv5_block2_out[0][0]           \n",
            "__________________________________________________________________________________________________\n",
            "conv5_block3_1_bn (BatchNormali (None, 8, 8, 1024)   4096        conv5_block3_1_conv[0][0]        \n",
            "__________________________________________________________________________________________________\n",
            "conv5_block3_1_relu (Activation (None, 8, 8, 1024)   0           conv5_block3_1_bn[0][0]          \n",
            "__________________________________________________________________________________________________\n",
            "conv5_block3_2_pad (ZeroPadding (None, 10, 10, 1024) 0           conv5_block3_1_relu[0][0]        \n",
            "__________________________________________________________________________________________________\n",
            "conv5_block3_2_conv (DepthwiseC (None, 8, 8, 32768)  294912      conv5_block3_2_pad[0][0]         \n",
            "__________________________________________________________________________________________________\n",
            "reshape_31 (Reshape)            (None, 8, 8, 32, 32, 0           conv5_block3_2_conv[0][0]        \n",
            "__________________________________________________________________________________________________\n",
            "conv5_block3_2_reduce (Lambda)  (None, 8, 8, 32, 32) 0           reshape_31[0][0]                 \n",
            "__________________________________________________________________________________________________\n",
            "reshape_32 (Reshape)            (None, 8, 8, 1024)   0           conv5_block3_2_reduce[0][0]      \n",
            "__________________________________________________________________________________________________\n",
            "conv5_block3_2_bn (BatchNormali (None, 8, 8, 1024)   4096        reshape_32[0][0]                 \n",
            "__________________________________________________________________________________________________\n",
            "conv5_block3_2_relu (Activation (None, 8, 8, 1024)   0           conv5_block3_2_bn[0][0]          \n",
            "__________________________________________________________________________________________________\n",
            "conv5_block3_3_conv (Conv2D)    (None, 8, 8, 2048)   2097152     conv5_block3_2_relu[0][0]        \n",
            "__________________________________________________________________________________________________\n",
            "conv5_block3_3_bn (BatchNormali (None, 8, 8, 2048)   8192        conv5_block3_3_conv[0][0]        \n",
            "__________________________________________________________________________________________________\n",
            "conv5_block3_add (Add)          (None, 8, 8, 2048)   0           conv5_block2_out[0][0]           \n",
            "                                                                 conv5_block3_3_bn[0][0]          \n",
            "__________________________________________________________________________________________________\n",
            "conv5_block3_out (Activation)   (None, 8, 8, 2048)   0           conv5_block3_add[0][0]           \n",
            "==================================================================================================\n",
            "Total params: 23,048,128\n",
            "Trainable params: 22,979,904\n",
            "Non-trainable params: 68,224\n",
            "__________________________________________________________________________________________________\n"
          ],
          "name": "stdout"
        }
      ]
    },
    {
      "cell_type": "code",
      "metadata": {
        "id": "mbPXIkgZ6hwK",
        "colab_type": "code",
        "outputId": "6e3708a3-e46f-4674-f079-8dff473d45e8",
        "colab": {
          "base_uri": "https://localhost:8080/",
          "height": 89
        }
      },
      "source": [
        "res_avg = GlobalAveragePooling2D()(resnext.output)\n",
        "res_fc_1 = Dense(256, activation='relu')(res_avg)\n",
        "res_fc_2 = Dense(128, activation='relu')(res_fc_1)\n",
        "res_d = Dropout(0.25)(res_fc_2)\n",
        "res_fc_3 = Dense(102, activation='softmax')(res_d)"
      ],
      "execution_count": 32,
      "outputs": [
        {
          "output_type": "stream",
          "text": [
            "W0821 10:38:03.396678 139885793322880 deprecation.py:506] From /usr/local/lib/python3.6/dist-packages/keras/backend/tensorflow_backend.py:3445: calling dropout (from tensorflow.python.ops.nn_ops) with keep_prob is deprecated and will be removed in a future version.\n",
            "Instructions for updating:\n",
            "Please use `rate` instead of `keep_prob`. Rate should be set to `rate = 1 - keep_prob`.\n"
          ],
          "name": "stderr"
        }
      ]
    },
    {
      "cell_type": "code",
      "metadata": {
        "id": "MCSQur-j6yOX",
        "colab_type": "code",
        "colab": {}
      },
      "source": [
        "resnext = Model(resnext.input, outputs  = res_fc_3)"
      ],
      "execution_count": 0,
      "outputs": []
    },
    {
      "cell_type": "code",
      "metadata": {
        "id": "drhL6Znt7Jg8",
        "colab_type": "code",
        "outputId": "ef7dde34-ecbe-426b-ccb1-b8520e0ce4d9",
        "colab": {
          "base_uri": "https://localhost:8080/",
          "height": 1000
        }
      },
      "source": [
        "resnext.summary()"
      ],
      "execution_count": 34,
      "outputs": [
        {
          "output_type": "stream",
          "text": [
            "__________________________________________________________________________________________________\n",
            "Layer (type)                    Output Shape         Param #     Connected to                     \n",
            "==================================================================================================\n",
            "input_1 (InputLayer)            (None, 256, 256, 3)  0                                            \n",
            "__________________________________________________________________________________________________\n",
            "conv1_pad (ZeroPadding2D)       (None, 262, 262, 3)  0           input_1[0][0]                    \n",
            "__________________________________________________________________________________________________\n",
            "conv1_conv (Conv2D)             (None, 128, 128, 64) 9408        conv1_pad[0][0]                  \n",
            "__________________________________________________________________________________________________\n",
            "conv1_bn (BatchNormalization)   (None, 128, 128, 64) 256         conv1_conv[0][0]                 \n",
            "__________________________________________________________________________________________________\n",
            "conv1_relu (Activation)         (None, 128, 128, 64) 0           conv1_bn[0][0]                   \n",
            "__________________________________________________________________________________________________\n",
            "pool1_pad (ZeroPadding2D)       (None, 130, 130, 64) 0           conv1_relu[0][0]                 \n",
            "__________________________________________________________________________________________________\n",
            "pool1_pool (MaxPooling2D)       (None, 64, 64, 64)   0           pool1_pad[0][0]                  \n",
            "__________________________________________________________________________________________________\n",
            "conv2_block1_1_conv (Conv2D)    (None, 64, 64, 128)  8192        pool1_pool[0][0]                 \n",
            "__________________________________________________________________________________________________\n",
            "conv2_block1_1_bn (BatchNormali (None, 64, 64, 128)  512         conv2_block1_1_conv[0][0]        \n",
            "__________________________________________________________________________________________________\n",
            "conv2_block1_1_relu (Activation (None, 64, 64, 128)  0           conv2_block1_1_bn[0][0]          \n",
            "__________________________________________________________________________________________________\n",
            "conv2_block1_2_pad (ZeroPadding (None, 66, 66, 128)  0           conv2_block1_1_relu[0][0]        \n",
            "__________________________________________________________________________________________________\n",
            "conv2_block1_2_conv (DepthwiseC (None, 64, 64, 512)  4608        conv2_block1_2_pad[0][0]         \n",
            "__________________________________________________________________________________________________\n",
            "reshape_1 (Reshape)             (None, 64, 64, 32, 4 0           conv2_block1_2_conv[0][0]        \n",
            "__________________________________________________________________________________________________\n",
            "conv2_block1_2_reduce (Lambda)  (None, 64, 64, 32, 4 0           reshape_1[0][0]                  \n",
            "__________________________________________________________________________________________________\n",
            "reshape_2 (Reshape)             (None, 64, 64, 128)  0           conv2_block1_2_reduce[0][0]      \n",
            "__________________________________________________________________________________________________\n",
            "conv2_block1_2_bn (BatchNormali (None, 64, 64, 128)  512         reshape_2[0][0]                  \n",
            "__________________________________________________________________________________________________\n",
            "conv2_block1_2_relu (Activation (None, 64, 64, 128)  0           conv2_block1_2_bn[0][0]          \n",
            "__________________________________________________________________________________________________\n",
            "conv2_block1_0_conv (Conv2D)    (None, 64, 64, 256)  16384       pool1_pool[0][0]                 \n",
            "__________________________________________________________________________________________________\n",
            "conv2_block1_3_conv (Conv2D)    (None, 64, 64, 256)  32768       conv2_block1_2_relu[0][0]        \n",
            "__________________________________________________________________________________________________\n",
            "conv2_block1_0_bn (BatchNormali (None, 64, 64, 256)  1024        conv2_block1_0_conv[0][0]        \n",
            "__________________________________________________________________________________________________\n",
            "conv2_block1_3_bn (BatchNormali (None, 64, 64, 256)  1024        conv2_block1_3_conv[0][0]        \n",
            "__________________________________________________________________________________________________\n",
            "conv2_block1_add (Add)          (None, 64, 64, 256)  0           conv2_block1_0_bn[0][0]          \n",
            "                                                                 conv2_block1_3_bn[0][0]          \n",
            "__________________________________________________________________________________________________\n",
            "conv2_block1_out (Activation)   (None, 64, 64, 256)  0           conv2_block1_add[0][0]           \n",
            "__________________________________________________________________________________________________\n",
            "conv2_block2_1_conv (Conv2D)    (None, 64, 64, 128)  32768       conv2_block1_out[0][0]           \n",
            "__________________________________________________________________________________________________\n",
            "conv2_block2_1_bn (BatchNormali (None, 64, 64, 128)  512         conv2_block2_1_conv[0][0]        \n",
            "__________________________________________________________________________________________________\n",
            "conv2_block2_1_relu (Activation (None, 64, 64, 128)  0           conv2_block2_1_bn[0][0]          \n",
            "__________________________________________________________________________________________________\n",
            "conv2_block2_2_pad (ZeroPadding (None, 66, 66, 128)  0           conv2_block2_1_relu[0][0]        \n",
            "__________________________________________________________________________________________________\n",
            "conv2_block2_2_conv (DepthwiseC (None, 64, 64, 512)  4608        conv2_block2_2_pad[0][0]         \n",
            "__________________________________________________________________________________________________\n",
            "reshape_3 (Reshape)             (None, 64, 64, 32, 4 0           conv2_block2_2_conv[0][0]        \n",
            "__________________________________________________________________________________________________\n",
            "conv2_block2_2_reduce (Lambda)  (None, 64, 64, 32, 4 0           reshape_3[0][0]                  \n",
            "__________________________________________________________________________________________________\n",
            "reshape_4 (Reshape)             (None, 64, 64, 128)  0           conv2_block2_2_reduce[0][0]      \n",
            "__________________________________________________________________________________________________\n",
            "conv2_block2_2_bn (BatchNormali (None, 64, 64, 128)  512         reshape_4[0][0]                  \n",
            "__________________________________________________________________________________________________\n",
            "conv2_block2_2_relu (Activation (None, 64, 64, 128)  0           conv2_block2_2_bn[0][0]          \n",
            "__________________________________________________________________________________________________\n",
            "conv2_block2_3_conv (Conv2D)    (None, 64, 64, 256)  32768       conv2_block2_2_relu[0][0]        \n",
            "__________________________________________________________________________________________________\n",
            "conv2_block2_3_bn (BatchNormali (None, 64, 64, 256)  1024        conv2_block2_3_conv[0][0]        \n",
            "__________________________________________________________________________________________________\n",
            "conv2_block2_add (Add)          (None, 64, 64, 256)  0           conv2_block1_out[0][0]           \n",
            "                                                                 conv2_block2_3_bn[0][0]          \n",
            "__________________________________________________________________________________________________\n",
            "conv2_block2_out (Activation)   (None, 64, 64, 256)  0           conv2_block2_add[0][0]           \n",
            "__________________________________________________________________________________________________\n",
            "conv2_block3_1_conv (Conv2D)    (None, 64, 64, 128)  32768       conv2_block2_out[0][0]           \n",
            "__________________________________________________________________________________________________\n",
            "conv2_block3_1_bn (BatchNormali (None, 64, 64, 128)  512         conv2_block3_1_conv[0][0]        \n",
            "__________________________________________________________________________________________________\n",
            "conv2_block3_1_relu (Activation (None, 64, 64, 128)  0           conv2_block3_1_bn[0][0]          \n",
            "__________________________________________________________________________________________________\n",
            "conv2_block3_2_pad (ZeroPadding (None, 66, 66, 128)  0           conv2_block3_1_relu[0][0]        \n",
            "__________________________________________________________________________________________________\n",
            "conv2_block3_2_conv (DepthwiseC (None, 64, 64, 512)  4608        conv2_block3_2_pad[0][0]         \n",
            "__________________________________________________________________________________________________\n",
            "reshape_5 (Reshape)             (None, 64, 64, 32, 4 0           conv2_block3_2_conv[0][0]        \n",
            "__________________________________________________________________________________________________\n",
            "conv2_block3_2_reduce (Lambda)  (None, 64, 64, 32, 4 0           reshape_5[0][0]                  \n",
            "__________________________________________________________________________________________________\n",
            "reshape_6 (Reshape)             (None, 64, 64, 128)  0           conv2_block3_2_reduce[0][0]      \n",
            "__________________________________________________________________________________________________\n",
            "conv2_block3_2_bn (BatchNormali (None, 64, 64, 128)  512         reshape_6[0][0]                  \n",
            "__________________________________________________________________________________________________\n",
            "conv2_block3_2_relu (Activation (None, 64, 64, 128)  0           conv2_block3_2_bn[0][0]          \n",
            "__________________________________________________________________________________________________\n",
            "conv2_block3_3_conv (Conv2D)    (None, 64, 64, 256)  32768       conv2_block3_2_relu[0][0]        \n",
            "__________________________________________________________________________________________________\n",
            "conv2_block3_3_bn (BatchNormali (None, 64, 64, 256)  1024        conv2_block3_3_conv[0][0]        \n",
            "__________________________________________________________________________________________________\n",
            "conv2_block3_add (Add)          (None, 64, 64, 256)  0           conv2_block2_out[0][0]           \n",
            "                                                                 conv2_block3_3_bn[0][0]          \n",
            "__________________________________________________________________________________________________\n",
            "conv2_block3_out (Activation)   (None, 64, 64, 256)  0           conv2_block3_add[0][0]           \n",
            "__________________________________________________________________________________________________\n",
            "conv3_block1_1_conv (Conv2D)    (None, 64, 64, 256)  65536       conv2_block3_out[0][0]           \n",
            "__________________________________________________________________________________________________\n",
            "conv3_block1_1_bn (BatchNormali (None, 64, 64, 256)  1024        conv3_block1_1_conv[0][0]        \n",
            "__________________________________________________________________________________________________\n",
            "conv3_block1_1_relu (Activation (None, 64, 64, 256)  0           conv3_block1_1_bn[0][0]          \n",
            "__________________________________________________________________________________________________\n",
            "conv3_block1_2_pad (ZeroPadding (None, 66, 66, 256)  0           conv3_block1_1_relu[0][0]        \n",
            "__________________________________________________________________________________________________\n",
            "conv3_block1_2_conv (DepthwiseC (None, 32, 32, 2048) 18432       conv3_block1_2_pad[0][0]         \n",
            "__________________________________________________________________________________________________\n",
            "reshape_7 (Reshape)             (None, 32, 32, 32, 8 0           conv3_block1_2_conv[0][0]        \n",
            "__________________________________________________________________________________________________\n",
            "conv3_block1_2_reduce (Lambda)  (None, 32, 32, 32, 8 0           reshape_7[0][0]                  \n",
            "__________________________________________________________________________________________________\n",
            "reshape_8 (Reshape)             (None, 32, 32, 256)  0           conv3_block1_2_reduce[0][0]      \n",
            "__________________________________________________________________________________________________\n",
            "conv3_block1_2_bn (BatchNormali (None, 32, 32, 256)  1024        reshape_8[0][0]                  \n",
            "__________________________________________________________________________________________________\n",
            "conv3_block1_2_relu (Activation (None, 32, 32, 256)  0           conv3_block1_2_bn[0][0]          \n",
            "__________________________________________________________________________________________________\n",
            "conv3_block1_0_conv (Conv2D)    (None, 32, 32, 512)  131072      conv2_block3_out[0][0]           \n",
            "__________________________________________________________________________________________________\n",
            "conv3_block1_3_conv (Conv2D)    (None, 32, 32, 512)  131072      conv3_block1_2_relu[0][0]        \n",
            "__________________________________________________________________________________________________\n",
            "conv3_block1_0_bn (BatchNormali (None, 32, 32, 512)  2048        conv3_block1_0_conv[0][0]        \n",
            "__________________________________________________________________________________________________\n",
            "conv3_block1_3_bn (BatchNormali (None, 32, 32, 512)  2048        conv3_block1_3_conv[0][0]        \n",
            "__________________________________________________________________________________________________\n",
            "conv3_block1_add (Add)          (None, 32, 32, 512)  0           conv3_block1_0_bn[0][0]          \n",
            "                                                                 conv3_block1_3_bn[0][0]          \n",
            "__________________________________________________________________________________________________\n",
            "conv3_block1_out (Activation)   (None, 32, 32, 512)  0           conv3_block1_add[0][0]           \n",
            "__________________________________________________________________________________________________\n",
            "conv3_block2_1_conv (Conv2D)    (None, 32, 32, 256)  131072      conv3_block1_out[0][0]           \n",
            "__________________________________________________________________________________________________\n",
            "conv3_block2_1_bn (BatchNormali (None, 32, 32, 256)  1024        conv3_block2_1_conv[0][0]        \n",
            "__________________________________________________________________________________________________\n",
            "conv3_block2_1_relu (Activation (None, 32, 32, 256)  0           conv3_block2_1_bn[0][0]          \n",
            "__________________________________________________________________________________________________\n",
            "conv3_block2_2_pad (ZeroPadding (None, 34, 34, 256)  0           conv3_block2_1_relu[0][0]        \n",
            "__________________________________________________________________________________________________\n",
            "conv3_block2_2_conv (DepthwiseC (None, 32, 32, 2048) 18432       conv3_block2_2_pad[0][0]         \n",
            "__________________________________________________________________________________________________\n",
            "reshape_9 (Reshape)             (None, 32, 32, 32, 8 0           conv3_block2_2_conv[0][0]        \n",
            "__________________________________________________________________________________________________\n",
            "conv3_block2_2_reduce (Lambda)  (None, 32, 32, 32, 8 0           reshape_9[0][0]                  \n",
            "__________________________________________________________________________________________________\n",
            "reshape_10 (Reshape)            (None, 32, 32, 256)  0           conv3_block2_2_reduce[0][0]      \n",
            "__________________________________________________________________________________________________\n",
            "conv3_block2_2_bn (BatchNormali (None, 32, 32, 256)  1024        reshape_10[0][0]                 \n",
            "__________________________________________________________________________________________________\n",
            "conv3_block2_2_relu (Activation (None, 32, 32, 256)  0           conv3_block2_2_bn[0][0]          \n",
            "__________________________________________________________________________________________________\n",
            "conv3_block2_3_conv (Conv2D)    (None, 32, 32, 512)  131072      conv3_block2_2_relu[0][0]        \n",
            "__________________________________________________________________________________________________\n",
            "conv3_block2_3_bn (BatchNormali (None, 32, 32, 512)  2048        conv3_block2_3_conv[0][0]        \n",
            "__________________________________________________________________________________________________\n",
            "conv3_block2_add (Add)          (None, 32, 32, 512)  0           conv3_block1_out[0][0]           \n",
            "                                                                 conv3_block2_3_bn[0][0]          \n",
            "__________________________________________________________________________________________________\n",
            "conv3_block2_out (Activation)   (None, 32, 32, 512)  0           conv3_block2_add[0][0]           \n",
            "__________________________________________________________________________________________________\n",
            "conv3_block3_1_conv (Conv2D)    (None, 32, 32, 256)  131072      conv3_block2_out[0][0]           \n",
            "__________________________________________________________________________________________________\n",
            "conv3_block3_1_bn (BatchNormali (None, 32, 32, 256)  1024        conv3_block3_1_conv[0][0]        \n",
            "__________________________________________________________________________________________________\n",
            "conv3_block3_1_relu (Activation (None, 32, 32, 256)  0           conv3_block3_1_bn[0][0]          \n",
            "__________________________________________________________________________________________________\n",
            "conv3_block3_2_pad (ZeroPadding (None, 34, 34, 256)  0           conv3_block3_1_relu[0][0]        \n",
            "__________________________________________________________________________________________________\n",
            "conv3_block3_2_conv (DepthwiseC (None, 32, 32, 2048) 18432       conv3_block3_2_pad[0][0]         \n",
            "__________________________________________________________________________________________________\n",
            "reshape_11 (Reshape)            (None, 32, 32, 32, 8 0           conv3_block3_2_conv[0][0]        \n",
            "__________________________________________________________________________________________________\n",
            "conv3_block3_2_reduce (Lambda)  (None, 32, 32, 32, 8 0           reshape_11[0][0]                 \n",
            "__________________________________________________________________________________________________\n",
            "reshape_12 (Reshape)            (None, 32, 32, 256)  0           conv3_block3_2_reduce[0][0]      \n",
            "__________________________________________________________________________________________________\n",
            "conv3_block3_2_bn (BatchNormali (None, 32, 32, 256)  1024        reshape_12[0][0]                 \n",
            "__________________________________________________________________________________________________\n",
            "conv3_block3_2_relu (Activation (None, 32, 32, 256)  0           conv3_block3_2_bn[0][0]          \n",
            "__________________________________________________________________________________________________\n",
            "conv3_block3_3_conv (Conv2D)    (None, 32, 32, 512)  131072      conv3_block3_2_relu[0][0]        \n",
            "__________________________________________________________________________________________________\n",
            "conv3_block3_3_bn (BatchNormali (None, 32, 32, 512)  2048        conv3_block3_3_conv[0][0]        \n",
            "__________________________________________________________________________________________________\n",
            "conv3_block3_add (Add)          (None, 32, 32, 512)  0           conv3_block2_out[0][0]           \n",
            "                                                                 conv3_block3_3_bn[0][0]          \n",
            "__________________________________________________________________________________________________\n",
            "conv3_block3_out (Activation)   (None, 32, 32, 512)  0           conv3_block3_add[0][0]           \n",
            "__________________________________________________________________________________________________\n",
            "conv3_block4_1_conv (Conv2D)    (None, 32, 32, 256)  131072      conv3_block3_out[0][0]           \n",
            "__________________________________________________________________________________________________\n",
            "conv3_block4_1_bn (BatchNormali (None, 32, 32, 256)  1024        conv3_block4_1_conv[0][0]        \n",
            "__________________________________________________________________________________________________\n",
            "conv3_block4_1_relu (Activation (None, 32, 32, 256)  0           conv3_block4_1_bn[0][0]          \n",
            "__________________________________________________________________________________________________\n",
            "conv3_block4_2_pad (ZeroPadding (None, 34, 34, 256)  0           conv3_block4_1_relu[0][0]        \n",
            "__________________________________________________________________________________________________\n",
            "conv3_block4_2_conv (DepthwiseC (None, 32, 32, 2048) 18432       conv3_block4_2_pad[0][0]         \n",
            "__________________________________________________________________________________________________\n",
            "reshape_13 (Reshape)            (None, 32, 32, 32, 8 0           conv3_block4_2_conv[0][0]        \n",
            "__________________________________________________________________________________________________\n",
            "conv3_block4_2_reduce (Lambda)  (None, 32, 32, 32, 8 0           reshape_13[0][0]                 \n",
            "__________________________________________________________________________________________________\n",
            "reshape_14 (Reshape)            (None, 32, 32, 256)  0           conv3_block4_2_reduce[0][0]      \n",
            "__________________________________________________________________________________________________\n",
            "conv3_block4_2_bn (BatchNormali (None, 32, 32, 256)  1024        reshape_14[0][0]                 \n",
            "__________________________________________________________________________________________________\n",
            "conv3_block4_2_relu (Activation (None, 32, 32, 256)  0           conv3_block4_2_bn[0][0]          \n",
            "__________________________________________________________________________________________________\n",
            "conv3_block4_3_conv (Conv2D)    (None, 32, 32, 512)  131072      conv3_block4_2_relu[0][0]        \n",
            "__________________________________________________________________________________________________\n",
            "conv3_block4_3_bn (BatchNormali (None, 32, 32, 512)  2048        conv3_block4_3_conv[0][0]        \n",
            "__________________________________________________________________________________________________\n",
            "conv3_block4_add (Add)          (None, 32, 32, 512)  0           conv3_block3_out[0][0]           \n",
            "                                                                 conv3_block4_3_bn[0][0]          \n",
            "__________________________________________________________________________________________________\n",
            "conv3_block4_out (Activation)   (None, 32, 32, 512)  0           conv3_block4_add[0][0]           \n",
            "__________________________________________________________________________________________________\n",
            "conv4_block1_1_conv (Conv2D)    (None, 32, 32, 512)  262144      conv3_block4_out[0][0]           \n",
            "__________________________________________________________________________________________________\n",
            "conv4_block1_1_bn (BatchNormali (None, 32, 32, 512)  2048        conv4_block1_1_conv[0][0]        \n",
            "__________________________________________________________________________________________________\n",
            "conv4_block1_1_relu (Activation (None, 32, 32, 512)  0           conv4_block1_1_bn[0][0]          \n",
            "__________________________________________________________________________________________________\n",
            "conv4_block1_2_pad (ZeroPadding (None, 34, 34, 512)  0           conv4_block1_1_relu[0][0]        \n",
            "__________________________________________________________________________________________________\n",
            "conv4_block1_2_conv (DepthwiseC (None, 16, 16, 8192) 73728       conv4_block1_2_pad[0][0]         \n",
            "__________________________________________________________________________________________________\n",
            "reshape_15 (Reshape)            (None, 16, 16, 32, 1 0           conv4_block1_2_conv[0][0]        \n",
            "__________________________________________________________________________________________________\n",
            "conv4_block1_2_reduce (Lambda)  (None, 16, 16, 32, 1 0           reshape_15[0][0]                 \n",
            "__________________________________________________________________________________________________\n",
            "reshape_16 (Reshape)            (None, 16, 16, 512)  0           conv4_block1_2_reduce[0][0]      \n",
            "__________________________________________________________________________________________________\n",
            "conv4_block1_2_bn (BatchNormali (None, 16, 16, 512)  2048        reshape_16[0][0]                 \n",
            "__________________________________________________________________________________________________\n",
            "conv4_block1_2_relu (Activation (None, 16, 16, 512)  0           conv4_block1_2_bn[0][0]          \n",
            "__________________________________________________________________________________________________\n",
            "conv4_block1_0_conv (Conv2D)    (None, 16, 16, 1024) 524288      conv3_block4_out[0][0]           \n",
            "__________________________________________________________________________________________________\n",
            "conv4_block1_3_conv (Conv2D)    (None, 16, 16, 1024) 524288      conv4_block1_2_relu[0][0]        \n",
            "__________________________________________________________________________________________________\n",
            "conv4_block1_0_bn (BatchNormali (None, 16, 16, 1024) 4096        conv4_block1_0_conv[0][0]        \n",
            "__________________________________________________________________________________________________\n",
            "conv4_block1_3_bn (BatchNormali (None, 16, 16, 1024) 4096        conv4_block1_3_conv[0][0]        \n",
            "__________________________________________________________________________________________________\n",
            "conv4_block1_add (Add)          (None, 16, 16, 1024) 0           conv4_block1_0_bn[0][0]          \n",
            "                                                                 conv4_block1_3_bn[0][0]          \n",
            "__________________________________________________________________________________________________\n",
            "conv4_block1_out (Activation)   (None, 16, 16, 1024) 0           conv4_block1_add[0][0]           \n",
            "__________________________________________________________________________________________________\n",
            "conv4_block2_1_conv (Conv2D)    (None, 16, 16, 512)  524288      conv4_block1_out[0][0]           \n",
            "__________________________________________________________________________________________________\n",
            "conv4_block2_1_bn (BatchNormali (None, 16, 16, 512)  2048        conv4_block2_1_conv[0][0]        \n",
            "__________________________________________________________________________________________________\n",
            "conv4_block2_1_relu (Activation (None, 16, 16, 512)  0           conv4_block2_1_bn[0][0]          \n",
            "__________________________________________________________________________________________________\n",
            "conv4_block2_2_pad (ZeroPadding (None, 18, 18, 512)  0           conv4_block2_1_relu[0][0]        \n",
            "__________________________________________________________________________________________________\n",
            "conv4_block2_2_conv (DepthwiseC (None, 16, 16, 8192) 73728       conv4_block2_2_pad[0][0]         \n",
            "__________________________________________________________________________________________________\n",
            "reshape_17 (Reshape)            (None, 16, 16, 32, 1 0           conv4_block2_2_conv[0][0]        \n",
            "__________________________________________________________________________________________________\n",
            "conv4_block2_2_reduce (Lambda)  (None, 16, 16, 32, 1 0           reshape_17[0][0]                 \n",
            "__________________________________________________________________________________________________\n",
            "reshape_18 (Reshape)            (None, 16, 16, 512)  0           conv4_block2_2_reduce[0][0]      \n",
            "__________________________________________________________________________________________________\n",
            "conv4_block2_2_bn (BatchNormali (None, 16, 16, 512)  2048        reshape_18[0][0]                 \n",
            "__________________________________________________________________________________________________\n",
            "conv4_block2_2_relu (Activation (None, 16, 16, 512)  0           conv4_block2_2_bn[0][0]          \n",
            "__________________________________________________________________________________________________\n",
            "conv4_block2_3_conv (Conv2D)    (None, 16, 16, 1024) 524288      conv4_block2_2_relu[0][0]        \n",
            "__________________________________________________________________________________________________\n",
            "conv4_block2_3_bn (BatchNormali (None, 16, 16, 1024) 4096        conv4_block2_3_conv[0][0]        \n",
            "__________________________________________________________________________________________________\n",
            "conv4_block2_add (Add)          (None, 16, 16, 1024) 0           conv4_block1_out[0][0]           \n",
            "                                                                 conv4_block2_3_bn[0][0]          \n",
            "__________________________________________________________________________________________________\n",
            "conv4_block2_out (Activation)   (None, 16, 16, 1024) 0           conv4_block2_add[0][0]           \n",
            "__________________________________________________________________________________________________\n",
            "conv4_block3_1_conv (Conv2D)    (None, 16, 16, 512)  524288      conv4_block2_out[0][0]           \n",
            "__________________________________________________________________________________________________\n",
            "conv4_block3_1_bn (BatchNormali (None, 16, 16, 512)  2048        conv4_block3_1_conv[0][0]        \n",
            "__________________________________________________________________________________________________\n",
            "conv4_block3_1_relu (Activation (None, 16, 16, 512)  0           conv4_block3_1_bn[0][0]          \n",
            "__________________________________________________________________________________________________\n",
            "conv4_block3_2_pad (ZeroPadding (None, 18, 18, 512)  0           conv4_block3_1_relu[0][0]        \n",
            "__________________________________________________________________________________________________\n",
            "conv4_block3_2_conv (DepthwiseC (None, 16, 16, 8192) 73728       conv4_block3_2_pad[0][0]         \n",
            "__________________________________________________________________________________________________\n",
            "reshape_19 (Reshape)            (None, 16, 16, 32, 1 0           conv4_block3_2_conv[0][0]        \n",
            "__________________________________________________________________________________________________\n",
            "conv4_block3_2_reduce (Lambda)  (None, 16, 16, 32, 1 0           reshape_19[0][0]                 \n",
            "__________________________________________________________________________________________________\n",
            "reshape_20 (Reshape)            (None, 16, 16, 512)  0           conv4_block3_2_reduce[0][0]      \n",
            "__________________________________________________________________________________________________\n",
            "conv4_block3_2_bn (BatchNormali (None, 16, 16, 512)  2048        reshape_20[0][0]                 \n",
            "__________________________________________________________________________________________________\n",
            "conv4_block3_2_relu (Activation (None, 16, 16, 512)  0           conv4_block3_2_bn[0][0]          \n",
            "__________________________________________________________________________________________________\n",
            "conv4_block3_3_conv (Conv2D)    (None, 16, 16, 1024) 524288      conv4_block3_2_relu[0][0]        \n",
            "__________________________________________________________________________________________________\n",
            "conv4_block3_3_bn (BatchNormali (None, 16, 16, 1024) 4096        conv4_block3_3_conv[0][0]        \n",
            "__________________________________________________________________________________________________\n",
            "conv4_block3_add (Add)          (None, 16, 16, 1024) 0           conv4_block2_out[0][0]           \n",
            "                                                                 conv4_block3_3_bn[0][0]          \n",
            "__________________________________________________________________________________________________\n",
            "conv4_block3_out (Activation)   (None, 16, 16, 1024) 0           conv4_block3_add[0][0]           \n",
            "__________________________________________________________________________________________________\n",
            "conv4_block4_1_conv (Conv2D)    (None, 16, 16, 512)  524288      conv4_block3_out[0][0]           \n",
            "__________________________________________________________________________________________________\n",
            "conv4_block4_1_bn (BatchNormali (None, 16, 16, 512)  2048        conv4_block4_1_conv[0][0]        \n",
            "__________________________________________________________________________________________________\n",
            "conv4_block4_1_relu (Activation (None, 16, 16, 512)  0           conv4_block4_1_bn[0][0]          \n",
            "__________________________________________________________________________________________________\n",
            "conv4_block4_2_pad (ZeroPadding (None, 18, 18, 512)  0           conv4_block4_1_relu[0][0]        \n",
            "__________________________________________________________________________________________________\n",
            "conv4_block4_2_conv (DepthwiseC (None, 16, 16, 8192) 73728       conv4_block4_2_pad[0][0]         \n",
            "__________________________________________________________________________________________________\n",
            "reshape_21 (Reshape)            (None, 16, 16, 32, 1 0           conv4_block4_2_conv[0][0]        \n",
            "__________________________________________________________________________________________________\n",
            "conv4_block4_2_reduce (Lambda)  (None, 16, 16, 32, 1 0           reshape_21[0][0]                 \n",
            "__________________________________________________________________________________________________\n",
            "reshape_22 (Reshape)            (None, 16, 16, 512)  0           conv4_block4_2_reduce[0][0]      \n",
            "__________________________________________________________________________________________________\n",
            "conv4_block4_2_bn (BatchNormali (None, 16, 16, 512)  2048        reshape_22[0][0]                 \n",
            "__________________________________________________________________________________________________\n",
            "conv4_block4_2_relu (Activation (None, 16, 16, 512)  0           conv4_block4_2_bn[0][0]          \n",
            "__________________________________________________________________________________________________\n",
            "conv4_block4_3_conv (Conv2D)    (None, 16, 16, 1024) 524288      conv4_block4_2_relu[0][0]        \n",
            "__________________________________________________________________________________________________\n",
            "conv4_block4_3_bn (BatchNormali (None, 16, 16, 1024) 4096        conv4_block4_3_conv[0][0]        \n",
            "__________________________________________________________________________________________________\n",
            "conv4_block4_add (Add)          (None, 16, 16, 1024) 0           conv4_block3_out[0][0]           \n",
            "                                                                 conv4_block4_3_bn[0][0]          \n",
            "__________________________________________________________________________________________________\n",
            "conv4_block4_out (Activation)   (None, 16, 16, 1024) 0           conv4_block4_add[0][0]           \n",
            "__________________________________________________________________________________________________\n",
            "conv4_block5_1_conv (Conv2D)    (None, 16, 16, 512)  524288      conv4_block4_out[0][0]           \n",
            "__________________________________________________________________________________________________\n",
            "conv4_block5_1_bn (BatchNormali (None, 16, 16, 512)  2048        conv4_block5_1_conv[0][0]        \n",
            "__________________________________________________________________________________________________\n",
            "conv4_block5_1_relu (Activation (None, 16, 16, 512)  0           conv4_block5_1_bn[0][0]          \n",
            "__________________________________________________________________________________________________\n",
            "conv4_block5_2_pad (ZeroPadding (None, 18, 18, 512)  0           conv4_block5_1_relu[0][0]        \n",
            "__________________________________________________________________________________________________\n",
            "conv4_block5_2_conv (DepthwiseC (None, 16, 16, 8192) 73728       conv4_block5_2_pad[0][0]         \n",
            "__________________________________________________________________________________________________\n",
            "reshape_23 (Reshape)            (None, 16, 16, 32, 1 0           conv4_block5_2_conv[0][0]        \n",
            "__________________________________________________________________________________________________\n",
            "conv4_block5_2_reduce (Lambda)  (None, 16, 16, 32, 1 0           reshape_23[0][0]                 \n",
            "__________________________________________________________________________________________________\n",
            "reshape_24 (Reshape)            (None, 16, 16, 512)  0           conv4_block5_2_reduce[0][0]      \n",
            "__________________________________________________________________________________________________\n",
            "conv4_block5_2_bn (BatchNormali (None, 16, 16, 512)  2048        reshape_24[0][0]                 \n",
            "__________________________________________________________________________________________________\n",
            "conv4_block5_2_relu (Activation (None, 16, 16, 512)  0           conv4_block5_2_bn[0][0]          \n",
            "__________________________________________________________________________________________________\n",
            "conv4_block5_3_conv (Conv2D)    (None, 16, 16, 1024) 524288      conv4_block5_2_relu[0][0]        \n",
            "__________________________________________________________________________________________________\n",
            "conv4_block5_3_bn (BatchNormali (None, 16, 16, 1024) 4096        conv4_block5_3_conv[0][0]        \n",
            "__________________________________________________________________________________________________\n",
            "conv4_block5_add (Add)          (None, 16, 16, 1024) 0           conv4_block4_out[0][0]           \n",
            "                                                                 conv4_block5_3_bn[0][0]          \n",
            "__________________________________________________________________________________________________\n",
            "conv4_block5_out (Activation)   (None, 16, 16, 1024) 0           conv4_block5_add[0][0]           \n",
            "__________________________________________________________________________________________________\n",
            "conv4_block6_1_conv (Conv2D)    (None, 16, 16, 512)  524288      conv4_block5_out[0][0]           \n",
            "__________________________________________________________________________________________________\n",
            "conv4_block6_1_bn (BatchNormali (None, 16, 16, 512)  2048        conv4_block6_1_conv[0][0]        \n",
            "__________________________________________________________________________________________________\n",
            "conv4_block6_1_relu (Activation (None, 16, 16, 512)  0           conv4_block6_1_bn[0][0]          \n",
            "__________________________________________________________________________________________________\n",
            "conv4_block6_2_pad (ZeroPadding (None, 18, 18, 512)  0           conv4_block6_1_relu[0][0]        \n",
            "__________________________________________________________________________________________________\n",
            "conv4_block6_2_conv (DepthwiseC (None, 16, 16, 8192) 73728       conv4_block6_2_pad[0][0]         \n",
            "__________________________________________________________________________________________________\n",
            "reshape_25 (Reshape)            (None, 16, 16, 32, 1 0           conv4_block6_2_conv[0][0]        \n",
            "__________________________________________________________________________________________________\n",
            "conv4_block6_2_reduce (Lambda)  (None, 16, 16, 32, 1 0           reshape_25[0][0]                 \n",
            "__________________________________________________________________________________________________\n",
            "reshape_26 (Reshape)            (None, 16, 16, 512)  0           conv4_block6_2_reduce[0][0]      \n",
            "__________________________________________________________________________________________________\n",
            "conv4_block6_2_bn (BatchNormali (None, 16, 16, 512)  2048        reshape_26[0][0]                 \n",
            "__________________________________________________________________________________________________\n",
            "conv4_block6_2_relu (Activation (None, 16, 16, 512)  0           conv4_block6_2_bn[0][0]          \n",
            "__________________________________________________________________________________________________\n",
            "conv4_block6_3_conv (Conv2D)    (None, 16, 16, 1024) 524288      conv4_block6_2_relu[0][0]        \n",
            "__________________________________________________________________________________________________\n",
            "conv4_block6_3_bn (BatchNormali (None, 16, 16, 1024) 4096        conv4_block6_3_conv[0][0]        \n",
            "__________________________________________________________________________________________________\n",
            "conv4_block6_add (Add)          (None, 16, 16, 1024) 0           conv4_block5_out[0][0]           \n",
            "                                                                 conv4_block6_3_bn[0][0]          \n",
            "__________________________________________________________________________________________________\n",
            "conv4_block6_out (Activation)   (None, 16, 16, 1024) 0           conv4_block6_add[0][0]           \n",
            "__________________________________________________________________________________________________\n",
            "conv5_block1_1_conv (Conv2D)    (None, 16, 16, 1024) 1048576     conv4_block6_out[0][0]           \n",
            "__________________________________________________________________________________________________\n",
            "conv5_block1_1_bn (BatchNormali (None, 16, 16, 1024) 4096        conv5_block1_1_conv[0][0]        \n",
            "__________________________________________________________________________________________________\n",
            "conv5_block1_1_relu (Activation (None, 16, 16, 1024) 0           conv5_block1_1_bn[0][0]          \n",
            "__________________________________________________________________________________________________\n",
            "conv5_block1_2_pad (ZeroPadding (None, 18, 18, 1024) 0           conv5_block1_1_relu[0][0]        \n",
            "__________________________________________________________________________________________________\n",
            "conv5_block1_2_conv (DepthwiseC (None, 8, 8, 32768)  294912      conv5_block1_2_pad[0][0]         \n",
            "__________________________________________________________________________________________________\n",
            "reshape_27 (Reshape)            (None, 8, 8, 32, 32, 0           conv5_block1_2_conv[0][0]        \n",
            "__________________________________________________________________________________________________\n",
            "conv5_block1_2_reduce (Lambda)  (None, 8, 8, 32, 32) 0           reshape_27[0][0]                 \n",
            "__________________________________________________________________________________________________\n",
            "reshape_28 (Reshape)            (None, 8, 8, 1024)   0           conv5_block1_2_reduce[0][0]      \n",
            "__________________________________________________________________________________________________\n",
            "conv5_block1_2_bn (BatchNormali (None, 8, 8, 1024)   4096        reshape_28[0][0]                 \n",
            "__________________________________________________________________________________________________\n",
            "conv5_block1_2_relu (Activation (None, 8, 8, 1024)   0           conv5_block1_2_bn[0][0]          \n",
            "__________________________________________________________________________________________________\n",
            "conv5_block1_0_conv (Conv2D)    (None, 8, 8, 2048)   2097152     conv4_block6_out[0][0]           \n",
            "__________________________________________________________________________________________________\n",
            "conv5_block1_3_conv (Conv2D)    (None, 8, 8, 2048)   2097152     conv5_block1_2_relu[0][0]        \n",
            "__________________________________________________________________________________________________\n",
            "conv5_block1_0_bn (BatchNormali (None, 8, 8, 2048)   8192        conv5_block1_0_conv[0][0]        \n",
            "__________________________________________________________________________________________________\n",
            "conv5_block1_3_bn (BatchNormali (None, 8, 8, 2048)   8192        conv5_block1_3_conv[0][0]        \n",
            "__________________________________________________________________________________________________\n",
            "conv5_block1_add (Add)          (None, 8, 8, 2048)   0           conv5_block1_0_bn[0][0]          \n",
            "                                                                 conv5_block1_3_bn[0][0]          \n",
            "__________________________________________________________________________________________________\n",
            "conv5_block1_out (Activation)   (None, 8, 8, 2048)   0           conv5_block1_add[0][0]           \n",
            "__________________________________________________________________________________________________\n",
            "conv5_block2_1_conv (Conv2D)    (None, 8, 8, 1024)   2097152     conv5_block1_out[0][0]           \n",
            "__________________________________________________________________________________________________\n",
            "conv5_block2_1_bn (BatchNormali (None, 8, 8, 1024)   4096        conv5_block2_1_conv[0][0]        \n",
            "__________________________________________________________________________________________________\n",
            "conv5_block2_1_relu (Activation (None, 8, 8, 1024)   0           conv5_block2_1_bn[0][0]          \n",
            "__________________________________________________________________________________________________\n",
            "conv5_block2_2_pad (ZeroPadding (None, 10, 10, 1024) 0           conv5_block2_1_relu[0][0]        \n",
            "__________________________________________________________________________________________________\n",
            "conv5_block2_2_conv (DepthwiseC (None, 8, 8, 32768)  294912      conv5_block2_2_pad[0][0]         \n",
            "__________________________________________________________________________________________________\n",
            "reshape_29 (Reshape)            (None, 8, 8, 32, 32, 0           conv5_block2_2_conv[0][0]        \n",
            "__________________________________________________________________________________________________\n",
            "conv5_block2_2_reduce (Lambda)  (None, 8, 8, 32, 32) 0           reshape_29[0][0]                 \n",
            "__________________________________________________________________________________________________\n",
            "reshape_30 (Reshape)            (None, 8, 8, 1024)   0           conv5_block2_2_reduce[0][0]      \n",
            "__________________________________________________________________________________________________\n",
            "conv5_block2_2_bn (BatchNormali (None, 8, 8, 1024)   4096        reshape_30[0][0]                 \n",
            "__________________________________________________________________________________________________\n",
            "conv5_block2_2_relu (Activation (None, 8, 8, 1024)   0           conv5_block2_2_bn[0][0]          \n",
            "__________________________________________________________________________________________________\n",
            "conv5_block2_3_conv (Conv2D)    (None, 8, 8, 2048)   2097152     conv5_block2_2_relu[0][0]        \n",
            "__________________________________________________________________________________________________\n",
            "conv5_block2_3_bn (BatchNormali (None, 8, 8, 2048)   8192        conv5_block2_3_conv[0][0]        \n",
            "__________________________________________________________________________________________________\n",
            "conv5_block2_add (Add)          (None, 8, 8, 2048)   0           conv5_block1_out[0][0]           \n",
            "                                                                 conv5_block2_3_bn[0][0]          \n",
            "__________________________________________________________________________________________________\n",
            "conv5_block2_out (Activation)   (None, 8, 8, 2048)   0           conv5_block2_add[0][0]           \n",
            "__________________________________________________________________________________________________\n",
            "conv5_block3_1_conv (Conv2D)    (None, 8, 8, 1024)   2097152     conv5_block2_out[0][0]           \n",
            "__________________________________________________________________________________________________\n",
            "conv5_block3_1_bn (BatchNormali (None, 8, 8, 1024)   4096        conv5_block3_1_conv[0][0]        \n",
            "__________________________________________________________________________________________________\n",
            "conv5_block3_1_relu (Activation (None, 8, 8, 1024)   0           conv5_block3_1_bn[0][0]          \n",
            "__________________________________________________________________________________________________\n",
            "conv5_block3_2_pad (ZeroPadding (None, 10, 10, 1024) 0           conv5_block3_1_relu[0][0]        \n",
            "__________________________________________________________________________________________________\n",
            "conv5_block3_2_conv (DepthwiseC (None, 8, 8, 32768)  294912      conv5_block3_2_pad[0][0]         \n",
            "__________________________________________________________________________________________________\n",
            "reshape_31 (Reshape)            (None, 8, 8, 32, 32, 0           conv5_block3_2_conv[0][0]        \n",
            "__________________________________________________________________________________________________\n",
            "conv5_block3_2_reduce (Lambda)  (None, 8, 8, 32, 32) 0           reshape_31[0][0]                 \n",
            "__________________________________________________________________________________________________\n",
            "reshape_32 (Reshape)            (None, 8, 8, 1024)   0           conv5_block3_2_reduce[0][0]      \n",
            "__________________________________________________________________________________________________\n",
            "conv5_block3_2_bn (BatchNormali (None, 8, 8, 1024)   4096        reshape_32[0][0]                 \n",
            "__________________________________________________________________________________________________\n",
            "conv5_block3_2_relu (Activation (None, 8, 8, 1024)   0           conv5_block3_2_bn[0][0]          \n",
            "__________________________________________________________________________________________________\n",
            "conv5_block3_3_conv (Conv2D)    (None, 8, 8, 2048)   2097152     conv5_block3_2_relu[0][0]        \n",
            "__________________________________________________________________________________________________\n",
            "conv5_block3_3_bn (BatchNormali (None, 8, 8, 2048)   8192        conv5_block3_3_conv[0][0]        \n",
            "__________________________________________________________________________________________________\n",
            "conv5_block3_add (Add)          (None, 8, 8, 2048)   0           conv5_block2_out[0][0]           \n",
            "                                                                 conv5_block3_3_bn[0][0]          \n",
            "__________________________________________________________________________________________________\n",
            "conv5_block3_out (Activation)   (None, 8, 8, 2048)   0           conv5_block3_add[0][0]           \n",
            "__________________________________________________________________________________________________\n",
            "global_average_pooling2d_1 (Glo (None, 2048)         0           conv5_block3_out[0][0]           \n",
            "__________________________________________________________________________________________________\n",
            "dense_1 (Dense)                 (None, 256)          524544      global_average_pooling2d_1[0][0] \n",
            "__________________________________________________________________________________________________\n",
            "dense_2 (Dense)                 (None, 128)          32896       dense_1[0][0]                    \n",
            "__________________________________________________________________________________________________\n",
            "dropout_1 (Dropout)             (None, 128)          0           dense_2[0][0]                    \n",
            "__________________________________________________________________________________________________\n",
            "dense_3 (Dense)                 (None, 102)          13158       dropout_1[0][0]                  \n",
            "==================================================================================================\n",
            "Total params: 23,618,726\n",
            "Trainable params: 23,550,502\n",
            "Non-trainable params: 68,224\n",
            "__________________________________________________________________________________________________\n"
          ],
          "name": "stdout"
        }
      ]
    },
    {
      "cell_type": "code",
      "metadata": {
        "id": "12kFbi5QLkb_",
        "colab_type": "code",
        "outputId": "cc6f5af9-d423-4c0d-a3e5-bfd699a81e0c",
        "colab": {
          "base_uri": "https://localhost:8080/",
          "height": 72
        }
      },
      "source": [
        "resnext.compile(loss='categorical_crossentropy', optimizer=adam, metrics=['accuracy'])"
      ],
      "execution_count": 35,
      "outputs": [
        {
          "output_type": "stream",
          "text": [
            "W0821 10:38:08.984333 139885793322880 deprecation_wrapper.py:119] From /usr/local/lib/python3.6/dist-packages/keras/optimizers.py:790: The name tf.train.Optimizer is deprecated. Please use tf.compat.v1.train.Optimizer instead.\n",
            "\n"
          ],
          "name": "stderr"
        }
      ]
    },
    {
      "cell_type": "code",
      "metadata": {
        "id": "EgQSyRowxVlv",
        "colab_type": "code",
        "colab": {}
      },
      "source": [
        "cp_resnext = keras.callbacks.ModelCheckpoint('resnext.h5', monitor='val_loss', verbose=0, save_best_only=True, save_weights_only=False, mode='auto', period = 1)"
      ],
      "execution_count": 0,
      "outputs": []
    },
    {
      "cell_type": "code",
      "metadata": {
        "id": "v3v_c1sJwg5Z",
        "colab_type": "code",
        "outputId": "288df1c5-0394-4344-d8f8-2570d5d01395",
        "colab": {
          "base_uri": "https://localhost:8080/",
          "height": 228
        }
      },
      "source": [
        "resnext_hist = resnext.fit_generator(train_gen, steps_per_epoch=17562//8, validation_data=val_gen, validation_steps=978//8, epochs=20, callbacks=[es, cp_resnext])\n"
      ],
      "execution_count": 0,
      "outputs": [
        {
          "output_type": "stream",
          "text": [
            "W0821 10:38:12.671050 139885793322880 deprecation.py:323] From /usr/local/lib/python3.6/dist-packages/tensorflow/python/ops/math_grad.py:1250: add_dispatch_support.<locals>.wrapper (from tensorflow.python.ops.array_ops) is deprecated and will be removed in a future version.\n",
            "Instructions for updating:\n",
            "Use tf.where in 2.0, which has the same broadcast rule as np.where\n"
          ],
          "name": "stderr"
        },
        {
          "output_type": "stream",
          "text": [
            "Epoch 1/20\n",
            "2195/2195 [==============================] - 2776s 1s/step - loss: 1.7563 - acc: 0.6372 - val_loss: 0.0873 - val_acc: 0.9788\n",
            "Epoch 2/20\n",
            "2195/2195 [==============================] - 2760s 1s/step - loss: 0.2927 - acc: 0.9380 - val_loss: 0.0230 - val_acc: 0.9906\n",
            "Epoch 3/20\n",
            "2195/2195 [==============================] - 2758s 1s/step - loss: 0.1572 - acc: 0.9642 - val_loss: 0.0384 - val_acc: 0.9917\n",
            "Epoch 4/20\n",
            "  92/2195 [>.............................] - ETA: 41:51 - loss: 0.1678 - acc: 0.9674"
          ],
          "name": "stdout"
        }
      ]
    },
    {
      "cell_type": "code",
      "metadata": {
        "id": "nKxzztaZwggq",
        "colab_type": "code",
        "colab": {}
      },
      "source": [
        "resenext_arcchive = resnext"
      ],
      "execution_count": 0,
      "outputs": []
    },
    {
      "cell_type": "code",
      "metadata": {
        "id": "v2LZjykNwgPh",
        "colab_type": "code",
        "colab": {}
      },
      "source": [
        ""
      ],
      "execution_count": 0,
      "outputs": []
    },
    {
      "cell_type": "code",
      "metadata": {
        "id": "n0snW8V-LkVP",
        "colab_type": "code",
        "colab": {}
      },
      "source": [
        ""
      ],
      "execution_count": 0,
      "outputs": []
    },
    {
      "cell_type": "markdown",
      "metadata": {
        "id": "4WFIUOb2Tdpj",
        "colab_type": "text"
      },
      "source": [
        "## Time to make prediction"
      ]
    },
    {
      "cell_type": "code",
      "metadata": {
        "id": "DkuFCkdfTiXs",
        "colab_type": "code",
        "colab": {}
      },
      "source": [
        "if not os.path.isdir('data/test/test_data'):\n",
        "  os.mkdir('data/test/test_data')"
      ],
      "execution_count": 0,
      "outputs": []
    },
    {
      "cell_type": "code",
      "metadata": {
        "id": "b8KakkrtUO0_",
        "colab_type": "code",
        "colab": {}
      },
      "source": [
        "# make subdirectory of each class\n",
        "for each in os.listdir('data/test/'):\n",
        "  dest = 'data/test/test_data'\n",
        "  src = os.path.join('data/test', each)\n",
        "  shutil.move(src, dest)\n",
        "\n"
      ],
      "execution_count": 0,
      "outputs": []
    },
    {
      "cell_type": "code",
      "metadata": {
        "id": "kiaHKXsbHlbY",
        "colab_type": "code",
        "outputId": "2c4f7c30-b56f-4121-e928-41c8e302eba2",
        "colab": {
          "base_uri": "https://localhost:8080/",
          "height": 34
        }
      },
      "source": [
        "len(os.listdir('data/test/test_data/'))"
      ],
      "execution_count": 0,
      "outputs": [
        {
          "output_type": "execute_result",
          "data": {
            "text/plain": [
              "2010"
            ]
          },
          "metadata": {
            "tags": []
          },
          "execution_count": 43
        }
      ]
    },
    {
      "cell_type": "code",
      "metadata": {
        "id": "5UUEaYNGU1ED",
        "colab_type": "code",
        "colab": {}
      },
      "source": [
        "test_datagen = ImageDataGenerator(rescale=1./255)"
      ],
      "execution_count": 0,
      "outputs": []
    },
    {
      "cell_type": "code",
      "metadata": {
        "id": "Cty3Td9dUUCL",
        "colab_type": "code",
        "outputId": "f9041cbd-6c5f-4430-cfcc-0ba2ad3658f5",
        "colab": {
          "base_uri": "https://localhost:8080/",
          "height": 34
        }
      },
      "source": [
        "test_generator = test_datagen.flow_from_directory(\n",
        "        'data/test',\n",
        "        shuffle = False,\n",
        "        class_mode='categorical',\n",
        "        batch_size=1\n",
        ")"
      ],
      "execution_count": 0,
      "outputs": [
        {
          "output_type": "stream",
          "text": [
            "Found 2009 images belonging to 1 classes.\n"
          ],
          "name": "stdout"
        }
      ]
    },
    {
      "cell_type": "code",
      "metadata": {
        "id": "O5djVgdZYHfy",
        "colab_type": "code",
        "colab": {}
      },
      "source": [
        "train_dict = train_gen.class_indices"
      ],
      "execution_count": 0,
      "outputs": []
    },
    {
      "cell_type": "code",
      "metadata": {
        "id": "dT-cpGSAIL_N",
        "colab_type": "code",
        "colab": {}
      },
      "source": [
        "new_dict = dict([(value, key) for key, value in train_dict.items()])"
      ],
      "execution_count": 0,
      "outputs": []
    },
    {
      "cell_type": "code",
      "metadata": {
        "id": "D3fR02baVA_8",
        "colab_type": "code",
        "colab": {}
      },
      "source": [
        "filenames = test_generator.filenames"
      ],
      "execution_count": 0,
      "outputs": []
    },
    {
      "cell_type": "code",
      "metadata": {
        "id": "5cf5YKl9VFL1",
        "colab_type": "code",
        "colab": {}
      },
      "source": [
        "nb_samples = len(filenames)"
      ],
      "execution_count": 0,
      "outputs": []
    },
    {
      "cell_type": "code",
      "metadata": {
        "id": "GhsW7uRn8JVx",
        "colab_type": "code",
        "colab": {}
      },
      "source": [
        "efficientb0.load_weights('efficient_netb0_weights.h5')"
      ],
      "execution_count": 0,
      "outputs": []
    },
    {
      "cell_type": "code",
      "metadata": {
        "id": "cnLyXwQLVG0a",
        "colab_type": "code",
        "colab": {}
      },
      "source": [
        "predict = resnext.predict_generator(test_generator,steps = nb_samples)"
      ],
      "execution_count": 0,
      "outputs": []
    },
    {
      "cell_type": "code",
      "metadata": {
        "id": "vtczZUrgVOWz",
        "colab_type": "code",
        "colab": {}
      },
      "source": [
        "pred = np.argmax(predict, axis=1)"
      ],
      "execution_count": 0,
      "outputs": []
    },
    {
      "cell_type": "code",
      "metadata": {
        "id": "sqqud33rVZOQ",
        "colab_type": "code",
        "outputId": "388a7efb-d5d4-4388-c7f6-dab1a43ef1de",
        "colab": {
          "base_uri": "https://localhost:8080/",
          "height": 34
        }
      },
      "source": [
        "pred.shape"
      ],
      "execution_count": 0,
      "outputs": [
        {
          "output_type": "execute_result",
          "data": {
            "text/plain": [
              "(2009,)"
            ]
          },
          "metadata": {
            "tags": []
          },
          "execution_count": 57
        }
      ]
    },
    {
      "cell_type": "code",
      "metadata": {
        "id": "4dgGYI2SIvke",
        "colab_type": "code",
        "outputId": "5f43cd1e-b673-48e3-8e56-84be68639c60",
        "colab": {
          "base_uri": "https://localhost:8080/",
          "height": 34
        }
      },
      "source": [
        "pred[0]"
      ],
      "execution_count": 0,
      "outputs": [
        {
          "output_type": "execute_result",
          "data": {
            "text/plain": [
              "87"
            ]
          },
          "metadata": {
            "tags": []
          },
          "execution_count": 58
        }
      ]
    },
    {
      "cell_type": "code",
      "metadata": {
        "id": "A0ky8AF3VnPR",
        "colab_type": "code",
        "colab": {}
      },
      "source": [
        "actual_pred = [int(new_dict[each]) for each in pred]"
      ],
      "execution_count": 0,
      "outputs": []
    },
    {
      "cell_type": "code",
      "metadata": {
        "id": "tF9zb4cWVpH3",
        "colab_type": "code",
        "outputId": "54a1263c-d6ca-429e-b73d-73501daba200",
        "colab": {
          "base_uri": "https://localhost:8080/",
          "height": 34
        }
      },
      "source": [
        "actual_pred[0]"
      ],
      "execution_count": 0,
      "outputs": [
        {
          "output_type": "execute_result",
          "data": {
            "text/plain": [
              "86"
            ]
          },
          "metadata": {
            "tags": []
          },
          "execution_count": 60
        }
      ]
    },
    {
      "cell_type": "code",
      "metadata": {
        "id": "DEEe4T85V_rj",
        "colab_type": "code",
        "outputId": "f970eb36-1894-4a53-e567-cf0e901f1dd4",
        "colab": {
          "base_uri": "https://localhost:8080/",
          "height": 175
        }
      },
      "source": [
        "sample.head(4)"
      ],
      "execution_count": 0,
      "outputs": [
        {
          "output_type": "execute_result",
          "data": {
            "text/html": [
              "<div>\n",
              "<style scoped>\n",
              "    .dataframe tbody tr th:only-of-type {\n",
              "        vertical-align: middle;\n",
              "    }\n",
              "\n",
              "    .dataframe tbody tr th {\n",
              "        vertical-align: top;\n",
              "    }\n",
              "\n",
              "    .dataframe thead th {\n",
              "        text-align: right;\n",
              "    }\n",
              "</style>\n",
              "<table border=\"1\" class=\"dataframe\">\n",
              "  <thead>\n",
              "    <tr style=\"text-align: right;\">\n",
              "      <th></th>\n",
              "      <th>image_id</th>\n",
              "      <th>category</th>\n",
              "    </tr>\n",
              "  </thead>\n",
              "  <tbody>\n",
              "    <tr>\n",
              "      <th>0</th>\n",
              "      <td>18540</td>\n",
              "      <td>0</td>\n",
              "    </tr>\n",
              "    <tr>\n",
              "      <th>1</th>\n",
              "      <td>18541</td>\n",
              "      <td>0</td>\n",
              "    </tr>\n",
              "    <tr>\n",
              "      <th>2</th>\n",
              "      <td>18542</td>\n",
              "      <td>0</td>\n",
              "    </tr>\n",
              "    <tr>\n",
              "      <th>3</th>\n",
              "      <td>18543</td>\n",
              "      <td>0</td>\n",
              "    </tr>\n",
              "  </tbody>\n",
              "</table>\n",
              "</div>"
            ],
            "text/plain": [
              "   image_id  category\n",
              "0     18540         0\n",
              "1     18541         0\n",
              "2     18542         0\n",
              "3     18543         0"
            ]
          },
          "metadata": {
            "tags": []
          },
          "execution_count": 61
        }
      ]
    },
    {
      "cell_type": "code",
      "metadata": {
        "id": "LVr62TM5WBn7",
        "colab_type": "code",
        "colab": {}
      },
      "source": [
        "sample.category = actual_pred"
      ],
      "execution_count": 0,
      "outputs": []
    },
    {
      "cell_type": "code",
      "metadata": {
        "id": "qDoicp6JWPnk",
        "colab_type": "code",
        "outputId": "2c43f086-3d99-4d29-c1fb-8995fcbebbd4",
        "colab": {
          "base_uri": "https://localhost:8080/",
          "height": 363
        }
      },
      "source": [
        "sample.tail(10)"
      ],
      "execution_count": 0,
      "outputs": [
        {
          "output_type": "execute_result",
          "data": {
            "text/html": [
              "<div>\n",
              "<style scoped>\n",
              "    .dataframe tbody tr th:only-of-type {\n",
              "        vertical-align: middle;\n",
              "    }\n",
              "\n",
              "    .dataframe tbody tr th {\n",
              "        vertical-align: top;\n",
              "    }\n",
              "\n",
              "    .dataframe thead th {\n",
              "        text-align: right;\n",
              "    }\n",
              "</style>\n",
              "<table border=\"1\" class=\"dataframe\">\n",
              "  <thead>\n",
              "    <tr style=\"text-align: right;\">\n",
              "      <th></th>\n",
              "      <th>image_id</th>\n",
              "      <th>category</th>\n",
              "    </tr>\n",
              "  </thead>\n",
              "  <tbody>\n",
              "    <tr>\n",
              "      <th>1999</th>\n",
              "      <td>20539</td>\n",
              "      <td>40</td>\n",
              "    </tr>\n",
              "    <tr>\n",
              "      <th>2000</th>\n",
              "      <td>20540</td>\n",
              "      <td>40</td>\n",
              "    </tr>\n",
              "    <tr>\n",
              "      <th>2001</th>\n",
              "      <td>20541</td>\n",
              "      <td>72</td>\n",
              "    </tr>\n",
              "    <tr>\n",
              "      <th>2002</th>\n",
              "      <td>20542</td>\n",
              "      <td>51</td>\n",
              "    </tr>\n",
              "    <tr>\n",
              "      <th>2003</th>\n",
              "      <td>20543</td>\n",
              "      <td>40</td>\n",
              "    </tr>\n",
              "    <tr>\n",
              "      <th>2004</th>\n",
              "      <td>20544</td>\n",
              "      <td>67</td>\n",
              "    </tr>\n",
              "    <tr>\n",
              "      <th>2005</th>\n",
              "      <td>20545</td>\n",
              "      <td>51</td>\n",
              "    </tr>\n",
              "    <tr>\n",
              "      <th>2006</th>\n",
              "      <td>20546</td>\n",
              "      <td>72</td>\n",
              "    </tr>\n",
              "    <tr>\n",
              "      <th>2007</th>\n",
              "      <td>20547</td>\n",
              "      <td>89</td>\n",
              "    </tr>\n",
              "    <tr>\n",
              "      <th>2008</th>\n",
              "      <td>20548</td>\n",
              "      <td>63</td>\n",
              "    </tr>\n",
              "  </tbody>\n",
              "</table>\n",
              "</div>"
            ],
            "text/plain": [
              "      image_id  category\n",
              "1999     20539        40\n",
              "2000     20540        40\n",
              "2001     20541        72\n",
              "2002     20542        51\n",
              "2003     20543        40\n",
              "2004     20544        67\n",
              "2005     20545        51\n",
              "2006     20546        72\n",
              "2007     20547        89\n",
              "2008     20548        63"
            ]
          },
          "metadata": {
            "tags": []
          },
          "execution_count": 63
        }
      ]
    },
    {
      "cell_type": "code",
      "metadata": {
        "id": "NNHXg3hQWRlL",
        "colab_type": "code",
        "outputId": "b3f0315c-9ccb-4098-8d5e-7cb0d970d819",
        "colab": {
          "base_uri": "https://localhost:8080/",
          "height": 34
        }
      },
      "source": [
        "type(sample)"
      ],
      "execution_count": 0,
      "outputs": [
        {
          "output_type": "execute_result",
          "data": {
            "text/plain": [
              "pandas.core.frame.DataFrame"
            ]
          },
          "metadata": {
            "tags": []
          },
          "execution_count": 64
        }
      ]
    },
    {
      "cell_type": "code",
      "metadata": {
        "id": "betz2Lf5WrJF",
        "colab_type": "code",
        "colab": {}
      },
      "source": [
        "sample.to_csv('submission.csv', index=False)"
      ],
      "execution_count": 0,
      "outputs": []
    },
    {
      "cell_type": "code",
      "metadata": {
        "id": "d7JkGeuTYTjI",
        "colab_type": "code",
        "colab": {}
      },
      "source": [
        ""
      ],
      "execution_count": 0,
      "outputs": []
    }
  ]
}